{
 "cells": [
  {
   "cell_type": "code",
   "execution_count": 1,
   "metadata": {},
   "outputs": [
    {
     "data": {
      "text/plain": [
       "ThemeRegistry.enable('custom_theme')"
      ]
     },
     "execution_count": 1,
     "metadata": {},
     "output_type": "execute_result"
    }
   ],
   "source": [
    "# Some setup\n",
    "%load_ext autoreload\n",
    "\n",
    "%autoreload 2\n",
    "\n",
    "import altair\n",
    "altair.data_transformers.disable_max_rows()\n",
    "\n",
    "def custom_theme():\n",
    "    return {\n",
    "        'config': {\n",
    "            'view': {\n",
    "                'height': 300,\n",
    "                'width': 400,\n",
    "            },\n",
    "            'range': {\n",
    "                'category': {'scheme':'dark2'}\n",
    "            }\n",
    "        }\n",
    "    }\n",
    "\n",
    "altair.themes.register('custom_theme', custom_theme)\n",
    "\n",
    "# enable the newly registered theme\n",
    "altair.themes.enable('custom_theme')"
   ]
  },
  {
   "cell_type": "markdown",
   "metadata": {},
   "source": [
    "# Code name: Cocktail\n",
    "\n",
    "A kmer tools box to use small kmer on long-reads.\n",
    "\n",
    "- count kmer: pcon\n",
    "- filter reads: kmerf\n",
    "- correct reads: br\n",
    "- polish assemblies: br"
   ]
  },
  {
   "cell_type": "markdown",
   "metadata": {},
   "source": [
    "## Parameter\n",
    "\n",
    "Some global variable usefull in this notebook don't hesitate to set it "
   ]
  },
  {
   "cell_type": "code",
   "execution_count": null,
   "metadata": {},
   "outputs": [],
   "source": [
    "SNAKEMAKE_CORE=8"
   ]
  },
  {
   "cell_type": "markdown",
   "metadata": {},
   "source": [
    "## Dataset\n",
    "\n",
    "### References\n",
    "\n",
    "| dataset         | species            | info                          | genome size | \n",
    "|:----------------|:-------------------|:------------------------------|------------:|\n",
    "| bacteria        | E. coli str. K-12 substr. MG1655 | NC_000913.3                   |      4.6 Mb |\n",
    "| yeast           | S. cerevisiae            | NC_001133                     |     12.1Mb |\n",
    "| metagenome      | Mock community           | [pacbio assembly](https://lomanlab.github.io/mockcommunity/)       |       42.1Mb |\n",
    "\n",
    "\n",
    "\n",
    "### Reads\n",
    "\n",
    "| dataset         | info           | # bases (Gb) | coverage    | error rate |\n",
    "|:----------------|:---------------|-------------:|------------:|-----------:|\n",
    "| bacteria        | SRR10950300    |       588    |        126x |       14 % |\n",
    "| bacteria5       | TODO           |       250    |         54x |        6 % |\n",
    "| bacteria7       | TODO           |       591    |        127x |        7 % |\n",
    "| yeast           | Genoscope      |       34,474 |        283x |        8 % |\n",
    "| metagenome      | [R10 Native “3 Peaks” Data Release (2019-05-24)](https://lomanlab.github.io/mockcommunity/r10.html) |   30,909 | 733x | 10 %|\n"
   ]
  },
  {
   "cell_type": "markdown",
   "metadata": {},
   "source": [
    "## Prepare dataset"
   ]
  },
  {
   "cell_type": "code",
   "execution_count": null,
   "metadata": {},
   "outputs": [],
   "source": [
    "!snakemake --cores $SNAKEMAKE_CORE --use-conda -p data_all -n"
   ]
  },
  {
   "cell_type": "code",
   "execution_count": null,
   "metadata": {},
   "outputs": [],
   "source": [
    "import cocktail\n",
    "import cocktail.kmer_spectrum\n",
    "\n",
    "df = cocktail.kmer_spectrum.get_kmer_spectrum(\"bacteria5\", 15)"
   ]
  },
  {
   "cell_type": "code",
   "execution_count": null,
   "metadata": {},
   "outputs": [],
   "source": [
    "df2 = df\n",
    "df2 = df2[df2.count != 0]\n",
    "df2 = df2[df2.type != \"all\"]\n",
    "df2 = df2.replace(\"true\", \"reference\")\n",
    "df2 = df2.replace(\"false\", \"erroneous\")\n",
    "\n",
    "cocktail.kmer_spectrum.figure(df2)"
   ]
  },
  {
   "cell_type": "markdown",
   "metadata": {},
   "source": [
    "## Count\n",
    "\n",
    "Compare pcon against kmc (3.1.1) and jellyfish (2.2.10) k in range(13, 19, 2)), on all dataset."
   ]
  },
  {
   "cell_type": "code",
   "execution_count": null,
   "metadata": {},
   "outputs": [],
   "source": [
    "!snakemake --cores $SNAKEMAKE_CORE --use-conda -p count_all -n"
   ]
  },
  {
   "cell_type": "markdown",
   "metadata": {},
   "source": [
    "### Benchmark"
   ]
  },
  {
   "cell_type": "code",
   "execution_count": 11,
   "metadata": {
    "scrolled": false
   },
   "outputs": [
    {
     "data": {
      "text/html": [
       "\n",
       "<div id=\"altair-viz-4b04ad717f404e829eda7ed8d85a8003\"></div>\n",
       "<script type=\"text/javascript\">\n",
       "  (function(spec, embedOpt){\n",
       "    let outputDiv = document.currentScript.previousElementSibling;\n",
       "    if (outputDiv.id !== \"altair-viz-4b04ad717f404e829eda7ed8d85a8003\") {\n",
       "      outputDiv = document.getElementById(\"altair-viz-4b04ad717f404e829eda7ed8d85a8003\");\n",
       "    }\n",
       "    const paths = {\n",
       "      \"vega\": \"https://cdn.jsdelivr.net/npm//vega@5?noext\",\n",
       "      \"vega-lib\": \"https://cdn.jsdelivr.net/npm//vega-lib?noext\",\n",
       "      \"vega-lite\": \"https://cdn.jsdelivr.net/npm//vega-lite@4.8.1?noext\",\n",
       "      \"vega-embed\": \"https://cdn.jsdelivr.net/npm//vega-embed@6?noext\",\n",
       "    };\n",
       "\n",
       "    function loadScript(lib) {\n",
       "      return new Promise(function(resolve, reject) {\n",
       "        var s = document.createElement('script');\n",
       "        s.src = paths[lib];\n",
       "        s.async = true;\n",
       "        s.onload = () => resolve(paths[lib]);\n",
       "        s.onerror = () => reject(`Error loading script: ${paths[lib]}`);\n",
       "        document.getElementsByTagName(\"head\")[0].appendChild(s);\n",
       "      });\n",
       "    }\n",
       "\n",
       "    function showError(err) {\n",
       "      outputDiv.innerHTML = `<div class=\"error\" style=\"color:red;\">${err}</div>`;\n",
       "      throw err;\n",
       "    }\n",
       "\n",
       "    function displayChart(vegaEmbed) {\n",
       "      vegaEmbed(outputDiv, spec, embedOpt)\n",
       "        .catch(err => showError(`Javascript Error: ${err.message}<br>This usually means there's a typo in your chart specification. See the javascript console for the full traceback.`));\n",
       "    }\n",
       "\n",
       "    if(typeof define === \"function\" && define.amd) {\n",
       "      requirejs.config({paths});\n",
       "      require([\"vega-embed\"], displayChart, err => showError(`Error loading script: ${err.message}`));\n",
       "    } else if (typeof vegaEmbed === \"function\") {\n",
       "      displayChart(vegaEmbed);\n",
       "    } else {\n",
       "      loadScript(\"vega\")\n",
       "        .then(() => loadScript(\"vega-lite\"))\n",
       "        .then(() => loadScript(\"vega-embed\"))\n",
       "        .catch(showError)\n",
       "        .then(() => displayChart(vegaEmbed));\n",
       "    }\n",
       "  })({\"config\": {\"view\": {\"height\": 300, \"width\": 400}, \"range\": {\"category\": {\"scheme\": \"dark2\"}}}, \"vconcat\": [{\"hconcat\": [{\"data\": {\"name\": \"data-22302c270dcfb9b45073a3b1cf3e9c35\"}, \"mark\": \"point\", \"encoding\": {\"color\": {\"type\": \"nominal\", \"field\": \"counter\"}, \"shape\": {\"type\": \"nominal\", \"field\": \"kmer_size\"}, \"x\": {\"type\": \"quantitative\", \"field\": \"time\", \"scale\": {\"domain\": [86.27, 1332.67]}, \"title\": \"\"}, \"y\": {\"type\": \"quantitative\", \"field\": \"memory\", \"scale\": {\"domain\": [80.37, 131120.5]}, \"title\": \"\"}}, \"title\": \"metagenome\"}, {\"data\": {\"name\": \"data-2b3e3a78f120d7aa5f1ff28be4bb6b95\"}, \"mark\": \"point\", \"encoding\": {\"color\": {\"type\": \"nominal\", \"field\": \"counter\"}, \"shape\": {\"type\": \"nominal\", \"field\": \"kmer_size\"}, \"x\": {\"type\": \"quantitative\", \"field\": \"time\", \"scale\": {\"domain\": [11.2, 208.41]}, \"title\": \"\"}, \"y\": {\"type\": \"quantitative\", \"field\": \"memory\", \"scale\": {\"domain\": [131.06, 130845.75]}, \"title\": \"\"}}, \"title\": \"yeast\"}]}, {\"hconcat\": [{\"data\": {\"name\": \"data-cdad53fd6d81067531729002fa06d892\"}, \"mark\": \"point\", \"encoding\": {\"color\": {\"type\": \"nominal\", \"field\": \"counter\"}, \"shape\": {\"type\": \"nominal\", \"field\": \"kmer_size\"}, \"x\": {\"type\": \"quantitative\", \"field\": \"time\", \"scale\": {\"domain\": [2.29, 133.89]}, \"title\": \"\"}, \"y\": {\"type\": \"quantitative\", \"field\": \"memory\", \"scale\": {\"domain\": [90.03, 128105.75]}, \"title\": \"\"}}, \"title\": \"bacteria\"}, {\"data\": {\"name\": \"data-fbb43da96f6cbc482a497706e51875ea\"}, \"mark\": \"point\", \"encoding\": {\"color\": {\"type\": \"nominal\", \"field\": \"counter\"}, \"shape\": {\"type\": \"nominal\", \"field\": \"kmer_size\"}, \"x\": {\"type\": \"quantitative\", \"field\": \"time\", \"scale\": {\"domain\": [1.4, 71.28]}, \"title\": \"\"}, \"y\": {\"type\": \"quantitative\", \"field\": \"memory\", \"scale\": {\"domain\": [121.72, 131162.11]}, \"title\": \"\"}}, \"title\": \"bacteria5\"}]}, {\"data\": {\"name\": \"data-c9a4ae2e7c961f8b92b83add9d7e7276\"}, \"mark\": \"point\", \"encoding\": {\"color\": {\"type\": \"nominal\", \"field\": \"counter\"}, \"shape\": {\"type\": \"nominal\", \"field\": \"kmer_size\"}, \"x\": {\"type\": \"quantitative\", \"field\": \"time\", \"scale\": {\"domain\": [2.39, 69.89]}, \"title\": \"\"}, \"y\": {\"type\": \"quantitative\", \"field\": \"memory\", \"scale\": {\"domain\": [89.59, 131130.26]}, \"title\": \"\"}}, \"title\": \"bacteria7\"}], \"$schema\": \"https://vega.github.io/schema/vega-lite/v4.8.1.json\", \"datasets\": {\"data-22302c270dcfb9b45073a3b1cf3e9c35\": [{\"counter\": \"pcon\", \"dataset\": \"metagenome\", \"kmer_size\": \"13\", \"time\": 86.2774, \"memory\": 80.37, \"size\": 32125836484}, {\"counter\": \"pcon\", \"dataset\": \"metagenome\", \"kmer_size\": \"15\", \"time\": 139.3089, \"memory\": 560.55, \"size\": 32125836484}, {\"counter\": \"pcon\", \"dataset\": \"metagenome\", \"kmer_size\": \"17\", \"time\": 265.894, \"memory\": 8240.89, \"size\": 32125836484}, {\"counter\": \"pcon\", \"dataset\": \"metagenome\", \"kmer_size\": \"19\", \"time\": 539.3644, \"memory\": 131120.5, \"size\": 32125836484}, {\"counter\": \"kmc\", \"dataset\": \"metagenome\", \"kmer_size\": \"13\", \"time\": 139.7765, \"memory\": 7849.73, \"size\": 32125836484}, {\"counter\": \"kmc\", \"dataset\": \"metagenome\", \"kmer_size\": \"15\", \"time\": 304.3197, \"memory\": 53404.94, \"size\": 32125836484}, {\"counter\": \"kmc\", \"dataset\": \"metagenome\", \"kmer_size\": \"17\", \"time\": 394.547, \"memory\": 50592.86, \"size\": 32125836484}, {\"counter\": \"kmc\", \"dataset\": \"metagenome\", \"kmer_size\": \"19\", \"time\": 416.7009, \"memory\": 46212.69, \"size\": 32125836484}, {\"counter\": \"jellyfish\", \"dataset\": \"metagenome\", \"kmer_size\": \"13\", \"time\": 983.0683, \"memory\": 1578.19, \"size\": 32125836484}, {\"counter\": \"jellyfish\", \"dataset\": \"metagenome\", \"kmer_size\": \"15\", \"time\": 1332.6698, \"memory\": 28423.66, \"size\": 32125836484}, {\"counter\": \"jellyfish\", \"dataset\": \"metagenome\", \"kmer_size\": \"17\", \"time\": 443.2294, \"memory\": 31224.12, \"size\": 32125836484}, {\"counter\": \"jellyfish\", \"dataset\": \"metagenome\", \"kmer_size\": \"19\", \"time\": 659.966, \"memory\": 39342.3, \"size\": 32125836484}], \"data-2b3e3a78f120d7aa5f1ff28be4bb6b95\": [{\"counter\": \"pcon\", \"dataset\": \"yeast\", \"kmer_size\": \"13\", \"time\": 11.2034, \"memory\": 131.06, \"size\": 3500654831}, {\"counter\": \"pcon\", \"dataset\": \"yeast\", \"kmer_size\": \"15\", \"time\": 23.8967, \"memory\": 611.61, \"size\": 3500654831}, {\"counter\": \"pcon\", \"dataset\": \"yeast\", \"kmer_size\": \"17\", \"time\": 68.3724, \"memory\": 8291.61, \"size\": 3500654831}, {\"counter\": \"pcon\", \"dataset\": \"yeast\", \"kmer_size\": \"19\", \"time\": 157.546, \"memory\": 130845.75, \"size\": 3500654831}, {\"counter\": \"kmc\", \"dataset\": \"yeast\", \"kmer_size\": \"13\", \"time\": 20.9803, \"memory\": 7607.59, \"size\": 3500654831}, {\"counter\": \"kmc\", \"dataset\": \"yeast\", \"kmer_size\": \"15\", \"time\": 42.6571, \"memory\": 7563.11, \"size\": 3500654831}, {\"counter\": \"kmc\", \"dataset\": \"yeast\", \"kmer_size\": \"17\", \"time\": 47.27, \"memory\": 15545.43, \"size\": 3500654831}, {\"counter\": \"kmc\", \"dataset\": \"yeast\", \"kmer_size\": \"19\", \"time\": 47.2696, \"memory\": 15243.35, \"size\": 3500654831}, {\"counter\": \"jellyfish\", \"dataset\": \"yeast\", \"kmer_size\": \"13\", \"time\": 129.6171, \"memory\": 1780.32, \"size\": 3500654831}, {\"counter\": \"jellyfish\", \"dataset\": \"yeast\", \"kmer_size\": \"15\", \"time\": 208.4007, \"memory\": 25189.95, \"size\": 3500654831}, {\"counter\": \"jellyfish\", \"dataset\": \"yeast\", \"kmer_size\": \"17\", \"time\": 73.2504, \"memory\": 31219.73, \"size\": 3500654831}, {\"counter\": \"jellyfish\", \"dataset\": \"yeast\", \"kmer_size\": \"19\", \"time\": 71.2565, \"memory\": 39333.71, \"size\": 3500654831}], \"data-cdad53fd6d81067531729002fa06d892\": [{\"counter\": \"pcon\", \"dataset\": \"bacteria\", \"kmer_size\": \"13\", \"time\": 2.296, \"memory\": 90.03, \"size\": 591394705}, {\"counter\": \"pcon\", \"dataset\": \"bacteria\", \"kmer_size\": \"15\", \"time\": 9.5068, \"memory\": 570.39, \"size\": 591394705}, {\"counter\": \"pcon\", \"dataset\": \"bacteria\", \"kmer_size\": \"17\", \"time\": 32.747, \"memory\": 8250.98, \"size\": 591394705}, {\"counter\": \"pcon\", \"dataset\": \"bacteria\", \"kmer_size\": \"19\", \"time\": 133.8831, \"memory\": 128105.75, \"size\": 591394705}, {\"counter\": \"kmc\", \"dataset\": \"bacteria\", \"kmer_size\": \"13\", \"time\": 10.6422, \"memory\": 4823.93, \"size\": 591394705}, {\"counter\": \"kmc\", \"dataset\": \"bacteria\", \"kmer_size\": \"15\", \"time\": 13.2685, \"memory\": 6063.56, \"size\": 591394705}, {\"counter\": \"kmc\", \"dataset\": \"bacteria\", \"kmer_size\": \"17\", \"time\": 13.7965, \"memory\": 5834.62, \"size\": 591394705}, {\"counter\": \"kmc\", \"dataset\": \"bacteria\", \"kmer_size\": \"19\", \"time\": 13.6786, \"memory\": 5590.95, \"size\": 591394705}, {\"counter\": \"jellyfish\", \"dataset\": \"bacteria\", \"kmer_size\": \"13\", \"time\": 22.3244, \"memory\": 691.2, \"size\": 591394705}, {\"counter\": \"jellyfish\", \"dataset\": \"bacteria\", \"kmer_size\": \"15\", \"time\": 11.4261, \"memory\": 1970.43, \"size\": 591394705}, {\"counter\": \"jellyfish\", \"dataset\": \"bacteria\", \"kmer_size\": \"17\", \"time\": 42.9072, \"memory\": 31219.75, \"size\": 591394705}, {\"counter\": \"jellyfish\", \"dataset\": \"bacteria\", \"kmer_size\": \"19\", \"time\": 33.2947, \"memory\": 39333.71, \"size\": 591394705}], \"data-fbb43da96f6cbc482a497706e51875ea\": [{\"counter\": \"pcon\", \"dataset\": \"bacteria5\", \"kmer_size\": \"13\", \"time\": 1.4079, \"memory\": 121.72, \"size\": 253770734}, {\"counter\": \"pcon\", \"dataset\": \"bacteria5\", \"kmer_size\": \"15\", \"time\": 5.1198, \"memory\": 602.69, \"size\": 253770734}, {\"counter\": \"pcon\", \"dataset\": \"bacteria5\", \"kmer_size\": \"17\", \"time\": 16.0618, \"memory\": 8282.96, \"size\": 253770734}, {\"counter\": \"pcon\", \"dataset\": \"bacteria5\", \"kmer_size\": \"19\", \"time\": 71.2723, \"memory\": 131162.11, \"size\": 253770734}, {\"counter\": \"kmc\", \"dataset\": \"bacteria5\", \"kmer_size\": \"13\", \"time\": 8.7892, \"memory\": 4363.0, \"size\": 253770734}, {\"counter\": \"kmc\", \"dataset\": \"bacteria5\", \"kmer_size\": \"15\", \"time\": 6.4098, \"memory\": 2601.32, \"size\": 253770734}, {\"counter\": \"kmc\", \"dataset\": \"bacteria5\", \"kmer_size\": \"17\", \"time\": 6.4738, \"memory\": 2503.39, \"size\": 253770734}, {\"counter\": \"kmc\", \"dataset\": \"bacteria5\", \"kmer_size\": \"19\", \"time\": 6.4549, \"memory\": 2396.2, \"size\": 253770734}, {\"counter\": \"jellyfish\", \"dataset\": \"bacteria5\", \"kmer_size\": \"13\", \"time\": 3.6059, \"memory\": 253.76, \"size\": 253770734}, {\"counter\": \"jellyfish\", \"dataset\": \"bacteria5\", \"kmer_size\": \"15\", \"time\": 5.1713, \"memory\": 1965.06, \"size\": 253770734}, {\"counter\": \"jellyfish\", \"dataset\": \"bacteria5\", \"kmer_size\": \"17\", \"time\": 24.2559, \"memory\": 31220.5, \"size\": 253770734}, {\"counter\": \"jellyfish\", \"dataset\": \"bacteria5\", \"kmer_size\": \"19\", \"time\": 23.9567, \"memory\": 39334.46, \"size\": 253770734}], \"data-c9a4ae2e7c961f8b92b83add9d7e7276\": [{\"counter\": \"pcon\", \"dataset\": \"bacteria7\", \"kmer_size\": \"13\", \"time\": 2.3923, \"memory\": 89.59, \"size\": 606228083}, {\"counter\": \"pcon\", \"dataset\": \"bacteria7\", \"kmer_size\": \"15\", \"time\": 8.7249, \"memory\": 570.12, \"size\": 606228083}, {\"counter\": \"pcon\", \"dataset\": \"bacteria7\", \"kmer_size\": \"17\", \"time\": 25.2325, \"memory\": 8250.51, \"size\": 606228083}, {\"counter\": \"pcon\", \"dataset\": \"bacteria7\", \"kmer_size\": \"19\", \"time\": 69.881, \"memory\": 131130.26, \"size\": 606228083}, {\"counter\": \"kmc\", \"dataset\": \"bacteria7\", \"kmer_size\": \"13\", \"time\": 10.7538, \"memory\": 4841.28, \"size\": 606228083}, {\"counter\": \"kmc\", \"dataset\": \"bacteria7\", \"kmer_size\": \"15\", \"time\": 11.8816, \"memory\": 6079.37, \"size\": 606228083}, {\"counter\": \"kmc\", \"dataset\": \"bacteria7\", \"kmer_size\": \"17\", \"time\": 12.1861, \"memory\": 5838.43, \"size\": 606228083}, {\"counter\": \"kmc\", \"dataset\": \"bacteria7\", \"kmer_size\": \"19\", \"time\": 12.139, \"memory\": 5608.23, \"size\": 606228083}, {\"counter\": \"jellyfish\", \"dataset\": \"bacteria7\", \"kmer_size\": \"13\", \"time\": 15.9314, \"memory\": 554.6, \"size\": 606228083}, {\"counter\": \"jellyfish\", \"dataset\": \"bacteria7\", \"kmer_size\": \"15\", \"time\": 10.7361, \"memory\": 1969.81, \"size\": 606228083}, {\"counter\": \"jellyfish\", \"dataset\": \"bacteria7\", \"kmer_size\": \"17\", \"time\": 27.2774, \"memory\": 31219.37, \"size\": 606228083}, {\"counter\": \"jellyfish\", \"dataset\": \"bacteria7\", \"kmer_size\": \"19\", \"time\": 32.7643, \"memory\": 39333.71, \"size\": 606228083}]}}, {\"mode\": \"vega-lite\"});\n",
       "</script>"
      ],
      "text/plain": [
       "alt.VConcatChart(...)"
      ]
     },
     "execution_count": 11,
     "metadata": {},
     "output_type": "execute_result"
    }
   ],
   "source": [
    "import cocktail\n",
    "import cocktail.count\n",
    "import cocktail.utils\n",
    "\n",
    "df = cocktail.count.dataframe()\n",
    "\n",
    "all_fig = list()\n",
    "for dataset in set(df.dataset):\n",
    "    all_fig.append(cocktail.utils.group_scatter(df[df.dataset == dataset], \"time\", \"memory\", \"counter\", \"kmer_size\", dataset))\n",
    "\n",
    "fig = ((all_fig[0] | all_fig[1]) & (all_fig[2] | all_fig[3])) & all_fig[4]\n",
    "\n",
    "fig"
   ]
  },
  {
   "cell_type": "markdown",
   "metadata": {},
   "source": [
    "## Filter\n",
    "\n",
    "Evaluate effect of kmerf on dataset and on assembly. With different k and different ratio."
   ]
  },
  {
   "cell_type": "code",
   "execution_count": null,
   "metadata": {},
   "outputs": [],
   "source": [
    "!snakemake --cores $SNAKEMAKE_CORE --use-conda -p filter_all -n"
   ]
  },
  {
   "cell_type": "markdown",
   "metadata": {},
   "source": [
    "### Benchmark"
   ]
  },
  {
   "cell_type": "code",
   "execution_count": 13,
   "metadata": {
    "scrolled": false
   },
   "outputs": [
    {
     "data": {
      "text/html": [
       "\n",
       "<div id=\"altair-viz-1e56f52ae4e7402f9e67a9bdf91c914c\"></div>\n",
       "<script type=\"text/javascript\">\n",
       "  (function(spec, embedOpt){\n",
       "    let outputDiv = document.currentScript.previousElementSibling;\n",
       "    if (outputDiv.id !== \"altair-viz-1e56f52ae4e7402f9e67a9bdf91c914c\") {\n",
       "      outputDiv = document.getElementById(\"altair-viz-1e56f52ae4e7402f9e67a9bdf91c914c\");\n",
       "    }\n",
       "    const paths = {\n",
       "      \"vega\": \"https://cdn.jsdelivr.net/npm//vega@5?noext\",\n",
       "      \"vega-lib\": \"https://cdn.jsdelivr.net/npm//vega-lib?noext\",\n",
       "      \"vega-lite\": \"https://cdn.jsdelivr.net/npm//vega-lite@4.8.1?noext\",\n",
       "      \"vega-embed\": \"https://cdn.jsdelivr.net/npm//vega-embed@6?noext\",\n",
       "    };\n",
       "\n",
       "    function loadScript(lib) {\n",
       "      return new Promise(function(resolve, reject) {\n",
       "        var s = document.createElement('script');\n",
       "        s.src = paths[lib];\n",
       "        s.async = true;\n",
       "        s.onload = () => resolve(paths[lib]);\n",
       "        s.onerror = () => reject(`Error loading script: ${paths[lib]}`);\n",
       "        document.getElementsByTagName(\"head\")[0].appendChild(s);\n",
       "      });\n",
       "    }\n",
       "\n",
       "    function showError(err) {\n",
       "      outputDiv.innerHTML = `<div class=\"error\" style=\"color:red;\">${err}</div>`;\n",
       "      throw err;\n",
       "    }\n",
       "\n",
       "    function displayChart(vegaEmbed) {\n",
       "      vegaEmbed(outputDiv, spec, embedOpt)\n",
       "        .catch(err => showError(`Javascript Error: ${err.message}<br>This usually means there's a typo in your chart specification. See the javascript console for the full traceback.`));\n",
       "    }\n",
       "\n",
       "    if(typeof define === \"function\" && define.amd) {\n",
       "      requirejs.config({paths});\n",
       "      require([\"vega-embed\"], displayChart, err => showError(`Error loading script: ${err.message}`));\n",
       "    } else if (typeof vegaEmbed === \"function\") {\n",
       "      displayChart(vegaEmbed);\n",
       "    } else {\n",
       "      loadScript(\"vega\")\n",
       "        .then(() => loadScript(\"vega-lite\"))\n",
       "        .then(() => loadScript(\"vega-embed\"))\n",
       "        .catch(showError)\n",
       "        .then(() => displayChart(vegaEmbed));\n",
       "    }\n",
       "  })({\"config\": {\"view\": {\"height\": 300, \"width\": 400}, \"range\": {\"category\": {\"scheme\": \"dark2\"}}}, \"vconcat\": [{\"hconcat\": [{\"data\": {\"name\": \"data-daa2b8cf19ef39d29a99d03645affc32\"}, \"mark\": \"point\", \"encoding\": {\"color\": {\"type\": \"nominal\", \"field\": \"filter\"}, \"x\": {\"type\": \"quantitative\", \"field\": \"time\", \"scale\": {\"domain\": [136.6, 7607.88]}, \"title\": \"\"}, \"y\": {\"type\": \"quantitative\", \"field\": \"memory\", \"scale\": {\"domain\": [77.73, 147504.26]}, \"title\": \"\"}}, \"title\": \"metagenome\"}, {\"data\": {\"name\": \"data-61670e67d1fa1c9f4fdee9ee5397a595\"}, \"mark\": \"point\", \"encoding\": {\"color\": {\"type\": \"nominal\", \"field\": \"filter\"}, \"x\": {\"type\": \"quantitative\", \"field\": \"time\", \"scale\": {\"domain\": [17.06, 748.63]}, \"title\": \"\"}, \"y\": {\"type\": \"quantitative\", \"field\": \"memory\", \"scale\": {\"domain\": [126.0, 147548.74]}, \"title\": \"\"}}, \"title\": \"yeast\"}]}, {\"hconcat\": [{\"data\": {\"name\": \"data-41b6d773fa43aff0dd28ef93ef90f41d\"}, \"mark\": \"point\", \"encoding\": {\"color\": {\"type\": \"nominal\", \"field\": \"filter\"}, \"x\": {\"type\": \"quantitative\", \"field\": \"time\", \"scale\": {\"domain\": [3.34, 139.36]}, \"title\": \"\"}, \"y\": {\"type\": \"quantitative\", \"field\": \"memory\", \"scale\": {\"domain\": [87.95, 145066.15]}, \"title\": \"\"}}, \"title\": \"bacteria\"}, {\"data\": {\"name\": \"data-4096d5cccdba0446a021d8f0f3613aec\"}, \"mark\": \"point\", \"encoding\": {\"color\": {\"type\": \"nominal\", \"field\": \"filter\"}, \"x\": {\"type\": \"quantitative\", \"field\": \"time\", \"scale\": {\"domain\": [1.12, 99.46]}, \"title\": \"\"}, \"y\": {\"type\": \"quantitative\", \"field\": \"memory\", \"scale\": {\"domain\": [120.56, 133470.02]}, \"title\": \"\"}}, \"title\": \"bacteria5\"}]}, {\"data\": {\"name\": \"data-9d6a2cf27edb3a8c3b89fc2aa3135502\"}, \"mark\": \"point\", \"encoding\": {\"color\": {\"type\": \"nominal\", \"field\": \"filter\"}, \"x\": {\"type\": \"quantitative\", \"field\": \"time\", \"scale\": {\"domain\": [3.24, 126.69]}, \"title\": \"\"}, \"y\": {\"type\": \"quantitative\", \"field\": \"memory\", \"scale\": {\"domain\": [89.09, 147512.96]}, \"title\": \"\"}}, \"title\": \"bacteria7\"}], \"$schema\": \"https://vega.github.io/schema/vega-lite/v4.8.1.json\", \"datasets\": {\"data-daa2b8cf19ef39d29a99d03645affc32\": [{\"filter\": \"filtlong\", \"dataset\": \"metagenome\", \"params\": \"q90\", \"time\": 5678.1662, \"memory\": 6079.54, \"size\": 32125836484}, {\"filter\": \"filtlong\", \"dataset\": \"metagenome\", \"params\": \"q91\", \"time\": 5281.704, \"memory\": 6081.76, \"size\": 32125836484}, {\"filter\": \"filtlong\", \"dataset\": \"metagenome\", \"params\": \"q92\", \"time\": 6082.9312, \"memory\": 6081.0, \"size\": 32125836484}, {\"filter\": \"filtlong\", \"dataset\": \"metagenome\", \"params\": \"q93\", \"time\": 5472.2388, \"memory\": 6080.2, \"size\": 32125836484}, {\"filter\": \"filtlong\", \"dataset\": \"metagenome\", \"params\": \"q94\", \"time\": 5567.6641, \"memory\": 6080.32, \"size\": 32125836484}, {\"filter\": \"filtlong\", \"dataset\": \"metagenome\", \"params\": \"q95\", \"time\": 6271.75, \"memory\": 6079.31, \"size\": 32125836484}, {\"filter\": \"filtlong\", \"dataset\": \"metagenome\", \"params\": \"q96\", \"time\": 6589.6026, \"memory\": 6080.73, \"size\": 32125836484}, {\"filter\": \"filtlong\", \"dataset\": \"metagenome\", \"params\": \"q97\", \"time\": 6542.3263, \"memory\": 6079.66, \"size\": 32125836484}, {\"filter\": \"filtlong\", \"dataset\": \"metagenome\", \"params\": \"q98\", \"time\": 7607.877, \"memory\": 6082.72, \"size\": 32125836484}, {\"filter\": \"filtlong\", \"dataset\": \"metagenome\", \"params\": \"q99\", \"time\": 7220.71, \"memory\": 6079.55, \"size\": 32125836484}, {\"filter\": \"kmrf\", \"dataset\": \"metagenome\", \"params\": \"k13.r70\", \"time\": 179.1976, \"memory\": 80.19, \"size\": 32125836484}, {\"filter\": \"kmrf\", \"dataset\": \"metagenome\", \"params\": \"k13.r75\", \"time\": 174.9135, \"memory\": 77.73, \"size\": 32125836484}, {\"filter\": \"kmrf\", \"dataset\": \"metagenome\", \"params\": \"k13.r80\", \"time\": 178.0045, \"memory\": 79.13, \"size\": 32125836484}, {\"filter\": \"kmrf\", \"dataset\": \"metagenome\", \"params\": \"k13.r85\", \"time\": 136.6053, \"memory\": 79.39, \"size\": 32125836484}, {\"filter\": \"kmrf\", \"dataset\": \"metagenome\", \"params\": \"k13.r90\", \"time\": 172.0538, \"memory\": 78.32, \"size\": 32125836484}, {\"filter\": \"kmrf\", \"dataset\": \"metagenome\", \"params\": \"k13.r95\", \"time\": 171.9264, \"memory\": 77.98, \"size\": 32125836484}, {\"filter\": \"kmrf\", \"dataset\": \"metagenome\", \"params\": \"k15.r70\", \"time\": 255.5646, \"memory\": 561.87, \"size\": 32125836484}, {\"filter\": \"kmrf\", \"dataset\": \"metagenome\", \"params\": \"k15.r75\", \"time\": 192.1075, \"memory\": 559.55, \"size\": 32125836484}, {\"filter\": \"kmrf\", \"dataset\": \"metagenome\", \"params\": \"k15.r80\", \"time\": 267.1373, \"memory\": 559.5, \"size\": 32125836484}, {\"filter\": \"kmrf\", \"dataset\": \"metagenome\", \"params\": \"k15.r85\", \"time\": 262.2879, \"memory\": 560.52, \"size\": 32125836484}, {\"filter\": \"kmrf\", \"dataset\": \"metagenome\", \"params\": \"k15.r90\", \"time\": 199.589, \"memory\": 559.48, \"size\": 32125836484}, {\"filter\": \"kmrf\", \"dataset\": \"metagenome\", \"params\": \"k15.r95\", \"time\": 258.0048, \"memory\": 559.52, \"size\": 32125836484}, {\"filter\": \"kmrf\", \"dataset\": \"metagenome\", \"params\": \"k17.r70\", \"time\": 265.9268, \"memory\": 8244.04, \"size\": 32125836484}, {\"filter\": \"kmrf\", \"dataset\": \"metagenome\", \"params\": \"k17.r75\", \"time\": 177.7667, \"memory\": 8239.81, \"size\": 32125836484}, {\"filter\": \"kmrf\", \"dataset\": \"metagenome\", \"params\": \"k17.r80\", \"time\": 178.8551, \"memory\": 8239.63, \"size\": 32125836484}, {\"filter\": \"kmrf\", \"dataset\": \"metagenome\", \"params\": \"k17.r85\", \"time\": 195.9215, \"memory\": 8242.61, \"size\": 32125836484}, {\"filter\": \"kmrf\", \"dataset\": \"metagenome\", \"params\": \"k17.r90\", \"time\": 252.9107, \"memory\": 8241.89, \"size\": 32125836484}, {\"filter\": \"kmrf\", \"dataset\": \"metagenome\", \"params\": \"k17.r95\", \"time\": 251.8672, \"memory\": 8240.06, \"size\": 32125836484}, {\"filter\": \"kmrf\", \"dataset\": \"metagenome\", \"params\": \"k19.r70\", \"time\": 260.1439, \"memory\": 147504.26, \"size\": 32125836484}, {\"filter\": \"kmrf\", \"dataset\": \"metagenome\", \"params\": \"k19.r75\", \"time\": 362.4933, \"memory\": 147504.09, \"size\": 32125836484}, {\"filter\": \"kmrf\", \"dataset\": \"metagenome\", \"params\": \"k19.r80\", \"time\": 378.3075, \"memory\": 147504.06, \"size\": 32125836484}, {\"filter\": \"kmrf\", \"dataset\": \"metagenome\", \"params\": \"k19.r85\", \"time\": 363.015, \"memory\": 147504.05, \"size\": 32125836484}, {\"filter\": \"kmrf\", \"dataset\": \"metagenome\", \"params\": \"k19.r90\", \"time\": 337.7988, \"memory\": 147504.09, \"size\": 32125836484}, {\"filter\": \"kmrf\", \"dataset\": \"metagenome\", \"params\": \"k19.r95\", \"time\": 367.2626, \"memory\": 147504.13, \"size\": 32125836484}], \"data-61670e67d1fa1c9f4fdee9ee5397a595\": [{\"filter\": \"filtlong\", \"dataset\": \"yeast\", \"params\": \"q90\", \"time\": 621.7666, \"memory\": 1324.05, \"size\": 3500654831}, {\"filter\": \"filtlong\", \"dataset\": \"yeast\", \"params\": \"q91\", \"time\": 623.9992, \"memory\": 1325.26, \"size\": 3500654831}, {\"filter\": \"filtlong\", \"dataset\": \"yeast\", \"params\": \"q92\", \"time\": 731.8139, \"memory\": 1317.11, \"size\": 3500654831}, {\"filter\": \"filtlong\", \"dataset\": \"yeast\", \"params\": \"q93\", \"time\": 748.6227, \"memory\": 1319.47, \"size\": 3500654831}, {\"filter\": \"filtlong\", \"dataset\": \"yeast\", \"params\": \"q94\", \"time\": 627.8574, \"memory\": 1319.29, \"size\": 3500654831}, {\"filter\": \"filtlong\", \"dataset\": \"yeast\", \"params\": \"q95\", \"time\": 618.2147, \"memory\": 1326.56, \"size\": 3500654831}, {\"filter\": \"filtlong\", \"dataset\": \"yeast\", \"params\": \"q96\", \"time\": 606.3705, \"memory\": 1316.76, \"size\": 3500654831}, {\"filter\": \"filtlong\", \"dataset\": \"yeast\", \"params\": \"q97\", \"time\": 687.4754, \"memory\": 1318.57, \"size\": 3500654831}, {\"filter\": \"filtlong\", \"dataset\": \"yeast\", \"params\": \"q98\", \"time\": 616.1615, \"memory\": 1316.46, \"size\": 3500654831}, {\"filter\": \"filtlong\", \"dataset\": \"yeast\", \"params\": \"q99\", \"time\": 657.0865, \"memory\": 1319.34, \"size\": 3500654831}, {\"filter\": \"kmrf\", \"dataset\": \"yeast\", \"params\": \"k13.r70\", \"time\": 18.9654, \"memory\": 133.08, \"size\": 3500654831}, {\"filter\": \"kmrf\", \"dataset\": \"yeast\", \"params\": \"k13.r75\", \"time\": 19.1472, \"memory\": 126.71, \"size\": 3500654831}, {\"filter\": \"kmrf\", \"dataset\": \"yeast\", \"params\": \"k13.r80\", \"time\": 19.0622, \"memory\": 131.12, \"size\": 3500654831}, {\"filter\": \"kmrf\", \"dataset\": \"yeast\", \"params\": \"k13.r85\", \"time\": 21.2835, \"memory\": 127.23, \"size\": 3500654831}, {\"filter\": \"kmrf\", \"dataset\": \"yeast\", \"params\": \"k13.r90\", \"time\": 18.6352, \"memory\": 130.82, \"size\": 3500654831}, {\"filter\": \"kmrf\", \"dataset\": \"yeast\", \"params\": \"k13.r95\", \"time\": 18.3167, \"memory\": 126.0, \"size\": 3500654831}, {\"filter\": \"kmrf\", \"dataset\": \"yeast\", \"params\": \"k15.r70\", \"time\": 19.7264, \"memory\": 607.02, \"size\": 3500654831}, {\"filter\": \"kmrf\", \"dataset\": \"yeast\", \"params\": \"k15.r75\", \"time\": 19.3732, \"memory\": 611.32, \"size\": 3500654831}, {\"filter\": \"kmrf\", \"dataset\": \"yeast\", \"params\": \"k15.r80\", \"time\": 18.4694, \"memory\": 613.38, \"size\": 3500654831}, {\"filter\": \"kmrf\", \"dataset\": \"yeast\", \"params\": \"k15.r85\", \"time\": 17.3901, \"memory\": 611.52, \"size\": 3500654831}, {\"filter\": \"kmrf\", \"dataset\": \"yeast\", \"params\": \"k15.r90\", \"time\": 17.3886, \"memory\": 611.43, \"size\": 3500654831}, {\"filter\": \"kmrf\", \"dataset\": \"yeast\", \"params\": \"k15.r95\", \"time\": 17.0685, \"memory\": 606.45, \"size\": 3500654831}, {\"filter\": \"kmrf\", \"dataset\": \"yeast\", \"params\": \"k17.r70\", \"time\": 24.0277, \"memory\": 9308.82, \"size\": 3500654831}, {\"filter\": \"kmrf\", \"dataset\": \"yeast\", \"params\": \"k17.r75\", \"time\": 25.4581, \"memory\": 9308.96, \"size\": 3500654831}, {\"filter\": \"kmrf\", \"dataset\": \"yeast\", \"params\": \"k17.r80\", \"time\": 37.5959, \"memory\": 8288.93, \"size\": 3500654831}, {\"filter\": \"kmrf\", \"dataset\": \"yeast\", \"params\": \"k17.r85\", \"time\": 37.8732, \"memory\": 8291.43, \"size\": 3500654831}, {\"filter\": \"kmrf\", \"dataset\": \"yeast\", \"params\": \"k17.r90\", \"time\": 36.4038, \"memory\": 8291.56, \"size\": 3500654831}, {\"filter\": \"kmrf\", \"dataset\": \"yeast\", \"params\": \"k17.r95\", \"time\": 35.4012, \"memory\": 8288.91, \"size\": 3500654831}, {\"filter\": \"kmrf\", \"dataset\": \"yeast\", \"params\": \"k19.r70\", \"time\": 158.0802, \"memory\": 147196.22, \"size\": 3500654831}, {\"filter\": \"kmrf\", \"dataset\": \"yeast\", \"params\": \"k19.r75\", \"time\": 144.1875, \"memory\": 147222.35, \"size\": 3500654831}, {\"filter\": \"kmrf\", \"dataset\": \"yeast\", \"params\": \"k19.r80\", \"time\": 138.5203, \"memory\": 147258.2, \"size\": 3500654831}, {\"filter\": \"kmrf\", \"dataset\": \"yeast\", \"params\": \"k19.r85\", \"time\": 136.4667, \"memory\": 147225.39, \"size\": 3500654831}, {\"filter\": \"kmrf\", \"dataset\": \"yeast\", \"params\": \"k19.r90\", \"time\": 96.0838, \"memory\": 147548.62, \"size\": 3500654831}, {\"filter\": \"kmrf\", \"dataset\": \"yeast\", \"params\": \"k19.r95\", \"time\": 95.7069, \"memory\": 147548.74, \"size\": 3500654831}], \"data-41b6d773fa43aff0dd28ef93ef90f41d\": [{\"filter\": \"filtlong\", \"dataset\": \"bacteria\", \"params\": \"q90\", \"time\": 98.8885, \"memory\": 710.71, \"size\": 591394705}, {\"filter\": \"filtlong\", \"dataset\": \"bacteria\", \"params\": \"q91\", \"time\": 100.2442, \"memory\": 712.57, \"size\": 591394705}, {\"filter\": \"filtlong\", \"dataset\": \"bacteria\", \"params\": \"q92\", \"time\": 139.3553, \"memory\": 710.78, \"size\": 591394705}, {\"filter\": \"filtlong\", \"dataset\": \"bacteria\", \"params\": \"q93\", \"time\": 118.5452, \"memory\": 710.86, \"size\": 591394705}, {\"filter\": \"filtlong\", \"dataset\": \"bacteria\", \"params\": \"q94\", \"time\": 102.0483, \"memory\": 712.5, \"size\": 591394705}, {\"filter\": \"filtlong\", \"dataset\": \"bacteria\", \"params\": \"q95\", \"time\": 99.3506, \"memory\": 710.64, \"size\": 591394705}, {\"filter\": \"filtlong\", \"dataset\": \"bacteria\", \"params\": \"q96\", \"time\": 99.6445, \"memory\": 710.79, \"size\": 591394705}, {\"filter\": \"filtlong\", \"dataset\": \"bacteria\", \"params\": \"q97\", \"time\": 108.0084, \"memory\": 712.81, \"size\": 591394705}, {\"filter\": \"filtlong\", \"dataset\": \"bacteria\", \"params\": \"q98\", \"time\": 99.5801, \"memory\": 712.79, \"size\": 591394705}, {\"filter\": \"filtlong\", \"dataset\": \"bacteria\", \"params\": \"q99\", \"time\": 116.0787, \"memory\": 710.88, \"size\": 591394705}, {\"filter\": \"kmrf\", \"dataset\": \"bacteria\", \"params\": \"k13.r70\", \"time\": 3.7632, \"memory\": 90.0, \"size\": 591394705}, {\"filter\": \"kmrf\", \"dataset\": \"bacteria\", \"params\": \"k13.r75\", \"time\": 3.8511, \"memory\": 89.87, \"size\": 591394705}, {\"filter\": \"kmrf\", \"dataset\": \"bacteria\", \"params\": \"k13.r80\", \"time\": 3.3479, \"memory\": 88.62, \"size\": 591394705}, {\"filter\": \"kmrf\", \"dataset\": \"bacteria\", \"params\": \"k13.r85\", \"time\": 3.8296, \"memory\": 87.95, \"size\": 591394705}, {\"filter\": \"kmrf\", \"dataset\": \"bacteria\", \"params\": \"k13.r90\", \"time\": 3.6048, \"memory\": 92.4, \"size\": 591394705}, {\"filter\": \"kmrf\", \"dataset\": \"bacteria\", \"params\": \"k13.r95\", \"time\": 3.6954, \"memory\": 90.59, \"size\": 591394705}, {\"filter\": \"kmrf\", \"dataset\": \"bacteria\", \"params\": \"k15.r70\", \"time\": 4.6826, \"memory\": 629.07, \"size\": 591394705}, {\"filter\": \"kmrf\", \"dataset\": \"bacteria\", \"params\": \"k15.r75\", \"time\": 4.7996, \"memory\": 629.02, \"size\": 591394705}, {\"filter\": \"kmrf\", \"dataset\": \"bacteria\", \"params\": \"k15.r80\", \"time\": 4.9529, \"memory\": 629.11, \"size\": 591394705}, {\"filter\": \"kmrf\", \"dataset\": \"bacteria\", \"params\": \"k15.r85\", \"time\": 5.4461, \"memory\": 629.06, \"size\": 591394705}, {\"filter\": \"kmrf\", \"dataset\": \"bacteria\", \"params\": \"k15.r90\", \"time\": 4.5554, \"memory\": 570.59, \"size\": 591394705}, {\"filter\": \"kmrf\", \"dataset\": \"bacteria\", \"params\": \"k15.r95\", \"time\": 4.7066, \"memory\": 629.04, \"size\": 591394705}, {\"filter\": \"kmrf\", \"dataset\": \"bacteria\", \"params\": \"k17.r70\", \"time\": 7.776, \"memory\": 9269.2, \"size\": 591394705}, {\"filter\": \"kmrf\", \"dataset\": \"bacteria\", \"params\": \"k17.r75\", \"time\": 8.3754, \"memory\": 9269.13, \"size\": 591394705}, {\"filter\": \"kmrf\", \"dataset\": \"bacteria\", \"params\": \"k17.r80\", \"time\": 13.6712, \"memory\": 9269.13, \"size\": 591394705}, {\"filter\": \"kmrf\", \"dataset\": \"bacteria\", \"params\": \"k17.r85\", \"time\": 14.5953, \"memory\": 9269.1, \"size\": 591394705}, {\"filter\": \"kmrf\", \"dataset\": \"bacteria\", \"params\": \"k17.r90\", \"time\": 13.6188, \"memory\": 9269.08, \"size\": 591394705}, {\"filter\": \"kmrf\", \"dataset\": \"bacteria\", \"params\": \"k17.r95\", \"time\": 13.9776, \"memory\": 9269.14, \"size\": 591394705}, {\"filter\": \"kmrf\", \"dataset\": \"bacteria\", \"params\": \"k19.r70\", \"time\": 111.0943, \"memory\": 144725.0, \"size\": 591394705}, {\"filter\": \"kmrf\", \"dataset\": \"bacteria\", \"params\": \"k19.r75\", \"time\": 124.0331, \"memory\": 144524.86, \"size\": 591394705}, {\"filter\": \"kmrf\", \"dataset\": \"bacteria\", \"params\": \"k19.r80\", \"time\": 124.2055, \"memory\": 144556.92, \"size\": 591394705}, {\"filter\": \"kmrf\", \"dataset\": \"bacteria\", \"params\": \"k19.r85\", \"time\": 132.6094, \"memory\": 144584.1, \"size\": 591394705}, {\"filter\": \"kmrf\", \"dataset\": \"bacteria\", \"params\": \"k19.r90\", \"time\": 106.7844, \"memory\": 145066.14, \"size\": 591394705}, {\"filter\": \"kmrf\", \"dataset\": \"bacteria\", \"params\": \"k19.r95\", \"time\": 115.2834, \"memory\": 144725.86, \"size\": 591394705}], \"data-4096d5cccdba0446a021d8f0f3613aec\": [{\"filter\": \"filtlong\", \"dataset\": \"bacteria5\", \"params\": \"q90\", \"time\": 47.8679, \"memory\": 710.73, \"size\": 253770734}, {\"filter\": \"filtlong\", \"dataset\": \"bacteria5\", \"params\": \"q91\", \"time\": 47.6384, \"memory\": 710.78, \"size\": 253770734}, {\"filter\": \"filtlong\", \"dataset\": \"bacteria5\", \"params\": \"q92\", \"time\": 47.6056, \"memory\": 710.77, \"size\": 253770734}, {\"filter\": \"filtlong\", \"dataset\": \"bacteria5\", \"params\": \"q93\", \"time\": 57.3685, \"memory\": 710.77, \"size\": 253770734}, {\"filter\": \"filtlong\", \"dataset\": \"bacteria5\", \"params\": \"q94\", \"time\": 47.7263, \"memory\": 712.56, \"size\": 253770734}, {\"filter\": \"filtlong\", \"dataset\": \"bacteria5\", \"params\": \"q95\", \"time\": 47.8142, \"memory\": 710.78, \"size\": 253770734}, {\"filter\": \"filtlong\", \"dataset\": \"bacteria5\", \"params\": \"q96\", \"time\": 47.635, \"memory\": 710.68, \"size\": 253770734}, {\"filter\": \"filtlong\", \"dataset\": \"bacteria5\", \"params\": \"q97\", \"time\": 47.8309, \"memory\": 710.75, \"size\": 253770734}, {\"filter\": \"filtlong\", \"dataset\": \"bacteria5\", \"params\": \"q98\", \"time\": 54.5581, \"memory\": 710.86, \"size\": 253770734}, {\"filter\": \"filtlong\", \"dataset\": \"bacteria5\", \"params\": \"q99\", \"time\": 47.5832, \"memory\": 710.86, \"size\": 253770734}, {\"filter\": \"kmrf\", \"dataset\": \"bacteria5\", \"params\": \"k13.r70\", \"time\": 1.6919, \"memory\": 122.28, \"size\": 253770734}, {\"filter\": \"kmrf\", \"dataset\": \"bacteria5\", \"params\": \"k13.r75\", \"time\": 1.4494, \"memory\": 122.04, \"size\": 253770734}, {\"filter\": \"kmrf\", \"dataset\": \"bacteria5\", \"params\": \"k13.r80\", \"time\": 1.2562, \"memory\": 122.56, \"size\": 253770734}, {\"filter\": \"kmrf\", \"dataset\": \"bacteria5\", \"params\": \"k13.r85\", \"time\": 1.1261, \"memory\": 122.15, \"size\": 253770734}, {\"filter\": \"kmrf\", \"dataset\": \"bacteria5\", \"params\": \"k13.r90\", \"time\": 1.2688, \"memory\": 122.55, \"size\": 253770734}, {\"filter\": \"kmrf\", \"dataset\": \"bacteria5\", \"params\": \"k13.r95\", \"time\": 1.4071, \"memory\": 120.56, \"size\": 253770734}, {\"filter\": \"kmrf\", \"dataset\": \"bacteria5\", \"params\": \"k15.r70\", \"time\": 1.9922, \"memory\": 601.38, \"size\": 253770734}, {\"filter\": \"kmrf\", \"dataset\": \"bacteria5\", \"params\": \"k15.r75\", \"time\": 2.5517, \"memory\": 602.72, \"size\": 253770734}, {\"filter\": \"kmrf\", \"dataset\": \"bacteria5\", \"params\": \"k15.r80\", \"time\": 1.7739, \"memory\": 602.73, \"size\": 253770734}, {\"filter\": \"kmrf\", \"dataset\": \"bacteria5\", \"params\": \"k15.r85\", \"time\": 2.5124, \"memory\": 602.65, \"size\": 253770734}, {\"filter\": \"kmrf\", \"dataset\": \"bacteria5\", \"params\": \"k15.r90\", \"time\": 2.5101, \"memory\": 602.73, \"size\": 253770734}, {\"filter\": \"kmrf\", \"dataset\": \"bacteria5\", \"params\": \"k15.r95\", \"time\": 2.535, \"memory\": 602.64, \"size\": 253770734}, {\"filter\": \"kmrf\", \"dataset\": \"bacteria5\", \"params\": \"k17.r70\", \"time\": 12.2658, \"memory\": 9305.71, \"size\": 253770734}, {\"filter\": \"kmrf\", \"dataset\": \"bacteria5\", \"params\": \"k17.r75\", \"time\": 11.8667, \"memory\": 9305.7, \"size\": 253770734}, {\"filter\": \"kmrf\", \"dataset\": \"bacteria5\", \"params\": \"k17.r80\", \"time\": 11.6414, \"memory\": 9305.78, \"size\": 253770734}, {\"filter\": \"kmrf\", \"dataset\": \"bacteria5\", \"params\": \"k17.r85\", \"time\": 6.1172, \"memory\": 9305.75, \"size\": 253770734}, {\"filter\": \"kmrf\", \"dataset\": \"bacteria5\", \"params\": \"k17.r90\", \"time\": 6.6868, \"memory\": 9305.69, \"size\": 253770734}, {\"filter\": \"kmrf\", \"dataset\": \"bacteria5\", \"params\": \"k17.r95\", \"time\": 12.2189, \"memory\": 9305.69, \"size\": 253770734}, {\"filter\": \"kmrf\", \"dataset\": \"bacteria5\", \"params\": \"k19.r70\", \"time\": 90.0317, \"memory\": 132512.8, \"size\": 253770734}, {\"filter\": \"kmrf\", \"dataset\": \"bacteria5\", \"params\": \"k19.r75\", \"time\": 97.5918, \"memory\": 127447.88, \"size\": 253770734}, {\"filter\": \"kmrf\", \"dataset\": \"bacteria5\", \"params\": \"k19.r80\", \"time\": 99.0976, \"memory\": 128115.07, \"size\": 253770734}, {\"filter\": \"kmrf\", \"dataset\": \"bacteria5\", \"params\": \"k19.r85\", \"time\": 99.4554, \"memory\": 127627.27, \"size\": 253770734}, {\"filter\": \"kmrf\", \"dataset\": \"bacteria5\", \"params\": \"k19.r90\", \"time\": 97.6732, \"memory\": 127886.69, \"size\": 253770734}, {\"filter\": \"kmrf\", \"dataset\": \"bacteria5\", \"params\": \"k19.r95\", \"time\": 88.0447, \"memory\": 133470.02, \"size\": 253770734}], \"data-9d6a2cf27edb3a8c3b89fc2aa3135502\": [{\"filter\": \"filtlong\", \"dataset\": \"bacteria7\", \"params\": \"q90\", \"time\": 103.8742, \"memory\": 710.73, \"size\": 606228083}, {\"filter\": \"filtlong\", \"dataset\": \"bacteria7\", \"params\": \"q91\", \"time\": 103.6534, \"memory\": 710.65, \"size\": 606228083}, {\"filter\": \"filtlong\", \"dataset\": \"bacteria7\", \"params\": \"q92\", \"time\": 103.8349, \"memory\": 710.67, \"size\": 606228083}, {\"filter\": \"filtlong\", \"dataset\": \"bacteria7\", \"params\": \"q93\", \"time\": 103.0424, \"memory\": 710.68, \"size\": 606228083}, {\"filter\": \"filtlong\", \"dataset\": \"bacteria7\", \"params\": \"q94\", \"time\": 103.6519, \"memory\": 712.54, \"size\": 606228083}, {\"filter\": \"filtlong\", \"dataset\": \"bacteria7\", \"params\": \"q95\", \"time\": 126.6884, \"memory\": 710.67, \"size\": 606228083}, {\"filter\": \"filtlong\", \"dataset\": \"bacteria7\", \"params\": \"q96\", \"time\": 103.5851, \"memory\": 710.67, \"size\": 606228083}, {\"filter\": \"filtlong\", \"dataset\": \"bacteria7\", \"params\": \"q97\", \"time\": 103.6862, \"memory\": 710.81, \"size\": 606228083}, {\"filter\": \"filtlong\", \"dataset\": \"bacteria7\", \"params\": \"q98\", \"time\": 104.3131, \"memory\": 710.73, \"size\": 606228083}, {\"filter\": \"filtlong\", \"dataset\": \"bacteria7\", \"params\": \"q99\", \"time\": 103.53, \"memory\": 710.81, \"size\": 606228083}, {\"filter\": \"kmrf\", \"dataset\": \"bacteria7\", \"params\": \"k13.r70\", \"time\": 3.2446, \"memory\": 90.53, \"size\": 606228083}, {\"filter\": \"kmrf\", \"dataset\": \"bacteria7\", \"params\": \"k13.r75\", \"time\": 3.8929, \"memory\": 89.09, \"size\": 606228083}, {\"filter\": \"kmrf\", \"dataset\": \"bacteria7\", \"params\": \"k13.r80\", \"time\": 3.8649, \"memory\": 90.16, \"size\": 606228083}, {\"filter\": \"kmrf\", \"dataset\": \"bacteria7\", \"params\": \"k13.r85\", \"time\": 3.8849, \"memory\": 90.06, \"size\": 606228083}, {\"filter\": \"kmrf\", \"dataset\": \"bacteria7\", \"params\": \"k13.r90\", \"time\": 3.7791, \"memory\": 89.9, \"size\": 606228083}, {\"filter\": \"kmrf\", \"dataset\": \"bacteria7\", \"params\": \"k13.r95\", \"time\": 3.7986, \"memory\": 90.06, \"size\": 606228083}, {\"filter\": \"kmrf\", \"dataset\": \"bacteria7\", \"params\": \"k15.r70\", \"time\": 4.8495, \"memory\": 633.04, \"size\": 606228083}, {\"filter\": \"kmrf\", \"dataset\": \"bacteria7\", \"params\": \"k15.r75\", \"time\": 3.6002, \"memory\": 633.16, \"size\": 606228083}, {\"filter\": \"kmrf\", \"dataset\": \"bacteria7\", \"params\": \"k15.r80\", \"time\": 3.99, \"memory\": 633.04, \"size\": 606228083}, {\"filter\": \"kmrf\", \"dataset\": \"bacteria7\", \"params\": \"k15.r85\", \"time\": 3.6794, \"memory\": 569.96, \"size\": 606228083}, {\"filter\": \"kmrf\", \"dataset\": \"bacteria7\", \"params\": \"k15.r90\", \"time\": 4.8956, \"memory\": 633.02, \"size\": 606228083}, {\"filter\": \"kmrf\", \"dataset\": \"bacteria7\", \"params\": \"k15.r95\", \"time\": 3.5791, \"memory\": 622.8, \"size\": 606228083}, {\"filter\": \"kmrf\", \"dataset\": \"bacteria7\", \"params\": \"k17.r70\", \"time\": 14.5413, \"memory\": 9272.89, \"size\": 606228083}, {\"filter\": \"kmrf\", \"dataset\": \"bacteria7\", \"params\": \"k17.r75\", \"time\": 14.5868, \"memory\": 9272.89, \"size\": 606228083}, {\"filter\": \"kmrf\", \"dataset\": \"bacteria7\", \"params\": \"k17.r80\", \"time\": 14.981, \"memory\": 9275.03, \"size\": 606228083}, {\"filter\": \"kmrf\", \"dataset\": \"bacteria7\", \"params\": \"k17.r85\", \"time\": 14.3657, \"memory\": 9272.88, \"size\": 606228083}, {\"filter\": \"kmrf\", \"dataset\": \"bacteria7\", \"params\": \"k17.r90\", \"time\": 14.3121, \"memory\": 9276.95, \"size\": 606228083}, {\"filter\": \"kmrf\", \"dataset\": \"bacteria7\", \"params\": \"k17.r95\", \"time\": 14.0508, \"memory\": 9272.98, \"size\": 606228083}, {\"filter\": \"kmrf\", \"dataset\": \"bacteria7\", \"params\": \"k19.r70\", \"time\": 80.9275, \"memory\": 147512.95, \"size\": 606228083}, {\"filter\": \"kmrf\", \"dataset\": \"bacteria7\", \"params\": \"k19.r75\", \"time\": 80.8888, \"memory\": 147512.96, \"size\": 606228083}, {\"filter\": \"kmrf\", \"dataset\": \"bacteria7\", \"params\": \"k19.r80\", \"time\": 81.314, \"memory\": 147512.96, \"size\": 606228083}, {\"filter\": \"kmrf\", \"dataset\": \"bacteria7\", \"params\": \"k19.r85\", \"time\": 114.2164, \"memory\": 140320.48, \"size\": 606228083}, {\"filter\": \"kmrf\", \"dataset\": \"bacteria7\", \"params\": \"k19.r90\", \"time\": 97.3999, \"memory\": 141806.83, \"size\": 606228083}, {\"filter\": \"kmrf\", \"dataset\": \"bacteria7\", \"params\": \"k19.r95\", \"time\": 105.5038, \"memory\": 140979.13, \"size\": 606228083}]}}, {\"mode\": \"vega-lite\"});\n",
       "</script>"
      ],
      "text/plain": [
       "alt.VConcatChart(...)"
      ]
     },
     "execution_count": 13,
     "metadata": {},
     "output_type": "execute_result"
    }
   ],
   "source": [
    "import cocktail\n",
    "import cocktail.filter\n",
    "import cocktail.utils\n",
    "\n",
    "df = cocktail.filter.dataframe_bench()\n",
    "\n",
    "all_fig = list()\n",
    "for dataset in set(df.dataset):\n",
    "    all_fig.append(cocktail.utils.group_scatter(df[df.dataset == dataset], \"time\", \"memory\", \"filter\", None, dataset))\n",
    "\n",
    "fig = ((all_fig[0] | all_fig[1]) & (all_fig[2] | all_fig[3])) & all_fig[4]\n",
    "\n",
    "fig"
   ]
  },
  {
   "cell_type": "markdown",
   "metadata": {},
   "source": [
    "### Read quality"
   ]
  },
  {
   "cell_type": "code",
   "execution_count": null,
   "metadata": {},
   "outputs": [],
   "source": [
    "import pandas\n",
    "import cocktail\n",
    "import cocktail.filter\n",
    "\n",
    "df = cocktail.filter.dataframe()"
   ]
  },
  {
   "cell_type": "code",
   "execution_count": null,
   "metadata": {},
   "outputs": [],
   "source": [
    "import cocktail\n",
    "\n",
    "data_kmrf = list()\n",
    "for (group, data) in df.groupby([\"dataset\", \"tool\"]):\n",
    "    if group[1].startswith(\"kmrf_\"):\n",
    "        (kmer_size, ratio) = group[1].split(\"_\")[1:] \n",
    "        data_kmrf.append((group[0], kmer_size, ratio, data.length.sum(), data.identity.mean()))\n",
    "        \n",
    "df_kmrf = pandas.DataFrame(data_kmrf, columns=[\"dataset\", \"kmer_size\", \"ratio\", \"length\", \"identity\"])\n",
    "\n",
    "all_fig = list()\n",
    "for dataset in set(df_kmrf.dataset):\n",
    "    all_fig.append(cocktail.utils.group_scatter(df_kmrf[df_kmrf[\"dataset\"] == dataset],\n",
    "                                                \"length\", \"identity\", \"kmer_size\", \"ratio\", dataset))\n",
    "\n",
    "fig = ((all_fig[0] | all_fig[1]) & (all_fig[2] | all_fig[3])) & all_fig[4]\n",
    "\n",
    "fig"
   ]
  },
  {
   "cell_type": "code",
   "execution_count": null,
   "metadata": {
    "scrolled": false
   },
   "outputs": [],
   "source": [
    "import cocktail\n",
    "\n",
    "data_filtlong = list()\n",
    "for (group, data) in df.groupby([\"dataset\", \"tool\"]):\n",
    "    if group[1].startswith(\"filtlong_\"):\n",
    "        quality = group[1].split(\"_\")[1] \n",
    "        data_filtlong.append((group[0], quality, data.length.sum(), data.identity.mean()))\n",
    "\n",
    "df_filtlong = pandas.DataFrame(data_filtlong, columns=[\"dataset\", \"quality\", \"length\", \"identity\"])\n",
    "\n",
    "all_fig = list()\n",
    "for dataset in set(df_filtlong.dataset):\n",
    "    all_fig.append(cocktail.utils.group_scatter(df_filtlong[df_filtlong[\"dataset\"] == dataset],\n",
    "                                                \"length\", \"identity\", None, \"quality\", dataset))\n",
    "\n",
    "fig = ((all_fig[0] | all_fig[1]) )#& (all_fig[2] | all_fig[3])) #& all_fig[4]\n",
    "\n",
    "fig"
   ]
  },
  {
   "cell_type": "code",
   "execution_count": null,
   "metadata": {},
   "outputs": [],
   "source": [
    "import collections\n",
    "\n",
    "figs = collections.defaultdict(dict)\n",
    "\n",
    "for dataset in set(df.dataset):\n",
    "    for tool in set(df.tool):\n",
    "        sub_df = df[(df.dataset == dataset) & (df.tool == tool)]\n",
    "        max = sub_df.quantile(0.998).length\n",
    "        sub_df = sub_df.loc[df['length']<max]\n",
    "  \n",
    "        figs[dataset][tool] = cocktail.filter.figure(sub_df)"
   ]
  },
  {
   "cell_type": "code",
   "execution_count": null,
   "metadata": {},
   "outputs": [],
   "source": [
    "figs[\"yeast\"][\"kmrf_k15_r70\"]"
   ]
  },
  {
   "cell_type": "code",
   "execution_count": null,
   "metadata": {},
   "outputs": [],
   "source": [
    "import pandas\n",
    "import cocktail\n",
    "import cocktail.filter\n",
    "\n",
    "raw = cocktail.filter.get_data(\"data/yeast/reads.len_id.tsv\", \"yeast\", \"raw\")\n",
    "\n",
    "df_raw = pandas.DataFrame(raw, columns=[\"dataset\", \"filter\", \"name\", \"length\", \"identity\"])\n",
    "\n",
    "filter = set(df[(df.dataset == \"yeast\") & (df.tool == \"kmrf_k15_r70\")].name)\n",
    "\n",
    "df_raw.filtered = df_raw.name.apply(lambda x: x not in filter)\n",
    "\n",
    "max = df_raw.quantile(0.998).length\n",
    "df_raw = df_raw.loc[df_raw.length<max]\n",
    "\n",
    "cocktail.filter.figure(df_raw, color=\"filtered\")"
   ]
  },
  {
   "cell_type": "markdown",
   "metadata": {},
   "source": [
    "### Assembly quality"
   ]
  },
  {
   "cell_type": "markdown",
   "metadata": {},
   "source": [
    "## Correction\n",
    "\n",
    "Compare br (with k in range(13, 19, 2)) against canu correction module (2.0), consent and necat on all dataset."
   ]
  },
  {
   "cell_type": "code",
   "execution_count": null,
   "metadata": {},
   "outputs": [],
   "source": [
    "!snakemake --cores $SNAKEMAKE_CORE --use-conda -p correct_all -n"
   ]
  },
  {
   "cell_type": "markdown",
   "metadata": {},
   "source": [
    "### Benchmark"
   ]
  },
  {
   "cell_type": "code",
   "execution_count": 9,
   "metadata": {
    "scrolled": false
   },
   "outputs": [
    {
     "data": {
      "text/html": [
       "\n",
       "<div id=\"altair-viz-2b0aedf42d7340d2b65e5d36c1d9304a\"></div>\n",
       "<script type=\"text/javascript\">\n",
       "  (function(spec, embedOpt){\n",
       "    let outputDiv = document.currentScript.previousElementSibling;\n",
       "    if (outputDiv.id !== \"altair-viz-2b0aedf42d7340d2b65e5d36c1d9304a\") {\n",
       "      outputDiv = document.getElementById(\"altair-viz-2b0aedf42d7340d2b65e5d36c1d9304a\");\n",
       "    }\n",
       "    const paths = {\n",
       "      \"vega\": \"https://cdn.jsdelivr.net/npm//vega@5?noext\",\n",
       "      \"vega-lib\": \"https://cdn.jsdelivr.net/npm//vega-lib?noext\",\n",
       "      \"vega-lite\": \"https://cdn.jsdelivr.net/npm//vega-lite@4.8.1?noext\",\n",
       "      \"vega-embed\": \"https://cdn.jsdelivr.net/npm//vega-embed@6?noext\",\n",
       "    };\n",
       "\n",
       "    function loadScript(lib) {\n",
       "      return new Promise(function(resolve, reject) {\n",
       "        var s = document.createElement('script');\n",
       "        s.src = paths[lib];\n",
       "        s.async = true;\n",
       "        s.onload = () => resolve(paths[lib]);\n",
       "        s.onerror = () => reject(`Error loading script: ${paths[lib]}`);\n",
       "        document.getElementsByTagName(\"head\")[0].appendChild(s);\n",
       "      });\n",
       "    }\n",
       "\n",
       "    function showError(err) {\n",
       "      outputDiv.innerHTML = `<div class=\"error\" style=\"color:red;\">${err}</div>`;\n",
       "      throw err;\n",
       "    }\n",
       "\n",
       "    function displayChart(vegaEmbed) {\n",
       "      vegaEmbed(outputDiv, spec, embedOpt)\n",
       "        .catch(err => showError(`Javascript Error: ${err.message}<br>This usually means there's a typo in your chart specification. See the javascript console for the full traceback.`));\n",
       "    }\n",
       "\n",
       "    if(typeof define === \"function\" && define.amd) {\n",
       "      requirejs.config({paths});\n",
       "      require([\"vega-embed\"], displayChart, err => showError(`Error loading script: ${err.message}`));\n",
       "    } else if (typeof vegaEmbed === \"function\") {\n",
       "      displayChart(vegaEmbed);\n",
       "    } else {\n",
       "      loadScript(\"vega\")\n",
       "        .then(() => loadScript(\"vega-lite\"))\n",
       "        .then(() => loadScript(\"vega-embed\"))\n",
       "        .catch(showError)\n",
       "        .then(() => displayChart(vegaEmbed));\n",
       "    }\n",
       "  })({\"config\": {\"view\": {\"height\": 300, \"width\": 400}, \"range\": {\"category\": {\"scheme\": \"dark2\"}}}, \"hconcat\": [{\"mark\": {\"type\": \"line\", \"point\": true}, \"encoding\": {\"color\": {\"type\": \"nominal\", \"field\": \"corrector\"}, \"x\": {\"type\": \"quantitative\", \"field\": \"size\", \"scale\": {\"domain\": [253.77, 32125.84]}, \"title\": \"Reads file size in Mb\"}, \"y\": {\"type\": \"quantitative\", \"field\": \"time\", \"scale\": {\"domain\": [8.87, 38112.14]}, \"title\": \"Wall time in second\"}}, \"title\": \"\"}, {\"mark\": {\"type\": \"line\", \"point\": true}, \"encoding\": {\"color\": {\"type\": \"nominal\", \"field\": \"corrector\"}, \"x\": {\"type\": \"quantitative\", \"field\": \"size\", \"scale\": {\"domain\": [253.77, 32125.84]}, \"title\": \"Reads file size in Mb\"}, \"y\": {\"type\": \"quantitative\", \"field\": \"memory\", \"scale\": {\"domain\": [94.39, 147512.99]}, \"title\": \"Memory peak in Mb\"}}, \"title\": \"\"}], \"data\": {\"name\": \"data-15165ee886511b02a88c5770e18464db\"}, \"$schema\": \"https://vega.github.io/schema/vega-lite/v4.8.1.json\", \"datasets\": {\"data-15165ee886511b02a88c5770e18464db\": [{\"dataset\": \"bacteria\", \"corrector\": \"br_k13\", \"time\": 8.8719, \"memory\": 104.11, \"size\": 591.394705}, {\"dataset\": \"bacteria\", \"corrector\": \"br_k15\", \"time\": 15.0524, \"memory\": 586.96, \"size\": 591.394705}, {\"dataset\": \"bacteria\", \"corrector\": \"br_k17\", \"time\": 28.9133, \"memory\": 9269.21, \"size\": 591.394705}, {\"dataset\": \"bacteria\", \"corrector\": \"br_k19\", \"time\": 129.1821, \"memory\": 145157.17, \"size\": 591.394705}, {\"dataset\": \"bacteria\", \"corrector\": \"canu\", \"time\": 2509.0138, \"memory\": 13454.0, \"size\": 591.394705}, {\"dataset\": \"bacteria\", \"corrector\": \"consent\", \"time\": 3225.1949, \"memory\": 8998.82, \"size\": 591.394705}, {\"dataset\": \"bacteria\", \"corrector\": \"necat\", \"time\": 723.976, \"memory\": 14137.35, \"size\": 591.394705}, {\"dataset\": \"metagenome\", \"corrector\": \"br_k13\", \"time\": 606.4934, \"memory\": 94.39, \"size\": 32125.836484}, {\"dataset\": \"metagenome\", \"corrector\": \"br_k15\", \"time\": 796.4693, \"memory\": 559.54, \"size\": 32125.836484}, {\"dataset\": \"metagenome\", \"corrector\": \"br_k17\", \"time\": 4225.4429, \"memory\": 8240.35, \"size\": 32125.836484}, {\"dataset\": \"metagenome\", \"corrector\": \"br_k19\", \"time\": 2631.4711, \"memory\": 147504.28, \"size\": 32125.836484}, {\"dataset\": \"metagenome\", \"corrector\": \"canu\", \"time\": 33240.8949, \"memory\": 48043.02, \"size\": 32125.836484}, {\"dataset\": \"metagenome\", \"corrector\": \"necat\", \"time\": 38112.1394, \"memory\": 39134.26, \"size\": 32125.836484}, {\"dataset\": \"yeast\", \"corrector\": \"br_k13\", \"time\": 72.7502, \"memory\": 187.51, \"size\": 3500.654831}, {\"dataset\": \"yeast\", \"corrector\": \"br_k15\", \"time\": 545.1577, \"memory\": 611.49, \"size\": 3500.654831}, {\"dataset\": \"yeast\", \"corrector\": \"br_k17\", \"time\": 484.3508, \"memory\": 8291.61, \"size\": 3500.654831}, {\"dataset\": \"yeast\", \"corrector\": \"br_k19\", \"time\": 503.8808, \"memory\": 147252.63, \"size\": 3500.654831}, {\"dataset\": \"yeast\", \"corrector\": \"canu\", \"time\": 13698.7298, \"memory\": 19874.74, \"size\": 3500.654831}, {\"dataset\": \"yeast\", \"corrector\": \"necat\", \"time\": 3835.6745, \"memory\": 34593.95, \"size\": 3500.654831}, {\"dataset\": \"bacteria7\", \"corrector\": \"br_k13\", \"time\": 14.2703, \"memory\": 112.77, \"size\": 606.228083}, {\"dataset\": \"bacteria7\", \"corrector\": \"br_k15\", \"time\": 77.539, \"memory\": 632.95, \"size\": 606.228083}, {\"dataset\": \"bacteria7\", \"corrector\": \"br_k17\", \"time\": 49.9881, \"memory\": 9273.0, \"size\": 606.228083}, {\"dataset\": \"bacteria7\", \"corrector\": \"br_k19\", \"time\": 126.1852, \"memory\": 147512.98, \"size\": 606.228083}, {\"dataset\": \"bacteria7\", \"corrector\": \"consent\", \"time\": 4188.4117, \"memory\": 10539.63, \"size\": 606.228083}, {\"dataset\": \"bacteria7\", \"corrector\": \"necat\", \"time\": 717.0017, \"memory\": 17112.94, \"size\": 606.228083}, {\"dataset\": \"bacteria5\", \"corrector\": \"br_k13\", \"time\": 17.8757, \"memory\": 186.65, \"size\": 253.770734}, {\"dataset\": \"bacteria5\", \"corrector\": \"br_k15\", \"time\": 21.9168, \"memory\": 602.67, \"size\": 253.770734}, {\"dataset\": \"bacteria5\", \"corrector\": \"br_k17\", \"time\": 39.045, \"memory\": 9305.73, \"size\": 253.770734}, {\"dataset\": \"bacteria5\", \"corrector\": \"br_k19\", \"time\": 120.5677, \"memory\": 130634.1, \"size\": 253.770734}, {\"dataset\": \"bacteria5\", \"corrector\": \"consent\", \"time\": 1641.4838, \"memory\": 4239.51, \"size\": 253.770734}, {\"dataset\": \"bacteria5\", \"corrector\": \"necat\", \"time\": 310.7359, \"memory\": 8270.8, \"size\": 253.770734}]}}, {\"mode\": \"vega-lite\"});\n",
       "</script>"
      ],
      "text/plain": [
       "alt.HConcatChart(...)"
      ]
     },
     "execution_count": 9,
     "metadata": {},
     "output_type": "execute_result"
    }
   ],
   "source": [
    "import pandas\n",
    "import cocktail\n",
    "import cocktail.correct\n",
    "import cocktail.utils\n",
    "\n",
    "df = cocktail.correct.dataframe_bench()\n",
    "\n",
    "#df = df[df.corrector != \"br_k13\"]\n",
    "#df = df[df.corrector != \"br_k15\"]\n",
    "#df = df[df.corrector != \"br_k17\"]\n",
    "\n",
    "#df = df.replace({\"br_k19\": \"br\"})\n",
    "\n",
    "fig_time = cocktail.utils.group_line(df, \"size\", \"time\", color=\"corrector\", point=True,\n",
    "                                    xtitle=\"Reads file size in Mb\", ytitle=\"Wall time in second\")\n",
    "fig_mem = cocktail.utils.group_line(df, \"size\", \"memory\", color=\"corrector\", point=True,\n",
    "                                    xtitle=\"Reads file size in Mb\", ytitle=\"Memory peak in Mb\")\n",
    "\n",
    "\n",
    "fig_time | fig_mem"
   ]
  },
  {
   "cell_type": "markdown",
   "metadata": {},
   "source": [
    "### Error rate"
   ]
  },
  {
   "cell_type": "code",
   "execution_count": 10,
   "metadata": {},
   "outputs": [
    {
     "data": {
      "text/html": [
       "\n",
       "<div id=\"altair-viz-a28ba324765148028cb4adfdf931e470\"></div>\n",
       "<script type=\"text/javascript\">\n",
       "  (function(spec, embedOpt){\n",
       "    let outputDiv = document.currentScript.previousElementSibling;\n",
       "    if (outputDiv.id !== \"altair-viz-a28ba324765148028cb4adfdf931e470\") {\n",
       "      outputDiv = document.getElementById(\"altair-viz-a28ba324765148028cb4adfdf931e470\");\n",
       "    }\n",
       "    const paths = {\n",
       "      \"vega\": \"https://cdn.jsdelivr.net/npm//vega@5?noext\",\n",
       "      \"vega-lib\": \"https://cdn.jsdelivr.net/npm//vega-lib?noext\",\n",
       "      \"vega-lite\": \"https://cdn.jsdelivr.net/npm//vega-lite@4.8.1?noext\",\n",
       "      \"vega-embed\": \"https://cdn.jsdelivr.net/npm//vega-embed@6?noext\",\n",
       "    };\n",
       "\n",
       "    function loadScript(lib) {\n",
       "      return new Promise(function(resolve, reject) {\n",
       "        var s = document.createElement('script');\n",
       "        s.src = paths[lib];\n",
       "        s.async = true;\n",
       "        s.onload = () => resolve(paths[lib]);\n",
       "        s.onerror = () => reject(`Error loading script: ${paths[lib]}`);\n",
       "        document.getElementsByTagName(\"head\")[0].appendChild(s);\n",
       "      });\n",
       "    }\n",
       "\n",
       "    function showError(err) {\n",
       "      outputDiv.innerHTML = `<div class=\"error\" style=\"color:red;\">${err}</div>`;\n",
       "      throw err;\n",
       "    }\n",
       "\n",
       "    function displayChart(vegaEmbed) {\n",
       "      vegaEmbed(outputDiv, spec, embedOpt)\n",
       "        .catch(err => showError(`Javascript Error: ${err.message}<br>This usually means there's a typo in your chart specification. See the javascript console for the full traceback.`));\n",
       "    }\n",
       "\n",
       "    if(typeof define === \"function\" && define.amd) {\n",
       "      requirejs.config({paths});\n",
       "      require([\"vega-embed\"], displayChart, err => showError(`Error loading script: ${err.message}`));\n",
       "    } else if (typeof vegaEmbed === \"function\") {\n",
       "      displayChart(vegaEmbed);\n",
       "    } else {\n",
       "      loadScript(\"vega\")\n",
       "        .then(() => loadScript(\"vega-lite\"))\n",
       "        .then(() => loadScript(\"vega-embed\"))\n",
       "        .catch(showError)\n",
       "        .then(() => displayChart(vegaEmbed));\n",
       "    }\n",
       "  })({\"config\": {\"view\": {\"height\": 300, \"width\": 400}, \"range\": {\"category\": {\"scheme\": \"dark2\"}}}, \"data\": {\"name\": \"data-6f50fac3197807271361d66c1ee31caf\"}, \"mark\": {\"type\": \"line\", \"point\": true}, \"encoding\": {\"color\": {\"type\": \"nominal\", \"field\": \"corrector\"}, \"x\": {\"type\": \"quantitative\", \"field\": \"raw\", \"scale\": {\"domain\": [0.86, 14.71]}, \"title\": \"Original error rate in %\"}, \"y\": {\"type\": \"quantitative\", \"field\": \"corrected\", \"scale\": {\"domain\": [0.0, 14.74]}, \"title\": \"Corrected error rate in %\"}}, \"title\": \"\", \"$schema\": \"https://vega.github.io/schema/vega-lite/v4.8.1.json\", \"datasets\": {\"data-6f50fac3197807271361d66c1ee31caf\": [{\"dataset\": \"bacteria\", \"corrector\": \"br_k13\", \"corrected\": 14.730879999999999, \"raw\": 14.70773}, {\"dataset\": \"bacteria\", \"corrector\": \"br_k15\", \"corrected\": 14.65427, \"raw\": 14.70773}, {\"dataset\": \"bacteria\", \"corrector\": \"br_k17\", \"corrected\": 14.66219, \"raw\": 14.70773}, {\"dataset\": \"bacteria\", \"corrector\": \"br_k19\", \"corrected\": 14.675089999999999, \"raw\": 14.70773}, {\"dataset\": \"bacteria\", \"corrector\": \"canu\", \"corrected\": 2.607573, \"raw\": 14.70773}, {\"dataset\": \"bacteria\", \"corrector\": \"consent\", \"corrected\": 2.276021, \"raw\": 14.70773}, {\"dataset\": \"bacteria\", \"corrector\": \"necat\", \"corrected\": 1.246137, \"raw\": 14.70773}, {\"dataset\": \"metagenome\", \"corrector\": \"br_k13\", \"corrected\": 10.815579999999999, \"raw\": 10.815579999999999}, {\"dataset\": \"metagenome\", \"corrector\": \"br_k15\", \"corrected\": 10.81598, \"raw\": 10.815579999999999}, {\"dataset\": \"metagenome\", \"corrector\": \"br_k17\", \"corrected\": 9.182318, \"raw\": 10.815579999999999}, {\"dataset\": \"metagenome\", \"corrector\": \"br_k19\", \"corrected\": 5.876641, \"raw\": 10.815579999999999}, {\"dataset\": \"metagenome\", \"corrector\": \"canu\", \"corrected\": 0.752254, \"raw\": 10.815579999999999}, {\"dataset\": \"metagenome\", \"corrector\": \"necat\", \"corrected\": 0.2008735, \"raw\": 10.815579999999999}, {\"dataset\": \"yeast\", \"corrector\": \"br_k13\", \"corrected\": 8.317723, \"raw\": 8.317458}, {\"dataset\": \"yeast\", \"corrector\": \"br_k15\", \"corrected\": 10.09155, \"raw\": 8.317458}, {\"dataset\": \"yeast\", \"corrector\": \"br_k17\", \"corrected\": 7.247633, \"raw\": 8.317458}, {\"dataset\": \"yeast\", \"corrector\": \"br_k19\", \"corrected\": 4.248863, \"raw\": 8.317458}, {\"dataset\": \"yeast\", \"corrector\": \"canu\", \"corrected\": 1.090965, \"raw\": 8.317458}, {\"dataset\": \"yeast\", \"corrector\": \"necat\", \"corrected\": 0.1635332, \"raw\": 8.317458}, {\"dataset\": \"bacteria7\", \"corrector\": \"br_k13\", \"corrected\": 7.8664819999999995, \"raw\": 7.737339}, {\"dataset\": \"bacteria7\", \"corrector\": \"br_k15\", \"corrected\": 6.6744129999999995, \"raw\": 7.737339}, {\"dataset\": \"bacteria7\", \"corrector\": \"br_k17\", \"corrected\": 3.072966, \"raw\": 7.737339}, {\"dataset\": \"bacteria7\", \"corrector\": \"br_k19\", \"corrected\": 2.217354, \"raw\": 7.737339}, {\"dataset\": \"bacteria7\", \"corrector\": \"consent\", \"corrected\": 0.5200609, \"raw\": 7.737339}, {\"dataset\": \"bacteria7\", \"corrector\": \"necat\", \"corrected\": 0.1858008, \"raw\": 7.737339}, {\"dataset\": \"bacteria5\", \"corrector\": \"br_k13\", \"corrected\": 9.168751, \"raw\": 5.960089}, {\"dataset\": \"bacteria5\", \"corrector\": \"br_k15\", \"corrected\": 5.021933, \"raw\": 5.960089}, {\"dataset\": \"bacteria5\", \"corrector\": \"br_k17\", \"corrected\": 1.6710969999999998, \"raw\": 5.960089}, {\"dataset\": \"bacteria5\", \"corrector\": \"br_k19\", \"corrected\": 0.7423646, \"raw\": 5.960089}, {\"dataset\": \"bacteria5\", \"corrector\": \"consent\", \"corrected\": 0.2553458, \"raw\": 5.960089}, {\"dataset\": \"bacteria5\", \"corrector\": \"necat\", \"corrected\": 0.1636029, \"raw\": 5.960089}, {\"dataset\": \"synthetic.e90.c50\", \"corrector\": \"br_k13\", \"corrected\": 10.99569, \"raw\": 10.793800000000001}, {\"dataset\": \"synthetic.e90.c50\", \"corrector\": \"br_k15\", \"corrected\": 9.480713, \"raw\": 10.793800000000001}, {\"dataset\": \"synthetic.e90.c50\", \"corrector\": \"br_k17\", \"corrected\": 5.624891, \"raw\": 10.793800000000001}, {\"dataset\": \"synthetic.e90.c50\", \"corrector\": \"br_k19\", \"corrected\": 4.633039, \"raw\": 10.793800000000001}, {\"dataset\": \"synthetic.e90.c50\", \"corrector\": \"canu\", \"corrected\": 0.5477834, \"raw\": 10.793800000000001}, {\"dataset\": \"synthetic.e90.c50\", \"corrector\": \"consent\", \"corrected\": 0.4278001, \"raw\": 10.793800000000001}, {\"dataset\": \"synthetic.e90.c50\", \"corrector\": \"necat\", \"corrected\": 0.125769, \"raw\": 10.793800000000001}, {\"dataset\": \"synthetic.e91.c50\", \"corrector\": \"br_k13\", \"corrected\": 9.966339, \"raw\": 9.730919}, {\"dataset\": \"synthetic.e91.c50\", \"corrector\": \"br_k15\", \"corrected\": 8.376927, \"raw\": 9.730919}, {\"dataset\": \"synthetic.e91.c50\", \"corrector\": \"br_k17\", \"corrected\": 4.440793, \"raw\": 9.730919}, {\"dataset\": \"synthetic.e91.c50\", \"corrector\": \"br_k19\", \"corrected\": 3.113922, \"raw\": 9.730919}, {\"dataset\": \"synthetic.e91.c50\", \"corrector\": \"canu\", \"corrected\": 0.3566954, \"raw\": 9.730919}, {\"dataset\": \"synthetic.e91.c50\", \"corrector\": \"consent\", \"corrected\": 0.3250526, \"raw\": 9.730919}, {\"dataset\": \"synthetic.e91.c50\", \"corrector\": \"necat\", \"corrected\": 0.09116566999999999, \"raw\": 9.730919}, {\"dataset\": \"synthetic.e92.c50\", \"corrector\": \"br_k13\", \"corrected\": 8.862145, \"raw\": 8.573841}, {\"dataset\": \"synthetic.e92.c50\", \"corrector\": \"br_k15\", \"corrected\": 7.309691, \"raw\": 8.573841}, {\"dataset\": \"synthetic.e92.c50\", \"corrector\": \"br_k17\", \"corrected\": 3.330511, \"raw\": 8.573841}, {\"dataset\": \"synthetic.e92.c50\", \"corrector\": \"br_k19\", \"corrected\": 1.932221, \"raw\": 8.573841}, {\"dataset\": \"synthetic.e92.c50\", \"corrector\": \"canu\", \"corrected\": 0.2160182, \"raw\": 8.573841}, {\"dataset\": \"synthetic.e92.c50\", \"corrector\": \"consent\", \"corrected\": 0.22817010000000001, \"raw\": 8.573841}, {\"dataset\": \"synthetic.e92.c50\", \"corrector\": \"necat\", \"corrected\": 0.06366508, \"raw\": 8.573841}, {\"dataset\": \"synthetic.e93.c50\", \"corrector\": \"br_k13\", \"corrected\": 7.80344, \"raw\": 7.444828}, {\"dataset\": \"synthetic.e93.c50\", \"corrector\": \"br_k15\", \"corrected\": 6.3477060000000005, \"raw\": 7.444828}, {\"dataset\": \"synthetic.e93.c50\", \"corrector\": \"br_k17\", \"corrected\": 2.699432, \"raw\": 7.444828}, {\"dataset\": \"synthetic.e93.c50\", \"corrector\": \"br_k19\", \"corrected\": 1.093886, \"raw\": 7.444828}, {\"dataset\": \"synthetic.e93.c50\", \"corrector\": \"canu\", \"corrected\": 0.1233828, \"raw\": 7.444828}, {\"dataset\": \"synthetic.e93.c50\", \"corrector\": \"consent\", \"corrected\": 0.184385, \"raw\": 7.444828}, {\"dataset\": \"synthetic.e93.c50\", \"corrector\": \"necat\", \"corrected\": 0.04119091, \"raw\": 7.444828}, {\"dataset\": \"synthetic.e94.c50\", \"corrector\": \"br_k13\", \"corrected\": 9.729072, \"raw\": 6.518166}, {\"dataset\": \"synthetic.e94.c50\", \"corrector\": \"br_k15\", \"corrected\": 5.664104, \"raw\": 6.518166}, {\"dataset\": \"synthetic.e94.c50\", \"corrector\": \"br_k17\", \"corrected\": 2.345784, \"raw\": 6.518166}, {\"dataset\": \"synthetic.e94.c50\", \"corrector\": \"br_k19\", \"corrected\": 0.8745166000000001, \"raw\": 6.518166}, {\"dataset\": \"synthetic.e94.c50\", \"corrector\": \"canu\", \"corrected\": 0.08021005, \"raw\": 6.518166}, {\"dataset\": \"synthetic.e94.c50\", \"corrector\": \"consent\", \"corrected\": 0.1680872, \"raw\": 6.518166}, {\"dataset\": \"synthetic.e94.c50\", \"corrector\": \"necat\", \"corrected\": 0.0340253, \"raw\": 6.518166}, {\"dataset\": \"synthetic.e95.c50\", \"corrector\": \"br_k13\", \"corrected\": 8.644278, \"raw\": 5.419556}, {\"dataset\": \"synthetic.e95.c50\", \"corrector\": \"br_k15\", \"corrected\": 4.8956409999999995, \"raw\": 5.419556}, {\"dataset\": \"synthetic.e95.c50\", \"corrector\": \"br_k17\", \"corrected\": 1.978653, \"raw\": 5.419556}, {\"dataset\": \"synthetic.e95.c50\", \"corrector\": \"br_k19\", \"corrected\": 0.7045869, \"raw\": 5.419556}, {\"dataset\": \"synthetic.e95.c50\", \"corrector\": \"canu\", \"corrected\": 0.038183470000000004, \"raw\": 5.419556}, {\"dataset\": \"synthetic.e95.c50\", \"corrector\": \"consent\", \"corrected\": 0.13587950000000001, \"raw\": 5.419556}, {\"dataset\": \"synthetic.e95.c50\", \"corrector\": \"necat\", \"corrected\": 0.01756043, \"raw\": 5.419556}, {\"dataset\": \"synthetic.e96.c50\", \"corrector\": \"br_k13\", \"corrected\": 7.610056, \"raw\": 4.367604}, {\"dataset\": \"synthetic.e96.c50\", \"corrector\": \"br_k15\", \"corrected\": 4.18898, \"raw\": 4.367604}, {\"dataset\": \"synthetic.e96.c50\", \"corrector\": \"br_k17\", \"corrected\": 1.660959, \"raw\": 4.367604}, {\"dataset\": \"synthetic.e96.c50\", \"corrector\": \"br_k19\", \"corrected\": 0.5496203, \"raw\": 4.367604}, {\"dataset\": \"synthetic.e96.c50\", \"corrector\": \"canu\", \"corrected\": 0.01863495, \"raw\": 4.367604}, {\"dataset\": \"synthetic.e96.c50\", \"corrector\": \"consent\", \"corrected\": 0.1058334, \"raw\": 4.367604}, {\"dataset\": \"synthetic.e96.c50\", \"corrector\": \"necat\", \"corrected\": 0.01301408, \"raw\": 4.367604}, {\"dataset\": \"synthetic.e97.c50\", \"corrector\": \"br_k13\", \"corrected\": 6.5020739999999995, \"raw\": 3.264722}, {\"dataset\": \"synthetic.e97.c50\", \"corrector\": \"br_k15\", \"corrected\": 3.509145, \"raw\": 3.264722}, {\"dataset\": \"synthetic.e97.c50\", \"corrector\": \"br_k17\", \"corrected\": 1.381519, \"raw\": 3.264722}, {\"dataset\": \"synthetic.e97.c50\", \"corrector\": \"br_k19\", \"corrected\": 0.4736194, \"raw\": 3.264722}, {\"dataset\": \"synthetic.e97.c50\", \"corrector\": \"canu\", \"corrected\": 0.006092908, \"raw\": 3.264722}, {\"dataset\": \"synthetic.e97.c50\", \"corrector\": \"consent\", \"corrected\": 0.09066576, \"raw\": 3.264722}, {\"dataset\": \"synthetic.e97.c50\", \"corrector\": \"necat\", \"corrected\": 0.009062237, \"raw\": 3.264722}, {\"dataset\": \"synthetic.e98.c50\", \"corrector\": \"br_k13\", \"corrected\": 5.397260999999999, \"raw\": 2.149422}, {\"dataset\": \"synthetic.e98.c50\", \"corrector\": \"br_k15\", \"corrected\": 2.874295, \"raw\": 2.149422}, {\"dataset\": \"synthetic.e98.c50\", \"corrector\": \"br_k17\", \"corrected\": 1.170324, \"raw\": 2.149422}, {\"dataset\": \"synthetic.e98.c50\", \"corrector\": \"br_k19\", \"corrected\": 0.41259160000000006, \"raw\": 2.149422}, {\"dataset\": \"synthetic.e98.c50\", \"corrector\": \"canu\", \"corrected\": 0.00444312, \"raw\": 2.149422}, {\"dataset\": \"synthetic.e98.c50\", \"corrector\": \"consent\", \"corrected\": 0.08835752, \"raw\": 2.149422}, {\"dataset\": \"synthetic.e98.c50\", \"corrector\": \"necat\", \"corrected\": 0.006117007000000001, \"raw\": 2.149422}, {\"dataset\": \"synthetic.e99.c50\", \"corrector\": \"br_k13\", \"corrected\": 4.116704, \"raw\": 0.8677754}, {\"dataset\": \"synthetic.e99.c50\", \"corrector\": \"br_k15\", \"corrected\": 2.003769, \"raw\": 0.8677754}, {\"dataset\": \"synthetic.e99.c50\", \"corrector\": \"br_k17\", \"corrected\": 0.7208955, \"raw\": 0.8677754}, {\"dataset\": \"synthetic.e99.c50\", \"corrector\": \"br_k19\", \"corrected\": 0.23058610000000002, \"raw\": 0.8677754}, {\"dataset\": \"synthetic.e99.c50\", \"corrector\": \"canu\", \"corrected\": 0.002736882, \"raw\": 0.8677754}, {\"dataset\": \"synthetic.e99.c50\", \"corrector\": \"consent\", \"corrected\": 0.04593353, \"raw\": 0.8677754}, {\"dataset\": \"synthetic.e99.c50\", \"corrector\": \"necat\", \"corrected\": 0.00517201, \"raw\": 0.8677754}]}}, {\"mode\": \"vega-lite\"});\n",
       "</script>"
      ],
      "text/plain": [
       "alt.Chart(...)"
      ]
     },
     "execution_count": 10,
     "metadata": {},
     "output_type": "execute_result"
    }
   ],
   "source": [
    "import pandas\n",
    "import cocktail\n",
    "import cocktail.correct\n",
    "import cocktail.utils\n",
    "\n",
    "df = cocktail.correct.dataframe_stats()\n",
    "\n",
    "#df = df[df.corrector != \"br_k13\"]\n",
    "#df = df[df.corrector != \"br_k15\"]\n",
    "#df = df[df.corrector != \"br_k17\"]\n",
    "\n",
    "#df = df.replace({\"br_k19\": \"br\"})\n",
    "df.raw = df.raw * 100\n",
    "df.corrected = df.corrected * 100\n",
    "\n",
    "fig_error = cocktail.utils.group_line(df, \"raw\", \"corrected\", color=\"corrector\", point=True,\n",
    "                                    xtitle=\"Original error rate in %\", ytitle=\"Corrected error rate in %\")\n",
    "\n",
    "fig_error"
   ]
  },
  {
   "cell_type": "markdown",
   "metadata": {},
   "source": [
    "### Recall & Precision"
   ]
  },
  {
   "cell_type": "code",
   "execution_count": null,
   "metadata": {},
   "outputs": [],
   "source": [
    "import cocktail\n",
    "\n",
    "df = cocktail.correct.dataframe_pr()\n",
    "df = df[df.dataset == \"bacteria\"]\n",
    "\n",
    "cocktail.utils.group_scatter(df, \"precision\", \"recall\", \"corrector\")"
   ]
  },
  {
   "cell_type": "code",
   "execution_count": null,
   "metadata": {},
   "outputs": [],
   "source": [
    "import cocktail\n",
    "\n",
    "df = cocktail.correct.dataframe_pr()\n",
    "df = df[df.dataset == \"yeast\"]\n",
    "\n",
    "cocktail.utils.group_scatter(df, \"precision\", \"recall\", \"corrector\")"
   ]
  },
  {
   "cell_type": "code",
   "execution_count": null,
   "metadata": {},
   "outputs": [],
   "source": [
    "import cocktail\n",
    "\n",
    "df = cocktail.correct.dataframe_pr()\n",
    "df = df[df.dataset == \"metagenome\"]\n",
    "\n",
    "cocktail.utils.group_scatter(df, \"precision\", \"recall\", \"corrector\")"
   ]
  },
  {
   "cell_type": "markdown",
   "metadata": {},
   "source": [
    "### Precision\n",
    "\n",
    "#### Simulate\n",
    "\n",
    "#### Real"
   ]
  },
  {
   "cell_type": "markdown",
   "metadata": {},
   "source": [
    "### Effect of coverage\n",
    "\n",
    "One dataset ? br only ?"
   ]
  },
  {
   "cell_type": "markdown",
   "metadata": {},
   "source": [
    "### Dipolid dataset"
   ]
  },
  {
   "cell_type": "markdown",
   "metadata": {},
   "source": [
    "## Polish\n",
    "\n",
    "Effect of polish on miniasm assembly on all dataset mode (with k in range (13, 19, 2) and abundance in range(10, 30))"
   ]
  },
  {
   "cell_type": "code",
   "execution_count": null,
   "metadata": {},
   "outputs": [],
   "source": [
    "!snakemake --cores $SNAKEMAKE_CORE --use-conda -p polish_all -n"
   ]
  },
  {
   "cell_type": "markdown",
   "metadata": {},
   "source": [
    "### Quast result"
   ]
  }
 ],
 "metadata": {
  "kernelspec": {
   "display_name": "Python 3",
   "language": "python",
   "name": "python3"
  },
  "language_info": {
   "codemirror_mode": {
    "name": "ipython",
    "version": 3
   },
   "file_extension": ".py",
   "mimetype": "text/x-python",
   "name": "python",
   "nbconvert_exporter": "python",
   "pygments_lexer": "ipython3",
   "version": "3.8.6"
  }
 },
 "nbformat": 4,
 "nbformat_minor": 2
}
