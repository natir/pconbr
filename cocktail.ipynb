{
 "cells": [
  {
   "cell_type": "code",
   "execution_count": 10,
   "metadata": {},
   "outputs": [
    {
     "name": "stdout",
     "output_type": "stream",
     "text": [
      "The autoreload extension is already loaded. To reload it, use:\n",
      "  %reload_ext autoreload\n"
     ]
    },
    {
     "data": {
      "text/plain": [
       "ThemeRegistry.enable('custom_theme')"
      ]
     },
     "execution_count": 10,
     "metadata": {},
     "output_type": "execute_result"
    }
   ],
   "source": [
    "# Some setup\n",
    "%load_ext autoreload\n",
    "\n",
    "%autoreload 2\n",
    "\n",
    "import altair\n",
    "altair.data_transformers.disable_max_rows()\n",
    "\n",
    "def custom_theme():\n",
    "    return {\n",
    "        'config': {\n",
    "            'view': {\n",
    "                'height': 300,\n",
    "                'width': 400,\n",
    "            },\n",
    "            'range': {\n",
    "                'category': {'scheme':'dark2'}\n",
    "            }\n",
    "        }\n",
    "    }\n",
    "\n",
    "altair.themes.register('custom_theme', custom_theme)\n",
    "\n",
    "# enable the newly registered theme\n",
    "altair.themes.enable('custom_theme')"
   ]
  },
  {
   "cell_type": "markdown",
   "metadata": {},
   "source": [
    "# Code name: Cocktail\n",
    "\n",
    "A kmer tools box to use small kmer on long-reads.\n",
    "\n",
    "- count kmer: pcon\n",
    "- filter reads: kmerf\n",
    "- correct reads: br\n",
    "- polish assemblies: br"
   ]
  },
  {
   "cell_type": "markdown",
   "metadata": {},
   "source": [
    "## Parameter\n",
    "\n",
    "Some global variable usefull in this notebook don't hesitate to set it "
   ]
  },
  {
   "cell_type": "code",
   "execution_count": null,
   "metadata": {},
   "outputs": [],
   "source": [
    "SNAKEMAKE_CORE=8"
   ]
  },
  {
   "cell_type": "markdown",
   "metadata": {},
   "source": [
    "## Dataset\n",
    "\n",
    "### References\n",
    "\n",
    "| dataset         | species            | info                          | genome size | \n",
    "|:----------------|:-------------------|:------------------------------|------------:|\n",
    "| bacteria        | E. coli str. K-12 substr. MG1655 | NC_000913.3                   |      4.6 Mb |\n",
    "| yeast           | S. cerevisiae            | NC_001133                     |     12.1Mb |\n",
    "| metagenome      | Mock community           | [pacbio assembly](https://lomanlab.github.io/mockcommunity/)       |       42.1Mb |\n",
    "\n",
    "\n",
    "\n",
    "### Reads\n",
    "\n",
    "| dataset         | info           | # bases (Gb) | coverage    | error rate |\n",
    "|:----------------|:---------------|-------------:|------------:|-----------:|\n",
    "| bacteria        | SRR10950300    |       588    |        126x |       14 % |\n",
    "| bacteria5       | TODO           |       250    |         54x |        6 % |\n",
    "| bacteria7       | TODO           |       591    |        127x |        7 % |\n",
    "| yeast           | Genoscope      |       34,474 |        283x |        8 % |\n",
    "| metagenome      | [R10 Native “3 Peaks” Data Release (2019-05-24)](https://lomanlab.github.io/mockcommunity/r10.html) |   30,909 | 733x | 10 %|\n"
   ]
  },
  {
   "cell_type": "markdown",
   "metadata": {},
   "source": [
    "## Prepare dataset"
   ]
  },
  {
   "cell_type": "code",
   "execution_count": null,
   "metadata": {},
   "outputs": [],
   "source": [
    "!snakemake --cores $SNAKEMAKE_CORE --use-conda -p data_all -n"
   ]
  },
  {
   "cell_type": "code",
   "execution_count": null,
   "metadata": {},
   "outputs": [],
   "source": [
    "import cocktail\n",
    "import cocktail.kmer_spectrum\n",
    "\n",
    "df = cocktail.kmer_spectrum.get_kmer_spectrum(\"bacteria5\", 15)"
   ]
  },
  {
   "cell_type": "code",
   "execution_count": null,
   "metadata": {},
   "outputs": [],
   "source": [
    "df2 = df\n",
    "df2 = df2[df2.count != 0]\n",
    "df2 = df2[df2.type != \"all\"]\n",
    "df2 = df2.replace(\"true\", \"reference\")\n",
    "df2 = df2.replace(\"false\", \"erroneous\")\n",
    "\n",
    "cocktail.kmer_spectrum.figure(df2)"
   ]
  },
  {
   "cell_type": "markdown",
   "metadata": {},
   "source": [
    "## Count\n",
    "\n",
    "Compare pcon against kmc (3.1.1) and jellyfish (2.2.10) k in range(13, 19, 2)), on all dataset."
   ]
  },
  {
   "cell_type": "code",
   "execution_count": null,
   "metadata": {},
   "outputs": [],
   "source": [
    "!snakemake --cores $SNAKEMAKE_CORE --use-conda -p count_all -n"
   ]
  },
  {
   "cell_type": "markdown",
   "metadata": {},
   "source": [
    "### Benchmark"
   ]
  },
  {
   "cell_type": "code",
   "execution_count": 22,
   "metadata": {
    "scrolled": false
   },
   "outputs": [
    {
     "name": "stdout",
     "output_type": "stream",
     "text": [
      "          counter     dataset kmer_size      time     memory         size\n",
      "0            pcon    bacteria        13   23.2677     173.10    591394705\n",
      "1            pcon    bacteria        17   27.8702    8360.38    591394705\n",
      "2            pcon    bacteria        19  150.7886  128931.77    591394705\n",
      "3            pcon  metagenome        13  437.4146     835.82  32125836484\n",
      "4            pcon  metagenome        15  164.6621    1288.88  32125836484\n",
      "..            ...         ...       ...       ...        ...          ...\n",
      "131  jellyfish_cd   bacteria7        19  163.3012   39333.71    606228083\n",
      "132  jellyfish_cd   bacteria5        13   37.9216     125.75    253770734\n",
      "133  jellyfish_cd   bacteria5        15   40.2693    1966.72    253770734\n",
      "134  jellyfish_cd   bacteria5        17   96.7943   31220.48    253770734\n",
      "135  jellyfish_cd   bacteria5        19   72.1206   39334.44    253770734\n",
      "\n",
      "[136 rows x 6 columns]\n",
      "0 4\n",
      "start line alt.Chart(...)\n",
      "continue line alt.HConcatChart(...)\n",
      "continue line alt.HConcatChart(...)\n",
      "continue line alt.HConcatChart(...)\n",
      "start fig None\n",
      "4 5\n",
      "start line alt.Chart(...)\n",
      "continue fig alt.HConcatChart(...)\n"
     ]
    },
    {
     "data": {
      "text/html": [
       "\n",
       "<div id=\"altair-viz-f05af5f0b0df40e29f430a117cb7ee81\"></div>\n",
       "<script type=\"text/javascript\">\n",
       "  (function(spec, embedOpt){\n",
       "    let outputDiv = document.currentScript.previousElementSibling;\n",
       "    if (outputDiv.id !== \"altair-viz-f05af5f0b0df40e29f430a117cb7ee81\") {\n",
       "      outputDiv = document.getElementById(\"altair-viz-f05af5f0b0df40e29f430a117cb7ee81\");\n",
       "    }\n",
       "    const paths = {\n",
       "      \"vega\": \"https://cdn.jsdelivr.net/npm//vega@5?noext\",\n",
       "      \"vega-lib\": \"https://cdn.jsdelivr.net/npm//vega-lib?noext\",\n",
       "      \"vega-lite\": \"https://cdn.jsdelivr.net/npm//vega-lite@4.8.1?noext\",\n",
       "      \"vega-embed\": \"https://cdn.jsdelivr.net/npm//vega-embed@6?noext\",\n",
       "    };\n",
       "\n",
       "    function loadScript(lib) {\n",
       "      return new Promise(function(resolve, reject) {\n",
       "        var s = document.createElement('script');\n",
       "        s.src = paths[lib];\n",
       "        s.async = true;\n",
       "        s.onload = () => resolve(paths[lib]);\n",
       "        s.onerror = () => reject(`Error loading script: ${paths[lib]}`);\n",
       "        document.getElementsByTagName(\"head\")[0].appendChild(s);\n",
       "      });\n",
       "    }\n",
       "\n",
       "    function showError(err) {\n",
       "      outputDiv.innerHTML = `<div class=\"error\" style=\"color:red;\">${err}</div>`;\n",
       "      throw err;\n",
       "    }\n",
       "\n",
       "    function displayChart(vegaEmbed) {\n",
       "      vegaEmbed(outputDiv, spec, embedOpt)\n",
       "        .catch(err => showError(`Javascript Error: ${err.message}<br>This usually means there's a typo in your chart specification. See the javascript console for the full traceback.`));\n",
       "    }\n",
       "\n",
       "    if(typeof define === \"function\" && define.amd) {\n",
       "      requirejs.config({paths});\n",
       "      require([\"vega-embed\"], displayChart, err => showError(`Error loading script: ${err.message}`));\n",
       "    } else if (typeof vegaEmbed === \"function\") {\n",
       "      displayChart(vegaEmbed);\n",
       "    } else {\n",
       "      loadScript(\"vega\")\n",
       "        .then(() => loadScript(\"vega-lite\"))\n",
       "        .then(() => loadScript(\"vega-embed\"))\n",
       "        .catch(showError)\n",
       "        .then(() => displayChart(vegaEmbed));\n",
       "    }\n",
       "  })({\"config\": {\"view\": {\"height\": 300, \"width\": 400}, \"range\": {\"category\": {\"scheme\": \"dark2\"}}}, \"vconcat\": [{\"hconcat\": [{\"data\": {\"name\": \"data-a3f4bdcc4ee3c322ad195d52474c0096\"}, \"mark\": \"point\", \"encoding\": {\"color\": {\"type\": \"nominal\", \"field\": \"counter\"}, \"shape\": {\"type\": \"nominal\", \"field\": \"kmer_size\"}, \"x\": {\"type\": \"quantitative\", \"field\": \"time\", \"scale\": {\"domain\": [152.0, 11997.12]}, \"title\": \"\"}, \"y\": {\"type\": \"quantitative\", \"field\": \"memory\", \"scale\": {\"domain\": [829.53, 54390.01]}, \"title\": \"\"}}, \"title\": \"metagenome\"}, {\"data\": {\"name\": \"data-725ee42f184b0bd9e95a73614e3fb81b\"}, \"mark\": \"point\", \"encoding\": {\"color\": {\"type\": \"nominal\", \"field\": \"counter\"}, \"shape\": {\"type\": \"nominal\", \"field\": \"kmer_size\"}, \"x\": {\"type\": \"quantitative\", \"field\": \"time\", \"scale\": {\"domain\": [29.08, 2475.05]}, \"title\": \"\"}, \"y\": {\"type\": \"quantitative\", \"field\": \"memory\", \"scale\": {\"domain\": [296.02, 131553.12]}, \"title\": \"\"}}, \"title\": \"yeast\"}, {\"data\": {\"name\": \"data-4002d5659e0b2ace832c136c5be02209\"}, \"mark\": \"point\", \"encoding\": {\"color\": {\"type\": \"nominal\", \"field\": \"counter\"}, \"shape\": {\"type\": \"nominal\", \"field\": \"kmer_size\"}, \"x\": {\"type\": \"quantitative\", \"field\": \"time\", \"scale\": {\"domain\": [11.32, 1110.04]}, \"title\": \"\"}, \"y\": {\"type\": \"quantitative\", \"field\": \"memory\", \"scale\": {\"domain\": [173.1, 128931.77]}, \"title\": \"\"}}, \"title\": \"bacteria\"}, {\"data\": {\"name\": \"data-42fe1125d949e1485312fac0387c5ec3\"}, \"mark\": \"point\", \"encoding\": {\"color\": {\"type\": \"nominal\", \"field\": \"counter\"}, \"shape\": {\"type\": \"nominal\", \"field\": \"kmer_size\"}, \"x\": {\"type\": \"quantitative\", \"field\": \"time\", \"scale\": {\"domain\": [6.78, 12602.86]}, \"title\": \"\"}, \"y\": {\"type\": \"quantitative\", \"field\": \"memory\", \"scale\": {\"domain\": [57.87, 131232.58]}, \"title\": \"\"}}, \"title\": \"bacteria5\"}]}, {\"data\": {\"name\": \"data-62172e0c64c6cf1ee56197f26a9b7e09\"}, \"mark\": \"point\", \"encoding\": {\"color\": {\"type\": \"nominal\", \"field\": \"counter\"}, \"shape\": {\"type\": \"nominal\", \"field\": \"kmer_size\"}, \"x\": {\"type\": \"quantitative\", \"field\": \"time\", \"scale\": {\"domain\": [12.15, 166.46]}, \"title\": \"\"}, \"y\": {\"type\": \"quantitative\", \"field\": \"memory\", \"scale\": {\"domain\": [157.82, 39333.71]}, \"title\": \"\"}}, \"title\": \"bacteria7\"}], \"$schema\": \"https://vega.github.io/schema/vega-lite/v4.8.1.json\", \"datasets\": {\"data-a3f4bdcc4ee3c322ad195d52474c0096\": [{\"counter\": \"pcon\", \"dataset\": \"metagenome\", \"kmer_size\": \"13\", \"time\": 437.4146, \"memory\": 835.82, \"size\": 32125836484}, {\"counter\": \"pcon\", \"dataset\": \"metagenome\", \"kmer_size\": \"15\", \"time\": 164.6621, \"memory\": 1288.88, \"size\": 32125836484}, {\"counter\": \"pcon\", \"dataset\": \"metagenome\", \"kmer_size\": \"17\", \"time\": 803.3465, \"memory\": 8980.9, \"size\": 32125836484}, {\"counter\": \"pcon_cd\", \"dataset\": \"metagenome\", \"kmer_size\": \"13\", \"time\": 152.0714, \"memory\": 829.53, \"size\": 32125836484}, {\"counter\": \"pcon_cd\", \"dataset\": \"metagenome\", \"kmer_size\": \"15\", \"time\": 847.1939, \"memory\": 1316.98, \"size\": 32125836484}, {\"counter\": \"pcon_cd\", \"dataset\": \"metagenome\", \"kmer_size\": \"17\", \"time\": 5780.4018, \"memory\": 8997.67, \"size\": 32125836484}, {\"counter\": \"kmc\", \"dataset\": \"metagenome\", \"kmer_size\": \"13\", \"time\": 156.1974, \"memory\": 7849.74, \"size\": 32125836484}, {\"counter\": \"kmc\", \"dataset\": \"metagenome\", \"kmer_size\": \"15\", \"time\": 477.6149, \"memory\": 51302.77, \"size\": 32125836484}, {\"counter\": \"kmc\", \"dataset\": \"metagenome\", \"kmer_size\": \"17\", \"time\": 741.7068, \"memory\": 49340.24, \"size\": 32125836484}, {\"counter\": \"kmc_cd\", \"dataset\": \"metagenome\", \"kmer_size\": \"13\", \"time\": 152.0099, \"memory\": 7847.74, \"size\": 32125836484}, {\"counter\": \"kmc_cd\", \"dataset\": \"metagenome\", \"kmer_size\": \"15\", \"time\": 978.7984, \"memory\": 54390.01, \"size\": 32125836484}, {\"counter\": \"kmc_cd\", \"dataset\": \"metagenome\", \"kmer_size\": \"17\", \"time\": 1228.0625, \"memory\": 50038.88, \"size\": 32125836484}, {\"counter\": \"kmc_disk\", \"dataset\": \"metagenome\", \"kmer_size\": \"13\", \"time\": 439.9215, \"memory\": 7847.74, \"size\": 32125836484}, {\"counter\": \"kmc_disk\", \"dataset\": \"metagenome\", \"kmer_size\": \"15\", \"time\": 1554.1441, \"memory\": 11528.99, \"size\": 32125836484}, {\"counter\": \"kmc_disk\", \"dataset\": \"metagenome\", \"kmer_size\": \"17\", \"time\": 7508.0837, \"memory\": 11525.27, \"size\": 32125836484}, {\"counter\": \"kmc_disk\", \"dataset\": \"metagenome\", \"kmer_size\": \"19\", \"time\": 5486.3285, \"memory\": 11519.96, \"size\": 32125836484}, {\"counter\": \"kmc_disk_cd\", \"dataset\": \"metagenome\", \"kmer_size\": \"13\", \"time\": 329.898, \"memory\": 7847.75, \"size\": 32125836484}, {\"counter\": \"kmc_disk_cd\", \"dataset\": \"metagenome\", \"kmer_size\": \"15\", \"time\": 8083.4096, \"memory\": 11526.0, \"size\": 32125836484}, {\"counter\": \"kmc_disk_cd\", \"dataset\": \"metagenome\", \"kmer_size\": \"17\", \"time\": 11997.1162, \"memory\": 11520.23, \"size\": 32125836484}, {\"counter\": \"kmc_disk_cd\", \"dataset\": \"metagenome\", \"kmer_size\": \"19\", \"time\": 5967.3492, \"memory\": 11519.2, \"size\": 32125836484}, {\"counter\": \"jellyfish\", \"dataset\": \"metagenome\", \"kmer_size\": \"13\", \"time\": 847.7965, \"memory\": 1578.21, \"size\": 32125836484}, {\"counter\": \"jellyfish\", \"dataset\": \"metagenome\", \"kmer_size\": \"15\", \"time\": 2788.569, \"memory\": 31774.93, \"size\": 32125836484}, {\"counter\": \"jellyfish\", \"dataset\": \"metagenome\", \"kmer_size\": \"17\", \"time\": 2895.8202, \"memory\": 31224.11, \"size\": 32125836484}, {\"counter\": \"jellyfish\", \"dataset\": \"metagenome\", \"kmer_size\": \"19\", \"time\": 848.0539, \"memory\": 39342.26, \"size\": 32125836484}, {\"counter\": \"jellyfish_cd\", \"dataset\": \"metagenome\", \"kmer_size\": \"13\", \"time\": 2245.1936, \"memory\": 1578.21, \"size\": 32125836484}, {\"counter\": \"jellyfish_cd\", \"dataset\": \"metagenome\", \"kmer_size\": \"15\", \"time\": 1960.5237, \"memory\": 31791.66, \"size\": 32125836484}, {\"counter\": \"jellyfish_cd\", \"dataset\": \"metagenome\", \"kmer_size\": \"17\", \"time\": 2656.9643, \"memory\": 31224.12, \"size\": 32125836484}, {\"counter\": \"jellyfish_cd\", \"dataset\": \"metagenome\", \"kmer_size\": \"19\", \"time\": 4067.5443, \"memory\": 39342.26, \"size\": 32125836484}], \"data-725ee42f184b0bd9e95a73614e3fb81b\": [{\"counter\": \"pcon\", \"dataset\": \"yeast\", \"kmer_size\": \"13\", \"time\": 62.7772, \"memory\": 498.73, \"size\": 3500654831}, {\"counter\": \"pcon\", \"dataset\": \"yeast\", \"kmer_size\": \"15\", \"time\": 38.1777, \"memory\": 966.67, \"size\": 3500654831}, {\"counter\": \"pcon\", \"dataset\": \"yeast\", \"kmer_size\": \"17\", \"time\": 126.8959, \"memory\": 8537.9, \"size\": 3500654831}, {\"counter\": \"pcon\", \"dataset\": \"yeast\", \"kmer_size\": \"19\", \"time\": 428.4667, \"memory\": 131553.12, \"size\": 3500654831}, {\"counter\": \"pcon_cd\", \"dataset\": \"yeast\", \"kmer_size\": \"13\", \"time\": 59.5094, \"memory\": 296.03, \"size\": 3500654831}, {\"counter\": \"pcon_cd\", \"dataset\": \"yeast\", \"kmer_size\": \"15\", \"time\": 177.7946, \"memory\": 954.75, \"size\": 3500654831}, {\"counter\": \"pcon_cd\", \"dataset\": \"yeast\", \"kmer_size\": \"17\", \"time\": 2475.0435, \"memory\": 8793.2, \"size\": 3500654831}, {\"counter\": \"kmc\", \"dataset\": \"yeast\", \"kmer_size\": \"13\", \"time\": 29.0855, \"memory\": 5415.25, \"size\": 3500654831}, {\"counter\": \"kmc\", \"dataset\": \"yeast\", \"kmer_size\": \"15\", \"time\": 127.6362, \"memory\": 16101.55, \"size\": 3500654831}, {\"counter\": \"kmc\", \"dataset\": \"yeast\", \"kmer_size\": \"17\", \"time\": 72.6677, \"memory\": 15934.36, \"size\": 3500654831}, {\"counter\": \"kmc\", \"dataset\": \"yeast\", \"kmer_size\": \"19\", \"time\": 130.2671, \"memory\": 15576.83, \"size\": 3500654831}, {\"counter\": \"kmc_cd\", \"dataset\": \"yeast\", \"kmer_size\": \"13\", \"time\": 84.7001, \"memory\": 5445.64, \"size\": 3500654831}, {\"counter\": \"kmc_cd\", \"dataset\": \"yeast\", \"kmer_size\": \"15\", \"time\": 89.8485, \"memory\": 16109.96, \"size\": 3500654831}, {\"counter\": \"kmc_cd\", \"dataset\": \"yeast\", \"kmer_size\": \"17\", \"time\": 83.0248, \"memory\": 11487.06, \"size\": 3500654831}, {\"counter\": \"kmc_cd\", \"dataset\": \"yeast\", \"kmer_size\": \"19\", \"time\": 144.8601, \"memory\": 15575.79, \"size\": 3500654831}, {\"counter\": \"kmc_disk\", \"dataset\": \"yeast\", \"kmer_size\": \"13\", \"time\": 1108.51, \"memory\": 4287.57, \"size\": 3500654831}, {\"counter\": \"kmc_disk\", \"dataset\": \"yeast\", \"kmer_size\": \"15\", \"time\": 349.1074, \"memory\": 11487.21, \"size\": 3500654831}, {\"counter\": \"kmc_disk\", \"dataset\": \"yeast\", \"kmer_size\": \"17\", \"time\": 825.3033, \"memory\": 11487.79, \"size\": 3500654831}, {\"counter\": \"kmc_disk\", \"dataset\": \"yeast\", \"kmer_size\": \"19\", \"time\": 102.4002, \"memory\": 11485.18, \"size\": 3500654831}, {\"counter\": \"kmc_disk_cd\", \"dataset\": \"yeast\", \"kmer_size\": \"13\", \"time\": 340.8575, \"memory\": 4904.9, \"size\": 3500654831}, {\"counter\": \"kmc_disk_cd\", \"dataset\": \"yeast\", \"kmer_size\": \"15\", \"time\": 72.8284, \"memory\": 11488.32, \"size\": 3500654831}, {\"counter\": \"kmc_disk_cd\", \"dataset\": \"yeast\", \"kmer_size\": \"17\", \"time\": 906.5116, \"memory\": 11488.79, \"size\": 3500654831}, {\"counter\": \"jellyfish\", \"dataset\": \"yeast\", \"kmer_size\": \"13\", \"time\": 147.9879, \"memory\": 2666.69, \"size\": 3500654831}, {\"counter\": \"jellyfish\", \"dataset\": \"yeast\", \"kmer_size\": \"15\", \"time\": 311.7491, \"memory\": 42624.45, \"size\": 3500654831}, {\"counter\": \"jellyfish\", \"dataset\": \"yeast\", \"kmer_size\": \"17\", \"time\": 127.2167, \"memory\": 31221.22, \"size\": 3500654831}, {\"counter\": \"jellyfish\", \"dataset\": \"yeast\", \"kmer_size\": \"19\", \"time\": 127.4616, \"memory\": 39335.33, \"size\": 3500654831}, {\"counter\": \"jellyfish_cd\", \"dataset\": \"yeast\", \"kmer_size\": \"13\", \"time\": 248.5686, \"memory\": 1989.77, \"size\": 3500654831}, {\"counter\": \"jellyfish_cd\", \"dataset\": \"yeast\", \"kmer_size\": \"15\", \"time\": 382.8168, \"memory\": 38865.38, \"size\": 3500654831}, {\"counter\": \"jellyfish_cd\", \"dataset\": \"yeast\", \"kmer_size\": \"17\", \"time\": 353.3171, \"memory\": 31221.24, \"size\": 3500654831}], \"data-4002d5659e0b2ace832c136c5be02209\": [{\"counter\": \"pcon\", \"dataset\": \"bacteria\", \"kmer_size\": \"13\", \"time\": 23.2677, \"memory\": 173.1, \"size\": 591394705}, {\"counter\": \"pcon\", \"dataset\": \"bacteria\", \"kmer_size\": \"17\", \"time\": 27.8702, \"memory\": 8360.38, \"size\": 591394705}, {\"counter\": \"pcon\", \"dataset\": \"bacteria\", \"kmer_size\": \"19\", \"time\": 150.7886, \"memory\": 128931.77, \"size\": 591394705}, {\"counter\": \"pcon_cd\", \"dataset\": \"bacteria\", \"kmer_size\": \"13\", \"time\": 34.7487, \"memory\": 183.06, \"size\": 591394705}, {\"counter\": \"pcon_cd\", \"dataset\": \"bacteria\", \"kmer_size\": \"15\", \"time\": 89.9099, \"memory\": 687.33, \"size\": 591394705}, {\"counter\": \"pcon_cd\", \"dataset\": \"bacteria\", \"kmer_size\": \"17\", \"time\": 1110.0305, \"memory\": 8369.32, \"size\": 591394705}, {\"counter\": \"kmc\", \"dataset\": \"bacteria\", \"kmer_size\": \"13\", \"time\": 19.0204, \"memory\": 4623.5, \"size\": 591394705}, {\"counter\": \"kmc\", \"dataset\": \"bacteria\", \"kmer_size\": \"15\", \"time\": 17.9149, \"memory\": 6068.06, \"size\": 591394705}, {\"counter\": \"kmc\", \"dataset\": \"bacteria\", \"kmer_size\": \"17\", \"time\": 17.8283, \"memory\": 5829.19, \"size\": 591394705}, {\"counter\": \"kmc\", \"dataset\": \"bacteria\", \"kmer_size\": \"19\", \"time\": 27.7259, \"memory\": 820.43, \"size\": 591394705}, {\"counter\": \"kmc_cd\", \"dataset\": \"bacteria\", \"kmer_size\": \"13\", \"time\": 30.3287, \"memory\": 4386.21, \"size\": 591394705}, {\"counter\": \"kmc_cd\", \"dataset\": \"bacteria\", \"kmer_size\": \"15\", \"time\": 29.4815, \"memory\": 6068.53, \"size\": 591394705}, {\"counter\": \"kmc_cd\", \"dataset\": \"bacteria\", \"kmer_size\": \"17\", \"time\": 26.4404, \"memory\": 5840.15, \"size\": 591394705}, {\"counter\": \"kmc_cd\", \"dataset\": \"bacteria\", \"kmer_size\": \"19\", \"time\": 20.35, \"memory\": 5596.23, \"size\": 591394705}, {\"counter\": \"kmc_disk\", \"dataset\": \"bacteria\", \"kmer_size\": \"13\", \"time\": 22.7523, \"memory\": 4631.7, \"size\": 591394705}, {\"counter\": \"kmc_disk\", \"dataset\": \"bacteria\", \"kmer_size\": \"15\", \"time\": 33.8546, \"memory\": 5233.94, \"size\": 591394705}, {\"counter\": \"kmc_disk\", \"dataset\": \"bacteria\", \"kmer_size\": \"17\", \"time\": 17.2407, \"memory\": 5053.61, \"size\": 591394705}, {\"counter\": \"kmc_disk\", \"dataset\": \"bacteria\", \"kmer_size\": \"19\", \"time\": 32.0188, \"memory\": 1830.04, \"size\": 591394705}, {\"counter\": \"kmc_disk_cd\", \"dataset\": \"bacteria\", \"kmer_size\": \"13\", \"time\": 30.5238, \"memory\": 4572.9, \"size\": 591394705}, {\"counter\": \"kmc_disk_cd\", \"dataset\": \"bacteria\", \"kmer_size\": \"17\", \"time\": 20.5447, \"memory\": 5056.52, \"size\": 591394705}, {\"counter\": \"kmc_disk_cd\", \"dataset\": \"bacteria\", \"kmer_size\": \"19\", \"time\": 42.6292, \"memory\": 2106.38, \"size\": 591394705}, {\"counter\": \"jellyfish\", \"dataset\": \"bacteria\", \"kmer_size\": \"13\", \"time\": 23.8856, \"memory\": 691.18, \"size\": 591394705}, {\"counter\": \"jellyfish\", \"dataset\": \"bacteria\", \"kmer_size\": \"15\", \"time\": 11.3239, \"memory\": 1970.44, \"size\": 591394705}, {\"counter\": \"jellyfish\", \"dataset\": \"bacteria\", \"kmer_size\": \"17\", \"time\": 60.3432, \"memory\": 31220.8, \"size\": 591394705}, {\"counter\": \"jellyfish\", \"dataset\": \"bacteria\", \"kmer_size\": \"19\", \"time\": 47.8346, \"memory\": 39334.84, \"size\": 591394705}, {\"counter\": \"jellyfish_cd\", \"dataset\": \"bacteria\", \"kmer_size\": \"13\", \"time\": 46.1623, \"memory\": 391.18, \"size\": 591394705}, {\"counter\": \"jellyfish_cd\", \"dataset\": \"bacteria\", \"kmer_size\": \"15\", \"time\": 75.9634, \"memory\": 1970.42, \"size\": 591394705}, {\"counter\": \"jellyfish_cd\", \"dataset\": \"bacteria\", \"kmer_size\": \"17\", \"time\": 220.621, \"memory\": 31220.79, \"size\": 591394705}, {\"counter\": \"jellyfish_cd\", \"dataset\": \"bacteria\", \"kmer_size\": \"19\", \"time\": 253.1918, \"memory\": 39334.81, \"size\": 591394705}], \"data-42fe1125d949e1485312fac0387c5ec3\": [{\"counter\": \"pcon\", \"dataset\": \"bacteria5\", \"kmer_size\": \"13\", \"time\": 21.2231, \"memory\": 152.0, \"size\": 253770734}, {\"counter\": \"pcon\", \"dataset\": \"bacteria5\", \"kmer_size\": \"15\", \"time\": 11.3877, \"memory\": 669.25, \"size\": 253770734}, {\"counter\": \"pcon\", \"dataset\": \"bacteria5\", \"kmer_size\": \"17\", \"time\": 23.7574, \"memory\": 8342.94, \"size\": 253770734}, {\"counter\": \"pcon\", \"dataset\": \"bacteria5\", \"kmer_size\": \"19\", \"time\": 172.7556, \"memory\": 131223.63, \"size\": 253770734}, {\"counter\": \"pcon_cd\", \"dataset\": \"bacteria5\", \"kmer_size\": \"13\", \"time\": 89.8181, \"memory\": 123.34, \"size\": 253770734}, {\"counter\": \"pcon_cd\", \"dataset\": \"bacteria5\", \"kmer_size\": \"15\", \"time\": 118.5755, \"memory\": 515.36, \"size\": 253770734}, {\"counter\": \"pcon_cd\", \"dataset\": \"bacteria5\", \"kmer_size\": \"17\", \"time\": 1611.1911, \"memory\": 8323.61, \"size\": 253770734}, {\"counter\": \"pcon_cd\", \"dataset\": \"bacteria5\", \"kmer_size\": \"19\", \"time\": 12602.8593, \"memory\": 131232.58, \"size\": 253770734}, {\"counter\": \"kmc\", \"dataset\": \"bacteria5\", \"kmer_size\": \"13\", \"time\": 20.7541, \"memory\": 4276.84, \"size\": 253770734}, {\"counter\": \"kmc\", \"dataset\": \"bacteria5\", \"kmer_size\": \"15\", \"time\": 11.3034, \"memory\": 2600.98, \"size\": 253770734}, {\"counter\": \"kmc\", \"dataset\": \"bacteria5\", \"kmer_size\": \"17\", \"time\": 16.3888, \"memory\": 2491.1, \"size\": 253770734}, {\"counter\": \"kmc\", \"dataset\": \"bacteria5\", \"kmer_size\": \"19\", \"time\": 6.8941, \"memory\": 2394.59, \"size\": 253770734}, {\"counter\": \"kmc_cd\", \"dataset\": \"bacteria5\", \"kmer_size\": \"13\", \"time\": 13.6874, \"memory\": 4360.61, \"size\": 253770734}, {\"counter\": \"kmc_cd\", \"dataset\": \"bacteria5\", \"kmer_size\": \"15\", \"time\": 15.5326, \"memory\": 2602.27, \"size\": 253770734}, {\"counter\": \"kmc_cd\", \"dataset\": \"bacteria5\", \"kmer_size\": \"17\", \"time\": 17.4057, \"memory\": 2503.34, \"size\": 253770734}, {\"counter\": \"kmc_cd\", \"dataset\": \"bacteria5\", \"kmer_size\": \"19\", \"time\": 11.2236, \"memory\": 2401.09, \"size\": 253770734}, {\"counter\": \"kmc_disk\", \"dataset\": \"bacteria5\", \"kmer_size\": \"13\", \"time\": 18.9493, \"memory\": 4362.0, \"size\": 253770734}, {\"counter\": \"kmc_disk\", \"dataset\": \"bacteria5\", \"kmer_size\": \"17\", \"time\": 30.4084, \"memory\": 57.87, \"size\": 253770734}, {\"counter\": \"kmc_disk_cd\", \"dataset\": \"bacteria5\", \"kmer_size\": \"13\", \"time\": 25.7771, \"memory\": 4362.84, \"size\": 253770734}, {\"counter\": \"kmc_disk_cd\", \"dataset\": \"bacteria5\", \"kmer_size\": \"15\", \"time\": 40.661, \"memory\": 552.18, \"size\": 253770734}, {\"counter\": \"kmc_disk_cd\", \"dataset\": \"bacteria5\", \"kmer_size\": \"17\", \"time\": 21.9382, \"memory\": 2167.43, \"size\": 253770734}, {\"counter\": \"jellyfish\", \"dataset\": \"bacteria5\", \"kmer_size\": \"13\", \"time\": 6.7838, \"memory\": 270.58, \"size\": 253770734}, {\"counter\": \"jellyfish\", \"dataset\": \"bacteria5\", \"kmer_size\": \"15\", \"time\": 18.4836, \"memory\": 1965.09, \"size\": 253770734}, {\"counter\": \"jellyfish\", \"dataset\": \"bacteria5\", \"kmer_size\": \"17\", \"time\": 40.3321, \"memory\": 31219.73, \"size\": 253770734}, {\"counter\": \"jellyfish\", \"dataset\": \"bacteria5\", \"kmer_size\": \"19\", \"time\": 30.4626, \"memory\": 39334.47, \"size\": 253770734}, {\"counter\": \"jellyfish_cd\", \"dataset\": \"bacteria5\", \"kmer_size\": \"13\", \"time\": 37.9216, \"memory\": 125.75, \"size\": 253770734}, {\"counter\": \"jellyfish_cd\", \"dataset\": \"bacteria5\", \"kmer_size\": \"15\", \"time\": 40.2693, \"memory\": 1966.72, \"size\": 253770734}, {\"counter\": \"jellyfish_cd\", \"dataset\": \"bacteria5\", \"kmer_size\": \"17\", \"time\": 96.7943, \"memory\": 31220.48, \"size\": 253770734}, {\"counter\": \"jellyfish_cd\", \"dataset\": \"bacteria5\", \"kmer_size\": \"19\", \"time\": 72.1206, \"memory\": 39334.44, \"size\": 253770734}], \"data-62172e0c64c6cf1ee56197f26a9b7e09\": [{\"counter\": \"pcon\", \"dataset\": \"bacteria7\", \"kmer_size\": \"13\", \"time\": 21.3381, \"memory\": 157.82, \"size\": 606228083}, {\"counter\": \"pcon\", \"dataset\": \"bacteria7\", \"kmer_size\": \"17\", \"time\": 36.1296, \"memory\": 8351.57, \"size\": 606228083}, {\"counter\": \"pcon_cd\", \"dataset\": \"bacteria7\", \"kmer_size\": \"13\", \"time\": 27.8882, \"memory\": 177.41, \"size\": 606228083}, {\"counter\": \"kmc\", \"dataset\": \"bacteria7\", \"kmer_size\": \"13\", \"time\": 16.239, \"memory\": 4746.31, \"size\": 606228083}, {\"counter\": \"kmc\", \"dataset\": \"bacteria7\", \"kmer_size\": \"15\", \"time\": 22.4141, \"memory\": 2019.66, \"size\": 606228083}, {\"counter\": \"kmc\", \"dataset\": \"bacteria7\", \"kmer_size\": \"17\", \"time\": 26.4899, \"memory\": 840.87, \"size\": 606228083}, {\"counter\": \"kmc\", \"dataset\": \"bacteria7\", \"kmer_size\": \"19\", \"time\": 12.1548, \"memory\": 5611.78, \"size\": 606228083}, {\"counter\": \"kmc_cd\", \"dataset\": \"bacteria7\", \"kmer_size\": \"13\", \"time\": 29.2365, \"memory\": 4544.77, \"size\": 606228083}, {\"counter\": \"kmc_cd\", \"dataset\": \"bacteria7\", \"kmer_size\": \"15\", \"time\": 22.1636, \"memory\": 6081.25, \"size\": 606228083}, {\"counter\": \"kmc_cd\", \"dataset\": \"bacteria7\", \"kmer_size\": \"17\", \"time\": 19.729, \"memory\": 5853.61, \"size\": 606228083}, {\"counter\": \"kmc_cd\", \"dataset\": \"bacteria7\", \"kmer_size\": \"19\", \"time\": 24.8023, \"memory\": 2217.66, \"size\": 606228083}, {\"counter\": \"kmc_disk\", \"dataset\": \"bacteria7\", \"kmer_size\": \"19\", \"time\": 36.3293, \"memory\": 306.55, \"size\": 606228083}, {\"counter\": \"kmc_disk_cd\", \"dataset\": \"bacteria7\", \"kmer_size\": \"19\", \"time\": 43.6966, \"memory\": 4901.33, \"size\": 606228083}, {\"counter\": \"jellyfish\", \"dataset\": \"bacteria7\", \"kmer_size\": \"13\", \"time\": 28.2276, \"memory\": 253.87, \"size\": 606228083}, {\"counter\": \"jellyfish\", \"dataset\": \"bacteria7\", \"kmer_size\": \"15\", \"time\": 41.0492, \"memory\": 1954.12, \"size\": 606228083}, {\"counter\": \"jellyfish\", \"dataset\": \"bacteria7\", \"kmer_size\": \"17\", \"time\": 34.6544, \"memory\": 31219.62, \"size\": 606228083}, {\"counter\": \"jellyfish\", \"dataset\": \"bacteria7\", \"kmer_size\": \"19\", \"time\": 38.6056, \"memory\": 39333.71, \"size\": 606228083}, {\"counter\": \"jellyfish_cd\", \"dataset\": \"bacteria7\", \"kmer_size\": \"13\", \"time\": 36.8775, \"memory\": 253.8, \"size\": 606228083}, {\"counter\": \"jellyfish_cd\", \"dataset\": \"bacteria7\", \"kmer_size\": \"15\", \"time\": 80.6817, \"memory\": 1954.42, \"size\": 606228083}, {\"counter\": \"jellyfish_cd\", \"dataset\": \"bacteria7\", \"kmer_size\": \"17\", \"time\": 166.4591, \"memory\": 31220.59, \"size\": 606228083}, {\"counter\": \"jellyfish_cd\", \"dataset\": \"bacteria7\", \"kmer_size\": \"19\", \"time\": 163.3012, \"memory\": 39333.71, \"size\": 606228083}]}}, {\"mode\": \"vega-lite\"});\n",
       "</script>"
      ],
      "text/plain": [
       "alt.VConcatChart(...)"
      ]
     },
     "execution_count": 22,
     "metadata": {},
     "output_type": "execute_result"
    }
   ],
   "source": [
    "import cocktail\n",
    "import cocktail.count\n",
    "import cocktail.utils\n",
    "\n",
    "df = cocktail.count.dataframe()\n",
    "df = df.dropna()\n",
    "print(df)\n",
    "\n",
    "all_fig = list()\n",
    "for dataset in set(df.dataset):\n",
    "    all_fig.append(cocktail.utils.group_scatter(df[df.dataset == dataset], \"time\", \"memory\", color=\"counter\", shape=\"kmer_size\", title=dataset))\n",
    "\n",
    "figs = cocktail.utils.fig_layout(all_fig, 4)\n",
    "#df = df[df.counter != \"jellyfish\"]\n",
    "#df = df[df.kmer_size == \"19\"]\n",
    "#fig = cocktail.utils.group_scatter(df, \"size\", \"time\", color=\"counter\")\n",
    "\n",
    "#print(df.to_csv(\"tmp.csv\"))\n",
    "#line = fig.transform_regression('size', 'time', groupby=[\"counter\"])\n",
    "#reg = fig.transform_regression('size', 'time', groupby=[\"counter:N\"], params=True)\n",
    "\n",
    "#print(reg.encoding.to_dict())\n",
    "\n",
    "#(fig + line.mark_line()) + reg\n",
    "figs"
   ]
  },
  {
   "cell_type": "markdown",
   "metadata": {},
   "source": [
    "## Filter\n",
    "\n",
    "Evaluate effect of kmerf on dataset and on assembly. With different k and different ratio."
   ]
  },
  {
   "cell_type": "code",
   "execution_count": null,
   "metadata": {},
   "outputs": [],
   "source": [
    "!snakemake --cores $SNAKEMAKE_CORE --use-conda -p filter_all -n"
   ]
  },
  {
   "cell_type": "markdown",
   "metadata": {},
   "source": [
    "### Benchmark"
   ]
  },
  {
   "cell_type": "code",
   "execution_count": null,
   "metadata": {
    "scrolled": false
   },
   "outputs": [],
   "source": [
    "import cocktail\n",
    "import cocktail.utils\n",
    "import cocktail.filter\n",
    "\n",
    "df = cocktail.filter.dataframe_bench()\n",
    "\n",
    "all_fig = list()\n",
    "for dataset in set(df.dataset):\n",
    "    all_fig.append(cocktail.utils.group_scatter(df[df.dataset == dataset], \"time\", \"memory\", \"filter\", None, dataset))\n",
    "\n",
    "fig = ((all_fig[0] | all_fig[1]) & (all_fig[2] | all_fig[3])) & all_fig[4]\n",
    "\n",
    "fig"
   ]
  },
  {
   "cell_type": "markdown",
   "metadata": {},
   "source": [
    "### Error rate"
   ]
  },
  {
   "cell_type": "code",
   "execution_count": null,
   "metadata": {},
   "outputs": [],
   "source": [
    "import cocktail\n",
    "import cocktail.utils\n",
    "import cocktail.filter\n",
    "\n",
    "df = cocktail.filter.dataframe_stats()\n",
    "\n",
    "df.raw = df.raw * 100\n",
    "df.corrected = df.corrected * 100\n",
    "\n",
    "fig_error = cocktail.utils.group_line(df, \"raw\", \"corrected\", color=\"filter\", point=True,\n",
    "                                    xtitle=\"Original error rate in %\", ytitle=\"Corrected error rate in %\")\n",
    "\n",
    "fig_error"
   ]
  },
  {
   "cell_type": "markdown",
   "metadata": {},
   "source": [
    "### Read quality"
   ]
  },
  {
   "cell_type": "code",
   "execution_count": null,
   "metadata": {
    "scrolled": false
   },
   "outputs": [],
   "source": [
    "import pandas\n",
    "import cocktail\n",
    "import cocktail.filter\n",
    "\n",
    "df = cocktail.filter.get_id_data(\"data/yeast/reads.len_id.tsv\", \"yeast\", \"raw\", \"\")\n",
    "cocktail.filter.figure_len_identity(df)"
   ]
  },
  {
   "cell_type": "code",
   "execution_count": null,
   "metadata": {},
   "outputs": [],
   "source": [
    "import pandas\n",
    "import cocktail\n",
    "import cocktail.filter\n",
    "\n",
    "df = cocktail.filter.identity_data(\"yeast\", \"kmrf\", \"k15.r70\")\n",
    "cocktail.filter.figure_len_identity(df)"
   ]
  },
  {
   "cell_type": "code",
   "execution_count": null,
   "metadata": {
    "scrolled": false
   },
   "outputs": [],
   "source": [
    "import pandas\n",
    "import cocktail\n",
    "import cocktail.filter\n",
    "\n",
    "cocktail.filter.figure_filtred(\"yeast\", \"kmrf\", \"k15.r70\")"
   ]
  },
  {
   "cell_type": "markdown",
   "metadata": {},
   "source": [
    "### Assembly quality"
   ]
  },
  {
   "cell_type": "markdown",
   "metadata": {},
   "source": [
    "## Correction\n",
    "\n",
    "Compare br (with k in range(13, 19, 2)) against canu correction module (2.0), consent and necat on all dataset."
   ]
  },
  {
   "cell_type": "code",
   "execution_count": null,
   "metadata": {},
   "outputs": [],
   "source": [
    "!snakemake --cores $SNAKEMAKE_CORE --use-conda -p correct_all -n"
   ]
  },
  {
   "cell_type": "markdown",
   "metadata": {},
   "source": [
    "### Benchmark"
   ]
  },
  {
   "cell_type": "code",
   "execution_count": null,
   "metadata": {
    "scrolled": false
   },
   "outputs": [],
   "source": [
    "import pandas\n",
    "import cocktail\n",
    "import cocktail.correct\n",
    "import cocktail.utils\n",
    "\n",
    "df = cocktail.correct.dataframe_bench()\n",
    "\n",
    "#df = df[df.corrector != \"br_k13\"]\n",
    "#df = df[df.corrector != \"br_k15\"]\n",
    "#df = df[df.corrector != \"br_k17\"]\n",
    "\n",
    "#df = df.replace({\"br_k19\": \"br\"})\n",
    "\n",
    "fig_time = cocktail.utils.group_line(df, \"size\", \"time\", color=\"corrector\", point=True,\n",
    "                                    xtitle=\"Reads file size in Mb\", ytitle=\"Wall time in second\")\n",
    "fig_mem = cocktail.utils.group_line(df, \"size\", \"memory\", color=\"corrector\", point=True,\n",
    "                                    xtitle=\"Reads file size in Mb\", ytitle=\"Memory peak in Mb\")\n",
    "\n",
    "\n",
    "fig_time | fig_mem"
   ]
  },
  {
   "cell_type": "markdown",
   "metadata": {},
   "source": [
    "### Error rate"
   ]
  },
  {
   "cell_type": "code",
   "execution_count": null,
   "metadata": {},
   "outputs": [],
   "source": [
    "import pandas\n",
    "import cocktail\n",
    "import cocktail.correct\n",
    "import cocktail.utils\n",
    "\n",
    "df = cocktail.correct.dataframe_stats()\n",
    "\n",
    "#df = df[df.corrector != \"br_k13\"]\n",
    "#df = df[df.corrector != \"br_k15\"]\n",
    "#df = df[df.corrector != \"br_k17\"]\n",
    "\n",
    "#df = df.replace({\"br_k19\": \"br\"})\n",
    "df.raw = df.raw * 100\n",
    "df.corrected = df.corrected * 100\n",
    "\n",
    "fig_error = cocktail.utils.group_line(df, \"raw\", \"corrected\", color=\"corrector\", point=True,\n",
    "                                    xtitle=\"Original error rate in %\", ytitle=\"Corrected error rate in %\")\n",
    "\n",
    "fig_error"
   ]
  },
  {
   "cell_type": "markdown",
   "metadata": {},
   "source": [
    "### Recall & Precision"
   ]
  },
  {
   "cell_type": "code",
   "execution_count": null,
   "metadata": {},
   "outputs": [],
   "source": [
    "import cocktail\n",
    "\n",
    "df = cocktail.correct.dataframe_pr()\n",
    "df = df[df.dataset == \"bacteria\"]\n",
    "\n",
    "cocktail.utils.group_scatter(df, \"precision\", \"recall\", \"corrector\")"
   ]
  },
  {
   "cell_type": "code",
   "execution_count": null,
   "metadata": {},
   "outputs": [],
   "source": [
    "import cocktail\n",
    "\n",
    "df = cocktail.correct.dataframe_pr()\n",
    "df = df[df.dataset == \"yeast\"]\n",
    "\n",
    "cocktail.utils.group_scatter(df, \"precision\", \"recall\", \"corrector\")"
   ]
  },
  {
   "cell_type": "code",
   "execution_count": null,
   "metadata": {},
   "outputs": [],
   "source": [
    "import cocktail\n",
    "\n",
    "df = cocktail.correct.dataframe_pr()\n",
    "df = df[df.dataset == \"metagenome\"]\n",
    "\n",
    "cocktail.utils.group_scatter(df, \"precision\", \"recall\", \"corrector\")"
   ]
  },
  {
   "cell_type": "markdown",
   "metadata": {},
   "source": [
    "### Precision\n",
    "\n",
    "#### Simulate\n",
    "\n",
    "#### Real"
   ]
  },
  {
   "cell_type": "markdown",
   "metadata": {},
   "source": [
    "### Effect of coverage\n",
    "\n",
    "One dataset ? br only ?"
   ]
  },
  {
   "cell_type": "markdown",
   "metadata": {},
   "source": [
    "### Dipolid dataset"
   ]
  },
  {
   "cell_type": "markdown",
   "metadata": {},
   "source": [
    "## Polish\n",
    "\n",
    "Effect of polish on miniasm assembly on all dataset mode (with k in range (13, 19, 2) and abundance in range(10, 30))"
   ]
  },
  {
   "cell_type": "code",
   "execution_count": null,
   "metadata": {},
   "outputs": [],
   "source": [
    "!snakemake --cores $SNAKEMAKE_CORE --use-conda -p polish_all -n"
   ]
  },
  {
   "cell_type": "markdown",
   "metadata": {},
   "source": [
    "### Quast result"
   ]
  }
 ],
 "metadata": {
  "kernelspec": {
   "display_name": "Python 3",
   "language": "python",
   "name": "python3"
  },
  "language_info": {
   "codemirror_mode": {
    "name": "ipython",
    "version": 3
   },
   "file_extension": ".py",
   "mimetype": "text/x-python",
   "name": "python",
   "nbconvert_exporter": "python",
   "pygments_lexer": "ipython3",
   "version": "3.8.6"
  }
 },
 "nbformat": 4,
 "nbformat_minor": 2
}
