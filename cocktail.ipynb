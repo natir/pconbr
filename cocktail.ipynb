{
 "cells": [
  {
   "cell_type": "code",
   "execution_count": null,
   "metadata": {},
   "outputs": [],
   "source": [
    "# Some setup\n",
    "%load_ext autoreload\n",
    "\n",
    "%autoreload 2\n",
    "\n",
    "import altair\n",
    "altair.data_transformers.disable_max_rows()\n",
    "\n",
    "def custom_theme():\n",
    "    return {\n",
    "        'config': {\n",
    "            'view': {\n",
    "                'height': 300,\n",
    "                'width': 400,\n",
    "            },\n",
    "            'range': {\n",
    "                'category': {'scheme':'dark2'}\n",
    "            }\n",
    "        }\n",
    "    }\n",
    "\n",
    "altair.themes.register('custom_theme', custom_theme)\n",
    "\n",
    "# enable the newly registered theme\n",
    "altair.themes.enable('custom_theme')"
   ]
  },
  {
   "cell_type": "markdown",
   "metadata": {},
   "source": [
    "# Code name: Cocktail\n",
    "\n",
    "A kmer tools box to use small kmer on long-reads.\n",
    "\n",
    "- count kmer: pcon\n",
    "- filter reads: kmerf\n",
    "- correct reads: br\n",
    "- polish assemblies: br"
   ]
  },
  {
   "cell_type": "markdown",
   "metadata": {},
   "source": [
    "## Parameter\n",
    "\n",
    "Some global variable usefull in this notebook don't hesitate to set it "
   ]
  },
  {
   "cell_type": "code",
   "execution_count": null,
   "metadata": {},
   "outputs": [],
   "source": [
    "SNAKEMAKE_CORE=8"
   ]
  },
  {
   "cell_type": "markdown",
   "metadata": {},
   "source": [
    "## Dataset\n",
    "\n",
    "### References\n",
    "\n",
    "| dataset         | species            | info                          | genome size | \n",
    "|:----------------|:-------------------|:------------------------------|------------:|\n",
    "| bacteria        | E. coli str. K-12 substr. MG1655 | NC_000913.3                   |      4.6 Mb |\n",
    "| yeast           | S. cerevisiae            | NC_001133                     |     12.1Mb |\n",
    "| metagenome      | Mock community           | [pacbio assembly](https://lomanlab.github.io/mockcommunity/)       |       42.1Mb |\n",
    "\n",
    "\n",
    "\n",
    "### Reads\n",
    "\n",
    "| dataset         | info           | # bases (Gb) | coverage    | error rate |\n",
    "|:----------------|:---------------|-------------:|------------:|-----------:|\n",
    "| bacteria        | SRR10950300    |       588    |        126x |       14 % |\n",
    "| bacteria5       | TODO           |       250    |         54x |        6 % |\n",
    "| bacteria7       | TODO           |       591    |        127x |        7 % |\n",
    "| yeast           | Genoscope      |       34,474 |        283x |        8 % |\n",
    "| metagenome      | [R10 Native “3 Peaks” Data Release (2019-05-24)](https://lomanlab.github.io/mockcommunity/r10.html) |   30,909 | 733x | 10 %|\n"
   ]
  },
  {
   "cell_type": "markdown",
   "metadata": {},
   "source": [
    "## Prepare dataset"
   ]
  },
  {
   "cell_type": "code",
   "execution_count": null,
   "metadata": {},
   "outputs": [],
   "source": [
    "!snakemake --cores $SNAKEMAKE_CORE --use-conda -p data_all -n"
   ]
  },
  {
   "cell_type": "code",
   "execution_count": null,
   "metadata": {},
   "outputs": [],
   "source": [
    "import cocktail\n",
    "import cocktail.kmer_spectrum\n",
    "\n",
    "df = cocktail.kmer_spectrum.get_kmer_spectrum(\"bacteria5\", 15)"
   ]
  },
  {
   "cell_type": "code",
   "execution_count": null,
   "metadata": {},
   "outputs": [],
   "source": [
    "df2 = df\n",
    "df2 = df2[df2.count != 0]\n",
    "df2 = df2[df2.type != \"all\"]\n",
    "df2 = df2.replace(\"true\", \"reference\")\n",
    "df2 = df2.replace(\"false\", \"erroneous\")\n",
    "\n",
    "cocktail.kmer_spectrum.figure(df2)"
   ]
  },
  {
   "cell_type": "markdown",
   "metadata": {},
   "source": [
    "## Count\n",
    "\n",
    "Compare pcon against kmc (3.1.1) and jellyfish (2.2.10) k in range(13, 19, 2)), on all dataset."
   ]
  },
  {
   "cell_type": "code",
   "execution_count": null,
   "metadata": {},
   "outputs": [],
   "source": [
    "!snakemake --cores $SNAKEMAKE_CORE --use-conda -p count_all -n"
   ]
  },
  {
   "cell_type": "markdown",
   "metadata": {},
   "source": [
    "### Benchmark"
   ]
  },
  {
   "cell_type": "code",
   "execution_count": null,
   "metadata": {
    "scrolled": false
   },
   "outputs": [],
   "source": [
    "import cocktail\n",
    "import cocktail.count\n",
    "import cocktail.utils\n",
    "\n",
    "df = cocktail.count.dataframe()\n",
    "df = df.dropna()\n",
    "print(df)\n",
    "\n",
    "all_fig = list()\n",
    "for dataset in set(df.dataset):\n",
    "    all_fig.append(cocktail.utils.group_scatter(df[df.dataset == dataset], \"time\", \"memory\",\n",
    "                                                color=\"counter\", shape=\"kmer_size\", title=dataset))\n",
    "\n",
    "figs = cocktail.utils.fig_layout(all_fig, 2)\n",
    "\n",
    "df = df[df.counter != \"jellyfish\"]\n",
    "df = df[df.kmer_size == \"19\"]\n",
    "fig = cocktail.utils.group_scatter(df, \"size\", \"time\", color=\"counter\")\n",
    "\n",
    "line = fig.transform_regression('size', 'time', groupby=[\"counter\"])\n",
    "\n",
    "fig + line.mark_line()\n",
    "figs"
   ]
  },
  {
   "cell_type": "markdown",
   "metadata": {},
   "source": [
    "## Filter\n",
    "\n",
    "Evaluate effect of kmerf on dataset and on assembly. With different k and different ratio."
   ]
  },
  {
   "cell_type": "code",
   "execution_count": null,
   "metadata": {},
   "outputs": [],
   "source": [
    "!snakemake --cores $SNAKEMAKE_CORE --use-conda -p filter_all -n"
   ]
  },
  {
   "cell_type": "markdown",
   "metadata": {},
   "source": [
    "### Benchmark"
   ]
  },
  {
   "cell_type": "code",
   "execution_count": null,
   "metadata": {
    "scrolled": false
   },
   "outputs": [],
   "source": [
    "import cocktail\n",
    "import cocktail.utils\n",
    "import cocktail.filter\n",
    "\n",
    "df = cocktail.filter.dataframe_bench()\n",
    "\n",
    "all_fig = list()\n",
    "for dataset in set(df.dataset):\n",
    "    all_fig.append(cocktail.utils.group_scatter(df[df.dataset == dataset], \"time\", \"memory\",\n",
    "                                                color=\"filter\", title=dataset))\n",
    "\n",
    "figs = cocktail.utils.fig_layout(all_fig, 2)\n",
    "\n",
    "figs"
   ]
  },
  {
   "cell_type": "markdown",
   "metadata": {},
   "source": [
    "### Error rate"
   ]
  },
  {
   "cell_type": "code",
   "execution_count": null,
   "metadata": {},
   "outputs": [],
   "source": [
    "import cocktail\n",
    "import cocktail.utils\n",
    "import cocktail.filter\n",
    "\n",
    "df = cocktail.filter.dataframe_stats()\n",
    "\n",
    "df.raw = df.raw * 100\n",
    "df.corrected = df.corrected * 100\n",
    "\n",
    "fig_error = cocktail.utils.group_line(df, \"raw\", \"corrected\", color=\"filter\", point=True,\n",
    "                                    xtitle=\"Original error rate in %\", ytitle=\"Corrected error rate in %\")\n",
    "\n",
    "fig_error"
   ]
  },
  {
   "cell_type": "markdown",
   "metadata": {},
   "source": [
    "### Read quality"
   ]
  },
  {
   "cell_type": "code",
   "execution_count": null,
   "metadata": {
    "scrolled": false
   },
   "outputs": [],
   "source": [
    "import pandas\n",
    "import cocktail\n",
    "import cocktail.filter\n",
    "\n",
    "df = cocktail.filter.get_id_data(\"data/yeast/reads.len_id.tsv\", \"yeast\", \"raw\", \"\")\n",
    "cocktail.filter.figure_len_identity(df)"
   ]
  },
  {
   "cell_type": "code",
   "execution_count": null,
   "metadata": {},
   "outputs": [],
   "source": [
    "import pandas\n",
    "import cocktail\n",
    "import cocktail.filter\n",
    "\n",
    "df = cocktail.filter.identity_data(\"yeast\", \"kmrf\", \"k15.r70\")\n",
    "cocktail.filter.figure_len_identity(df)"
   ]
  },
  {
   "cell_type": "code",
   "execution_count": null,
   "metadata": {
    "scrolled": false
   },
   "outputs": [],
   "source": [
    "import pandas\n",
    "import cocktail\n",
    "import cocktail.filter\n",
    "\n",
    "cocktail.filter.figure_filtred(\"yeast\", \"kmrf\", \"k15.r70\")"
   ]
  },
  {
   "cell_type": "markdown",
   "metadata": {},
   "source": [
    "### Assembly quality"
   ]
  },
  {
   "cell_type": "markdown",
   "metadata": {},
   "source": [
    "## Correction\n",
    "\n",
    "Compare br (with k in range(13, 19, 2)) against canu correction module (2.0), consent and necat on all dataset."
   ]
  },
  {
   "cell_type": "code",
   "execution_count": null,
   "metadata": {},
   "outputs": [],
   "source": [
    "!snakemake --cores $SNAKEMAKE_CORE --use-conda -p correct_all -n"
   ]
  },
  {
   "cell_type": "markdown",
   "metadata": {},
   "source": [
    "### Benchmark"
   ]
  },
  {
   "cell_type": "code",
   "execution_count": null,
   "metadata": {
    "scrolled": false
   },
   "outputs": [],
   "source": [
    "import pandas\n",
    "import cocktail\n",
    "import cocktail.correct\n",
    "import cocktail.utils\n",
    "\n",
    "df = cocktail.correct.dataframe_bench()\n",
    "\n",
    "#df = df[df.corrector != \"br_k13\"]\n",
    "#df = df[df.corrector != \"br_k15\"]\n",
    "#df = df[df.corrector != \"br_k17\"]\n",
    "\n",
    "#df = df.replace({\"br_k19\": \"br\"})\n",
    "\n",
    "fig_time = cocktail.utils.group_line(df, \"size\", \"time\", color=\"corrector\", point=True,\n",
    "                                    xtitle=\"Reads file size in Mb\", ytitle=\"Wall time in second\")\n",
    "fig_mem = cocktail.utils.group_line(df, \"size\", \"memory\", color=\"corrector\", point=True,\n",
    "                                    xtitle=\"Reads file size in Mb\", ytitle=\"Memory peak in Mb\")\n",
    "\n",
    "\n",
    "fig_time | fig_mem"
   ]
  },
  {
   "cell_type": "markdown",
   "metadata": {},
   "source": [
    "### Error rate"
   ]
  },
  {
   "cell_type": "code",
   "execution_count": null,
   "metadata": {},
   "outputs": [],
   "source": [
    "import pandas\n",
    "import cocktail\n",
    "import cocktail.correct\n",
    "import cocktail.utils\n",
    "\n",
    "df = cocktail.correct.dataframe_stats()\n",
    "\n",
    "#df = df[df.corrector != \"br_k13\"]\n",
    "#df = df[df.corrector != \"br_k15\"]\n",
    "#df = df[df.corrector != \"br_k17\"]\n",
    "\n",
    "#df = df.replace({\"br_k19\": \"br\"})\n",
    "df.raw = df.raw * 100\n",
    "df.corrected = df.corrected * 100\n",
    "\n",
    "fig_error = cocktail.utils.group_line(df, \"raw\", \"corrected\", color=\"corrector\", point=True,\n",
    "                                    xtitle=\"Original error rate in %\", ytitle=\"Corrected error rate in %\")\n",
    "\n",
    "fig_error"
   ]
  },
  {
   "cell_type": "markdown",
   "metadata": {},
   "source": [
    "### Recall & Precision"
   ]
  },
  {
   "cell_type": "code",
   "execution_count": null,
   "metadata": {},
   "outputs": [],
   "source": [
    "import cocktail\n",
    "\n",
    "df = cocktail.correct.dataframe_pr()\n",
    "df = df[df.dataset == \"bacteria\"]\n",
    "\n",
    "cocktail.utils.group_scatter(df, \"precision\", \"recall\", \"corrector\")"
   ]
  },
  {
   "cell_type": "code",
   "execution_count": null,
   "metadata": {},
   "outputs": [],
   "source": [
    "import cocktail\n",
    "\n",
    "df = cocktail.correct.dataframe_pr()\n",
    "df = df[df.dataset == \"yeast\"]\n",
    "\n",
    "cocktail.utils.group_scatter(df, \"precision\", \"recall\", \"corrector\")"
   ]
  },
  {
   "cell_type": "code",
   "execution_count": null,
   "metadata": {},
   "outputs": [],
   "source": [
    "import cocktail\n",
    "\n",
    "df = cocktail.correct.dataframe_pr()\n",
    "df = df[df.dataset == \"metagenome\"]\n",
    "\n",
    "cocktail.utils.group_scatter(df, \"precision\", \"recall\", \"corrector\")"
   ]
  },
  {
   "cell_type": "markdown",
   "metadata": {},
   "source": [
    "### Precision\n",
    "\n",
    "#### Simulate\n",
    "\n",
    "#### Real"
   ]
  },
  {
   "cell_type": "markdown",
   "metadata": {},
   "source": [
    "### Effect of coverage\n",
    "\n",
    "One dataset ? br only ?"
   ]
  },
  {
   "cell_type": "markdown",
   "metadata": {},
   "source": [
    "### Dipolid dataset"
   ]
  },
  {
   "cell_type": "markdown",
   "metadata": {},
   "source": [
    "## Polish\n",
    "\n",
    "Effect of polish on miniasm assembly on all dataset mode (with k in range (13, 19, 2) and abundance in range(10, 30))"
   ]
  },
  {
   "cell_type": "code",
   "execution_count": null,
   "metadata": {},
   "outputs": [],
   "source": [
    "!snakemake --cores $SNAKEMAKE_CORE --use-conda -p polish_all -n"
   ]
  },
  {
   "cell_type": "markdown",
   "metadata": {},
   "source": [
    "### Quast result"
   ]
  }
 ],
 "metadata": {
  "kernelspec": {
   "display_name": "Python 3",
   "language": "python",
   "name": "python3"
  },
  "language_info": {
   "codemirror_mode": {
    "name": "ipython",
    "version": 3
   },
   "file_extension": ".py",
   "mimetype": "text/x-python",
   "name": "python",
   "nbconvert_exporter": "python",
   "pygments_lexer": "ipython3",
   "version": "3.8.6"
  }
 },
 "nbformat": 4,
 "nbformat_minor": 2
}
