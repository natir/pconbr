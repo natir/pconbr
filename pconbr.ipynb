{
 "cells": [
  {
   "cell_type": "code",
   "execution_count": 1,
   "metadata": {},
   "outputs": [],
   "source": [
    "from IPython import display\n",
    "import pconbr\n",
    "import pconbr.bench\n",
    "import pconbr.bench.count\n",
    "import pconbr.identity"
   ]
  },
  {
   "cell_type": "markdown",
   "metadata": {},
   "source": [
    "# Code name: pconbr\n",
    "\n",
    "Project target: Use a kmer counter to perform a pre-correction step on long-read data"
   ]
  },
  {
   "cell_type": "markdown",
   "metadata": {},
   "source": [
    "## Dataset\n",
    "\n",
    "### References\n",
    "\n",
    "| code name       | species         | path                          | genome size | \n",
    "|:----------------|:----------------|:------------------------------|------------:|\n",
    "| s_pneumoniae    | S. pneumoniae   | reference/CP026549.fasta      |      2.2 Mb |\n",
    "| c_vartiovaarae  | C. vartiovaarae |                               |     ~11.2Mb |\n",
    "| e_coli_ont      | E. coli         | reference/CP028309.fasta      |       4.7Mb |\n",
    "| e_coli_pb       | E. coli         | reference/CP028309.fasta      |       4.7Mb |\n",
    "| s_cerevisiae    | S. cerevisiae   | reference/GCA_002163515.fasta |      12.4Mb |\n",
    "\n",
    "\n",
    "### Reads\n",
    "| code name       | species         | path                        | # bases (Gb)| coverage |\n",
    "|:----------------|:----------------|:----------------------------|------------:|---------:|\n",
    "| s_pneumoniae    | S. pneumoniae   | reads/SRR8556426.fasta      |         2.2 |   ~1000x |\n",
    "| c_vartiovaarae  | C. vartiovaarae | reads/ERR18779[66-70].fasta |         1.7 |    ~150x |\n",
    "| e_coli_ont      | E. coli         | reads/SRR8494940.fasta      |         1.6 |    ~340x |\n",
    "| e_coli_pb       | E. coli         | reads/SRR8494911.fasta      |         1.4 |    ~297x |\n",
    "| s_cerevisiae    | S. cerevisiae   | reads/SRR2157264_[1-2]      |       0.187 |     ~15x |\n",
    "\n"
   ]
  },
  {
   "cell_type": "code",
   "execution_count": 2,
   "metadata": {},
   "outputs": [],
   "source": [
    "# To download reference genome uncomment next line and execute this cell can take many time\n",
    "#!./script/dl_ref.sh"
   ]
  },
  {
   "cell_type": "code",
   "execution_count": 3,
   "metadata": {
    "scrolled": true
   },
   "outputs": [],
   "source": [
    "# To download data uncomment next line and execute this cell can take many time\n",
    "#!./script/dl_reads.sh"
   ]
  },
  {
   "cell_type": "markdown",
   "metadata": {},
   "source": [
    "## Kmer counting"
   ]
  },
  {
   "cell_type": "code",
   "execution_count": 4,
   "metadata": {},
   "outputs": [],
   "source": [
    "# To perform pcon kmc and jellyfish count on dataset uncomment next line and execute this cell\n",
    "#!snakemake -s pipeline/count.snakefile all"
   ]
  },
  {
   "cell_type": "markdown",
   "metadata": {},
   "source": [
    "File benchmark/{counter name}/{dataset codename}.tsv contains time (in second) and memory (in Mb) usage of each run this information was resume in this table."
   ]
  },
  {
   "cell_type": "code",
   "execution_count": 5,
   "metadata": {},
   "outputs": [
    {
     "data": {
      "text/markdown": [
       "| dataset | k | Jellyfish | Kmc | Pconbr |\n",
       "|:-|:-|-:|-:|-:|\n",
       "| c_vartiovaarae | k13 | 334.2362 | 169.5719 | 49.9236 |\n",
       "| c_vartiovaarae | k15 | 578.6363 | 627.1587 | 63.3266 |\n",
       "| c_vartiovaarae | k17 | 965.6645 | 680.0812 | 100.9235 |\n",
       "| e_coli_ont | k13 | 313.0706 | 158.7293 | 46.6151 |\n",
       "| e_coli_ont | k15 | 891.7445 | 573.1665 | 59.2280 |\n",
       "| e_coli_ont | k17 | 844.3351 | 629.6508 | 98.9184 |\n",
       "| e_coli_pb | k13 | 286.7312 | 140.0799 | 42.6363 |\n",
       "| e_coli_pb | k15 | 1683.8153 | 573.6715 | 50.7555 |\n",
       "| e_coli_pb | k17 | 988.2953 | 622.1334 | 92.7290 |\n",
       "| s_cerevisiae | k13 | 49.5876 | 22.2911 | 5.9670 |\n",
       "| s_cerevisiae | k15 | 111.7834 | 94.5685 | 10.0484 |\n",
       "| s_cerevisiae | k17 | 243.1594 | 96.3485 | 48.3371 |\n",
       "| s_pneumoniae | k13 | 495.6495 | 252.7824 | 62.7292 |\n",
       "| s_pneumoniae | k15 | 1074.9812 | 768.0481 | 111.2206 |\n",
       "| s_pneumoniae | k17 | 888.0235 | 844.6418 | 302.7101 |\n"
      ],
      "text/plain": [
       "<IPython.core.display.Markdown object>"
      ]
     },
     "execution_count": 5,
     "metadata": {},
     "output_type": "execute_result"
    }
   ],
   "source": [
    "display.Markdown(pconbr.bench.count.get(\"time\"))"
   ]
  },
  {
   "cell_type": "code",
   "execution_count": 6,
   "metadata": {
    "scrolled": false
   },
   "outputs": [
    {
     "data": {
      "text/markdown": [
       "| dataset | k | Jellyfish | Kmc | Pconbr |\n",
       "|:-|:-|-:|-:|-:|\n",
       "| c_vartiovaarae | k13 | 1578.83 | 2339.24 | 21.78 |\n",
       "| c_vartiovaarae | k15 | 6203.79 | 10812.85 | 262.18 |\n",
       "| c_vartiovaarae | k17 | 16391.07 | 11366.94 | 4102.84 |\n",
       "| e_coli_ont | k13 | 1386.92 | 2223.92 | 22.01 |\n",
       "| e_coli_ont | k15 | 22121.48 | 10784.25 | 262.40 |\n",
       "| e_coli_ont | k17 | 16390.98 | 11018.08 | 4103.41 |\n",
       "| e_coli_pb | k13 | 1992.64 | 2036.66 | 21.71 |\n",
       "| e_coli_pb | k15 | 31598.27 | 10813.38 | 262.23 |\n",
       "| e_coli_pb | k17 | 16390.88 | 11118.81 | 4103.17 |\n",
       "| s_cerevisiae | k13 | 257.45 | 650.79 | 21.77 |\n",
       "| s_cerevisiae | k15 | 1957.68 | 1716.51 | 262.23 |\n",
       "| s_cerevisiae | k17 | 16390.80 | 1656.98 | 4101.55 |\n",
       "| s_pneumoniae | k13 | 1781.05 | 2776.35 | 21.72 |\n",
       "| s_pneumoniae | k15 | 10997.75 | 11058.89 | 262.43 |\n",
       "| s_pneumoniae | k17 | 16391.12 | 11179.33 | 4103.22 |\n"
      ],
      "text/plain": [
       "<IPython.core.display.Markdown object>"
      ]
     },
     "execution_count": 6,
     "metadata": {},
     "output_type": "execute_result"
    }
   ],
   "source": [
    "display.Markdown(pconbr.bench.count.get(\"memory\"))"
   ]
  },
  {
   "cell_type": "markdown",
   "metadata": {},
   "source": [
    "## PconBr parameter exploration\n",
    "\n",
    "### Simulated dataset\n",
    "\n",
    "Error rate was evaluate by `samtools stats` line `error rate:`.\n",
    "\n",
    "Read was simulate by [Badread](https://github.com/rrwick/Badread) on E. coli CFT073 genome ([ENA id CP028309](https://www.ebi.ac.uk/ena/data/view/CP028309)), error rate 5.625682.\n",
    "\n",
    "We evaluate identity before pconbr pipeline with diffrente value of kmer size (k), number of kmer was required to validate kmer (s), abundance minimal of solid kmer (a).\n"
   ]
  },
  {
   "cell_type": "code",
   "execution_count": 7,
   "metadata": {},
   "outputs": [],
   "source": [
    "# Run some snakemake pipeline to test parameter on dataset\n",
    "#!snakemake -s pipeline/parameter_exploration.snakefile genomic_kmer\n",
    "#!snakemake -s pipeline/parameter_exploration.snakefile read_kmer\n",
    "#!snakemake -s pipeline/parameter_exploration.snakefile bacteria\n",
    "#!snakemake -s pipeline/parameter_exploration.snakefile yeast"
   ]
  },
  {
   "cell_type": "markdown",
   "metadata": {},
   "source": [
    "### Effect of k and s on synthetic dataset\n",
    "\n",
    "#### With genomic kmer\n",
    "\n",
    "Difference between original error rate and the corrected read error rate"
   ]
  },
  {
   "cell_type": "code",
   "execution_count": 8,
   "metadata": {},
   "outputs": [
    {
     "data": {
      "text/markdown": [
       "| | s1| s2| s3| s4| s5| s6| s7| s8| s9|\n",
       "|:-|-:|-:|-:|-:|-:|-:|-:|-:|-:|\n",
       "| k9 | 0.004243 | 0.003956 | 0.003789 | 0.003733 | 0.003733 | 0.003733 | 0.003730 | 0.003727 | 0.003724|\n",
       "| k11 | 0.758194 | 0.610341 | 0.515930 | 0.454310 | 0.413753 | 0.385005 | 0.363640 | 0.346665 | 0.331660|\n",
       "| k13 | 9.158648 | 2.776566 | 0.661774 | -0.118602 | -0.436913 | -0.569549 | -0.619379 | -0.631191 | -0.624060|\n",
       "| k15 | -0.593299 | -1.675826 | -1.759112 | -1.682531 | -1.574692 | -1.469168 | -1.372143 | -1.283744 | -1.203183|\n",
       "| k17 | -2.280677 | -2.119799 | -1.940914 | -1.784599 | -1.645088 | -1.523983 | -1.417599 | -1.322485 | -1.236514|\n"
      ],
      "text/plain": [
       "<IPython.core.display.Markdown object>"
      ]
     },
     "execution_count": 8,
     "metadata": {},
     "output_type": "execute_result"
    }
   ],
   "source": [
    "display.Markdown(pconbr.identity.genomic_kmer())"
   ]
  },
  {
   "cell_type": "markdown",
   "metadata": {},
   "source": [
    "#### With noisy read kmer"
   ]
  },
  {
   "cell_type": "code",
   "execution_count": 9,
   "metadata": {},
   "outputs": [
    {
     "data": {
      "text/markdown": [
       "| | | s1| s2| s3| s4| s5| s6| s7| s8| s9|\n",
       "|:-|:-|-:|-:|-:|-:|-:|-:|-:|-:|-:|\n",
       "| k13 | a1 | 0.000029 | 0.000026 | 0.000026 | 0.000023 | 0.000023 | 0.000022 | 0.000020 | 0.000017 | 0.000014|\n",
       "| k13 | a2 | 0.183153 | 0.144473 | 0.120515 | 0.105219 | 0.095360 | 0.088957 | 0.084602 | 0.081637 | 0.079537|\n",
       "| k13 | a3 | 0.565981 | 0.422615 | 0.337803 | 0.285259 | 0.251894 | 0.229637 | 0.214533 | 0.203712 | 0.195564|\n",
       "| k13 | a4 | 1.037906 | 0.737499 | 0.565391 | 0.460931 | 0.395181 | 0.351924 | 0.322046 | 0.300782 | 0.284209|\n",
       "| k13 | a5 | 1.529697 | 1.031342 | 0.756427 | 0.594780 | 0.494429 | 0.429087 | 0.383908 | 0.351254 | 0.325804|\n",
       "| k13 | a6 | 2.006685 | 1.283683 | 0.899364 | 0.680178 | 0.546947 | 0.460584 | 0.401566 | 0.358444 | 0.324519|\n",
       "| k13 | a7 | 2.466110 | 1.490862 | 0.993164 | 0.719183 | 0.555940 | 0.451637 | 0.381025 | 0.329409 | 0.289094|\n",
       "| k13 | a8 | 2.921537 | 1.660569 | 1.049283 | 0.723642 | 0.534254 | 0.414936 | 0.335592 | 0.278149 | 0.233187|\n",
       "| k13 | a9 | 3.356516 | 1.796660 | 1.073578 | 0.701064 | 0.489425 | 0.359049 | 0.273636 | 0.212436 | 0.165375|\n",
       "| k15 | a1 | 0.001020 | 0.001010 | 0.000757 | 0.000529 | 0.000361 | 0.000257 | 0.000175 | 0.000125 | 0.000087|\n",
       "| k15 | a2 | 4.808098 | 1.496592 | 0.480983 | 0.117895 | -0.031171 | -0.097850 | -0.128863 | -0.143265 | -0.149054|\n",
       "| k15 | a3 | 3.067901 | 0.583266 | -0.126570 | -0.354596 | -0.429535 | -0.448909 | -0.446697 | -0.435142 | -0.420358|\n",
       "| k15 | a4 | 1.741794 | -0.170984 | -0.642049 | -0.762086 | -0.776632 | -0.757068 | -0.726243 | -0.692545 | -0.659247|\n",
       "| k15 | a5 | 0.899558 | -0.681172 | -1.006135 | -1.056697 | -1.030743 | -0.984044 | -0.932765 | -0.882585 | -0.835033|\n",
       "| k15 | a6 | 0.373487 | -1.014482 | -1.250142 | -1.256841 | -1.204346 | -1.138853 | -1.073398 | -1.011505 | -0.953997|\n",
       "| k15 | a7 | 0.046119 | -1.229433 | -1.410892 | -1.389698 | -1.319745 | -1.242278 | -1.167164 | -1.097303 | -1.032796|\n",
       "| k15 | a8 | -0.160191 | -1.368173 | -1.515180 | -1.476307 | -1.395058 | -1.309397 | -1.227911 | -1.152800 | -1.083657|\n",
       "| k15 | a9 | -0.293691 | -1.459802 | -1.585154 | -1.534622 | -1.445692 | -1.354574 | -1.268870 | -1.190011 | -1.117721|\n",
       "| k17 | a1 | 0.000519 | 0.000192 | -0.000056 | -0.000148 | -0.000163 | -0.000145 | -0.000132 | -0.000126 | -0.000116|\n",
       "| k17 | a2 | 0.052245 | -0.463331 | -0.543232 | -0.538630 | -0.514668 | -0.487277 | -0.460951 | -0.436353 | -0.413917|\n",
       "| k17 | a3 | -0.824204 | -1.060827 | -1.046410 | -0.992918 | -0.933189 | -0.876647 | -0.824624 | -0.776994 | -0.733466|\n",
       "| k17 | a4 | -1.406208 | -1.472354 | -1.393893 | -1.303980 | -1.216514 | -1.136892 | -1.065155 | -1.000227 | -0.940937|\n",
       "| k17 | a5 | -1.754412 | -1.720155 | -1.601790 | -1.488081 | -1.382459 | -1.288192 | -1.203961 | -1.128035 | -1.058969|\n",
       "| k17 | a6 | -1.952835 | -1.863846 | -1.721692 | -1.593184 | -1.476421 | -1.373143 | -1.281502 | -1.199048 | -1.124185|\n",
       "| k17 | a7 | -2.069031 | -1.949423 | -1.793177 | -1.655272 | -1.531456 | -1.422734 | -1.326426 | -1.239928 | -1.161537|\n",
       "| k17 | a8 | -2.138176 | -2.001680 | -1.836938 | -1.693116 | -1.564693 | -1.452537 | -1.353352 | -1.264395 | -1.183822|\n",
       "| k17 | a9 | -2.181178 | -2.035071 | -1.865341 | -1.717630 | -1.586192 | -1.471614 | -1.370560 | -1.279898 | -1.197926|\n"
      ],
      "text/plain": [
       "<IPython.core.display.Markdown object>"
      ]
     },
     "execution_count": 9,
     "metadata": {},
     "output_type": "execute_result"
    }
   ],
   "source": [
    "display.Markdown(pconbr.identity.read_kmer(\"simulated_reads\"))\n"
   ]
  },
  {
   "cell_type": "markdown",
   "metadata": {},
   "source": [
    "#### On real bacteria dataset"
   ]
  },
  {
   "cell_type": "code",
   "execution_count": 10,
   "metadata": {},
   "outputs": [
    {
     "ename": "FileNotFoundError",
     "evalue": "[Errno 2] No such file or directory: 'reads/SRR8494911.stats'",
     "output_type": "error",
     "traceback": [
      "\u001b[0;31m---------------------------------------------------------------------------\u001b[0m",
      "\u001b[0;31mFileNotFoundError\u001b[0m                         Traceback (most recent call last)",
      "\u001b[0;32m<ipython-input-10-e2b34068168a>\u001b[0m in \u001b[0;36m<module>\u001b[0;34m\u001b[0m\n\u001b[0;32m----> 1\u001b[0;31m \u001b[0mdisplay\u001b[0m\u001b[0;34m.\u001b[0m\u001b[0mMarkdown\u001b[0m\u001b[0;34m(\u001b[0m\u001b[0mpconbr\u001b[0m\u001b[0;34m.\u001b[0m\u001b[0midentity\u001b[0m\u001b[0;34m.\u001b[0m\u001b[0mread_kmer\u001b[0m\u001b[0;34m(\u001b[0m\u001b[0;34m\"SRR8494911\"\u001b[0m\u001b[0;34m)\u001b[0m\u001b[0;34m)\u001b[0m\u001b[0;34m\u001b[0m\u001b[0;34m\u001b[0m\u001b[0m\n\u001b[0m",
      "\u001b[0;32m~/pub/pconbr/pconbr/identity.py\u001b[0m in \u001b[0;36mread_kmer\u001b[0;34m(filename)\u001b[0m\n\u001b[1;32m     57\u001b[0m \u001b[0;34m\u001b[0m\u001b[0m\n\u001b[1;32m     58\u001b[0m \u001b[0;32mdef\u001b[0m \u001b[0mread_kmer\u001b[0m\u001b[0;34m(\u001b[0m\u001b[0mfilename\u001b[0m\u001b[0;34m)\u001b[0m\u001b[0;34m:\u001b[0m\u001b[0;34m\u001b[0m\u001b[0;34m\u001b[0m\u001b[0m\n\u001b[0;32m---> 59\u001b[0;31m     \u001b[0mraw_error_rate\u001b[0m \u001b[0;34m=\u001b[0m \u001b[0mfloat\u001b[0m\u001b[0;34m(\u001b[0m\u001b[0mget_error_rate\u001b[0m\u001b[0;34m(\u001b[0m\u001b[0;34m\"reads/{}.stats\"\u001b[0m\u001b[0;34m.\u001b[0m\u001b[0mformat\u001b[0m\u001b[0;34m(\u001b[0m\u001b[0mfilename\u001b[0m\u001b[0;34m)\u001b[0m\u001b[0;34m)\u001b[0m\u001b[0;34m)\u001b[0m\u001b[0;34m\u001b[0m\u001b[0;34m\u001b[0m\u001b[0m\n\u001b[0m\u001b[1;32m     60\u001b[0m \u001b[0;34m\u001b[0m\u001b[0m\n\u001b[1;32m     61\u001b[0m     \u001b[0mdata\u001b[0m \u001b[0;34m=\u001b[0m \u001b[0mdefaultdict\u001b[0m\u001b[0;34m(\u001b[0m\u001b[0;32mlambda\u001b[0m\u001b[0;34m:\u001b[0m \u001b[0mdefaultdict\u001b[0m\u001b[0;34m(\u001b[0m\u001b[0;32mlambda\u001b[0m\u001b[0;34m:\u001b[0m \u001b[0mdefaultdict\u001b[0m\u001b[0;34m(\u001b[0m\u001b[0mfloat\u001b[0m\u001b[0;34m)\u001b[0m\u001b[0;34m)\u001b[0m\u001b[0;34m)\u001b[0m\u001b[0;34m\u001b[0m\u001b[0;34m\u001b[0m\u001b[0m\n",
      "\u001b[0;32m~/pub/pconbr/pconbr/identity.py\u001b[0m in \u001b[0;36mget_error_rate\u001b[0;34m(filename)\u001b[0m\n\u001b[1;32m     16\u001b[0m \u001b[0;34m\u001b[0m\u001b[0m\n\u001b[1;32m     17\u001b[0m \u001b[0;32mdef\u001b[0m \u001b[0mget_error_rate\u001b[0m\u001b[0;34m(\u001b[0m\u001b[0mfilename\u001b[0m\u001b[0;34m)\u001b[0m\u001b[0;34m:\u001b[0m\u001b[0;34m\u001b[0m\u001b[0;34m\u001b[0m\u001b[0m\n\u001b[0;32m---> 18\u001b[0;31m     \u001b[0;32mwith\u001b[0m \u001b[0mopen\u001b[0m\u001b[0;34m(\u001b[0m\u001b[0mfilename\u001b[0m\u001b[0;34m)\u001b[0m \u001b[0;32mas\u001b[0m \u001b[0mfinput\u001b[0m\u001b[0;34m:\u001b[0m\u001b[0;34m\u001b[0m\u001b[0;34m\u001b[0m\u001b[0m\n\u001b[0m\u001b[1;32m     19\u001b[0m         \u001b[0mreader\u001b[0m \u001b[0;34m=\u001b[0m \u001b[0mcsv\u001b[0m\u001b[0;34m.\u001b[0m\u001b[0mreader\u001b[0m\u001b[0;34m(\u001b[0m\u001b[0mfinput\u001b[0m\u001b[0;34m,\u001b[0m \u001b[0mdelimiter\u001b[0m\u001b[0;34m=\u001b[0m\u001b[0;34m'\\t'\u001b[0m\u001b[0;34m)\u001b[0m\u001b[0;34m\u001b[0m\u001b[0;34m\u001b[0m\u001b[0m\n\u001b[1;32m     20\u001b[0m         \u001b[0;32mfor\u001b[0m \u001b[0mrecord\u001b[0m \u001b[0;32min\u001b[0m \u001b[0mreader\u001b[0m\u001b[0;34m:\u001b[0m\u001b[0;34m\u001b[0m\u001b[0;34m\u001b[0m\u001b[0m\n",
      "\u001b[0;31mFileNotFoundError\u001b[0m: [Errno 2] No such file or directory: 'reads/SRR8494911.stats'"
     ]
    }
   ],
   "source": [
    "display.Markdown(pconbr.identity.read_kmer(\"SRR8494911\"))"
   ]
  },
  {
   "cell_type": "code",
   "execution_count": null,
   "metadata": {},
   "outputs": [],
   "source": [
    "display.Markdown(pconbr.identity.read_kmer(\"SRR8494940\"))"
   ]
  },
  {
   "cell_type": "code",
   "execution_count": null,
   "metadata": {},
   "outputs": [],
   "source": [
    "#### On real yeast dataset"
   ]
  },
  {
   "cell_type": "markdown",
   "metadata": {},
   "source": [
    "## Long read correction\n",
    "\n",
    "To evaluate our correction against other tools we : \n",
    "- result against reference genome we use [ELECTOR](//doi.org/10.1101/512889) \n",
    "- assembly result (redbean, rala, flye) we use [QUAST](//doi.org/10.1093/bioinformatics/bty266)\n",
    "\n",
    "### Self correction\n",
    "\n",
    "We compare pconbr against other self correction tools.\n",
    "\n",
    "| Tools name | Reference                                                                |\n",
    "|:-----------|:-------------------------------------------------------------------------|\n",
    "| CONSENT    | [10.1101/546630](//doi.org/10.1101/546630)                               |\n",
    "| daccord    | [10.1101/106252](//doi.org/10.1101/106252)                               |\n",
    "| FLAS       | [10.1093/bioinformatics/btz206](//doi.org/10.1093/bioinformatics/btz206) |\n",
    "| MECAT      | [10.1038/nmeth.4432](//doi.org/10.1038/nmeth.4432)                       |"
   ]
  },
  {
   "cell_type": "markdown",
   "metadata": {},
   "source": [
    "#### Mapping result"
   ]
  },
  {
   "cell_type": "code",
   "execution_count": null,
   "metadata": {},
   "outputs": [],
   "source": [
    "display.Markdown(\"TODO\")"
   ]
  },
  {
   "cell_type": "markdown",
   "metadata": {},
   "source": [
    "#### Assembly result"
   ]
  },
  {
   "cell_type": "code",
   "execution_count": null,
   "metadata": {},
   "outputs": [],
   "source": [
    "display.Markdown(\"TODO\")"
   ]
  },
  {
   "cell_type": "markdown",
   "metadata": {},
   "source": [
    "### Hybrid correction\n",
    "\n",
    "We compare pconbr against other self correction tools.\n",
    "\n",
    "| Tools name | Reference                                                                |\n",
    "|:-----------|:-------------------------------------------------------------------------|\n"
   ]
  },
  {
   "cell_type": "markdown",
   "metadata": {},
   "source": [
    "#### Mapping result"
   ]
  },
  {
   "cell_type": "code",
   "execution_count": null,
   "metadata": {},
   "outputs": [],
   "source": [
    "display.Markdown(\"TODO\")"
   ]
  },
  {
   "cell_type": "markdown",
   "metadata": {},
   "source": [
    "##### Assembly result"
   ]
  },
  {
   "cell_type": "code",
   "execution_count": null,
   "metadata": {},
   "outputs": [],
   "source": [
    "display.Markdown(\"TODO\")"
   ]
  },
  {
   "cell_type": "markdown",
   "metadata": {},
   "source": [
    "## Polishing\n",
    "\n"
   ]
  }
 ],
 "metadata": {
  "kernelspec": {
   "display_name": "Python [conda env:pconbr] *",
   "language": "python",
   "name": "conda-env-pconbr-py"
  },
  "language_info": {
   "codemirror_mode": {
    "name": "ipython",
    "version": 3
   },
   "file_extension": ".py",
   "mimetype": "text/x-python",
   "name": "python",
   "nbconvert_exporter": "python",
   "pygments_lexer": "ipython3",
   "version": "3.7.3"
  }
 },
 "nbformat": 4,
 "nbformat_minor": 2
}
