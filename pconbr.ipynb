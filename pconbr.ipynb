{
 "cells": [
  {
   "cell_type": "code",
   "execution_count": 1,
   "metadata": {},
   "outputs": [],
   "source": [
    "from IPython import display\n",
    "import pconbr\n",
    "import pconbr.bench\n",
    "import pconbr.bench.count\n",
    "import pconbr.identity\n",
    "import pconbr.kmer_count\n",
    "import pconbr.kmer_count.curve"
   ]
  },
  {
   "cell_type": "markdown",
   "metadata": {},
   "source": [
    "# Code name: pconbr\n",
    "\n",
    "Project target: Use a kmer counter to perform a pre-correction step on long-read data"
   ]
  },
  {
   "cell_type": "markdown",
   "metadata": {},
   "source": [
    "## Dataset\n",
    "\n",
    "### References\n",
    "\n",
    "| code name       | species         | path                          | genome size | \n",
    "|:----------------|:----------------|:------------------------------|------------:|\n",
    "| s_pneumoniae    | S. pneumoniae   | reference/CP026549.fasta      |      2.2 Mb |\n",
    "| c_vartiovaarae  | C. vartiovaarae |                               |     ~11.2Mb |\n",
    "| e_coli_ont      | E. coli         | reference/CP028309.fasta      |       4.7Mb |\n",
    "| e_coli_pb       | E. coli         | reference/CP028309.fasta      |       4.7Mb |\n",
    "| s_cerevisiae    | S. cerevisiae   | reference/GCA_002163515.fasta |      12.4Mb |\n",
    "\n",
    "\n",
    "### Reads\n",
    "| code name       | species         | path                        | # bases (Gb)| coverage |\n",
    "|:----------------|:----------------|:----------------------------|------------:|---------:|\n",
    "| s_pneumoniae    | S. pneumoniae   | reads/SRR8556426.fasta      |         2.2 |   ~1000x |\n",
    "| c_vartiovaarae  | C. vartiovaarae | reads/ERR18779[66-70].fasta |         1.7 |    ~150x |\n",
    "| e_coli_ont      | E. coli         | reads/SRR8494940.fasta      |         1.6 |    ~340x |\n",
    "| e_coli_pb       | E. coli         | reads/SRR8494911.fasta      |         1.4 |    ~297x |\n",
    "| s_cerevisiae    | S. cerevisiae   | reads/SRR2157264_[1-2]      |       0.187 |     ~15x |\n",
    "\n"
   ]
  },
  {
   "cell_type": "code",
   "execution_count": 2,
   "metadata": {},
   "outputs": [],
   "source": [
    "# To download reference genome uncomment next line and execute this cell can take many time\n",
    "#!./script/dl_ref.sh"
   ]
  },
  {
   "cell_type": "code",
   "execution_count": 3,
   "metadata": {
    "scrolled": true
   },
   "outputs": [],
   "source": [
    "# To download data uncomment next line and execute this cell can take many time\n",
    "#!./script/dl_reads.sh"
   ]
  },
  {
   "cell_type": "markdown",
   "metadata": {},
   "source": [
    "## Kmer counting"
   ]
  },
  {
   "cell_type": "code",
   "execution_count": 4,
   "metadata": {},
   "outputs": [],
   "source": [
    "# To perform pcon kmc and jellyfish count on dataset uncomment next line and execute this cell\n",
    "#!snakemake -s pipeline/count.snakefile all"
   ]
  },
  {
   "cell_type": "markdown",
   "metadata": {},
   "source": [
    "File benchmark/{counter name}/{dataset codename}.tsv contains time (in second) and memory (in Mb) usage of each run this information was resume in this table."
   ]
  },
  {
   "cell_type": "code",
   "execution_count": 5,
   "metadata": {},
   "outputs": [
    {
     "data": {
      "text/markdown": [
       "| dataset | k | Jellyfish | Kmc | Pconbr |\n",
       "|:-|:-|-:|-:|-:|\n",
       "| c_vartiovaarae | k13 | 413.5882 | 193.6503 | 53.1597 |\n",
       "| c_vartiovaarae | k15 | 766.9468 | 784.6563 | 63.4619 |\n",
       "| c_vartiovaarae | k17 | 1288.2844 | 833.9791 | 252.0244 |\n",
       "| e_coli_ont | k13 | 403.0423 | 184.5209 | 49.9495 |\n",
       "| e_coli_ont | k15 | 1135.5411 | 724.3784 | 61.9082 |\n",
       "| e_coli_ont | k17 | 1166.9966 | 780.5869 | 214.6334 |\n",
       "| e_coli_pb | k13 | 361.0433 | 157.6295 | 44.4903 |\n",
       "| e_coli_pb | k15 | 1456.8800 | 732.9156 | 54.2674 |\n",
       "| e_coli_pb | k17 | 1255.0258 | 766.6578 | 215.9037 |\n",
       "| s_cerevisiae | k13 | 56.8721 | 24.2400 | 6.6724 |\n",
       "| s_cerevisiae | k15 | 123.3701 | 130.9554 | 9.8227 |\n",
       "| s_cerevisiae | k17 | 290.8972 | 133.2776 | 63.6876 |\n",
       "| s_pneumoniae | k13 | 540.4675 | 265.6703 | 66.9792 |\n",
       "| s_pneumoniae | k15 | 905.0415 | 870.6088 | 84.3198 |\n",
       "| s_pneumoniae | k17 | 1301.9399 | 939.4879 | 284.0073 |\n"
      ],
      "text/plain": [
       "<IPython.core.display.Markdown object>"
      ]
     },
     "execution_count": 5,
     "metadata": {},
     "output_type": "execute_result"
    }
   ],
   "source": [
    "display.Markdown(pconbr.bench.count.get(\"time\"))"
   ]
  },
  {
   "cell_type": "code",
   "execution_count": 6,
   "metadata": {
    "scrolled": false
   },
   "outputs": [
    {
     "data": {
      "text/markdown": [
       "| dataset | k | Jellyfish | Kmc | Pconbr |\n",
       "|:-|:-|-:|-:|-:|\n",
       "| c_vartiovaarae | k13 | 1581.97 | 2143.56 | 22.00 |\n",
       "| c_vartiovaarae | k15 | 6204.13 | 10830.66 | 262.54 |\n",
       "| c_vartiovaarae | k17 | 16391.34 | 11046.30 | 4101.01 |\n",
       "| e_coli_ont | k13 | 1387.03 | 2219.09 | 22.03 |\n",
       "| e_coli_ont | k15 | 22121.59 | 10636.99 | 262.75 |\n",
       "| e_coli_ont | k17 | 16391.30 | 10898.98 | 4103.75 |\n",
       "| e_coli_pb | k13 | 1993.30 | 2034.21 | 21.91 |\n",
       "| e_coli_pb | k15 | 35264.41 | 10717.47 | 262.36 |\n",
       "| e_coli_pb | k17 | 16391.14 | 11079.68 | 4103.34 |\n",
       "| s_cerevisiae | k13 | 257.59 | 657.64 | 22.02 |\n",
       "| s_cerevisiae | k15 | 1957.95 | 1442.41 | 262.57 |\n",
       "| s_cerevisiae | k17 | 16391.10 | 1367.47 | 4092.84 |\n",
       "| s_pneumoniae | k13 | 1783.90 | 2810.83 | 21.98 |\n",
       "| s_pneumoniae | k15 | 11002.25 | 11242.54 | 262.57 |\n",
       "| s_pneumoniae | k17 | 16391.33 | 11273.15 | 4103.57 |\n"
      ],
      "text/plain": [
       "<IPython.core.display.Markdown object>"
      ]
     },
     "execution_count": 6,
     "metadata": {},
     "output_type": "execute_result"
    }
   ],
   "source": [
    "display.Markdown(pconbr.bench.count.get(\"memory\"))"
   ]
  },
  {
   "cell_type": "markdown",
   "metadata": {},
   "source": [
    "## PconBr parameter exploration\n",
    "\n",
    "### Simulated dataset\n",
    "\n",
    "Error rate was evaluate by `samtools stats` line `error rate:`.\n",
    "\n",
    "Read was simulate by [Badread](https://github.com/rrwick/Badread) on E. coli CFT073 genome ([ENA id CP028309](https://www.ebi.ac.uk/ena/data/view/CP028309)), error rate 5.625682.\n",
    "\n",
    "We evaluate identity before pconbr pipeline with diffrente value of kmer size (k), number of kmer was required to validate kmer (s), abundance minimal of solid kmer (a).\n"
   ]
  },
  {
   "cell_type": "code",
   "execution_count": 7,
   "metadata": {},
   "outputs": [],
   "source": [
    "# Run some snakemake pipeline to test parameter on dataset\n",
    "#!snakemake -s pipeline/parameter_exploration.snakefile genomic_kmer\n",
    "#!snakemake -s pipeline/parameter_exploration.snakefile read_kmer\n",
    "#!snakemake -s pipeline/parameter_exploration.snakefile bacteria\n",
    "#!snakemake -s pipeline/parameter_exploration.snakefile yeast"
   ]
  },
  {
   "cell_type": "markdown",
   "metadata": {},
   "source": [
    "### Synthetic dataset\n",
    "\n",
    "#### Kmer spectrum"
   ]
  },
  {
   "cell_type": "code",
   "execution_count": 8,
   "metadata": {},
   "outputs": [
    {
     "ename": "CalledProcessError",
     "evalue": "Command 'b'\\n#!snakemake -s pipeline/generate_stat.snakefile kmer_spectrum_simulated_reads\\nimport pandas\\nimport plotly.graph_objects as go\\n\\ndf = pandas.read_csv(\"stats/kmer_spectrum/simulated_reads.csv\", index_col=0)\\n\\nfig = go.Figure(data=[go.Bar(name=c, y=df[c]) for c in df.columns])\\n\\nfig.show()\\n'' returned non-zero exit status 1.",
     "output_type": "error",
     "traceback": [
      "\u001b[0;31m---------------------------------------------------------------------------\u001b[0m",
      "\u001b[0;31mCalledProcessError\u001b[0m                        Traceback (most recent call last)",
      "\u001b[0;32m<ipython-input-8-80e7d6d1c73e>\u001b[0m in \u001b[0;36m<module>\u001b[0;34m\u001b[0m\n\u001b[0;32m----> 1\u001b[0;31m \u001b[0mget_ipython\u001b[0m\u001b[0;34m(\u001b[0m\u001b[0;34m)\u001b[0m\u001b[0;34m.\u001b[0m\u001b[0mrun_cell_magic\u001b[0m\u001b[0;34m(\u001b[0m\u001b[0;34m'script'\u001b[0m\u001b[0;34m,\u001b[0m \u001b[0;34m'false'\u001b[0m\u001b[0;34m,\u001b[0m \u001b[0;34m'\\n#!snakemake -s pipeline/generate_stat.snakefile kmer_spectrum_simulated_reads\\nimport pandas\\nimport plotly.graph_objects as go\\n\\ndf = pandas.read_csv(\"stats/kmer_spectrum/simulated_reads.csv\", index_col=0)\\n\\nfig = go.Figure(data=[go.Bar(name=c, y=df[c]) for c in df.columns])\\n\\nfig.show()\\n'\u001b[0m\u001b[0;34m)\u001b[0m\u001b[0;34m\u001b[0m\u001b[0;34m\u001b[0m\u001b[0m\n\u001b[0m",
      "\u001b[0;32m~/.miniconda3/envs/pconbr/lib/python3.7/site-packages/IPython/core/interactiveshell.py\u001b[0m in \u001b[0;36mrun_cell_magic\u001b[0;34m(self, magic_name, line, cell)\u001b[0m\n\u001b[1;32m   2357\u001b[0m             \u001b[0;32mwith\u001b[0m \u001b[0mself\u001b[0m\u001b[0;34m.\u001b[0m\u001b[0mbuiltin_trap\u001b[0m\u001b[0;34m:\u001b[0m\u001b[0;34m\u001b[0m\u001b[0;34m\u001b[0m\u001b[0m\n\u001b[1;32m   2358\u001b[0m                 \u001b[0margs\u001b[0m \u001b[0;34m=\u001b[0m \u001b[0;34m(\u001b[0m\u001b[0mmagic_arg_s\u001b[0m\u001b[0;34m,\u001b[0m \u001b[0mcell\u001b[0m\u001b[0;34m)\u001b[0m\u001b[0;34m\u001b[0m\u001b[0;34m\u001b[0m\u001b[0m\n\u001b[0;32m-> 2359\u001b[0;31m                 \u001b[0mresult\u001b[0m \u001b[0;34m=\u001b[0m \u001b[0mfn\u001b[0m\u001b[0;34m(\u001b[0m\u001b[0;34m*\u001b[0m\u001b[0margs\u001b[0m\u001b[0;34m,\u001b[0m \u001b[0;34m**\u001b[0m\u001b[0mkwargs\u001b[0m\u001b[0;34m)\u001b[0m\u001b[0;34m\u001b[0m\u001b[0;34m\u001b[0m\u001b[0m\n\u001b[0m\u001b[1;32m   2360\u001b[0m             \u001b[0;32mreturn\u001b[0m \u001b[0mresult\u001b[0m\u001b[0;34m\u001b[0m\u001b[0;34m\u001b[0m\u001b[0m\n\u001b[1;32m   2361\u001b[0m \u001b[0;34m\u001b[0m\u001b[0m\n",
      "\u001b[0;32m</home/pierre/.miniconda3/envs/pconbr/lib/python3.7/site-packages/decorator.py:decorator-gen-110>\u001b[0m in \u001b[0;36mshebang\u001b[0;34m(self, line, cell)\u001b[0m\n",
      "\u001b[0;32m~/.miniconda3/envs/pconbr/lib/python3.7/site-packages/IPython/core/magic.py\u001b[0m in \u001b[0;36m<lambda>\u001b[0;34m(f, *a, **k)\u001b[0m\n\u001b[1;32m    185\u001b[0m     \u001b[0;31m# but it's overkill for just that one bit of state.\u001b[0m\u001b[0;34m\u001b[0m\u001b[0;34m\u001b[0m\u001b[0;34m\u001b[0m\u001b[0m\n\u001b[1;32m    186\u001b[0m     \u001b[0;32mdef\u001b[0m \u001b[0mmagic_deco\u001b[0m\u001b[0;34m(\u001b[0m\u001b[0marg\u001b[0m\u001b[0;34m)\u001b[0m\u001b[0;34m:\u001b[0m\u001b[0;34m\u001b[0m\u001b[0;34m\u001b[0m\u001b[0m\n\u001b[0;32m--> 187\u001b[0;31m         \u001b[0mcall\u001b[0m \u001b[0;34m=\u001b[0m \u001b[0;32mlambda\u001b[0m \u001b[0mf\u001b[0m\u001b[0;34m,\u001b[0m \u001b[0;34m*\u001b[0m\u001b[0ma\u001b[0m\u001b[0;34m,\u001b[0m \u001b[0;34m**\u001b[0m\u001b[0mk\u001b[0m\u001b[0;34m:\u001b[0m \u001b[0mf\u001b[0m\u001b[0;34m(\u001b[0m\u001b[0;34m*\u001b[0m\u001b[0ma\u001b[0m\u001b[0;34m,\u001b[0m \u001b[0;34m**\u001b[0m\u001b[0mk\u001b[0m\u001b[0;34m)\u001b[0m\u001b[0;34m\u001b[0m\u001b[0;34m\u001b[0m\u001b[0m\n\u001b[0m\u001b[1;32m    188\u001b[0m \u001b[0;34m\u001b[0m\u001b[0m\n\u001b[1;32m    189\u001b[0m         \u001b[0;32mif\u001b[0m \u001b[0mcallable\u001b[0m\u001b[0;34m(\u001b[0m\u001b[0marg\u001b[0m\u001b[0;34m)\u001b[0m\u001b[0;34m:\u001b[0m\u001b[0;34m\u001b[0m\u001b[0;34m\u001b[0m\u001b[0m\n",
      "\u001b[0;32m~/.miniconda3/envs/pconbr/lib/python3.7/site-packages/IPython/core/magics/script.py\u001b[0m in \u001b[0;36mshebang\u001b[0;34m(self, line, cell)\u001b[0m\n\u001b[1;32m    243\u001b[0m             \u001b[0msys\u001b[0m\u001b[0;34m.\u001b[0m\u001b[0mstderr\u001b[0m\u001b[0;34m.\u001b[0m\u001b[0mflush\u001b[0m\u001b[0;34m(\u001b[0m\u001b[0;34m)\u001b[0m\u001b[0;34m\u001b[0m\u001b[0;34m\u001b[0m\u001b[0m\n\u001b[1;32m    244\u001b[0m         \u001b[0;32mif\u001b[0m \u001b[0margs\u001b[0m\u001b[0;34m.\u001b[0m\u001b[0mraise_error\u001b[0m \u001b[0;32mand\u001b[0m \u001b[0mp\u001b[0m\u001b[0;34m.\u001b[0m\u001b[0mreturncode\u001b[0m\u001b[0;34m!=\u001b[0m\u001b[0;36m0\u001b[0m\u001b[0;34m:\u001b[0m\u001b[0;34m\u001b[0m\u001b[0;34m\u001b[0m\u001b[0m\n\u001b[0;32m--> 245\u001b[0;31m             \u001b[0;32mraise\u001b[0m \u001b[0mCalledProcessError\u001b[0m\u001b[0;34m(\u001b[0m\u001b[0mp\u001b[0m\u001b[0;34m.\u001b[0m\u001b[0mreturncode\u001b[0m\u001b[0;34m,\u001b[0m \u001b[0mcell\u001b[0m\u001b[0;34m,\u001b[0m \u001b[0moutput\u001b[0m\u001b[0;34m=\u001b[0m\u001b[0mout\u001b[0m\u001b[0;34m,\u001b[0m \u001b[0mstderr\u001b[0m\u001b[0;34m=\u001b[0m\u001b[0merr\u001b[0m\u001b[0;34m)\u001b[0m\u001b[0;34m\u001b[0m\u001b[0;34m\u001b[0m\u001b[0m\n\u001b[0m\u001b[1;32m    246\u001b[0m \u001b[0;34m\u001b[0m\u001b[0m\n\u001b[1;32m    247\u001b[0m     \u001b[0;32mdef\u001b[0m \u001b[0m_run_script\u001b[0m\u001b[0;34m(\u001b[0m\u001b[0mself\u001b[0m\u001b[0;34m,\u001b[0m \u001b[0mp\u001b[0m\u001b[0;34m,\u001b[0m \u001b[0mcell\u001b[0m\u001b[0;34m,\u001b[0m \u001b[0mto_close\u001b[0m\u001b[0;34m)\u001b[0m\u001b[0;34m:\u001b[0m\u001b[0;34m\u001b[0m\u001b[0;34m\u001b[0m\u001b[0m\n",
      "\u001b[0;31mCalledProcessError\u001b[0m: Command 'b'\\n#!snakemake -s pipeline/generate_stat.snakefile kmer_spectrum_simulated_reads\\nimport pandas\\nimport plotly.graph_objects as go\\n\\ndf = pandas.read_csv(\"stats/kmer_spectrum/simulated_reads.csv\", index_col=0)\\n\\nfig = go.Figure(data=[go.Bar(name=c, y=df[c]) for c in df.columns])\\n\\nfig.show()\\n'' returned non-zero exit status 1."
     ]
    }
   ],
   "source": [
    "%%script false\n",
    "\n",
    "#!snakemake -s pipeline/generate_stat.snakefile kmer_spectrum_simulated_reads\n",
    "import pandas\n",
    "import plotly.graph_objects as go\n",
    "\n",
    "df = pandas.read_csv(\"stats/kmer_spectrum/simulated_reads.csv\", index_col=0)\n",
    "\n",
    "fig = go.Figure(data=[go.Bar(name=c, y=df[c]) for c in df.columns])\n",
    "\n",
    "fig.show()"
   ]
  },
  {
   "cell_type": "markdown",
   "metadata": {},
   "source": [
    "#### Correction with genomic kmer\n",
    "\n",
    "Difference between original error rate and the corrected read error rate"
   ]
  },
  {
   "cell_type": "code",
   "execution_count": 9,
   "metadata": {},
   "outputs": [
    {
     "data": {
      "text/markdown": [
       "| | s1| s2| s3| s4| s5| s6| s7| s8| s9|\n",
       "|:-|-:|-:|-:|-:|-:|-:|-:|-:|-:|\n",
       "| k9 | 0.004243 | 0.003956 | 0.003789 | 0.003733 | 0.003733 | 0.003733 | 0.003730 | 0.003727 | 0.003724|\n",
       "| k11 | 0.758194 | 0.610341 | 0.515930 | 0.454310 | 0.413753 | 0.385005 | 0.363640 | 0.346665 | 0.331660|\n",
       "| k13 | 9.158648 | 2.776566 | 0.661774 | -0.118602 | -0.436913 | -0.569549 | -0.619379 | -0.631191 | -0.624060|\n",
       "| k15 | -0.593299 | -1.675826 | -1.759112 | -1.682531 | -1.574692 | -1.469168 | -1.372143 | -1.283744 | -1.203183|\n",
       "| k17 | -2.280677 | -2.119799 | -1.940914 | -1.784599 | -1.645088 | -1.523983 | -1.417599 | -1.322485 | -1.236514|\n"
      ],
      "text/plain": [
       "<IPython.core.display.Markdown object>"
      ]
     },
     "execution_count": 9,
     "metadata": {},
     "output_type": "execute_result"
    }
   ],
   "source": [
    "display.Markdown(pconbr.identity.genomic_kmer())"
   ]
  },
  {
   "cell_type": "markdown",
   "metadata": {},
   "source": [
    "#### Correction with reads kmer\n",
    "\n",
    "Difference between original error rate and the corrected read error rate"
   ]
  },
  {
   "cell_type": "code",
   "execution_count": 10,
   "metadata": {},
   "outputs": [
    {
     "data": {
      "text/markdown": [
       "| | | s1| s2| s3| s4| s5| s6| s7| s8| s9|\n",
       "|:-|:-|-:|-:|-:|-:|-:|-:|-:|-:|-:|\n",
       "| k13 | a1 | 0.000029 | 0.000026 | 0.000026 | 0.000023 | 0.000023 | 0.000022 | 0.000020 | 0.000017 | 0.000014|\n",
       "| k13 | a2 | 0.183153 | 0.144473 | 0.120515 | 0.105219 | 0.095360 | 0.088957 | 0.084602 | 0.081637 | 0.079537|\n",
       "| k13 | a3 | 0.565981 | 0.422615 | 0.337803 | 0.285259 | 0.251894 | 0.229637 | 0.214533 | 0.203712 | 0.195564|\n",
       "| k13 | a4 | 1.037906 | 0.737499 | 0.565391 | 0.460931 | 0.395181 | 0.351924 | 0.322046 | 0.300782 | 0.284209|\n",
       "| k13 | a5 | 1.529697 | 1.031342 | 0.756427 | 0.594780 | 0.494429 | 0.429087 | 0.383908 | 0.351254 | 0.325804|\n",
       "| k13 | a6 | 2.006685 | 1.283683 | 0.899364 | 0.680178 | 0.546947 | 0.460584 | 0.401566 | 0.358444 | 0.324519|\n",
       "| k13 | a7 | 2.466110 | 1.490862 | 0.993164 | 0.719183 | 0.555940 | 0.451637 | 0.381025 | 0.329409 | 0.289094|\n",
       "| k13 | a8 | 2.921537 | 1.660569 | 1.049283 | 0.723642 | 0.534254 | 0.414936 | 0.335592 | 0.278149 | 0.233187|\n",
       "| k13 | a9 | 3.356516 | 1.796660 | 1.073578 | 0.701064 | 0.489425 | 0.359049 | 0.273636 | 0.212436 | 0.165375|\n",
       "| k13 | a10 | 3.780426 | 1.905512 | 1.072858 | 0.658658 | 0.429022 | 0.290813 | 0.201885 | 0.139425 | 0.092227|\n",
       "| k13 | a11 | 4.194261 | 1.995595 | 1.056663 | 0.605301 | 0.361836 | 0.217718 | 0.127564 | 0.065386 | 0.019349|\n",
       "| k13 | a12 | 4.602518 | 2.069423 | 1.029364 | 0.545569 | 0.290685 | 0.143808 | 0.053872 | -0.006978 | -0.051284|\n",
       "| k13 | a13 | 5.002738 | 2.135963 | 0.999388 | 0.485515 | 0.222152 | 0.073403 | -0.015692 | -0.074917 | -0.116861|\n",
       "| k13 | a14 | 5.379498 | 2.191956 | 0.963880 | 0.424999 | 0.154229 | 0.005440 | -0.081916 | -0.138241 | -0.177133|\n",
       "| k15 | a1 | 0.001020 | 0.001010 | 0.000757 | 0.000529 | 0.000361 | 0.000257 | 0.000175 | 0.000125 | 0.000087|\n",
       "| k15 | a2 | 4.808098 | 1.496592 | 0.480983 | 0.117895 | -0.031171 | -0.097850 | -0.128863 | -0.143265 | -0.149054|\n",
       "| k15 | a3 | 3.067901 | 0.583266 | -0.126570 | -0.354596 | -0.429535 | -0.448909 | -0.446697 | -0.435142 | -0.420358|\n",
       "| k15 | a4 | 1.741794 | -0.170984 | -0.642049 | -0.762086 | -0.776632 | -0.757068 | -0.726243 | -0.692545 | -0.659247|\n",
       "| k15 | a5 | 0.899558 | -0.681172 | -1.006135 | -1.056697 | -1.030743 | -0.984044 | -0.932765 | -0.882585 | -0.835033|\n",
       "| k15 | a6 | 0.373487 | -1.014482 | -1.250142 | -1.256841 | -1.204346 | -1.138853 | -1.073398 | -1.011505 | -0.953997|\n",
       "| k15 | a7 | 0.046119 | -1.229433 | -1.410892 | -1.389698 | -1.319745 | -1.242278 | -1.167164 | -1.097303 | -1.032796|\n",
       "| k15 | a8 | -0.160191 | -1.368173 | -1.515180 | -1.476307 | -1.395058 | -1.309397 | -1.227911 | -1.152800 | -1.083657|\n",
       "| k15 | a9 | -0.293691 | -1.459802 | -1.585154 | -1.534622 | -1.445692 | -1.354574 | -1.268870 | -1.190011 | -1.117721|\n",
       "| k15 | a10 | -0.382299 | -1.520553 | -1.632172 | -1.574076 | -1.480021 | -1.385162 | -1.296424 | -1.215059 | -1.140558|\n",
       "| k15 | a11 | -0.442541 | -1.562512 | -1.665327 | -1.601872 | -1.504130 | -1.406597 | -1.315755 | -1.232583 | -1.156497|\n",
       "| k15 | a12 | -0.483044 | -1.592131 | -1.689251 | -1.621993 | -1.521716 | -1.422232 | -1.329849 | -1.245288 | -1.168048|\n",
       "| k15 | a13 | -0.512200 | -1.613513 | -1.706687 | -1.636833 | -1.534625 | -1.433666 | -1.340137 | -1.254679 | -1.176632|\n",
       "| k15 | a14 | -0.534364 | -1.629519 | -1.719769 | -1.648118 | -1.544466 | -1.442422 | -1.348053 | -1.261878 | -1.183218|\n",
       "| k17 | a1 | 0.000519 | 0.000192 | -0.000056 | -0.000148 | -0.000163 | -0.000145 | -0.000132 | -0.000126 | -0.000116|\n",
       "| k17 | a2 | 0.052245 | -0.463331 | -0.543232 | -0.538630 | -0.514668 | -0.487277 | -0.460951 | -0.436353 | -0.413917|\n",
       "| k17 | a3 | -0.824204 | -1.060827 | -1.046410 | -0.992918 | -0.933189 | -0.876647 | -0.824624 | -0.776994 | -0.733466|\n",
       "| k17 | a4 | -1.406208 | -1.472354 | -1.393893 | -1.303980 | -1.216514 | -1.136892 | -1.065155 | -1.000227 | -0.940937|\n",
       "| k17 | a5 | -1.754412 | -1.720155 | -1.601790 | -1.488081 | -1.382459 | -1.288192 | -1.203961 | -1.128035 | -1.058969|\n",
       "| k17 | a6 | -1.952835 | -1.863846 | -1.721692 | -1.593184 | -1.476421 | -1.373143 | -1.281502 | -1.199048 | -1.124185|\n",
       "| k17 | a7 | -2.069031 | -1.949423 | -1.793177 | -1.655272 | -1.531456 | -1.422734 | -1.326426 | -1.239928 | -1.161537|\n",
       "| k17 | a8 | -2.138176 | -2.001680 | -1.836938 | -1.693116 | -1.564693 | -1.452537 | -1.353352 | -1.264395 | -1.183822|\n",
       "| k17 | a9 | -2.181178 | -2.035071 | -1.865341 | -1.717630 | -1.586192 | -1.471614 | -1.370560 | -1.279898 | -1.197926|\n",
       "| k17 | a10 | -2.209753 | -2.058072 | -1.885321 | -1.734970 | -1.601361 | -1.485065 | -1.382613 | -1.290761 | -1.207712|\n",
       "| k17 | a11 | -2.229851 | -2.074733 | -1.900001 | -1.747803 | -1.612636 | -1.495108 | -1.391641 | -1.298901 | -1.215038|\n",
       "| k17 | a12 | -2.243876 | -2.087033 | -1.911061 | -1.757562 | -1.621180 | -1.502654 | -1.398387 | -1.305036 | -1.220625|\n",
       "| k17 | a13 | -2.254449 | -2.096206 | -1.919306 | -1.764967 | -1.627730 | -1.508481 | -1.403636 | -1.309786 | -1.224968|\n",
       "| k17 | a14 | -2.262344 | -2.103089 | -1.925666 | -1.770724 | -1.632790 | -1.512968 | -1.407674 | -1.313463 | -1.228293|\n"
      ],
      "text/plain": [
       "<IPython.core.display.Markdown object>"
      ]
     },
     "execution_count": 10,
     "metadata": {},
     "output_type": "execute_result"
    }
   ],
   "source": [
    "display.Markdown(pconbr.identity.read_kmer(\"simulated_reads\"))"
   ]
  },
  {
   "cell_type": "markdown",
   "metadata": {},
   "source": [
    "### E. coli ont dataset\n",
    "\n",
    "#### Kmer spectrum"
   ]
  },
  {
   "cell_type": "code",
   "execution_count": null,
   "metadata": {
    "scrolled": false
   },
   "outputs": [],
   "source": [
    "%%script false\n",
    "#!snakemake -s pipeline/generate_stat.snakefile kmer_spectrum_simulated_reads\n",
    "import pandas\n",
    "import plotly.graph_objects as go\n",
    "\n",
    "df = pandas.read_csv(\"stats/kmer_spectrum/e_coli_ont.csv\", index_col=0)\n",
    "\n",
    "fig = go.Figure(data=[go.Bar(name=c, y=df[c]) for c in df.columns])\n",
    "\n",
    "#fig.show()"
   ]
  },
  {
   "cell_type": "markdown",
   "metadata": {},
   "source": [
    "#### Correction with reads kmer\n",
    "\n",
    "Difference between original error rate and the corrected read error rate"
   ]
  },
  {
   "cell_type": "code",
   "execution_count": 11,
   "metadata": {},
   "outputs": [
    {
     "ename": "FileNotFoundError",
     "evalue": "[Errno 2] No such file or directory: 'reads/SRR8494940.stats'",
     "output_type": "error",
     "traceback": [
      "\u001b[0;31m---------------------------------------------------------------------------\u001b[0m",
      "\u001b[0;31mFileNotFoundError\u001b[0m                         Traceback (most recent call last)",
      "\u001b[0;32m<ipython-input-11-f40c0ecf1e60>\u001b[0m in \u001b[0;36m<module>\u001b[0;34m\u001b[0m\n\u001b[0;32m----> 1\u001b[0;31m \u001b[0mdisplay\u001b[0m\u001b[0;34m.\u001b[0m\u001b[0mMarkdown\u001b[0m\u001b[0;34m(\u001b[0m\u001b[0mpconbr\u001b[0m\u001b[0;34m.\u001b[0m\u001b[0midentity\u001b[0m\u001b[0;34m.\u001b[0m\u001b[0mread_kmer\u001b[0m\u001b[0;34m(\u001b[0m\u001b[0;34m\"SRR8494940\"\u001b[0m\u001b[0;34m)\u001b[0m\u001b[0;34m)\u001b[0m\u001b[0;34m\u001b[0m\u001b[0;34m\u001b[0m\u001b[0m\n\u001b[0m",
      "\u001b[0;32m~/pub/pconbr/pconbr/identity.py\u001b[0m in \u001b[0;36mread_kmer\u001b[0;34m(filename)\u001b[0m\n\u001b[1;32m     58\u001b[0m \u001b[0;34m\u001b[0m\u001b[0m\n\u001b[1;32m     59\u001b[0m \u001b[0;32mdef\u001b[0m \u001b[0mread_kmer\u001b[0m\u001b[0;34m(\u001b[0m\u001b[0mfilename\u001b[0m\u001b[0;34m)\u001b[0m\u001b[0;34m:\u001b[0m\u001b[0;34m\u001b[0m\u001b[0;34m\u001b[0m\u001b[0m\n\u001b[0;32m---> 60\u001b[0;31m     \u001b[0mraw_error_rate\u001b[0m \u001b[0;34m=\u001b[0m \u001b[0mfloat\u001b[0m\u001b[0;34m(\u001b[0m\u001b[0mget_error_rate\u001b[0m\u001b[0;34m(\u001b[0m\u001b[0;34m\"reads/{}.stats\"\u001b[0m\u001b[0;34m.\u001b[0m\u001b[0mformat\u001b[0m\u001b[0;34m(\u001b[0m\u001b[0mfilename\u001b[0m\u001b[0;34m)\u001b[0m\u001b[0;34m)\u001b[0m\u001b[0;34m)\u001b[0m\u001b[0;34m\u001b[0m\u001b[0;34m\u001b[0m\u001b[0m\n\u001b[0m\u001b[1;32m     61\u001b[0m \u001b[0;34m\u001b[0m\u001b[0m\n\u001b[1;32m     62\u001b[0m     \u001b[0mdata\u001b[0m \u001b[0;34m=\u001b[0m \u001b[0mdefaultdict\u001b[0m\u001b[0;34m(\u001b[0m\u001b[0;32mlambda\u001b[0m\u001b[0;34m:\u001b[0m \u001b[0mdefaultdict\u001b[0m\u001b[0;34m(\u001b[0m\u001b[0;32mlambda\u001b[0m\u001b[0;34m:\u001b[0m \u001b[0mdefaultdict\u001b[0m\u001b[0;34m(\u001b[0m\u001b[0mfloat\u001b[0m\u001b[0;34m)\u001b[0m\u001b[0;34m)\u001b[0m\u001b[0;34m)\u001b[0m\u001b[0;34m\u001b[0m\u001b[0;34m\u001b[0m\u001b[0m\n",
      "\u001b[0;32m~/pub/pconbr/pconbr/identity.py\u001b[0m in \u001b[0;36mget_error_rate\u001b[0;34m(filename)\u001b[0m\n\u001b[1;32m     14\u001b[0m \u001b[0;34m\u001b[0m\u001b[0m\n\u001b[1;32m     15\u001b[0m \u001b[0;32mdef\u001b[0m \u001b[0mget_error_rate\u001b[0m\u001b[0;34m(\u001b[0m\u001b[0mfilename\u001b[0m\u001b[0;34m)\u001b[0m\u001b[0;34m:\u001b[0m\u001b[0;34m\u001b[0m\u001b[0;34m\u001b[0m\u001b[0m\n\u001b[0;32m---> 16\u001b[0;31m     \u001b[0;32mwith\u001b[0m \u001b[0mopen\u001b[0m\u001b[0;34m(\u001b[0m\u001b[0mfilename\u001b[0m\u001b[0;34m)\u001b[0m \u001b[0;32mas\u001b[0m \u001b[0mfinput\u001b[0m\u001b[0;34m:\u001b[0m\u001b[0;34m\u001b[0m\u001b[0;34m\u001b[0m\u001b[0m\n\u001b[0m\u001b[1;32m     17\u001b[0m         \u001b[0mreader\u001b[0m \u001b[0;34m=\u001b[0m \u001b[0mcsv\u001b[0m\u001b[0;34m.\u001b[0m\u001b[0mreader\u001b[0m\u001b[0;34m(\u001b[0m\u001b[0mfinput\u001b[0m\u001b[0;34m,\u001b[0m \u001b[0mdelimiter\u001b[0m\u001b[0;34m=\u001b[0m\u001b[0;34m'\\t'\u001b[0m\u001b[0;34m)\u001b[0m\u001b[0;34m\u001b[0m\u001b[0;34m\u001b[0m\u001b[0m\n\u001b[1;32m     18\u001b[0m         \u001b[0;32mfor\u001b[0m \u001b[0mrecord\u001b[0m \u001b[0;32min\u001b[0m \u001b[0mreader\u001b[0m\u001b[0;34m:\u001b[0m\u001b[0;34m\u001b[0m\u001b[0;34m\u001b[0m\u001b[0m\n",
      "\u001b[0;31mFileNotFoundError\u001b[0m: [Errno 2] No such file or directory: 'reads/SRR8494940.stats'"
     ]
    }
   ],
   "source": [
    "display.Markdown(pconbr.identity.read_kmer(\"SRR8494940\"))"
   ]
  },
  {
   "cell_type": "markdown",
   "metadata": {},
   "source": [
    "### E. coli pb dataset\n",
    "\n",
    "#### Kmer spectrum"
   ]
  },
  {
   "cell_type": "code",
   "execution_count": null,
   "metadata": {},
   "outputs": [],
   "source": [
    "#!snakemake -s pipeline/generate_stat.snakefile kmer_spectrum_simulated_reads\n",
    "import pandas\n",
    "import plotly.graph_objects as go\n",
    "\n",
    "df = pandas.read_csv(\"stats/kmer_spectrum/e_coli_pb.csv\", index_col=0)\n",
    "\n",
    "fig = go.Figure(data=[go.Bar(name=c, y=df[c]) for c in df.columns])\n",
    "\n",
    "fig.show()"
   ]
  },
  {
   "cell_type": "markdown",
   "metadata": {},
   "source": [
    "#### Correction with reads kmer"
   ]
  },
  {
   "cell_type": "code",
   "execution_count": 12,
   "metadata": {},
   "outputs": [
    {
     "ename": "FileNotFoundError",
     "evalue": "[Errno 2] No such file or directory: 'reads/SRR8494911.stats'",
     "output_type": "error",
     "traceback": [
      "\u001b[0;31m---------------------------------------------------------------------------\u001b[0m",
      "\u001b[0;31mFileNotFoundError\u001b[0m                         Traceback (most recent call last)",
      "\u001b[0;32m<ipython-input-12-e2b34068168a>\u001b[0m in \u001b[0;36m<module>\u001b[0;34m\u001b[0m\n\u001b[0;32m----> 1\u001b[0;31m \u001b[0mdisplay\u001b[0m\u001b[0;34m.\u001b[0m\u001b[0mMarkdown\u001b[0m\u001b[0;34m(\u001b[0m\u001b[0mpconbr\u001b[0m\u001b[0;34m.\u001b[0m\u001b[0midentity\u001b[0m\u001b[0;34m.\u001b[0m\u001b[0mread_kmer\u001b[0m\u001b[0;34m(\u001b[0m\u001b[0;34m\"SRR8494911\"\u001b[0m\u001b[0;34m)\u001b[0m\u001b[0;34m)\u001b[0m\u001b[0;34m\u001b[0m\u001b[0;34m\u001b[0m\u001b[0m\n\u001b[0m",
      "\u001b[0;32m~/pub/pconbr/pconbr/identity.py\u001b[0m in \u001b[0;36mread_kmer\u001b[0;34m(filename)\u001b[0m\n\u001b[1;32m     58\u001b[0m \u001b[0;34m\u001b[0m\u001b[0m\n\u001b[1;32m     59\u001b[0m \u001b[0;32mdef\u001b[0m \u001b[0mread_kmer\u001b[0m\u001b[0;34m(\u001b[0m\u001b[0mfilename\u001b[0m\u001b[0;34m)\u001b[0m\u001b[0;34m:\u001b[0m\u001b[0;34m\u001b[0m\u001b[0;34m\u001b[0m\u001b[0m\n\u001b[0;32m---> 60\u001b[0;31m     \u001b[0mraw_error_rate\u001b[0m \u001b[0;34m=\u001b[0m \u001b[0mfloat\u001b[0m\u001b[0;34m(\u001b[0m\u001b[0mget_error_rate\u001b[0m\u001b[0;34m(\u001b[0m\u001b[0;34m\"reads/{}.stats\"\u001b[0m\u001b[0;34m.\u001b[0m\u001b[0mformat\u001b[0m\u001b[0;34m(\u001b[0m\u001b[0mfilename\u001b[0m\u001b[0;34m)\u001b[0m\u001b[0;34m)\u001b[0m\u001b[0;34m)\u001b[0m\u001b[0;34m\u001b[0m\u001b[0;34m\u001b[0m\u001b[0m\n\u001b[0m\u001b[1;32m     61\u001b[0m \u001b[0;34m\u001b[0m\u001b[0m\n\u001b[1;32m     62\u001b[0m     \u001b[0mdata\u001b[0m \u001b[0;34m=\u001b[0m \u001b[0mdefaultdict\u001b[0m\u001b[0;34m(\u001b[0m\u001b[0;32mlambda\u001b[0m\u001b[0;34m:\u001b[0m \u001b[0mdefaultdict\u001b[0m\u001b[0;34m(\u001b[0m\u001b[0;32mlambda\u001b[0m\u001b[0;34m:\u001b[0m \u001b[0mdefaultdict\u001b[0m\u001b[0;34m(\u001b[0m\u001b[0mfloat\u001b[0m\u001b[0;34m)\u001b[0m\u001b[0;34m)\u001b[0m\u001b[0;34m)\u001b[0m\u001b[0;34m\u001b[0m\u001b[0;34m\u001b[0m\u001b[0m\n",
      "\u001b[0;32m~/pub/pconbr/pconbr/identity.py\u001b[0m in \u001b[0;36mget_error_rate\u001b[0;34m(filename)\u001b[0m\n\u001b[1;32m     14\u001b[0m \u001b[0;34m\u001b[0m\u001b[0m\n\u001b[1;32m     15\u001b[0m \u001b[0;32mdef\u001b[0m \u001b[0mget_error_rate\u001b[0m\u001b[0;34m(\u001b[0m\u001b[0mfilename\u001b[0m\u001b[0;34m)\u001b[0m\u001b[0;34m:\u001b[0m\u001b[0;34m\u001b[0m\u001b[0;34m\u001b[0m\u001b[0m\n\u001b[0;32m---> 16\u001b[0;31m     \u001b[0;32mwith\u001b[0m \u001b[0mopen\u001b[0m\u001b[0;34m(\u001b[0m\u001b[0mfilename\u001b[0m\u001b[0;34m)\u001b[0m \u001b[0;32mas\u001b[0m \u001b[0mfinput\u001b[0m\u001b[0;34m:\u001b[0m\u001b[0;34m\u001b[0m\u001b[0;34m\u001b[0m\u001b[0m\n\u001b[0m\u001b[1;32m     17\u001b[0m         \u001b[0mreader\u001b[0m \u001b[0;34m=\u001b[0m \u001b[0mcsv\u001b[0m\u001b[0;34m.\u001b[0m\u001b[0mreader\u001b[0m\u001b[0;34m(\u001b[0m\u001b[0mfinput\u001b[0m\u001b[0;34m,\u001b[0m \u001b[0mdelimiter\u001b[0m\u001b[0;34m=\u001b[0m\u001b[0;34m'\\t'\u001b[0m\u001b[0;34m)\u001b[0m\u001b[0;34m\u001b[0m\u001b[0;34m\u001b[0m\u001b[0m\n\u001b[1;32m     18\u001b[0m         \u001b[0;32mfor\u001b[0m \u001b[0mrecord\u001b[0m \u001b[0;32min\u001b[0m \u001b[0mreader\u001b[0m\u001b[0;34m:\u001b[0m\u001b[0;34m\u001b[0m\u001b[0;34m\u001b[0m\u001b[0m\n",
      "\u001b[0;31mFileNotFoundError\u001b[0m: [Errno 2] No such file or directory: 'reads/SRR8494911.stats'"
     ]
    }
   ],
   "source": [
    "display.Markdown(pconbr.identity.read_kmer(\"SRR8494911\"))"
   ]
  },
  {
   "cell_type": "markdown",
   "metadata": {},
   "source": [
    "### S. pneumoniae dataset"
   ]
  },
  {
   "cell_type": "markdown",
   "metadata": {},
   "source": [
    "###  S. cerevisiae dataset"
   ]
  },
  {
   "cell_type": "markdown",
   "metadata": {},
   "source": [
    "## Long read correction\n",
    "\n",
    "To evaluate our correction against other tools we : \n",
    "- result against reference genome we use [ELECTOR](//doi.org/10.1101/512889) \n",
    "- assembly result (redbean, rala, flye) we use [QUAST](//doi.org/10.1093/bioinformatics/bty266)\n",
    "\n",
    "### Self correction\n",
    "\n",
    "We compare pconbr against other self correction tools.\n",
    "\n",
    "| Tools name | Reference                                                                |\n",
    "|:-----------|:-------------------------------------------------------------------------|\n",
    "| CONSENT    | [10.1101/546630](//doi.org/10.1101/546630)                               |\n",
    "| daccord    | [10.1101/106252](//doi.org/10.1101/106252)                               |\n",
    "| FLAS       | [10.1093/bioinformatics/btz206](//doi.org/10.1093/bioinformatics/btz206) |\n",
    "| MECAT      | [10.1038/nmeth.4432](//doi.org/10.1038/nmeth.4432)                       |"
   ]
  },
  {
   "cell_type": "markdown",
   "metadata": {},
   "source": [
    "#### Mapping result"
   ]
  },
  {
   "cell_type": "code",
   "execution_count": null,
   "metadata": {},
   "outputs": [],
   "source": [
    "display.Markdown(\"TODO\")"
   ]
  },
  {
   "cell_type": "markdown",
   "metadata": {},
   "source": [
    "#### Assembly result"
   ]
  },
  {
   "cell_type": "code",
   "execution_count": null,
   "metadata": {},
   "outputs": [],
   "source": [
    "display.Markdown(\"TODO\")"
   ]
  },
  {
   "cell_type": "markdown",
   "metadata": {},
   "source": [
    "### Hybrid correction\n",
    "\n",
    "We compare pconbr against other self correction tools.\n",
    "\n",
    "| Tools name | Reference                                                                |\n",
    "|:-----------|:-------------------------------------------------------------------------|\n"
   ]
  },
  {
   "cell_type": "markdown",
   "metadata": {},
   "source": [
    "#### Mapping result"
   ]
  },
  {
   "cell_type": "code",
   "execution_count": null,
   "metadata": {},
   "outputs": [],
   "source": [
    "display.Markdown(\"TODO\")"
   ]
  },
  {
   "cell_type": "markdown",
   "metadata": {},
   "source": [
    "##### Assembly result"
   ]
  },
  {
   "cell_type": "code",
   "execution_count": null,
   "metadata": {},
   "outputs": [],
   "source": [
    "display.Markdown(\"TODO\")"
   ]
  },
  {
   "cell_type": "markdown",
   "metadata": {},
   "source": [
    "## Polishing\n",
    "\n"
   ]
  }
 ],
 "metadata": {
  "kernelspec": {
   "display_name": "Python [conda env:pconbr] *",
   "language": "python",
   "name": "conda-env-pconbr-py"
  },
  "language_info": {
   "codemirror_mode": {
    "name": "ipython",
    "version": 3
   },
   "file_extension": ".py",
   "mimetype": "text/x-python",
   "name": "python",
   "nbconvert_exporter": "python",
   "pygments_lexer": "ipython3",
   "version": "3.7.3"
  }
 },
 "nbformat": 4,
 "nbformat_minor": 2
}
