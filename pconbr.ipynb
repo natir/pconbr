{
 "cells": [
  {
   "cell_type": "code",
   "execution_count": 1,
   "metadata": {},
   "outputs": [],
   "source": [
    "from IPython import display\n",
    "import pconbr\n",
    "import pconbr.bench\n",
    "import pconbr.bench.count\n",
    "import pconbr.identity\n",
    "import pconbr.kmer_count\n",
    "import pconbr.kmer_count.curve"
   ]
  },
  {
   "cell_type": "markdown",
   "metadata": {},
   "source": [
    "# Code name: pconbr\n",
    "\n",
    "Project target: Use a kmer counter to perform a pre-correction step on long-read data"
   ]
  },
  {
   "cell_type": "markdown",
   "metadata": {},
   "source": [
    "## Dataset\n",
    "\n",
    "### References\n",
    "\n",
    "| code name       | species         | path                          | genome size | \n",
    "|:----------------|:----------------|:------------------------------|------------:|\n",
    "| s_pneumoniae    | S. pneumoniae   | referencesCP026549.fasta      |      2.2 Mb |\n",
    "| c_vartiovaarae  | C. vartiovaarae |                               |     ~11.2Mb |\n",
    "| e_coli_ont      | E. coli         | references/CP028309.fasta      |       4.7Mb |\n",
    "| e_coli_pb       | E. coli         | references/CP028309.fasta      |       4.7Mb |\n",
    "| s_cerevisiae    | S. cerevisiae   | references/GCA_002163515.fasta |      12.4Mb |\n",
    "\n",
    "\n",
    "### Reads\n",
    "| code name       | species         | path                        | # bases (Gb)| coverage |\n",
    "|:----------------|:----------------|:----------------------------|------------:|---------:|\n",
    "| s_pneumoniae    | S. pneumoniae   | reads/SRR8556426.fasta      |         2.2 |   ~1000x |\n",
    "| c_vartiovaarae  | C. vartiovaarae | reads/ERR18779[66-70].fasta |         1.7 |    ~150x |\n",
    "| e_coli_ont      | E. coli         | reads/SRR8494940.fasta      |         1.6 |    ~340x |\n",
    "| e_coli_pb       | E. coli         | reads/SRR8494911.fasta      |         1.4 |    ~297x |\n",
    "| s_cerevisiae    | S. cerevisiae   | reads/SRR2157264_[1-2]      |       0.187 |     ~15x |\n",
    "\n"
   ]
  },
  {
   "cell_type": "code",
   "execution_count": 2,
   "metadata": {},
   "outputs": [],
   "source": [
    "# To download reference genome uncomment next line and execute this cell can take many time\n",
    "#!./script/dl_ref.sh"
   ]
  },
  {
   "cell_type": "code",
   "execution_count": 3,
   "metadata": {
    "scrolled": true
   },
   "outputs": [],
   "source": [
    "# To download data uncomment next line and execute this cell can take many time\n",
    "#!./script/dl_reads.sh"
   ]
  },
  {
   "cell_type": "markdown",
   "metadata": {},
   "source": [
    "## Kmer counting"
   ]
  },
  {
   "cell_type": "code",
   "execution_count": 4,
   "metadata": {},
   "outputs": [],
   "source": [
    "# To perform pcon kmc and jellyfish count on dataset uncomment next line and execute this cell\n",
    "#!snakemake -s pipeline/count.snakefile all"
   ]
  },
  {
   "cell_type": "markdown",
   "metadata": {},
   "source": [
    "File benchmark/{counter name}/{dataset codename}.tsv contains time (in second) and memory (in Mb) usage of each run this information was resume in this table."
   ]
  },
  {
   "cell_type": "code",
   "execution_count": 5,
   "metadata": {},
   "outputs": [
    {
     "data": {
      "text/markdown": [
       "| dataset | k | Jellyfish | Kmc | Pconbr |\n",
       "|:-|:-|-:|-:|-:|\n",
       "| c_vartiovaarae | k13 | 413.5882 | 193.6503 | 53.1597 |\n",
       "| c_vartiovaarae | k15 | 766.9468 | 784.6563 | 63.4619 |\n",
       "| c_vartiovaarae | k17 | 1288.2844 | 833.9791 | 252.0244 |\n",
       "| e_coli_ont | k13 | 403.0423 | 184.5209 | 49.9495 |\n",
       "| e_coli_ont | k15 | 1135.5411 | 724.3784 | 61.9082 |\n",
       "| e_coli_ont | k17 | 1166.9966 | 780.5869 | 214.6334 |\n",
       "| e_coli_pb | k13 | 361.0433 | 157.6295 | 44.4903 |\n",
       "| e_coli_pb | k15 | 1456.8800 | 732.9156 | 54.2674 |\n",
       "| e_coli_pb | k17 | 1255.0258 | 766.6578 | 215.9037 |\n",
       "| s_cerevisiae | k13 | 56.8721 | 24.2400 | 6.6724 |\n",
       "| s_cerevisiae | k15 | 123.3701 | 130.9554 | 9.8227 |\n",
       "| s_cerevisiae | k17 | 290.8972 | 133.2776 | 63.6876 |\n",
       "| s_pneumoniae | k13 | 540.4675 | 265.6703 | 66.9792 |\n",
       "| s_pneumoniae | k15 | 905.0415 | 870.6088 | 84.3198 |\n",
       "| s_pneumoniae | k17 | 1301.9399 | 939.4879 | 284.0073 |\n"
      ],
      "text/plain": [
       "<IPython.core.display.Markdown object>"
      ]
     },
     "execution_count": 5,
     "metadata": {},
     "output_type": "execute_result"
    }
   ],
   "source": [
    "display.Markdown(pconbr.bench.count.get(\"time\"))"
   ]
  },
  {
   "cell_type": "code",
   "execution_count": 6,
   "metadata": {
    "scrolled": false
   },
   "outputs": [
    {
     "data": {
      "text/markdown": [
       "| dataset | k | Jellyfish | Kmc | Pconbr |\n",
       "|:-|:-|-:|-:|-:|\n",
       "| c_vartiovaarae | k13 | 1581.97 | 2143.56 | 22.00 |\n",
       "| c_vartiovaarae | k15 | 6204.13 | 10830.66 | 262.54 |\n",
       "| c_vartiovaarae | k17 | 16391.34 | 11046.30 | 4101.01 |\n",
       "| e_coli_ont | k13 | 1387.03 | 2219.09 | 22.03 |\n",
       "| e_coli_ont | k15 | 22121.59 | 10636.99 | 262.75 |\n",
       "| e_coli_ont | k17 | 16391.30 | 10898.98 | 4103.75 |\n",
       "| e_coli_pb | k13 | 1993.30 | 2034.21 | 21.91 |\n",
       "| e_coli_pb | k15 | 35264.41 | 10717.47 | 262.36 |\n",
       "| e_coli_pb | k17 | 16391.14 | 11079.68 | 4103.34 |\n",
       "| s_cerevisiae | k13 | 257.59 | 657.64 | 22.02 |\n",
       "| s_cerevisiae | k15 | 1957.95 | 1442.41 | 262.57 |\n",
       "| s_cerevisiae | k17 | 16391.10 | 1367.47 | 4092.84 |\n",
       "| s_pneumoniae | k13 | 1783.90 | 2810.83 | 21.98 |\n",
       "| s_pneumoniae | k15 | 11002.25 | 11242.54 | 262.57 |\n",
       "| s_pneumoniae | k17 | 16391.33 | 11273.15 | 4103.57 |\n"
      ],
      "text/plain": [
       "<IPython.core.display.Markdown object>"
      ]
     },
     "execution_count": 6,
     "metadata": {},
     "output_type": "execute_result"
    }
   ],
   "source": [
    "display.Markdown(pconbr.bench.count.get(\"memory\"))"
   ]
  },
  {
   "cell_type": "markdown",
   "metadata": {},
   "source": [
    "## PconBr parameter exploration\n",
    "\n",
    "### Simulated dataset\n",
    "\n",
    "Error rate was evaluate by `samtools stats` line `error rate:`.\n",
    "\n",
    "Read was simulate by [Badread](https://github.com/rrwick/Badread) on E. coli CFT073 genome ([ENA id CP028309](https://www.ebi.ac.uk/ena/data/view/CP028309)), error rate 5.625682.\n",
    "\n",
    "We evaluate identity before pconbr pipeline with diffrente value of kmer size (k), number of kmer was required to validate kmer (s), abundance minimal of solid kmer (a).\n"
   ]
  },
  {
   "cell_type": "code",
   "execution_count": 7,
   "metadata": {},
   "outputs": [],
   "source": [
    "# Run some snakemake pipeline to test parameter on dataset\n",
    "#!snakemake -s pipeline/parameter_exploration.snakefile genomic_kmer\n",
    "#!snakemake -s pipeline/parameter_exploration.snakefile read_kmer\n",
    "#!snakemake -s pipeline/parameter_exploration.snakefile bacteria\n",
    "#!snakemake -s pipeline/parameter_exploration.snakefile yeast"
   ]
  },
  {
   "cell_type": "markdown",
   "metadata": {},
   "source": [
    "### Synthetic dataset\n",
    "\n",
    "#### Kmer spectrum"
   ]
  },
  {
   "cell_type": "code",
   "execution_count": 23,
   "metadata": {
    "scrolled": false
   },
   "outputs": [
    {
     "data": {
      "application/vnd.plotly.v1+json": {
       "config": {
        "plotlyServerURL": "https://plot.ly"
       },
       "data": [
        {
         "name": "k13",
         "type": "bar",
         "y": [
          4309610,
          4538658,
          3956908,
          3262479,
          2632123,
          2106568,
          1681047,
          1345827,
          1074821,
          862033,
          695561,
          561449,
          453653,
          369633,
          301012,
          245333,
          201695,
          165426,
          136120,
          112815,
          92553,
          76678,
          64249,
          53578,
          44824,
          37897,
          31150,
          26738,
          22635,
          18735,
          16127,
          13404,
          11612,
          9825,
          8542,
          7412,
          6532,
          6021,
          5618,
          5292,
          5275,
          5557,
          6010,
          6792,
          7708,
          9041,
          10756,
          13239,
          15810,
          19065,
          22503,
          26684,
          31233,
          36560,
          42196,
          48367,
          54696,
          61532,
          68191,
          74689,
          81580,
          87865,
          93560,
          98274,
          103385,
          107828,
          110653,
          112922,
          115448,
          114513,
          115339,
          113401,
          111419,
          109187,
          105683,
          100870,
          96336,
          91527,
          86710,
          80950,
          75996,
          70503,
          65315,
          60357,
          54671,
          49913,
          45120,
          41190,
          36857,
          33407,
          30014,
          26701,
          23664,
          21309,
          19002,
          16880,
          15043,
          13474,
          12240,
          10698,
          9524,
          8664,
          7828,
          7093,
          6426,
          6004,
          5722,
          5314,
          5124,
          4997,
          4816,
          4884,
          4714,
          4841,
          4990,
          5173,
          5291,
          5543,
          5626,
          6026,
          6265,
          6568,
          7038,
          7457,
          7600,
          7889,
          8264,
          8706,
          8882,
          9229,
          9593,
          9823,
          9917,
          10077,
          10307,
          10563,
          10559,
          10745,
          10956,
          10779,
          10725,
          10567,
          10609,
          10476,
          10427,
          10079,
          9858,
          9586,
          9303,
          9162,
          8747,
          8513,
          8133,
          7789,
          7514,
          7150,
          6909,
          6409,
          6127,
          5710,
          5537,
          5333,
          4769,
          4494,
          4330,
          3995,
          3713,
          3563,
          3284,
          3062,
          2911,
          2754,
          2568,
          2496,
          2274,
          2105,
          2055,
          1873,
          1841,
          1764,
          1649,
          1522,
          1541,
          1583,
          1502,
          1481,
          1468,
          1447,
          1350,
          1362,
          1418,
          1381,
          1390,
          1397,
          1374,
          1432,
          1474,
          1531,
          1425,
          1481,
          1433,
          1447,
          1483,
          1511,
          1578,
          1545,
          1482,
          1623,
          1597,
          1597,
          1503,
          1564,
          1573,
          1542,
          1545,
          1511,
          1432,
          1419,
          1395,
          1387,
          1363,
          1340,
          1329,
          1300,
          1305,
          1199,
          1235,
          1097,
          1135,
          1114,
          1062,
          1041,
          964,
          903,
          927,
          902,
          821,
          833,
          779,
          718,
          722,
          636,
          656,
          633,
          613,
          628,
          575,
          526,
          520,
          521,
          524,
          496,
          469,
          437,
          430,
          29072
         ]
        },
        {
         "name": "k15",
         "type": "bar",
         "y": [
          414623011,
          78470982,
          22722860,
          8541297,
          3743094,
          1810539,
          944000,
          526003,
          307305,
          189313,
          122358,
          80449,
          55464,
          38137,
          26879,
          19085,
          13335,
          9059,
          6189,
          4365,
          3017,
          2069,
          1543,
          1153,
          879,
          820,
          781,
          796,
          900,
          1064,
          1337,
          1652,
          2133,
          2743,
          3771,
          5059,
          6992,
          9003,
          12076,
          15817,
          20509,
          25744,
          32038,
          39978,
          48863,
          59041,
          70230,
          81788,
          95061,
          108620,
          121695,
          135777,
          149627,
          161420,
          172878,
          182067,
          189824,
          195084,
          197918,
          198042,
          197296,
          192781,
          185395,
          177368,
          168695,
          156823,
          144918,
          132260,
          120006,
          107156,
          94844,
          81958,
          71247,
          61328,
          51730,
          43462,
          36455,
          29704,
          24298,
          19396,
          15634,
          12427,
          9894,
          7544,
          5955,
          4574,
          3651,
          2838,
          2167,
          1783,
          1362,
          1148,
          966,
          862,
          769,
          772,
          745,
          744,
          793,
          875,
          871,
          881,
          1061,
          1131,
          1176,
          1266,
          1338,
          1471,
          1557,
          1682,
          1808,
          1886,
          1944,
          2004,
          2162,
          2130,
          2144,
          2208,
          2207,
          2229,
          2341,
          2249,
          2281,
          2238,
          2172,
          2172,
          2167,
          2076,
          1963,
          1897,
          1841,
          1700,
          1674,
          1521,
          1550,
          1412,
          1330,
          1175,
          1100,
          1002,
          942,
          857,
          763,
          654,
          635,
          495,
          456,
          413,
          431,
          366,
          319,
          326,
          275,
          239,
          197,
          218,
          186,
          169,
          152,
          168,
          143,
          135,
          124,
          159,
          102,
          121,
          122,
          115,
          117,
          120,
          117,
          106,
          105,
          88,
          109,
          102,
          85,
          104,
          100,
          106,
          99,
          107,
          118,
          99,
          103,
          92,
          103,
          90,
          83,
          88,
          90,
          99,
          85,
          82,
          86,
          78,
          76,
          73,
          63,
          81,
          73,
          65,
          53,
          57,
          48,
          46,
          54,
          38,
          54,
          51,
          47,
          34,
          40,
          36,
          37,
          36,
          34,
          44,
          34,
          28,
          27,
          24,
          26,
          25,
          21,
          21,
          20,
          17,
          29,
          24,
          19,
          12,
          22,
          16,
          19,
          22,
          19,
          24,
          14,
          24,
          15,
          20,
          18,
          16,
          16,
          14,
          27,
          11,
          14,
          25,
          16,
          26,
          16,
          17,
          21,
          1797
         ]
        },
        {
         "name": "k17",
         "type": "bar",
         "y": [
          8415798965,
          141827031,
          18505837,
          5217146,
          1941532,
          855678,
          430845,
          240338,
          146164,
          94782,
          63699,
          43612,
          30323,
          21050,
          14254,
          8882,
          5855,
          3804,
          2414,
          1485,
          1028,
          751,
          702,
          717,
          774,
          940,
          1197,
          1511,
          2018,
          2680,
          3520,
          5066,
          6826,
          9325,
          12501,
          16687,
          21830,
          28101,
          35536,
          44431,
          55127,
          66716,
          79811,
          93733,
          108239,
          124373,
          140428,
          155660,
          170117,
          182304,
          194511,
          204274,
          211817,
          215462,
          215281,
          213622,
          208662,
          200382,
          190915,
          180178,
          167983,
          153829,
          139683,
          124787,
          110217,
          96336,
          83416,
          70508,
          59667,
          49439,
          41213,
          33326,
          26785,
          21216,
          16567,
          13157,
          10233,
          7689,
          5909,
          4404,
          3418,
          2467,
          1818,
          1297,
          1049,
          825,
          564,
          489,
          411,
          337,
          285,
          325,
          309,
          286,
          319,
          353,
          347,
          375,
          406,
          445,
          443,
          458,
          493,
          540,
          533,
          516,
          569,
          575,
          567,
          549,
          544,
          541,
          567,
          497,
          512,
          479,
          501,
          465,
          492,
          467,
          437,
          428,
          414,
          415,
          375,
          360,
          338,
          347,
          308,
          272,
          278,
          216,
          199,
          177,
          162,
          175,
          140,
          127,
          108,
          115,
          109,
          94,
          93,
          79,
          90,
          83,
          69,
          66,
          71,
          71,
          62,
          71,
          68,
          72,
          60,
          69,
          69,
          60,
          68,
          59,
          63,
          57,
          42,
          54,
          45,
          46,
          50,
          59,
          43,
          58,
          39,
          38,
          46,
          45,
          47,
          30,
          38,
          24,
          34,
          29,
          34,
          30,
          34,
          32,
          21,
          27,
          35,
          30,
          24,
          32,
          28,
          32,
          18,
          15,
          29,
          21,
          18,
          16,
          17,
          25,
          18,
          14,
          22,
          25,
          20,
          22,
          17,
          12,
          16,
          17,
          19,
          8,
          19,
          13,
          15,
          16,
          15,
          15,
          22,
          19,
          14,
          16,
          15,
          16,
          13,
          14,
          14,
          17,
          10,
          13,
          14,
          14,
          15,
          14,
          14,
          11,
          12,
          10,
          13,
          13,
          8,
          5,
          11,
          7,
          10,
          13,
          9,
          8,
          4,
          15,
          17,
          2,
          11,
          16,
          7,
          1308
         ]
        }
       ],
       "layout": {
        "template": {
         "data": {
          "bar": [
           {
            "error_x": {
             "color": "#2a3f5f"
            },
            "error_y": {
             "color": "#2a3f5f"
            },
            "marker": {
             "line": {
              "color": "#E5ECF6",
              "width": 0.5
             }
            },
            "type": "bar"
           }
          ],
          "barpolar": [
           {
            "marker": {
             "line": {
              "color": "#E5ECF6",
              "width": 0.5
             }
            },
            "type": "barpolar"
           }
          ],
          "carpet": [
           {
            "aaxis": {
             "endlinecolor": "#2a3f5f",
             "gridcolor": "white",
             "linecolor": "white",
             "minorgridcolor": "white",
             "startlinecolor": "#2a3f5f"
            },
            "baxis": {
             "endlinecolor": "#2a3f5f",
             "gridcolor": "white",
             "linecolor": "white",
             "minorgridcolor": "white",
             "startlinecolor": "#2a3f5f"
            },
            "type": "carpet"
           }
          ],
          "choropleth": [
           {
            "colorbar": {
             "outlinewidth": 0,
             "ticks": ""
            },
            "type": "choropleth"
           }
          ],
          "contour": [
           {
            "colorbar": {
             "outlinewidth": 0,
             "ticks": ""
            },
            "colorscale": [
             [
              0,
              "#0d0887"
             ],
             [
              0.1111111111111111,
              "#46039f"
             ],
             [
              0.2222222222222222,
              "#7201a8"
             ],
             [
              0.3333333333333333,
              "#9c179e"
             ],
             [
              0.4444444444444444,
              "#bd3786"
             ],
             [
              0.5555555555555556,
              "#d8576b"
             ],
             [
              0.6666666666666666,
              "#ed7953"
             ],
             [
              0.7777777777777778,
              "#fb9f3a"
             ],
             [
              0.8888888888888888,
              "#fdca26"
             ],
             [
              1,
              "#f0f921"
             ]
            ],
            "type": "contour"
           }
          ],
          "contourcarpet": [
           {
            "colorbar": {
             "outlinewidth": 0,
             "ticks": ""
            },
            "type": "contourcarpet"
           }
          ],
          "heatmap": [
           {
            "colorbar": {
             "outlinewidth": 0,
             "ticks": ""
            },
            "colorscale": [
             [
              0,
              "#0d0887"
             ],
             [
              0.1111111111111111,
              "#46039f"
             ],
             [
              0.2222222222222222,
              "#7201a8"
             ],
             [
              0.3333333333333333,
              "#9c179e"
             ],
             [
              0.4444444444444444,
              "#bd3786"
             ],
             [
              0.5555555555555556,
              "#d8576b"
             ],
             [
              0.6666666666666666,
              "#ed7953"
             ],
             [
              0.7777777777777778,
              "#fb9f3a"
             ],
             [
              0.8888888888888888,
              "#fdca26"
             ],
             [
              1,
              "#f0f921"
             ]
            ],
            "type": "heatmap"
           }
          ],
          "heatmapgl": [
           {
            "colorbar": {
             "outlinewidth": 0,
             "ticks": ""
            },
            "colorscale": [
             [
              0,
              "#0d0887"
             ],
             [
              0.1111111111111111,
              "#46039f"
             ],
             [
              0.2222222222222222,
              "#7201a8"
             ],
             [
              0.3333333333333333,
              "#9c179e"
             ],
             [
              0.4444444444444444,
              "#bd3786"
             ],
             [
              0.5555555555555556,
              "#d8576b"
             ],
             [
              0.6666666666666666,
              "#ed7953"
             ],
             [
              0.7777777777777778,
              "#fb9f3a"
             ],
             [
              0.8888888888888888,
              "#fdca26"
             ],
             [
              1,
              "#f0f921"
             ]
            ],
            "type": "heatmapgl"
           }
          ],
          "histogram": [
           {
            "marker": {
             "colorbar": {
              "outlinewidth": 0,
              "ticks": ""
             }
            },
            "type": "histogram"
           }
          ],
          "histogram2d": [
           {
            "colorbar": {
             "outlinewidth": 0,
             "ticks": ""
            },
            "colorscale": [
             [
              0,
              "#0d0887"
             ],
             [
              0.1111111111111111,
              "#46039f"
             ],
             [
              0.2222222222222222,
              "#7201a8"
             ],
             [
              0.3333333333333333,
              "#9c179e"
             ],
             [
              0.4444444444444444,
              "#bd3786"
             ],
             [
              0.5555555555555556,
              "#d8576b"
             ],
             [
              0.6666666666666666,
              "#ed7953"
             ],
             [
              0.7777777777777778,
              "#fb9f3a"
             ],
             [
              0.8888888888888888,
              "#fdca26"
             ],
             [
              1,
              "#f0f921"
             ]
            ],
            "type": "histogram2d"
           }
          ],
          "histogram2dcontour": [
           {
            "colorbar": {
             "outlinewidth": 0,
             "ticks": ""
            },
            "colorscale": [
             [
              0,
              "#0d0887"
             ],
             [
              0.1111111111111111,
              "#46039f"
             ],
             [
              0.2222222222222222,
              "#7201a8"
             ],
             [
              0.3333333333333333,
              "#9c179e"
             ],
             [
              0.4444444444444444,
              "#bd3786"
             ],
             [
              0.5555555555555556,
              "#d8576b"
             ],
             [
              0.6666666666666666,
              "#ed7953"
             ],
             [
              0.7777777777777778,
              "#fb9f3a"
             ],
             [
              0.8888888888888888,
              "#fdca26"
             ],
             [
              1,
              "#f0f921"
             ]
            ],
            "type": "histogram2dcontour"
           }
          ],
          "mesh3d": [
           {
            "colorbar": {
             "outlinewidth": 0,
             "ticks": ""
            },
            "type": "mesh3d"
           }
          ],
          "parcoords": [
           {
            "line": {
             "colorbar": {
              "outlinewidth": 0,
              "ticks": ""
             }
            },
            "type": "parcoords"
           }
          ],
          "scatter": [
           {
            "marker": {
             "colorbar": {
              "outlinewidth": 0,
              "ticks": ""
             }
            },
            "type": "scatter"
           }
          ],
          "scatter3d": [
           {
            "line": {
             "colorbar": {
              "outlinewidth": 0,
              "ticks": ""
             }
            },
            "marker": {
             "colorbar": {
              "outlinewidth": 0,
              "ticks": ""
             }
            },
            "type": "scatter3d"
           }
          ],
          "scattercarpet": [
           {
            "marker": {
             "colorbar": {
              "outlinewidth": 0,
              "ticks": ""
             }
            },
            "type": "scattercarpet"
           }
          ],
          "scattergeo": [
           {
            "marker": {
             "colorbar": {
              "outlinewidth": 0,
              "ticks": ""
             }
            },
            "type": "scattergeo"
           }
          ],
          "scattergl": [
           {
            "marker": {
             "colorbar": {
              "outlinewidth": 0,
              "ticks": ""
             }
            },
            "type": "scattergl"
           }
          ],
          "scattermapbox": [
           {
            "marker": {
             "colorbar": {
              "outlinewidth": 0,
              "ticks": ""
             }
            },
            "type": "scattermapbox"
           }
          ],
          "scatterpolar": [
           {
            "marker": {
             "colorbar": {
              "outlinewidth": 0,
              "ticks": ""
             }
            },
            "type": "scatterpolar"
           }
          ],
          "scatterpolargl": [
           {
            "marker": {
             "colorbar": {
              "outlinewidth": 0,
              "ticks": ""
             }
            },
            "type": "scatterpolargl"
           }
          ],
          "scatterternary": [
           {
            "marker": {
             "colorbar": {
              "outlinewidth": 0,
              "ticks": ""
             }
            },
            "type": "scatterternary"
           }
          ],
          "surface": [
           {
            "colorbar": {
             "outlinewidth": 0,
             "ticks": ""
            },
            "colorscale": [
             [
              0,
              "#0d0887"
             ],
             [
              0.1111111111111111,
              "#46039f"
             ],
             [
              0.2222222222222222,
              "#7201a8"
             ],
             [
              0.3333333333333333,
              "#9c179e"
             ],
             [
              0.4444444444444444,
              "#bd3786"
             ],
             [
              0.5555555555555556,
              "#d8576b"
             ],
             [
              0.6666666666666666,
              "#ed7953"
             ],
             [
              0.7777777777777778,
              "#fb9f3a"
             ],
             [
              0.8888888888888888,
              "#fdca26"
             ],
             [
              1,
              "#f0f921"
             ]
            ],
            "type": "surface"
           }
          ],
          "table": [
           {
            "cells": {
             "fill": {
              "color": "#EBF0F8"
             },
             "line": {
              "color": "white"
             }
            },
            "header": {
             "fill": {
              "color": "#C8D4E3"
             },
             "line": {
              "color": "white"
             }
            },
            "type": "table"
           }
          ]
         },
         "layout": {
          "annotationdefaults": {
           "arrowcolor": "#2a3f5f",
           "arrowhead": 0,
           "arrowwidth": 1
          },
          "colorscale": {
           "diverging": [
            [
             0,
             "#8e0152"
            ],
            [
             0.1,
             "#c51b7d"
            ],
            [
             0.2,
             "#de77ae"
            ],
            [
             0.3,
             "#f1b6da"
            ],
            [
             0.4,
             "#fde0ef"
            ],
            [
             0.5,
             "#f7f7f7"
            ],
            [
             0.6,
             "#e6f5d0"
            ],
            [
             0.7,
             "#b8e186"
            ],
            [
             0.8,
             "#7fbc41"
            ],
            [
             0.9,
             "#4d9221"
            ],
            [
             1,
             "#276419"
            ]
           ],
           "sequential": [
            [
             0,
             "#0d0887"
            ],
            [
             0.1111111111111111,
             "#46039f"
            ],
            [
             0.2222222222222222,
             "#7201a8"
            ],
            [
             0.3333333333333333,
             "#9c179e"
            ],
            [
             0.4444444444444444,
             "#bd3786"
            ],
            [
             0.5555555555555556,
             "#d8576b"
            ],
            [
             0.6666666666666666,
             "#ed7953"
            ],
            [
             0.7777777777777778,
             "#fb9f3a"
            ],
            [
             0.8888888888888888,
             "#fdca26"
            ],
            [
             1,
             "#f0f921"
            ]
           ],
           "sequentialminus": [
            [
             0,
             "#0d0887"
            ],
            [
             0.1111111111111111,
             "#46039f"
            ],
            [
             0.2222222222222222,
             "#7201a8"
            ],
            [
             0.3333333333333333,
             "#9c179e"
            ],
            [
             0.4444444444444444,
             "#bd3786"
            ],
            [
             0.5555555555555556,
             "#d8576b"
            ],
            [
             0.6666666666666666,
             "#ed7953"
            ],
            [
             0.7777777777777778,
             "#fb9f3a"
            ],
            [
             0.8888888888888888,
             "#fdca26"
            ],
            [
             1,
             "#f0f921"
            ]
           ]
          },
          "colorway": [
           "#636efa",
           "#EF553B",
           "#00cc96",
           "#ab63fa",
           "#FFA15A",
           "#19d3f3",
           "#FF6692",
           "#B6E880",
           "#FF97FF",
           "#FECB52"
          ],
          "font": {
           "color": "#2a3f5f"
          },
          "geo": {
           "bgcolor": "white",
           "lakecolor": "white",
           "landcolor": "#E5ECF6",
           "showlakes": true,
           "showland": true,
           "subunitcolor": "white"
          },
          "hoverlabel": {
           "align": "left"
          },
          "hovermode": "closest",
          "mapbox": {
           "style": "light"
          },
          "paper_bgcolor": "white",
          "plot_bgcolor": "#E5ECF6",
          "polar": {
           "angularaxis": {
            "gridcolor": "white",
            "linecolor": "white",
            "ticks": ""
           },
           "bgcolor": "#E5ECF6",
           "radialaxis": {
            "gridcolor": "white",
            "linecolor": "white",
            "ticks": ""
           }
          },
          "scene": {
           "xaxis": {
            "backgroundcolor": "#E5ECF6",
            "gridcolor": "white",
            "gridwidth": 2,
            "linecolor": "white",
            "showbackground": true,
            "ticks": "",
            "zerolinecolor": "white"
           },
           "yaxis": {
            "backgroundcolor": "#E5ECF6",
            "gridcolor": "white",
            "gridwidth": 2,
            "linecolor": "white",
            "showbackground": true,
            "ticks": "",
            "zerolinecolor": "white"
           },
           "zaxis": {
            "backgroundcolor": "#E5ECF6",
            "gridcolor": "white",
            "gridwidth": 2,
            "linecolor": "white",
            "showbackground": true,
            "ticks": "",
            "zerolinecolor": "white"
           }
          },
          "shapedefaults": {
           "line": {
            "color": "#2a3f5f"
           }
          },
          "ternary": {
           "aaxis": {
            "gridcolor": "white",
            "linecolor": "white",
            "ticks": ""
           },
           "baxis": {
            "gridcolor": "white",
            "linecolor": "white",
            "ticks": ""
           },
           "bgcolor": "#E5ECF6",
           "caxis": {
            "gridcolor": "white",
            "linecolor": "white",
            "ticks": ""
           }
          },
          "title": {
           "x": 0.05
          },
          "xaxis": {
           "automargin": true,
           "gridcolor": "white",
           "linecolor": "white",
           "ticks": "",
           "zerolinecolor": "white",
           "zerolinewidth": 2
          },
          "yaxis": {
           "automargin": true,
           "gridcolor": "white",
           "linecolor": "white",
           "ticks": "",
           "zerolinecolor": "white",
           "zerolinewidth": 2
          }
         }
        },
        "xaxis": {
         "range": [
          0,
          125
         ]
        },
        "yaxis": {
         "range": [
          0,
          225000
         ]
        }
       }
      },
      "text/html": [
       "<div>\n",
       "        \n",
       "        \n",
       "            <div id=\"6ae80b39-6f0b-4810-b654-b46dc99b85b1\" class=\"plotly-graph-div\" style=\"height:525px; width:100%;\"></div>\n",
       "            <script type=\"text/javascript\">\n",
       "                require([\"plotly\"], function(Plotly) {\n",
       "                    window.PLOTLYENV=window.PLOTLYENV || {};\n",
       "                    \n",
       "                if (document.getElementById(\"6ae80b39-6f0b-4810-b654-b46dc99b85b1\")) {\n",
       "                    Plotly.newPlot(\n",
       "                        '6ae80b39-6f0b-4810-b654-b46dc99b85b1',\n",
       "                        [{\"name\": \"k13\", \"type\": \"bar\", \"y\": [4309610, 4538658, 3956908, 3262479, 2632123, 2106568, 1681047, 1345827, 1074821, 862033, 695561, 561449, 453653, 369633, 301012, 245333, 201695, 165426, 136120, 112815, 92553, 76678, 64249, 53578, 44824, 37897, 31150, 26738, 22635, 18735, 16127, 13404, 11612, 9825, 8542, 7412, 6532, 6021, 5618, 5292, 5275, 5557, 6010, 6792, 7708, 9041, 10756, 13239, 15810, 19065, 22503, 26684, 31233, 36560, 42196, 48367, 54696, 61532, 68191, 74689, 81580, 87865, 93560, 98274, 103385, 107828, 110653, 112922, 115448, 114513, 115339, 113401, 111419, 109187, 105683, 100870, 96336, 91527, 86710, 80950, 75996, 70503, 65315, 60357, 54671, 49913, 45120, 41190, 36857, 33407, 30014, 26701, 23664, 21309, 19002, 16880, 15043, 13474, 12240, 10698, 9524, 8664, 7828, 7093, 6426, 6004, 5722, 5314, 5124, 4997, 4816, 4884, 4714, 4841, 4990, 5173, 5291, 5543, 5626, 6026, 6265, 6568, 7038, 7457, 7600, 7889, 8264, 8706, 8882, 9229, 9593, 9823, 9917, 10077, 10307, 10563, 10559, 10745, 10956, 10779, 10725, 10567, 10609, 10476, 10427, 10079, 9858, 9586, 9303, 9162, 8747, 8513, 8133, 7789, 7514, 7150, 6909, 6409, 6127, 5710, 5537, 5333, 4769, 4494, 4330, 3995, 3713, 3563, 3284, 3062, 2911, 2754, 2568, 2496, 2274, 2105, 2055, 1873, 1841, 1764, 1649, 1522, 1541, 1583, 1502, 1481, 1468, 1447, 1350, 1362, 1418, 1381, 1390, 1397, 1374, 1432, 1474, 1531, 1425, 1481, 1433, 1447, 1483, 1511, 1578, 1545, 1482, 1623, 1597, 1597, 1503, 1564, 1573, 1542, 1545, 1511, 1432, 1419, 1395, 1387, 1363, 1340, 1329, 1300, 1305, 1199, 1235, 1097, 1135, 1114, 1062, 1041, 964, 903, 927, 902, 821, 833, 779, 718, 722, 636, 656, 633, 613, 628, 575, 526, 520, 521, 524, 496, 469, 437, 430, 29072]}, {\"name\": \"k15\", \"type\": \"bar\", \"y\": [414623011, 78470982, 22722860, 8541297, 3743094, 1810539, 944000, 526003, 307305, 189313, 122358, 80449, 55464, 38137, 26879, 19085, 13335, 9059, 6189, 4365, 3017, 2069, 1543, 1153, 879, 820, 781, 796, 900, 1064, 1337, 1652, 2133, 2743, 3771, 5059, 6992, 9003, 12076, 15817, 20509, 25744, 32038, 39978, 48863, 59041, 70230, 81788, 95061, 108620, 121695, 135777, 149627, 161420, 172878, 182067, 189824, 195084, 197918, 198042, 197296, 192781, 185395, 177368, 168695, 156823, 144918, 132260, 120006, 107156, 94844, 81958, 71247, 61328, 51730, 43462, 36455, 29704, 24298, 19396, 15634, 12427, 9894, 7544, 5955, 4574, 3651, 2838, 2167, 1783, 1362, 1148, 966, 862, 769, 772, 745, 744, 793, 875, 871, 881, 1061, 1131, 1176, 1266, 1338, 1471, 1557, 1682, 1808, 1886, 1944, 2004, 2162, 2130, 2144, 2208, 2207, 2229, 2341, 2249, 2281, 2238, 2172, 2172, 2167, 2076, 1963, 1897, 1841, 1700, 1674, 1521, 1550, 1412, 1330, 1175, 1100, 1002, 942, 857, 763, 654, 635, 495, 456, 413, 431, 366, 319, 326, 275, 239, 197, 218, 186, 169, 152, 168, 143, 135, 124, 159, 102, 121, 122, 115, 117, 120, 117, 106, 105, 88, 109, 102, 85, 104, 100, 106, 99, 107, 118, 99, 103, 92, 103, 90, 83, 88, 90, 99, 85, 82, 86, 78, 76, 73, 63, 81, 73, 65, 53, 57, 48, 46, 54, 38, 54, 51, 47, 34, 40, 36, 37, 36, 34, 44, 34, 28, 27, 24, 26, 25, 21, 21, 20, 17, 29, 24, 19, 12, 22, 16, 19, 22, 19, 24, 14, 24, 15, 20, 18, 16, 16, 14, 27, 11, 14, 25, 16, 26, 16, 17, 21, 1797]}, {\"name\": \"k17\", \"type\": \"bar\", \"y\": [8415798965, 141827031, 18505837, 5217146, 1941532, 855678, 430845, 240338, 146164, 94782, 63699, 43612, 30323, 21050, 14254, 8882, 5855, 3804, 2414, 1485, 1028, 751, 702, 717, 774, 940, 1197, 1511, 2018, 2680, 3520, 5066, 6826, 9325, 12501, 16687, 21830, 28101, 35536, 44431, 55127, 66716, 79811, 93733, 108239, 124373, 140428, 155660, 170117, 182304, 194511, 204274, 211817, 215462, 215281, 213622, 208662, 200382, 190915, 180178, 167983, 153829, 139683, 124787, 110217, 96336, 83416, 70508, 59667, 49439, 41213, 33326, 26785, 21216, 16567, 13157, 10233, 7689, 5909, 4404, 3418, 2467, 1818, 1297, 1049, 825, 564, 489, 411, 337, 285, 325, 309, 286, 319, 353, 347, 375, 406, 445, 443, 458, 493, 540, 533, 516, 569, 575, 567, 549, 544, 541, 567, 497, 512, 479, 501, 465, 492, 467, 437, 428, 414, 415, 375, 360, 338, 347, 308, 272, 278, 216, 199, 177, 162, 175, 140, 127, 108, 115, 109, 94, 93, 79, 90, 83, 69, 66, 71, 71, 62, 71, 68, 72, 60, 69, 69, 60, 68, 59, 63, 57, 42, 54, 45, 46, 50, 59, 43, 58, 39, 38, 46, 45, 47, 30, 38, 24, 34, 29, 34, 30, 34, 32, 21, 27, 35, 30, 24, 32, 28, 32, 18, 15, 29, 21, 18, 16, 17, 25, 18, 14, 22, 25, 20, 22, 17, 12, 16, 17, 19, 8, 19, 13, 15, 16, 15, 15, 22, 19, 14, 16, 15, 16, 13, 14, 14, 17, 10, 13, 14, 14, 15, 14, 14, 11, 12, 10, 13, 13, 8, 5, 11, 7, 10, 13, 9, 8, 4, 15, 17, 2, 11, 16, 7, 1308]}],\n",
       "                        {\"template\": {\"data\": {\"bar\": [{\"error_x\": {\"color\": \"#2a3f5f\"}, \"error_y\": {\"color\": \"#2a3f5f\"}, \"marker\": {\"line\": {\"color\": \"#E5ECF6\", \"width\": 0.5}}, \"type\": \"bar\"}], \"barpolar\": [{\"marker\": {\"line\": {\"color\": \"#E5ECF6\", \"width\": 0.5}}, \"type\": \"barpolar\"}], \"carpet\": [{\"aaxis\": {\"endlinecolor\": \"#2a3f5f\", \"gridcolor\": \"white\", \"linecolor\": \"white\", \"minorgridcolor\": \"white\", \"startlinecolor\": \"#2a3f5f\"}, \"baxis\": {\"endlinecolor\": \"#2a3f5f\", \"gridcolor\": \"white\", \"linecolor\": \"white\", \"minorgridcolor\": \"white\", \"startlinecolor\": \"#2a3f5f\"}, \"type\": \"carpet\"}], \"choropleth\": [{\"colorbar\": {\"outlinewidth\": 0, \"ticks\": \"\"}, \"type\": \"choropleth\"}], \"contour\": [{\"colorbar\": {\"outlinewidth\": 0, \"ticks\": \"\"}, \"colorscale\": [[0.0, \"#0d0887\"], [0.1111111111111111, \"#46039f\"], [0.2222222222222222, \"#7201a8\"], [0.3333333333333333, \"#9c179e\"], [0.4444444444444444, \"#bd3786\"], [0.5555555555555556, \"#d8576b\"], [0.6666666666666666, \"#ed7953\"], [0.7777777777777778, \"#fb9f3a\"], [0.8888888888888888, \"#fdca26\"], [1.0, \"#f0f921\"]], \"type\": \"contour\"}], \"contourcarpet\": [{\"colorbar\": {\"outlinewidth\": 0, \"ticks\": \"\"}, \"type\": \"contourcarpet\"}], \"heatmap\": [{\"colorbar\": {\"outlinewidth\": 0, \"ticks\": \"\"}, \"colorscale\": [[0.0, \"#0d0887\"], [0.1111111111111111, \"#46039f\"], [0.2222222222222222, \"#7201a8\"], [0.3333333333333333, \"#9c179e\"], [0.4444444444444444, \"#bd3786\"], [0.5555555555555556, \"#d8576b\"], [0.6666666666666666, \"#ed7953\"], [0.7777777777777778, \"#fb9f3a\"], [0.8888888888888888, \"#fdca26\"], [1.0, \"#f0f921\"]], \"type\": \"heatmap\"}], \"heatmapgl\": [{\"colorbar\": {\"outlinewidth\": 0, \"ticks\": \"\"}, \"colorscale\": [[0.0, \"#0d0887\"], [0.1111111111111111, \"#46039f\"], [0.2222222222222222, \"#7201a8\"], [0.3333333333333333, \"#9c179e\"], [0.4444444444444444, \"#bd3786\"], [0.5555555555555556, \"#d8576b\"], [0.6666666666666666, \"#ed7953\"], [0.7777777777777778, \"#fb9f3a\"], [0.8888888888888888, \"#fdca26\"], [1.0, \"#f0f921\"]], \"type\": \"heatmapgl\"}], \"histogram\": [{\"marker\": {\"colorbar\": {\"outlinewidth\": 0, \"ticks\": \"\"}}, \"type\": \"histogram\"}], \"histogram2d\": [{\"colorbar\": {\"outlinewidth\": 0, \"ticks\": \"\"}, \"colorscale\": [[0.0, \"#0d0887\"], [0.1111111111111111, \"#46039f\"], [0.2222222222222222, \"#7201a8\"], [0.3333333333333333, \"#9c179e\"], [0.4444444444444444, \"#bd3786\"], [0.5555555555555556, \"#d8576b\"], [0.6666666666666666, \"#ed7953\"], [0.7777777777777778, \"#fb9f3a\"], [0.8888888888888888, \"#fdca26\"], [1.0, \"#f0f921\"]], \"type\": \"histogram2d\"}], \"histogram2dcontour\": [{\"colorbar\": {\"outlinewidth\": 0, \"ticks\": \"\"}, \"colorscale\": [[0.0, \"#0d0887\"], [0.1111111111111111, \"#46039f\"], [0.2222222222222222, \"#7201a8\"], [0.3333333333333333, \"#9c179e\"], [0.4444444444444444, \"#bd3786\"], [0.5555555555555556, \"#d8576b\"], [0.6666666666666666, \"#ed7953\"], [0.7777777777777778, \"#fb9f3a\"], [0.8888888888888888, \"#fdca26\"], [1.0, \"#f0f921\"]], \"type\": \"histogram2dcontour\"}], \"mesh3d\": [{\"colorbar\": {\"outlinewidth\": 0, \"ticks\": \"\"}, \"type\": \"mesh3d\"}], \"parcoords\": [{\"line\": {\"colorbar\": {\"outlinewidth\": 0, \"ticks\": \"\"}}, \"type\": \"parcoords\"}], \"scatter\": [{\"marker\": {\"colorbar\": {\"outlinewidth\": 0, \"ticks\": \"\"}}, \"type\": \"scatter\"}], \"scatter3d\": [{\"line\": {\"colorbar\": {\"outlinewidth\": 0, \"ticks\": \"\"}}, \"marker\": {\"colorbar\": {\"outlinewidth\": 0, \"ticks\": \"\"}}, \"type\": \"scatter3d\"}], \"scattercarpet\": [{\"marker\": {\"colorbar\": {\"outlinewidth\": 0, \"ticks\": \"\"}}, \"type\": \"scattercarpet\"}], \"scattergeo\": [{\"marker\": {\"colorbar\": {\"outlinewidth\": 0, \"ticks\": \"\"}}, \"type\": \"scattergeo\"}], \"scattergl\": [{\"marker\": {\"colorbar\": {\"outlinewidth\": 0, \"ticks\": \"\"}}, \"type\": \"scattergl\"}], \"scattermapbox\": [{\"marker\": {\"colorbar\": {\"outlinewidth\": 0, \"ticks\": \"\"}}, \"type\": \"scattermapbox\"}], \"scatterpolar\": [{\"marker\": {\"colorbar\": {\"outlinewidth\": 0, \"ticks\": \"\"}}, \"type\": \"scatterpolar\"}], \"scatterpolargl\": [{\"marker\": {\"colorbar\": {\"outlinewidth\": 0, \"ticks\": \"\"}}, \"type\": \"scatterpolargl\"}], \"scatterternary\": [{\"marker\": {\"colorbar\": {\"outlinewidth\": 0, \"ticks\": \"\"}}, \"type\": \"scatterternary\"}], \"surface\": [{\"colorbar\": {\"outlinewidth\": 0, \"ticks\": \"\"}, \"colorscale\": [[0.0, \"#0d0887\"], [0.1111111111111111, \"#46039f\"], [0.2222222222222222, \"#7201a8\"], [0.3333333333333333, \"#9c179e\"], [0.4444444444444444, \"#bd3786\"], [0.5555555555555556, \"#d8576b\"], [0.6666666666666666, \"#ed7953\"], [0.7777777777777778, \"#fb9f3a\"], [0.8888888888888888, \"#fdca26\"], [1.0, \"#f0f921\"]], \"type\": \"surface\"}], \"table\": [{\"cells\": {\"fill\": {\"color\": \"#EBF0F8\"}, \"line\": {\"color\": \"white\"}}, \"header\": {\"fill\": {\"color\": \"#C8D4E3\"}, \"line\": {\"color\": \"white\"}}, \"type\": \"table\"}]}, \"layout\": {\"annotationdefaults\": {\"arrowcolor\": \"#2a3f5f\", \"arrowhead\": 0, \"arrowwidth\": 1}, \"colorscale\": {\"diverging\": [[0, \"#8e0152\"], [0.1, \"#c51b7d\"], [0.2, \"#de77ae\"], [0.3, \"#f1b6da\"], [0.4, \"#fde0ef\"], [0.5, \"#f7f7f7\"], [0.6, \"#e6f5d0\"], [0.7, \"#b8e186\"], [0.8, \"#7fbc41\"], [0.9, \"#4d9221\"], [1, \"#276419\"]], \"sequential\": [[0.0, \"#0d0887\"], [0.1111111111111111, \"#46039f\"], [0.2222222222222222, \"#7201a8\"], [0.3333333333333333, \"#9c179e\"], [0.4444444444444444, \"#bd3786\"], [0.5555555555555556, \"#d8576b\"], [0.6666666666666666, \"#ed7953\"], [0.7777777777777778, \"#fb9f3a\"], [0.8888888888888888, \"#fdca26\"], [1.0, \"#f0f921\"]], \"sequentialminus\": [[0.0, \"#0d0887\"], [0.1111111111111111, \"#46039f\"], [0.2222222222222222, \"#7201a8\"], [0.3333333333333333, \"#9c179e\"], [0.4444444444444444, \"#bd3786\"], [0.5555555555555556, \"#d8576b\"], [0.6666666666666666, \"#ed7953\"], [0.7777777777777778, \"#fb9f3a\"], [0.8888888888888888, \"#fdca26\"], [1.0, \"#f0f921\"]]}, \"colorway\": [\"#636efa\", \"#EF553B\", \"#00cc96\", \"#ab63fa\", \"#FFA15A\", \"#19d3f3\", \"#FF6692\", \"#B6E880\", \"#FF97FF\", \"#FECB52\"], \"font\": {\"color\": \"#2a3f5f\"}, \"geo\": {\"bgcolor\": \"white\", \"lakecolor\": \"white\", \"landcolor\": \"#E5ECF6\", \"showlakes\": true, \"showland\": true, \"subunitcolor\": \"white\"}, \"hoverlabel\": {\"align\": \"left\"}, \"hovermode\": \"closest\", \"mapbox\": {\"style\": \"light\"}, \"paper_bgcolor\": \"white\", \"plot_bgcolor\": \"#E5ECF6\", \"polar\": {\"angularaxis\": {\"gridcolor\": \"white\", \"linecolor\": \"white\", \"ticks\": \"\"}, \"bgcolor\": \"#E5ECF6\", \"radialaxis\": {\"gridcolor\": \"white\", \"linecolor\": \"white\", \"ticks\": \"\"}}, \"scene\": {\"xaxis\": {\"backgroundcolor\": \"#E5ECF6\", \"gridcolor\": \"white\", \"gridwidth\": 2, \"linecolor\": \"white\", \"showbackground\": true, \"ticks\": \"\", \"zerolinecolor\": \"white\"}, \"yaxis\": {\"backgroundcolor\": \"#E5ECF6\", \"gridcolor\": \"white\", \"gridwidth\": 2, \"linecolor\": \"white\", \"showbackground\": true, \"ticks\": \"\", \"zerolinecolor\": \"white\"}, \"zaxis\": {\"backgroundcolor\": \"#E5ECF6\", \"gridcolor\": \"white\", \"gridwidth\": 2, \"linecolor\": \"white\", \"showbackground\": true, \"ticks\": \"\", \"zerolinecolor\": \"white\"}}, \"shapedefaults\": {\"line\": {\"color\": \"#2a3f5f\"}}, \"ternary\": {\"aaxis\": {\"gridcolor\": \"white\", \"linecolor\": \"white\", \"ticks\": \"\"}, \"baxis\": {\"gridcolor\": \"white\", \"linecolor\": \"white\", \"ticks\": \"\"}, \"bgcolor\": \"#E5ECF6\", \"caxis\": {\"gridcolor\": \"white\", \"linecolor\": \"white\", \"ticks\": \"\"}}, \"title\": {\"x\": 0.05}, \"xaxis\": {\"automargin\": true, \"gridcolor\": \"white\", \"linecolor\": \"white\", \"ticks\": \"\", \"zerolinecolor\": \"white\", \"zerolinewidth\": 2}, \"yaxis\": {\"automargin\": true, \"gridcolor\": \"white\", \"linecolor\": \"white\", \"ticks\": \"\", \"zerolinecolor\": \"white\", \"zerolinewidth\": 2}}}, \"xaxis\": {\"range\": [0, 125]}, \"yaxis\": {\"range\": [0, 225000]}},\n",
       "                        {\"responsive\": true}\n",
       "                    ).then(function(){\n",
       "                            \n",
       "var gd = document.getElementById('6ae80b39-6f0b-4810-b654-b46dc99b85b1');\n",
       "var x = new MutationObserver(function (mutations, observer) {{\n",
       "        var display = window.getComputedStyle(gd).display;\n",
       "        if (!display || display === 'none') {{\n",
       "            console.log([gd, 'removed!']);\n",
       "            Plotly.purge(gd);\n",
       "            observer.disconnect();\n",
       "        }}\n",
       "}});\n",
       "\n",
       "// Listen for the removal of the full notebook cells\n",
       "var notebookContainer = gd.closest('#notebook-container');\n",
       "if (notebookContainer) {{\n",
       "    x.observe(notebookContainer, {childList: true});\n",
       "}}\n",
       "\n",
       "// Listen for the clearing of the current output cell\n",
       "var outputEl = gd.closest('.output');\n",
       "if (outputEl) {{\n",
       "    x.observe(outputEl, {childList: true});\n",
       "}}\n",
       "\n",
       "                        })\n",
       "                };\n",
       "                });\n",
       "            </script>\n",
       "        </div>"
      ]
     },
     "metadata": {},
     "output_type": "display_data"
    }
   ],
   "source": [
    "#!snakemake -s pipeline/generate_stat.snakefile kmer_spectrum_simulated_reads\n",
    "import pandas\n",
    "import plotly.graph_objects as go\n",
    "\n",
    "df = pandas.read_csv(\"stats/kmer_spectrum/simulated_reads.csv\", index_col=0)\n",
    "\n",
    "fig = go.Figure(data=[go.Bar(name=c, y=df[c]) for c in df.columns],\n",
    "               layout=go.Layout(yaxis=dict(range=[0, 225_000]),\n",
    "                                xaxis=dict(range=[0, 125])))\n",
    "\n",
    "#fig.update_layout(yaxis_type=\"log\")\n",
    "fig.show()"
   ]
  },
  {
   "cell_type": "markdown",
   "metadata": {},
   "source": [
    "#### Correction with genomic kmer\n",
    "\n",
    "Difference between original error rate and the corrected read error rate"
   ]
  },
  {
   "cell_type": "code",
   "execution_count": 9,
   "metadata": {},
   "outputs": [
    {
     "data": {
      "text/markdown": [
       "| | s1| s2| s3| s4| s5| s6| s7| s8| s9|\n",
       "|:-|-:|-:|-:|-:|-:|-:|-:|-:|-:|\n",
       "| k9 | 0.004181 | 0.003905 | 0.003752 | 0.003687 | 0.003685 | 0.003684 | 0.003684 | 0.003683 | 0.003683|\n",
       "| k11 | 0.751112 | 0.604209 | 0.510506 | 0.449725 | 0.409512 | 0.381365 | 0.360422 | 0.343445 | 0.328332|\n",
       "| k13 | 9.130946 | 2.757518 | 0.653570 | -0.121977 | -0.438984 | -0.571321 | -0.620935 | -0.632684 | -0.625700|\n",
       "| k15 | -0.593920 | -1.673538 | -1.757720 | -1.682130 | -1.575601 | -1.470702 | -1.374537 | -1.286678 | -1.206559|\n",
       "| k17 | -2.266908 | -2.115433 | -1.940693 | -1.786172 | -1.648175 | -1.527566 | -1.421966 | -1.327155 | -1.241321|\n"
      ],
      "text/plain": [
       "<IPython.core.display.Markdown object>"
      ]
     },
     "execution_count": 9,
     "metadata": {},
     "output_type": "execute_result"
    }
   ],
   "source": [
    "display.Markdown(pconbr.identity.genomic_kmer())"
   ]
  },
  {
   "cell_type": "markdown",
   "metadata": {},
   "source": [
    "#### Correction with reads kmer\n",
    "\n",
    "Difference between original error rate and the corrected read error rate"
   ]
  },
  {
   "cell_type": "code",
   "execution_count": 10,
   "metadata": {},
   "outputs": [
    {
     "data": {
      "text/markdown": [
       "| | | s1| s2| s3| s4| s5| s6| s7| s8| s9|\n",
       "|:-|:-|-:|-:|-:|-:|-:|-:|-:|-:|-:|\n",
       "| k13 | a1 | 0.000037 | 0.000034 | 0.000035 | 0.000033 | 0.000029 | 0.000026 | 0.000021 | 0.000019 | 0.000016|\n",
       "| k13 | a2 | 0.215460 | 0.168705 | 0.139871 | 0.121776 | 0.110133 | 0.102619 | 0.097446 | 0.093889 | 0.091342|\n",
       "| k13 | a3 | 0.614623 | 0.456799 | 0.362757 | 0.305179 | 0.268439 | 0.244298 | 0.227834 | 0.216180 | 0.207288|\n",
       "| k13 | a4 | 1.086319 | 0.766444 | 0.584145 | 0.475263 | 0.406404 | 0.361045 | 0.330015 | 0.307569 | 0.289928|\n",
       "| k13 | a5 | 1.570259 | 1.051163 | 0.767033 | 0.601419 | 0.498478 | 0.431347 | 0.384782 | 0.351024 | 0.324560|\n",
       "| k13 | a6 | 2.039368 | 1.292349 | 0.900345 | 0.678051 | 0.542942 | 0.455057 | 0.395071 | 0.351225 | 0.316679|\n",
       "| k13 | a7 | 2.493715 | 1.492351 | 0.988531 | 0.712274 | 0.547615 | 0.442231 | 0.371084 | 0.319390 | 0.279070|\n",
       "| k13 | a8 | 2.931029 | 1.654744 | 1.039043 | 0.712068 | 0.522047 | 0.402326 | 0.322633 | 0.265483 | 0.221121|\n",
       "| k13 | a9 | 3.365345 | 1.786099 | 1.058886 | 0.686901 | 0.475220 | 0.345196 | 0.260191 | 0.199787 | 0.153539|\n",
       "| k13 | a10 | 3.786424 | 1.891821 | 1.057285 | 0.644004 | 0.415446 | 0.277800 | 0.189894 | 0.128377 | 0.081920|\n",
       "| k13 | a11 | 4.195971 | 1.978799 | 1.039484 | 0.590793 | 0.348403 | 0.205787 | 0.116646 | 0.055099 | 0.009544|\n",
       "| k13 | a12 | 4.600994 | 2.051393 | 1.013081 | 0.531695 | 0.278710 | 0.133441 | 0.044626 | -0.015609 | -0.059261|\n",
       "| k13 | a13 | 4.991666 | 2.115767 | 0.983067 | 0.472319 | 0.211018 | 0.063774 | -0.024156 | -0.082127 | -0.123059|\n",
       "| k13 | a14 | 5.360656 | 2.172184 | 0.950407 | 0.413952 | 0.145004 | -0.002902 | -0.088663 | -0.144207 | -0.181976|\n",
       "| k13 | a15 | 5.719616 | 2.220840 | 0.916351 | 0.356448 | 0.082156 | -0.064890 | -0.148049 | -0.200659 | -0.235215|\n",
       "| k15 | a1 | 0.000999 | 0.000966 | 0.000721 | 0.000506 | 0.000329 | 0.000211 | 0.000147 | 0.000095 | 0.000060|\n",
       "| k15 | a2 | 4.767306 | 1.479424 | 0.474669 | 0.115645 | -0.032350 | -0.098497 | -0.129742 | -0.144150 | -0.150074|\n",
       "| k15 | a3 | 3.074111 | 0.587080 | -0.120971 | -0.350492 | -0.426049 | -0.445933 | -0.444476 | -0.433762 | -0.419424|\n",
       "| k15 | a4 | 1.755079 | -0.154884 | -0.631169 | -0.753906 | -0.770163 | -0.751742 | -0.722120 | -0.689216 | -0.656334|\n",
       "| k15 | a5 | 0.917499 | -0.665431 | -0.995455 | -1.048267 | -1.024030 | -0.978618 | -0.928425 | -0.878980 | -0.832160|\n",
       "| k15 | a6 | 0.388983 | -1.001107 | -1.240272 | -1.249489 | -1.198823 | -1.134920 | -1.070547 | -1.009472 | -0.952463|\n",
       "| k15 | a7 | 0.057286 | -1.217387 | -1.400861 | -1.381880 | -1.314299 | -1.238041 | -1.164411 | -1.095437 | -1.031450|\n",
       "| k15 | a8 | -0.156403 | -1.359172 | -1.507626 | -1.470442 | -1.391202 | -1.306780 | -1.226644 | -1.152212 | -1.083623|\n",
       "| k15 | a9 | -0.292327 | -1.452179 | -1.579102 | -1.529730 | -1.442792 | -1.352583 | -1.268011 | -1.189968 | -1.118148|\n",
       "| k15 | a10 | -0.381732 | -1.514243 | -1.627250 | -1.570054 | -1.477869 | -1.383759 | -1.296145 | -1.215516 | -1.141540|\n",
       "| k15 | a11 | -0.441332 | -1.557878 | -1.661360 | -1.598764 | -1.502876 | -1.406110 | -1.316314 | -1.233804 | -1.158240|\n",
       "| k15 | a12 | -0.483853 | -1.588196 | -1.685625 | -1.619293 | -1.520623 | -1.421847 | -1.330484 | -1.246668 | -1.169951|\n",
       "| k15 | a13 | -0.514198 | -1.609975 | -1.703448 | -1.634636 | -1.533919 | -1.433628 | -1.341046 | -1.256221 | -1.178714|\n",
       "| k15 | a14 | -0.536252 | -1.626250 | -1.716914 | -1.646170 | -1.543976 | -1.442566 | -1.349097 | -1.263562 | -1.185418|\n",
       "| k15 | a15 | -0.551807 | -1.638319 | -1.727049 | -1.655017 | -1.551693 | -1.449462 | -1.355315 | -1.269200 | -1.190572|\n",
       "| k17 | a1 | 0.000603 | 0.000214 | -0.000051 | -0.000154 | -0.000174 | -0.000159 | -0.000147 | -0.000133 | -0.000114|\n",
       "| k17 | a2 | 0.070559 | -0.453851 | -0.535751 | -0.532813 | -0.509512 | -0.482872 | -0.457117 | -0.433140 | -0.411010|\n",
       "| k17 | a3 | -0.799379 | -1.045109 | -1.034694 | -0.983366 | -0.925144 | -0.869476 | -0.818672 | -0.772072 | -0.729232|\n",
       "| k17 | a4 | -1.377328 | -1.456232 | -1.382464 | -1.294939 | -1.209576 | -1.131404 | -1.060958 | -0.996817 | -0.938182|\n",
       "| k17 | a5 | -1.727605 | -1.705216 | -1.591852 | -1.480734 | -1.377273 | -1.284316 | -1.201452 | -1.126168 | -1.057595|\n",
       "| k17 | a6 | -1.930558 | -1.851733 | -1.714111 | -1.588179 | -1.473462 | -1.371428 | -1.280928 | -1.198975 | -1.124570|\n",
       "| k17 | a7 | -2.049304 | -1.939192 | -1.787278 | -1.651645 | -1.529995 | -1.422316 | -1.327184 | -1.241273 | -1.163198|\n",
       "| k17 | a8 | -2.120380 | -1.993135 | -1.832514 | -1.690852 | -1.564469 | -1.453229 | -1.355043 | -1.266620 | -1.186287|\n",
       "| k17 | a9 | -2.164963 | -2.027858 | -1.862182 | -1.716407 | -1.586865 | -1.473144 | -1.373062 | -1.282894 | -1.201097|\n",
       "| k17 | a10 | -2.194589 | -2.051885 | -1.882928 | -1.734459 | -1.602588 | -1.487188 | -1.385610 | -1.294257 | -1.211375|\n",
       "| k17 | a11 | -2.215076 | -2.068864 | -1.897986 | -1.747648 | -1.614155 | -1.497342 | -1.394744 | -1.302456 | -1.218794|\n",
       "| k17 | a12 | -2.229928 | -2.081389 | -1.909272 | -1.757677 | -1.622899 | -1.505110 | -1.401663 | -1.308747 | -1.224546|\n",
       "| k17 | a13 | -2.240788 | -2.090959 | -1.917905 | -1.765411 | -1.629667 | -1.511081 | -1.407030 | -1.313606 | -1.228993|\n",
       "| k17 | a14 | -2.248726 | -2.098086 | -1.924540 | -1.771409 | -1.634970 | -1.515758 | -1.411294 | -1.317469 | -1.232510|\n",
       "| k17 | a15 | -2.254555 | -2.103471 | -1.929541 | -1.775932 | -1.638991 | -1.519344 | -1.414523 | -1.320415 | -1.235205|\n"
      ],
      "text/plain": [
       "<IPython.core.display.Markdown object>"
      ]
     },
     "execution_count": 10,
     "metadata": {},
     "output_type": "execute_result"
    }
   ],
   "source": [
    "display.Markdown(pconbr.identity.read_kmer(\"simulated_reads\"))"
   ]
  },
  {
   "cell_type": "markdown",
   "metadata": {},
   "source": [
    "### E. coli ont dataset\n",
    "\n",
    "#### Kmer spectrum"
   ]
  },
  {
   "cell_type": "code",
   "execution_count": 27,
   "metadata": {
    "scrolled": false
   },
   "outputs": [
    {
     "data": {
      "application/vnd.plotly.v1+json": {
       "config": {
        "plotlyServerURL": "https://plot.ly"
       },
       "data": [
        {
         "name": "k13",
         "type": "bar",
         "y": [
          276437,
          512563,
          677503,
          783095,
          849378,
          887430,
          905430,
          910183,
          901788,
          888409,
          866834,
          841174,
          816476,
          788580,
          759860,
          729111,
          700483,
          672758,
          643817,
          616867,
          590487,
          563445,
          538189,
          515305,
          490831,
          471095,
          450544,
          428746,
          410489,
          391905,
          375445,
          358464,
          342824,
          327829,
          314767,
          300014,
          287313,
          275018,
          264101,
          251789,
          241981,
          231615,
          222506,
          212636,
          203517,
          195995,
          187622,
          180590,
          172758,
          166398,
          159393,
          152776,
          147890,
          142301,
          136935,
          131297,
          126681,
          122010,
          118014,
          113327,
          109124,
          105275,
          102182,
          98186,
          95769,
          92292,
          88503,
          86740,
          83526,
          80343,
          78711,
          76489,
          73914,
          71957,
          69960,
          68192,
          66012,
          64354,
          62973,
          61974,
          60995,
          58899,
          57354,
          55953,
          55368,
          54178,
          53308,
          52773,
          51674,
          50457,
          49575,
          48788,
          48300,
          47465,
          47311,
          46452,
          45862,
          45498,
          45198,
          44688,
          44018,
          43991,
          43344,
          43078,
          43206,
          42738,
          42645,
          42274,
          41843,
          41610,
          41523,
          41135,
          41425,
          41064,
          40726,
          40524,
          40323,
          40312,
          40148,
          39909,
          39707,
          39377,
          39967,
          39571,
          39277,
          38914,
          38823,
          38780,
          38560,
          38358,
          37957,
          37897,
          37555,
          37532,
          37207,
          37188,
          37221,
          36660,
          36269,
          35897,
          35601,
          35234,
          35175,
          34944,
          34722,
          34591,
          34402,
          34026,
          33652,
          33066,
          32889,
          32519,
          32265,
          31781,
          31621,
          31491,
          31011,
          30471,
          30133,
          29722,
          29744,
          29324,
          28671,
          28251,
          28442,
          27896,
          27427,
          26866,
          26698,
          26365,
          26190,
          25342,
          25238,
          24748,
          24553,
          24014,
          23655,
          23713,
          23183,
          22798,
          22242,
          22158,
          21625,
          21384,
          21035,
          20693,
          20358,
          19997,
          19658,
          19320,
          19209,
          18770,
          18569,
          17966,
          17895,
          17841,
          17058,
          17163,
          16758,
          16533,
          16301,
          15915,
          15763,
          15499,
          15292,
          15180,
          14919,
          14718,
          14264,
          13925,
          13811,
          13668,
          13392,
          13347,
          12991,
          12774,
          12663,
          12509,
          12351,
          12174,
          11869,
          11689,
          11546,
          11546,
          11257,
          10988,
          10878,
          10781,
          10569,
          10356,
          10220,
          9975,
          9956,
          10015,
          9783,
          9659,
          9640,
          9392,
          9269,
          9099,
          8971,
          8903,
          8616,
          8639,
          8413,
          8414,
          8310,
          8227,
          8051,
          7808,
          8009,
          7891,
          7691,
          7659,
          7622,
          774456
         ]
        },
        {
         "name": "k15",
         "type": "bar",
         "y": [
          209078225,
          123641256,
          68454255,
          39938233,
          24768879,
          16241395,
          11146162,
          7942262,
          5840624,
          4412650,
          3405665,
          2677962,
          2143496,
          1740096,
          1428765,
          1183365,
          992439,
          836070,
          713472,
          612118,
          526801,
          458324,
          400076,
          349334,
          308409,
          272704,
          242588,
          216066,
          193363,
          174203,
          155811,
          141885,
          128749,
          116725,
          106764,
          97402,
          89995,
          83324,
          77746,
          72055,
          67264,
          62958,
          59396,
          56490,
          53467,
          50956,
          49385,
          47160,
          45661,
          44327,
          43470,
          42766,
          41660,
          41156,
          40612,
          40541,
          40450,
          40369,
          40770,
          41472,
          41070,
          41480,
          42128,
          42689,
          43557,
          44685,
          44668,
          45819,
          46491,
          47036,
          48225,
          48749,
          50033,
          51008,
          51386,
          53221,
          53716,
          55168,
          55741,
          56773,
          57324,
          57824,
          59145,
          60136,
          61260,
          61309,
          61906,
          62761,
          63084,
          63529,
          63948,
          64253,
          64203,
          64320,
          64507,
          64820,
          65494,
          64808,
          64564,
          63940,
          63943,
          63148,
          62980,
          62466,
          61245,
          61271,
          60368,
          58983,
          58303,
          57702,
          57015,
          55343,
          54472,
          53831,
          51937,
          51169,
          50334,
          48865,
          47487,
          45988,
          44888,
          43351,
          42389,
          40926,
          39598,
          38431,
          36905,
          35998,
          34330,
          32912,
          32056,
          30714,
          29198,
          28352,
          27084,
          26123,
          24837,
          23745,
          22838,
          21751,
          20693,
          19760,
          18892,
          17937,
          16985,
          16117,
          15310,
          14519,
          13992,
          13309,
          12605,
          11925,
          11369,
          10731,
          10215,
          9729,
          9229,
          8627,
          8355,
          7609,
          7407,
          6941,
          6628,
          6399,
          5976,
          5388,
          5363,
          4958,
          4794,
          4599,
          4459,
          4146,
          3918,
          3738,
          3489,
          3416,
          3191,
          3110,
          3079,
          2878,
          2891,
          2620,
          2524,
          2473,
          2462,
          2291,
          2205,
          2158,
          2177,
          1994,
          1944,
          1895,
          1793,
          1841,
          1763,
          1697,
          1634,
          1710,
          1615,
          1601,
          1572,
          1534,
          1557,
          1443,
          1498,
          1433,
          1383,
          1432,
          1488,
          1434,
          1274,
          1297,
          1354,
          1301,
          1260,
          1272,
          1312,
          1231,
          1251,
          1159,
          1195,
          1163,
          1101,
          1151,
          1077,
          1036,
          1123,
          1108,
          1120,
          1007,
          1014,
          1046,
          955,
          1005,
          1072,
          939,
          878,
          937,
          900,
          932,
          890,
          848,
          873,
          868,
          870,
          811,
          798,
          830,
          786,
          719,
          697,
          725,
          747,
          759,
          675,
          47602
         ]
        },
        {
         "name": "k17",
         "type": "bar",
         "y": [
          7811035891,
          603507926,
          97526153,
          30510174,
          13954275,
          7816286,
          4929777,
          3349068,
          2404599,
          1791296,
          1374220,
          1076572,
          862270,
          698713,
          575975,
          478680,
          402719,
          340606,
          291369,
          251353,
          216964,
          190441,
          167587,
          148251,
          131705,
          117856,
          105806,
          95581,
          86961,
          79857,
          73894,
          68306,
          64425,
          60188,
          56848,
          54144,
          51143,
          49856,
          48489,
          46889,
          46479,
          45803,
          44941,
          44722,
          44820,
          44985,
          45242,
          45520,
          46517,
          47115,
          47852,
          48273,
          49288,
          50432,
          51401,
          52673,
          53727,
          54926,
          55797,
          57574,
          58752,
          60201,
          61453,
          62684,
          64044,
          65377,
          66521,
          67475,
          69300,
          70130,
          70879,
          71950,
          72663,
          72985,
          73739,
          74411,
          74562,
          74147,
          74546,
          75324,
          75301,
          75027,
          74854,
          74357,
          74140,
          73241,
          72717,
          71522,
          70482,
          69626,
          68739,
          67077,
          66539,
          65047,
          63563,
          61751,
          60263,
          59037,
          57303,
          55747,
          53859,
          52125,
          50610,
          48552,
          46699,
          44877,
          43125,
          41413,
          39723,
          38182,
          36560,
          34593,
          33006,
          31226,
          29998,
          28214,
          26653,
          25363,
          23945,
          22601,
          21363,
          19976,
          18933,
          17827,
          16405,
          15678,
          14620,
          13838,
          12937,
          12005,
          10959,
          10307,
          9705,
          9040,
          8399,
          7744,
          7142,
          6788,
          6322,
          5901,
          5648,
          5033,
          4646,
          4418,
          3953,
          3709,
          3504,
          3321,
          2905,
          2819,
          2513,
          2353,
          2263,
          2088,
          1987,
          1764,
          1679,
          1664,
          1528,
          1468,
          1332,
          1317,
          1215,
          1198,
          1178,
          1140,
          1012,
          1001,
          936,
          943,
          912,
          868,
          817,
          829,
          840,
          826,
          757,
          782,
          735,
          673,
          676,
          644,
          662,
          661,
          675,
          656,
          622,
          616,
          620,
          677,
          621,
          576,
          636,
          621,
          569,
          606,
          583,
          537,
          540,
          499,
          531,
          532,
          499,
          493,
          489,
          456,
          428,
          433,
          412,
          437,
          412,
          417,
          397,
          398,
          358,
          395,
          404,
          348,
          362,
          355,
          374,
          337,
          341,
          317,
          333,
          308,
          306,
          324,
          301,
          271,
          277,
          273,
          274,
          229,
          262,
          236,
          254,
          251,
          230,
          222,
          187,
          205,
          226,
          196,
          183,
          180,
          187,
          168,
          182,
          158,
          159,
          174,
          133,
          140,
          159,
          20919
         ]
        }
       ],
       "layout": {
        "template": {
         "data": {
          "bar": [
           {
            "error_x": {
             "color": "#2a3f5f"
            },
            "error_y": {
             "color": "#2a3f5f"
            },
            "marker": {
             "line": {
              "color": "#E5ECF6",
              "width": 0.5
             }
            },
            "type": "bar"
           }
          ],
          "barpolar": [
           {
            "marker": {
             "line": {
              "color": "#E5ECF6",
              "width": 0.5
             }
            },
            "type": "barpolar"
           }
          ],
          "carpet": [
           {
            "aaxis": {
             "endlinecolor": "#2a3f5f",
             "gridcolor": "white",
             "linecolor": "white",
             "minorgridcolor": "white",
             "startlinecolor": "#2a3f5f"
            },
            "baxis": {
             "endlinecolor": "#2a3f5f",
             "gridcolor": "white",
             "linecolor": "white",
             "minorgridcolor": "white",
             "startlinecolor": "#2a3f5f"
            },
            "type": "carpet"
           }
          ],
          "choropleth": [
           {
            "colorbar": {
             "outlinewidth": 0,
             "ticks": ""
            },
            "type": "choropleth"
           }
          ],
          "contour": [
           {
            "colorbar": {
             "outlinewidth": 0,
             "ticks": ""
            },
            "colorscale": [
             [
              0,
              "#0d0887"
             ],
             [
              0.1111111111111111,
              "#46039f"
             ],
             [
              0.2222222222222222,
              "#7201a8"
             ],
             [
              0.3333333333333333,
              "#9c179e"
             ],
             [
              0.4444444444444444,
              "#bd3786"
             ],
             [
              0.5555555555555556,
              "#d8576b"
             ],
             [
              0.6666666666666666,
              "#ed7953"
             ],
             [
              0.7777777777777778,
              "#fb9f3a"
             ],
             [
              0.8888888888888888,
              "#fdca26"
             ],
             [
              1,
              "#f0f921"
             ]
            ],
            "type": "contour"
           }
          ],
          "contourcarpet": [
           {
            "colorbar": {
             "outlinewidth": 0,
             "ticks": ""
            },
            "type": "contourcarpet"
           }
          ],
          "heatmap": [
           {
            "colorbar": {
             "outlinewidth": 0,
             "ticks": ""
            },
            "colorscale": [
             [
              0,
              "#0d0887"
             ],
             [
              0.1111111111111111,
              "#46039f"
             ],
             [
              0.2222222222222222,
              "#7201a8"
             ],
             [
              0.3333333333333333,
              "#9c179e"
             ],
             [
              0.4444444444444444,
              "#bd3786"
             ],
             [
              0.5555555555555556,
              "#d8576b"
             ],
             [
              0.6666666666666666,
              "#ed7953"
             ],
             [
              0.7777777777777778,
              "#fb9f3a"
             ],
             [
              0.8888888888888888,
              "#fdca26"
             ],
             [
              1,
              "#f0f921"
             ]
            ],
            "type": "heatmap"
           }
          ],
          "heatmapgl": [
           {
            "colorbar": {
             "outlinewidth": 0,
             "ticks": ""
            },
            "colorscale": [
             [
              0,
              "#0d0887"
             ],
             [
              0.1111111111111111,
              "#46039f"
             ],
             [
              0.2222222222222222,
              "#7201a8"
             ],
             [
              0.3333333333333333,
              "#9c179e"
             ],
             [
              0.4444444444444444,
              "#bd3786"
             ],
             [
              0.5555555555555556,
              "#d8576b"
             ],
             [
              0.6666666666666666,
              "#ed7953"
             ],
             [
              0.7777777777777778,
              "#fb9f3a"
             ],
             [
              0.8888888888888888,
              "#fdca26"
             ],
             [
              1,
              "#f0f921"
             ]
            ],
            "type": "heatmapgl"
           }
          ],
          "histogram": [
           {
            "marker": {
             "colorbar": {
              "outlinewidth": 0,
              "ticks": ""
             }
            },
            "type": "histogram"
           }
          ],
          "histogram2d": [
           {
            "colorbar": {
             "outlinewidth": 0,
             "ticks": ""
            },
            "colorscale": [
             [
              0,
              "#0d0887"
             ],
             [
              0.1111111111111111,
              "#46039f"
             ],
             [
              0.2222222222222222,
              "#7201a8"
             ],
             [
              0.3333333333333333,
              "#9c179e"
             ],
             [
              0.4444444444444444,
              "#bd3786"
             ],
             [
              0.5555555555555556,
              "#d8576b"
             ],
             [
              0.6666666666666666,
              "#ed7953"
             ],
             [
              0.7777777777777778,
              "#fb9f3a"
             ],
             [
              0.8888888888888888,
              "#fdca26"
             ],
             [
              1,
              "#f0f921"
             ]
            ],
            "type": "histogram2d"
           }
          ],
          "histogram2dcontour": [
           {
            "colorbar": {
             "outlinewidth": 0,
             "ticks": ""
            },
            "colorscale": [
             [
              0,
              "#0d0887"
             ],
             [
              0.1111111111111111,
              "#46039f"
             ],
             [
              0.2222222222222222,
              "#7201a8"
             ],
             [
              0.3333333333333333,
              "#9c179e"
             ],
             [
              0.4444444444444444,
              "#bd3786"
             ],
             [
              0.5555555555555556,
              "#d8576b"
             ],
             [
              0.6666666666666666,
              "#ed7953"
             ],
             [
              0.7777777777777778,
              "#fb9f3a"
             ],
             [
              0.8888888888888888,
              "#fdca26"
             ],
             [
              1,
              "#f0f921"
             ]
            ],
            "type": "histogram2dcontour"
           }
          ],
          "mesh3d": [
           {
            "colorbar": {
             "outlinewidth": 0,
             "ticks": ""
            },
            "type": "mesh3d"
           }
          ],
          "parcoords": [
           {
            "line": {
             "colorbar": {
              "outlinewidth": 0,
              "ticks": ""
             }
            },
            "type": "parcoords"
           }
          ],
          "scatter": [
           {
            "marker": {
             "colorbar": {
              "outlinewidth": 0,
              "ticks": ""
             }
            },
            "type": "scatter"
           }
          ],
          "scatter3d": [
           {
            "line": {
             "colorbar": {
              "outlinewidth": 0,
              "ticks": ""
             }
            },
            "marker": {
             "colorbar": {
              "outlinewidth": 0,
              "ticks": ""
             }
            },
            "type": "scatter3d"
           }
          ],
          "scattercarpet": [
           {
            "marker": {
             "colorbar": {
              "outlinewidth": 0,
              "ticks": ""
             }
            },
            "type": "scattercarpet"
           }
          ],
          "scattergeo": [
           {
            "marker": {
             "colorbar": {
              "outlinewidth": 0,
              "ticks": ""
             }
            },
            "type": "scattergeo"
           }
          ],
          "scattergl": [
           {
            "marker": {
             "colorbar": {
              "outlinewidth": 0,
              "ticks": ""
             }
            },
            "type": "scattergl"
           }
          ],
          "scattermapbox": [
           {
            "marker": {
             "colorbar": {
              "outlinewidth": 0,
              "ticks": ""
             }
            },
            "type": "scattermapbox"
           }
          ],
          "scatterpolar": [
           {
            "marker": {
             "colorbar": {
              "outlinewidth": 0,
              "ticks": ""
             }
            },
            "type": "scatterpolar"
           }
          ],
          "scatterpolargl": [
           {
            "marker": {
             "colorbar": {
              "outlinewidth": 0,
              "ticks": ""
             }
            },
            "type": "scatterpolargl"
           }
          ],
          "scatterternary": [
           {
            "marker": {
             "colorbar": {
              "outlinewidth": 0,
              "ticks": ""
             }
            },
            "type": "scatterternary"
           }
          ],
          "surface": [
           {
            "colorbar": {
             "outlinewidth": 0,
             "ticks": ""
            },
            "colorscale": [
             [
              0,
              "#0d0887"
             ],
             [
              0.1111111111111111,
              "#46039f"
             ],
             [
              0.2222222222222222,
              "#7201a8"
             ],
             [
              0.3333333333333333,
              "#9c179e"
             ],
             [
              0.4444444444444444,
              "#bd3786"
             ],
             [
              0.5555555555555556,
              "#d8576b"
             ],
             [
              0.6666666666666666,
              "#ed7953"
             ],
             [
              0.7777777777777778,
              "#fb9f3a"
             ],
             [
              0.8888888888888888,
              "#fdca26"
             ],
             [
              1,
              "#f0f921"
             ]
            ],
            "type": "surface"
           }
          ],
          "table": [
           {
            "cells": {
             "fill": {
              "color": "#EBF0F8"
             },
             "line": {
              "color": "white"
             }
            },
            "header": {
             "fill": {
              "color": "#C8D4E3"
             },
             "line": {
              "color": "white"
             }
            },
            "type": "table"
           }
          ]
         },
         "layout": {
          "annotationdefaults": {
           "arrowcolor": "#2a3f5f",
           "arrowhead": 0,
           "arrowwidth": 1
          },
          "colorscale": {
           "diverging": [
            [
             0,
             "#8e0152"
            ],
            [
             0.1,
             "#c51b7d"
            ],
            [
             0.2,
             "#de77ae"
            ],
            [
             0.3,
             "#f1b6da"
            ],
            [
             0.4,
             "#fde0ef"
            ],
            [
             0.5,
             "#f7f7f7"
            ],
            [
             0.6,
             "#e6f5d0"
            ],
            [
             0.7,
             "#b8e186"
            ],
            [
             0.8,
             "#7fbc41"
            ],
            [
             0.9,
             "#4d9221"
            ],
            [
             1,
             "#276419"
            ]
           ],
           "sequential": [
            [
             0,
             "#0d0887"
            ],
            [
             0.1111111111111111,
             "#46039f"
            ],
            [
             0.2222222222222222,
             "#7201a8"
            ],
            [
             0.3333333333333333,
             "#9c179e"
            ],
            [
             0.4444444444444444,
             "#bd3786"
            ],
            [
             0.5555555555555556,
             "#d8576b"
            ],
            [
             0.6666666666666666,
             "#ed7953"
            ],
            [
             0.7777777777777778,
             "#fb9f3a"
            ],
            [
             0.8888888888888888,
             "#fdca26"
            ],
            [
             1,
             "#f0f921"
            ]
           ],
           "sequentialminus": [
            [
             0,
             "#0d0887"
            ],
            [
             0.1111111111111111,
             "#46039f"
            ],
            [
             0.2222222222222222,
             "#7201a8"
            ],
            [
             0.3333333333333333,
             "#9c179e"
            ],
            [
             0.4444444444444444,
             "#bd3786"
            ],
            [
             0.5555555555555556,
             "#d8576b"
            ],
            [
             0.6666666666666666,
             "#ed7953"
            ],
            [
             0.7777777777777778,
             "#fb9f3a"
            ],
            [
             0.8888888888888888,
             "#fdca26"
            ],
            [
             1,
             "#f0f921"
            ]
           ]
          },
          "colorway": [
           "#636efa",
           "#EF553B",
           "#00cc96",
           "#ab63fa",
           "#FFA15A",
           "#19d3f3",
           "#FF6692",
           "#B6E880",
           "#FF97FF",
           "#FECB52"
          ],
          "font": {
           "color": "#2a3f5f"
          },
          "geo": {
           "bgcolor": "white",
           "lakecolor": "white",
           "landcolor": "#E5ECF6",
           "showlakes": true,
           "showland": true,
           "subunitcolor": "white"
          },
          "hoverlabel": {
           "align": "left"
          },
          "hovermode": "closest",
          "mapbox": {
           "style": "light"
          },
          "paper_bgcolor": "white",
          "plot_bgcolor": "#E5ECF6",
          "polar": {
           "angularaxis": {
            "gridcolor": "white",
            "linecolor": "white",
            "ticks": ""
           },
           "bgcolor": "#E5ECF6",
           "radialaxis": {
            "gridcolor": "white",
            "linecolor": "white",
            "ticks": ""
           }
          },
          "scene": {
           "xaxis": {
            "backgroundcolor": "#E5ECF6",
            "gridcolor": "white",
            "gridwidth": 2,
            "linecolor": "white",
            "showbackground": true,
            "ticks": "",
            "zerolinecolor": "white"
           },
           "yaxis": {
            "backgroundcolor": "#E5ECF6",
            "gridcolor": "white",
            "gridwidth": 2,
            "linecolor": "white",
            "showbackground": true,
            "ticks": "",
            "zerolinecolor": "white"
           },
           "zaxis": {
            "backgroundcolor": "#E5ECF6",
            "gridcolor": "white",
            "gridwidth": 2,
            "linecolor": "white",
            "showbackground": true,
            "ticks": "",
            "zerolinecolor": "white"
           }
          },
          "shapedefaults": {
           "line": {
            "color": "#2a3f5f"
           }
          },
          "ternary": {
           "aaxis": {
            "gridcolor": "white",
            "linecolor": "white",
            "ticks": ""
           },
           "baxis": {
            "gridcolor": "white",
            "linecolor": "white",
            "ticks": ""
           },
           "bgcolor": "#E5ECF6",
           "caxis": {
            "gridcolor": "white",
            "linecolor": "white",
            "ticks": ""
           }
          },
          "title": {
           "x": 0.05
          },
          "xaxis": {
           "automargin": true,
           "gridcolor": "white",
           "linecolor": "white",
           "ticks": "",
           "zerolinecolor": "white",
           "zerolinewidth": 2
          },
          "yaxis": {
           "automargin": true,
           "gridcolor": "white",
           "linecolor": "white",
           "ticks": "",
           "zerolinecolor": "white",
           "zerolinewidth": 2
          }
         }
        },
        "xaxis": {
         "range": [
          0,
          255
         ]
        },
        "yaxis": {
         "range": [
          0,
          100000
         ]
        }
       }
      },
      "text/html": [
       "<div>\n",
       "        \n",
       "        \n",
       "            <div id=\"d38edb8f-859e-466d-ab80-e8587ae6410f\" class=\"plotly-graph-div\" style=\"height:525px; width:100%;\"></div>\n",
       "            <script type=\"text/javascript\">\n",
       "                require([\"plotly\"], function(Plotly) {\n",
       "                    window.PLOTLYENV=window.PLOTLYENV || {};\n",
       "                    \n",
       "                if (document.getElementById(\"d38edb8f-859e-466d-ab80-e8587ae6410f\")) {\n",
       "                    Plotly.newPlot(\n",
       "                        'd38edb8f-859e-466d-ab80-e8587ae6410f',\n",
       "                        [{\"name\": \"k13\", \"type\": \"bar\", \"y\": [276437, 512563, 677503, 783095, 849378, 887430, 905430, 910183, 901788, 888409, 866834, 841174, 816476, 788580, 759860, 729111, 700483, 672758, 643817, 616867, 590487, 563445, 538189, 515305, 490831, 471095, 450544, 428746, 410489, 391905, 375445, 358464, 342824, 327829, 314767, 300014, 287313, 275018, 264101, 251789, 241981, 231615, 222506, 212636, 203517, 195995, 187622, 180590, 172758, 166398, 159393, 152776, 147890, 142301, 136935, 131297, 126681, 122010, 118014, 113327, 109124, 105275, 102182, 98186, 95769, 92292, 88503, 86740, 83526, 80343, 78711, 76489, 73914, 71957, 69960, 68192, 66012, 64354, 62973, 61974, 60995, 58899, 57354, 55953, 55368, 54178, 53308, 52773, 51674, 50457, 49575, 48788, 48300, 47465, 47311, 46452, 45862, 45498, 45198, 44688, 44018, 43991, 43344, 43078, 43206, 42738, 42645, 42274, 41843, 41610, 41523, 41135, 41425, 41064, 40726, 40524, 40323, 40312, 40148, 39909, 39707, 39377, 39967, 39571, 39277, 38914, 38823, 38780, 38560, 38358, 37957, 37897, 37555, 37532, 37207, 37188, 37221, 36660, 36269, 35897, 35601, 35234, 35175, 34944, 34722, 34591, 34402, 34026, 33652, 33066, 32889, 32519, 32265, 31781, 31621, 31491, 31011, 30471, 30133, 29722, 29744, 29324, 28671, 28251, 28442, 27896, 27427, 26866, 26698, 26365, 26190, 25342, 25238, 24748, 24553, 24014, 23655, 23713, 23183, 22798, 22242, 22158, 21625, 21384, 21035, 20693, 20358, 19997, 19658, 19320, 19209, 18770, 18569, 17966, 17895, 17841, 17058, 17163, 16758, 16533, 16301, 15915, 15763, 15499, 15292, 15180, 14919, 14718, 14264, 13925, 13811, 13668, 13392, 13347, 12991, 12774, 12663, 12509, 12351, 12174, 11869, 11689, 11546, 11546, 11257, 10988, 10878, 10781, 10569, 10356, 10220, 9975, 9956, 10015, 9783, 9659, 9640, 9392, 9269, 9099, 8971, 8903, 8616, 8639, 8413, 8414, 8310, 8227, 8051, 7808, 8009, 7891, 7691, 7659, 7622, 774456]}, {\"name\": \"k15\", \"type\": \"bar\", \"y\": [209078225, 123641256, 68454255, 39938233, 24768879, 16241395, 11146162, 7942262, 5840624, 4412650, 3405665, 2677962, 2143496, 1740096, 1428765, 1183365, 992439, 836070, 713472, 612118, 526801, 458324, 400076, 349334, 308409, 272704, 242588, 216066, 193363, 174203, 155811, 141885, 128749, 116725, 106764, 97402, 89995, 83324, 77746, 72055, 67264, 62958, 59396, 56490, 53467, 50956, 49385, 47160, 45661, 44327, 43470, 42766, 41660, 41156, 40612, 40541, 40450, 40369, 40770, 41472, 41070, 41480, 42128, 42689, 43557, 44685, 44668, 45819, 46491, 47036, 48225, 48749, 50033, 51008, 51386, 53221, 53716, 55168, 55741, 56773, 57324, 57824, 59145, 60136, 61260, 61309, 61906, 62761, 63084, 63529, 63948, 64253, 64203, 64320, 64507, 64820, 65494, 64808, 64564, 63940, 63943, 63148, 62980, 62466, 61245, 61271, 60368, 58983, 58303, 57702, 57015, 55343, 54472, 53831, 51937, 51169, 50334, 48865, 47487, 45988, 44888, 43351, 42389, 40926, 39598, 38431, 36905, 35998, 34330, 32912, 32056, 30714, 29198, 28352, 27084, 26123, 24837, 23745, 22838, 21751, 20693, 19760, 18892, 17937, 16985, 16117, 15310, 14519, 13992, 13309, 12605, 11925, 11369, 10731, 10215, 9729, 9229, 8627, 8355, 7609, 7407, 6941, 6628, 6399, 5976, 5388, 5363, 4958, 4794, 4599, 4459, 4146, 3918, 3738, 3489, 3416, 3191, 3110, 3079, 2878, 2891, 2620, 2524, 2473, 2462, 2291, 2205, 2158, 2177, 1994, 1944, 1895, 1793, 1841, 1763, 1697, 1634, 1710, 1615, 1601, 1572, 1534, 1557, 1443, 1498, 1433, 1383, 1432, 1488, 1434, 1274, 1297, 1354, 1301, 1260, 1272, 1312, 1231, 1251, 1159, 1195, 1163, 1101, 1151, 1077, 1036, 1123, 1108, 1120, 1007, 1014, 1046, 955, 1005, 1072, 939, 878, 937, 900, 932, 890, 848, 873, 868, 870, 811, 798, 830, 786, 719, 697, 725, 747, 759, 675, 47602]}, {\"name\": \"k17\", \"type\": \"bar\", \"y\": [7811035891, 603507926, 97526153, 30510174, 13954275, 7816286, 4929777, 3349068, 2404599, 1791296, 1374220, 1076572, 862270, 698713, 575975, 478680, 402719, 340606, 291369, 251353, 216964, 190441, 167587, 148251, 131705, 117856, 105806, 95581, 86961, 79857, 73894, 68306, 64425, 60188, 56848, 54144, 51143, 49856, 48489, 46889, 46479, 45803, 44941, 44722, 44820, 44985, 45242, 45520, 46517, 47115, 47852, 48273, 49288, 50432, 51401, 52673, 53727, 54926, 55797, 57574, 58752, 60201, 61453, 62684, 64044, 65377, 66521, 67475, 69300, 70130, 70879, 71950, 72663, 72985, 73739, 74411, 74562, 74147, 74546, 75324, 75301, 75027, 74854, 74357, 74140, 73241, 72717, 71522, 70482, 69626, 68739, 67077, 66539, 65047, 63563, 61751, 60263, 59037, 57303, 55747, 53859, 52125, 50610, 48552, 46699, 44877, 43125, 41413, 39723, 38182, 36560, 34593, 33006, 31226, 29998, 28214, 26653, 25363, 23945, 22601, 21363, 19976, 18933, 17827, 16405, 15678, 14620, 13838, 12937, 12005, 10959, 10307, 9705, 9040, 8399, 7744, 7142, 6788, 6322, 5901, 5648, 5033, 4646, 4418, 3953, 3709, 3504, 3321, 2905, 2819, 2513, 2353, 2263, 2088, 1987, 1764, 1679, 1664, 1528, 1468, 1332, 1317, 1215, 1198, 1178, 1140, 1012, 1001, 936, 943, 912, 868, 817, 829, 840, 826, 757, 782, 735, 673, 676, 644, 662, 661, 675, 656, 622, 616, 620, 677, 621, 576, 636, 621, 569, 606, 583, 537, 540, 499, 531, 532, 499, 493, 489, 456, 428, 433, 412, 437, 412, 417, 397, 398, 358, 395, 404, 348, 362, 355, 374, 337, 341, 317, 333, 308, 306, 324, 301, 271, 277, 273, 274, 229, 262, 236, 254, 251, 230, 222, 187, 205, 226, 196, 183, 180, 187, 168, 182, 158, 159, 174, 133, 140, 159, 20919]}],\n",
       "                        {\"template\": {\"data\": {\"bar\": [{\"error_x\": {\"color\": \"#2a3f5f\"}, \"error_y\": {\"color\": \"#2a3f5f\"}, \"marker\": {\"line\": {\"color\": \"#E5ECF6\", \"width\": 0.5}}, \"type\": \"bar\"}], \"barpolar\": [{\"marker\": {\"line\": {\"color\": \"#E5ECF6\", \"width\": 0.5}}, \"type\": \"barpolar\"}], \"carpet\": [{\"aaxis\": {\"endlinecolor\": \"#2a3f5f\", \"gridcolor\": \"white\", \"linecolor\": \"white\", \"minorgridcolor\": \"white\", \"startlinecolor\": \"#2a3f5f\"}, \"baxis\": {\"endlinecolor\": \"#2a3f5f\", \"gridcolor\": \"white\", \"linecolor\": \"white\", \"minorgridcolor\": \"white\", \"startlinecolor\": \"#2a3f5f\"}, \"type\": \"carpet\"}], \"choropleth\": [{\"colorbar\": {\"outlinewidth\": 0, \"ticks\": \"\"}, \"type\": \"choropleth\"}], \"contour\": [{\"colorbar\": {\"outlinewidth\": 0, \"ticks\": \"\"}, \"colorscale\": [[0.0, \"#0d0887\"], [0.1111111111111111, \"#46039f\"], [0.2222222222222222, \"#7201a8\"], [0.3333333333333333, \"#9c179e\"], [0.4444444444444444, \"#bd3786\"], [0.5555555555555556, \"#d8576b\"], [0.6666666666666666, \"#ed7953\"], [0.7777777777777778, \"#fb9f3a\"], [0.8888888888888888, \"#fdca26\"], [1.0, \"#f0f921\"]], \"type\": \"contour\"}], \"contourcarpet\": [{\"colorbar\": {\"outlinewidth\": 0, \"ticks\": \"\"}, \"type\": \"contourcarpet\"}], \"heatmap\": [{\"colorbar\": {\"outlinewidth\": 0, \"ticks\": \"\"}, \"colorscale\": [[0.0, \"#0d0887\"], [0.1111111111111111, \"#46039f\"], [0.2222222222222222, \"#7201a8\"], [0.3333333333333333, \"#9c179e\"], [0.4444444444444444, \"#bd3786\"], [0.5555555555555556, \"#d8576b\"], [0.6666666666666666, \"#ed7953\"], [0.7777777777777778, \"#fb9f3a\"], [0.8888888888888888, \"#fdca26\"], [1.0, \"#f0f921\"]], \"type\": \"heatmap\"}], \"heatmapgl\": [{\"colorbar\": {\"outlinewidth\": 0, \"ticks\": \"\"}, \"colorscale\": [[0.0, \"#0d0887\"], [0.1111111111111111, \"#46039f\"], [0.2222222222222222, \"#7201a8\"], [0.3333333333333333, \"#9c179e\"], [0.4444444444444444, \"#bd3786\"], [0.5555555555555556, \"#d8576b\"], [0.6666666666666666, \"#ed7953\"], [0.7777777777777778, \"#fb9f3a\"], [0.8888888888888888, \"#fdca26\"], [1.0, \"#f0f921\"]], \"type\": \"heatmapgl\"}], \"histogram\": [{\"marker\": {\"colorbar\": {\"outlinewidth\": 0, \"ticks\": \"\"}}, \"type\": \"histogram\"}], \"histogram2d\": [{\"colorbar\": {\"outlinewidth\": 0, \"ticks\": \"\"}, \"colorscale\": [[0.0, \"#0d0887\"], [0.1111111111111111, \"#46039f\"], [0.2222222222222222, \"#7201a8\"], [0.3333333333333333, \"#9c179e\"], [0.4444444444444444, \"#bd3786\"], [0.5555555555555556, \"#d8576b\"], [0.6666666666666666, \"#ed7953\"], [0.7777777777777778, \"#fb9f3a\"], [0.8888888888888888, \"#fdca26\"], [1.0, \"#f0f921\"]], \"type\": \"histogram2d\"}], \"histogram2dcontour\": [{\"colorbar\": {\"outlinewidth\": 0, \"ticks\": \"\"}, \"colorscale\": [[0.0, \"#0d0887\"], [0.1111111111111111, \"#46039f\"], [0.2222222222222222, \"#7201a8\"], [0.3333333333333333, \"#9c179e\"], [0.4444444444444444, \"#bd3786\"], [0.5555555555555556, \"#d8576b\"], [0.6666666666666666, \"#ed7953\"], [0.7777777777777778, \"#fb9f3a\"], [0.8888888888888888, \"#fdca26\"], [1.0, \"#f0f921\"]], \"type\": \"histogram2dcontour\"}], \"mesh3d\": [{\"colorbar\": {\"outlinewidth\": 0, \"ticks\": \"\"}, \"type\": \"mesh3d\"}], \"parcoords\": [{\"line\": {\"colorbar\": {\"outlinewidth\": 0, \"ticks\": \"\"}}, \"type\": \"parcoords\"}], \"scatter\": [{\"marker\": {\"colorbar\": {\"outlinewidth\": 0, \"ticks\": \"\"}}, \"type\": \"scatter\"}], \"scatter3d\": [{\"line\": {\"colorbar\": {\"outlinewidth\": 0, \"ticks\": \"\"}}, \"marker\": {\"colorbar\": {\"outlinewidth\": 0, \"ticks\": \"\"}}, \"type\": \"scatter3d\"}], \"scattercarpet\": [{\"marker\": {\"colorbar\": {\"outlinewidth\": 0, \"ticks\": \"\"}}, \"type\": \"scattercarpet\"}], \"scattergeo\": [{\"marker\": {\"colorbar\": {\"outlinewidth\": 0, \"ticks\": \"\"}}, \"type\": \"scattergeo\"}], \"scattergl\": [{\"marker\": {\"colorbar\": {\"outlinewidth\": 0, \"ticks\": \"\"}}, \"type\": \"scattergl\"}], \"scattermapbox\": [{\"marker\": {\"colorbar\": {\"outlinewidth\": 0, \"ticks\": \"\"}}, \"type\": \"scattermapbox\"}], \"scatterpolar\": [{\"marker\": {\"colorbar\": {\"outlinewidth\": 0, \"ticks\": \"\"}}, \"type\": \"scatterpolar\"}], \"scatterpolargl\": [{\"marker\": {\"colorbar\": {\"outlinewidth\": 0, \"ticks\": \"\"}}, \"type\": \"scatterpolargl\"}], \"scatterternary\": [{\"marker\": {\"colorbar\": {\"outlinewidth\": 0, \"ticks\": \"\"}}, \"type\": \"scatterternary\"}], \"surface\": [{\"colorbar\": {\"outlinewidth\": 0, \"ticks\": \"\"}, \"colorscale\": [[0.0, \"#0d0887\"], [0.1111111111111111, \"#46039f\"], [0.2222222222222222, \"#7201a8\"], [0.3333333333333333, \"#9c179e\"], [0.4444444444444444, \"#bd3786\"], [0.5555555555555556, \"#d8576b\"], [0.6666666666666666, \"#ed7953\"], [0.7777777777777778, \"#fb9f3a\"], [0.8888888888888888, \"#fdca26\"], [1.0, \"#f0f921\"]], \"type\": \"surface\"}], \"table\": [{\"cells\": {\"fill\": {\"color\": \"#EBF0F8\"}, \"line\": {\"color\": \"white\"}}, \"header\": {\"fill\": {\"color\": \"#C8D4E3\"}, \"line\": {\"color\": \"white\"}}, \"type\": \"table\"}]}, \"layout\": {\"annotationdefaults\": {\"arrowcolor\": \"#2a3f5f\", \"arrowhead\": 0, \"arrowwidth\": 1}, \"colorscale\": {\"diverging\": [[0, \"#8e0152\"], [0.1, \"#c51b7d\"], [0.2, \"#de77ae\"], [0.3, \"#f1b6da\"], [0.4, \"#fde0ef\"], [0.5, \"#f7f7f7\"], [0.6, \"#e6f5d0\"], [0.7, \"#b8e186\"], [0.8, \"#7fbc41\"], [0.9, \"#4d9221\"], [1, \"#276419\"]], \"sequential\": [[0.0, \"#0d0887\"], [0.1111111111111111, \"#46039f\"], [0.2222222222222222, \"#7201a8\"], [0.3333333333333333, \"#9c179e\"], [0.4444444444444444, \"#bd3786\"], [0.5555555555555556, \"#d8576b\"], [0.6666666666666666, \"#ed7953\"], [0.7777777777777778, \"#fb9f3a\"], [0.8888888888888888, \"#fdca26\"], [1.0, \"#f0f921\"]], \"sequentialminus\": [[0.0, \"#0d0887\"], [0.1111111111111111, \"#46039f\"], [0.2222222222222222, \"#7201a8\"], [0.3333333333333333, \"#9c179e\"], [0.4444444444444444, \"#bd3786\"], [0.5555555555555556, \"#d8576b\"], [0.6666666666666666, \"#ed7953\"], [0.7777777777777778, \"#fb9f3a\"], [0.8888888888888888, \"#fdca26\"], [1.0, \"#f0f921\"]]}, \"colorway\": [\"#636efa\", \"#EF553B\", \"#00cc96\", \"#ab63fa\", \"#FFA15A\", \"#19d3f3\", \"#FF6692\", \"#B6E880\", \"#FF97FF\", \"#FECB52\"], \"font\": {\"color\": \"#2a3f5f\"}, \"geo\": {\"bgcolor\": \"white\", \"lakecolor\": \"white\", \"landcolor\": \"#E5ECF6\", \"showlakes\": true, \"showland\": true, \"subunitcolor\": \"white\"}, \"hoverlabel\": {\"align\": \"left\"}, \"hovermode\": \"closest\", \"mapbox\": {\"style\": \"light\"}, \"paper_bgcolor\": \"white\", \"plot_bgcolor\": \"#E5ECF6\", \"polar\": {\"angularaxis\": {\"gridcolor\": \"white\", \"linecolor\": \"white\", \"ticks\": \"\"}, \"bgcolor\": \"#E5ECF6\", \"radialaxis\": {\"gridcolor\": \"white\", \"linecolor\": \"white\", \"ticks\": \"\"}}, \"scene\": {\"xaxis\": {\"backgroundcolor\": \"#E5ECF6\", \"gridcolor\": \"white\", \"gridwidth\": 2, \"linecolor\": \"white\", \"showbackground\": true, \"ticks\": \"\", \"zerolinecolor\": \"white\"}, \"yaxis\": {\"backgroundcolor\": \"#E5ECF6\", \"gridcolor\": \"white\", \"gridwidth\": 2, \"linecolor\": \"white\", \"showbackground\": true, \"ticks\": \"\", \"zerolinecolor\": \"white\"}, \"zaxis\": {\"backgroundcolor\": \"#E5ECF6\", \"gridcolor\": \"white\", \"gridwidth\": 2, \"linecolor\": \"white\", \"showbackground\": true, \"ticks\": \"\", \"zerolinecolor\": \"white\"}}, \"shapedefaults\": {\"line\": {\"color\": \"#2a3f5f\"}}, \"ternary\": {\"aaxis\": {\"gridcolor\": \"white\", \"linecolor\": \"white\", \"ticks\": \"\"}, \"baxis\": {\"gridcolor\": \"white\", \"linecolor\": \"white\", \"ticks\": \"\"}, \"bgcolor\": \"#E5ECF6\", \"caxis\": {\"gridcolor\": \"white\", \"linecolor\": \"white\", \"ticks\": \"\"}}, \"title\": {\"x\": 0.05}, \"xaxis\": {\"automargin\": true, \"gridcolor\": \"white\", \"linecolor\": \"white\", \"ticks\": \"\", \"zerolinecolor\": \"white\", \"zerolinewidth\": 2}, \"yaxis\": {\"automargin\": true, \"gridcolor\": \"white\", \"linecolor\": \"white\", \"ticks\": \"\", \"zerolinecolor\": \"white\", \"zerolinewidth\": 2}}}, \"xaxis\": {\"range\": [0, 255]}, \"yaxis\": {\"range\": [0, 100000]}},\n",
       "                        {\"responsive\": true}\n",
       "                    ).then(function(){\n",
       "                            \n",
       "var gd = document.getElementById('d38edb8f-859e-466d-ab80-e8587ae6410f');\n",
       "var x = new MutationObserver(function (mutations, observer) {{\n",
       "        var display = window.getComputedStyle(gd).display;\n",
       "        if (!display || display === 'none') {{\n",
       "            console.log([gd, 'removed!']);\n",
       "            Plotly.purge(gd);\n",
       "            observer.disconnect();\n",
       "        }}\n",
       "}});\n",
       "\n",
       "// Listen for the removal of the full notebook cells\n",
       "var notebookContainer = gd.closest('#notebook-container');\n",
       "if (notebookContainer) {{\n",
       "    x.observe(notebookContainer, {childList: true});\n",
       "}}\n",
       "\n",
       "// Listen for the clearing of the current output cell\n",
       "var outputEl = gd.closest('.output');\n",
       "if (outputEl) {{\n",
       "    x.observe(outputEl, {childList: true});\n",
       "}}\n",
       "\n",
       "                        })\n",
       "                };\n",
       "                });\n",
       "            </script>\n",
       "        </div>"
      ]
     },
     "metadata": {},
     "output_type": "display_data"
    }
   ],
   "source": [
    "#!snakemake -s pipeline/generate_stat.snakefile kmer_spectrum_simulated_reads\n",
    "import pandas\n",
    "import plotly.graph_objects as go\n",
    "\n",
    "df = pandas.read_csv(\"stats/kmer_spectrum/e_coli_ont.csv\", index_col=0)\n",
    "\n",
    "fig = go.Figure(data=[go.Bar(name=c, y=df[c]) for c in df.columns],\n",
    "               layout=go.Layout(yaxis=dict(range=[0, 100_000]),\n",
    "                                xaxis=dict(range=[0, 255])))\n",
    "fig.show()"
   ]
  },
  {
   "cell_type": "markdown",
   "metadata": {},
   "source": [
    "#### Correction with reads kmer\n",
    "\n",
    "Difference between original error rate and the corrected read error rate"
   ]
  },
  {
   "cell_type": "code",
   "execution_count": 12,
   "metadata": {},
   "outputs": [
    {
     "data": {
      "text/markdown": [
       "| | | s1| s2| s3| s4| s5| s6| s7| s8| s9|\n",
       "|:-|:-|-:|-:|-:|-:|-:|-:|-:|-:|-:|\n",
       "| k13 | a1 | 0.000000 | 0.000000 | 0.000000 | 0.000000 | 0.000000 | 0.000000 | 0.000000 | 0.000000 | 0.000000|\n",
       "| k13 | a2 | 0.002080 | 0.001930 | 0.001790 | 0.002060 | 0.002190 | 0.002170 | 0.002170 | 0.002170 | 0.002170|\n",
       "| k13 | a3 | 0.007390 | 0.005960 | 0.006370 | 0.006500 | 0.006010 | 0.005770 | 0.005520 | 0.005580 | 0.005570|\n",
       "| k13 | a4 | 0.022760 | 0.021010 | 0.016540 | 0.015990 | 0.016240 | 0.016080 | 0.016160 | 0.016100 | 0.016070|\n",
       "| k13 | a5 | 0.040810 | 0.033690 | 0.031390 | 0.029940 | 0.028690 | 0.028010 | 0.027390 | 0.027480 | 0.026570|\n",
       "| k13 | a6 | 0.064580 | 0.053350 | 0.049360 | 0.047040 | 0.046350 | 0.045950 | 0.043560 | 0.043670 | 0.044350|\n",
       "| k13 | a7 | 0.093220 | 0.078590 | 0.069830 | 0.068580 | 0.067590 | 0.065270 | 0.065900 | 0.064790 | 0.064890|\n",
       "| k13 | a8 | 0.132410 | 0.109700 | 0.096130 | 0.090450 | 0.086220 | 0.082460 | 0.080520 | 0.079270 | 0.078740|\n",
       "| k13 | a9 | 0.169740 | 0.142450 | 0.124890 | 0.117010 | 0.111130 | 0.105900 | 0.101940 | 0.100750 | 0.100090|\n",
       "| k13 | a10 | 0.226400 | 0.188750 | 0.169540 | 0.157380 | 0.148080 | 0.140190 | 0.137500 | 0.133460 | 0.132460|\n",
       "| k13 | a11 | 0.266080 | 0.223700 | 0.200890 | 0.187150 | 0.176720 | 0.168060 | 0.161600 | 0.157670 | 0.156940|\n",
       "| k13 | a12 | 0.317810 | 0.272910 | 0.238010 | 0.219020 | 0.204140 | 0.195990 | 0.189810 | 0.186000 | 0.184990|\n",
       "| k13 | a13 | 0.374300 | 0.314450 | 0.272920 | 0.248890 | 0.234030 | 0.225020 | 0.218990 | 0.215380 | 0.212930|\n",
       "| k13 | a14 | 0.434120 | 0.346160 | 0.304700 | 0.276210 | 0.261580 | 0.251870 | 0.244410 | 0.241080 | 0.238090|\n",
       "| k13 | a15 | 0.502630 | 0.406740 | 0.347610 | 0.312360 | 0.294500 | 0.282740 | 0.272130 | 0.268380 | 0.264050|\n",
       "| k15 | a1 | -0.000120 | -0.000090 | -0.000100 | -0.000100 | -0.000110 | -0.000110 | -0.000110 | -0.000120 | 0.000010|\n",
       "| k15 | a2 | 1.423390 | 0.888880 | 0.577720 | 0.406670 | 0.313520 | 0.255960 | 0.215180 | 0.184910 | 0.161200|\n",
       "| k15 | a3 | 2.421420 | 1.448110 | 0.908490 | 0.617190 | 0.455280 | 0.346270 | 0.283010 | 0.238800 | 0.203510|\n",
       "| k15 | a4 | 3.046960 | 1.683210 | 1.006540 | 0.654910 | 0.451250 | 0.331200 | 0.258740 | 0.210900 | 0.168250|\n",
       "| k15 | a5 | 3.330690 | 1.775760 | 1.004910 | 0.610000 | 0.402730 | 0.275060 | 0.192900 | 0.147750 | 0.111000|\n",
       "| k15 | a6 | 3.484930 | 1.753000 | 0.913280 | 0.528390 | 0.322170 | 0.207120 | 0.127480 | 0.082390 | 0.057170|\n",
       "| k15 | a7 | 3.485880 | 1.648830 | 0.823040 | 0.442340 | 0.249870 | 0.136740 | 0.068280 | 0.028370 | 0.000490|\n",
       "| k15 | a8 | 3.452590 | 1.542000 | 0.724210 | 0.352350 | 0.170830 | 0.062920 | 0.013430 | -0.020800 | -0.043570|\n",
       "| k15 | a9 | 3.363460 | 1.421180 | 0.606830 | 0.245390 | 0.088810 | -0.003640 | -0.047870 | -0.068580 | -0.086450|\n",
       "| k15 | a10 | 3.245270 | 1.275790 | 0.501240 | 0.170040 | 0.018110 | -0.057940 | -0.090190 | -0.115330 | -0.130410|\n",
       "| k15 | a11 | 3.108190 | 1.171710 | 0.410380 | 0.090240 | -0.043890 | -0.100470 | -0.137440 | -0.152640 | -0.164300|\n",
       "| k15 | a12 | 2.977000 | 1.033030 | 0.301280 | 0.018380 | -0.100430 | -0.149790 | -0.179090 | -0.192030 | -0.193730|\n",
       "| k15 | a13 | 2.855620 | 0.906530 | 0.219030 | -0.052160 | -0.157390 | -0.194190 | -0.220250 | -0.223460 | -0.220440|\n",
       "| k15 | a14 | 2.715190 | 0.790090 | 0.132770 | -0.109780 | -0.204390 | -0.233290 | -0.246140 | -0.247270 | -0.243180|\n",
       "| k15 | a15 | 2.601220 | 0.697330 | 0.064460 | -0.166750 | -0.247320 | -0.271650 | -0.280080 | -0.273840 | -0.268130|\n",
       "| k17 | a1 | 0.000050 | 0.000000 | -0.000110 | -0.000120 | -0.000140 | -0.000160 | -0.000170 | -0.000240 | -0.000240|\n",
       "| k17 | a2 | 1.956870 | 0.465040 | 0.048770 | -0.074490 | -0.114260 | -0.122720 | -0.121880 | -0.121830 | -0.118460|\n",
       "| k17 | a3 | 1.018780 | 0.086340 | -0.143390 | -0.199680 | -0.211110 | -0.203190 | -0.191350 | -0.178470 | -0.168480|\n",
       "| k17 | a4 | 0.554690 | -0.121230 | -0.252290 | -0.286540 | -0.271460 | -0.258180 | -0.242200 | -0.227570 | -0.213100|\n",
       "| k17 | a5 | 0.216180 | -0.263960 | -0.342110 | -0.348950 | -0.327410 | -0.305160 | -0.285740 | -0.264320 | -0.248920|\n",
       "| k17 | a6 | -0.036350 | -0.382830 | -0.413190 | -0.402350 | -0.370430 | -0.345760 | -0.319240 | -0.297690 | -0.276720|\n",
       "| k17 | a7 | -0.245580 | -0.474910 | -0.470180 | -0.452330 | -0.416950 | -0.381590 | -0.355370 | -0.330780 | -0.307450|\n",
       "| k17 | a8 | -0.426010 | -0.555840 | -0.515770 | -0.490020 | -0.451070 | -0.410990 | -0.381700 | -0.353930 | -0.328180|\n",
       "| k17 | a9 | -0.564010 | -0.619060 | -0.559130 | -0.521820 | -0.477220 | -0.435800 | -0.399160 | -0.370730 | -0.346600|\n",
       "| k17 | a10 | -0.713440 | -0.678480 | -0.598640 | -0.550740 | -0.503500 | -0.457610 | -0.419380 | -0.387600 | -0.358880|\n",
       "| k17 | a11 | -0.826600 | -0.724850 | -0.631970 | -0.583520 | -0.535010 | -0.487150 | -0.448260 | -0.412140 | -0.377890|\n",
       "| k17 | a12 | -0.935730 | -0.765310 | -0.661670 | -0.604670 | -0.552340 | -0.506050 | -0.461370 | -0.423870 | -0.389710|\n",
       "| k17 | a13 | -1.037100 | -0.804080 | -0.688620 | -0.628780 | -0.573420 | -0.522610 | -0.472020 | -0.435730 | -0.398640|\n",
       "| k17 | a14 | -1.126490 | -0.845210 | -0.717530 | -0.652290 | -0.594070 | -0.540200 | -0.486440 | -0.448230 | -0.409170|\n",
       "| k17 | a15 | -1.205820 | -0.880030 | -0.744720 | -0.669260 | -0.607280 | -0.549450 | -0.495420 | -0.454610 | -0.416520|\n"
      ],
      "text/plain": [
       "<IPython.core.display.Markdown object>"
      ]
     },
     "execution_count": 12,
     "metadata": {},
     "output_type": "execute_result"
    }
   ],
   "source": [
    "display.Markdown(pconbr.identity.read_kmer(\"SRR8494940\"))"
   ]
  },
  {
   "cell_type": "markdown",
   "metadata": {},
   "source": [
    "### E. coli pb dataset\n",
    "\n",
    "#### Kmer spectrum"
   ]
  },
  {
   "cell_type": "code",
   "execution_count": 28,
   "metadata": {},
   "outputs": [
    {
     "data": {
      "application/vnd.plotly.v1+json": {
       "config": {
        "plotlyServerURL": "https://plot.ly"
       },
       "data": [
        {
         "name": "k13",
         "type": "bar",
         "y": [
          3965,
          18127,
          46936,
          91989,
          149662,
          217609,
          289490,
          362735,
          434144,
          498725,
          559281,
          609170,
          653949,
          690976,
          718624,
          743029,
          757631,
          770053,
          775044,
          774869,
          772100,
          764527,
          752469,
          740442,
          724086,
          706935,
          687273,
          667125,
          647010,
          623849,
          603741,
          581164,
          559281,
          537218,
          515317,
          493336,
          472114,
          451467,
          431258,
          413029,
          395223,
          376854,
          359563,
          343162,
          327120,
          312602,
          297960,
          284729,
          272697,
          260530,
          249776,
          238845,
          229902,
          220167,
          212231,
          203723,
          196743,
          189320,
          183513,
          177287,
          171262,
          166253,
          161851,
          157096,
          152448,
          148208,
          145268,
          141040,
          138242,
          134695,
          131853,
          129058,
          126128,
          122899,
          120876,
          117614,
          115131,
          112781,
          110620,
          108187,
          105900,
          103515,
          101506,
          98486,
          96818,
          94082,
          91959,
          89830,
          87650,
          85563,
          83160,
          81319,
          78790,
          76737,
          74424,
          72944,
          70646,
          68592,
          66707,
          65350,
          63187,
          61665,
          59598,
          58299,
          56252,
          54760,
          53184,
          51703,
          50348,
          49040,
          47764,
          46024,
          45068,
          43573,
          42604,
          41256,
          39925,
          39163,
          37929,
          36855,
          35609,
          34823,
          34095,
          32957,
          32125,
          31437,
          30395,
          29926,
          29017,
          28130,
          27437,
          26890,
          26050,
          25577,
          25314,
          24432,
          23416,
          23273,
          22474,
          21749,
          21207,
          20891,
          20172,
          19899,
          19346,
          18872,
          18528,
          18023,
          17746,
          17442,
          16620,
          16409,
          15935,
          15649,
          14963,
          15079,
          14437,
          14087,
          13694,
          13488,
          13310,
          12783,
          12545,
          12371,
          11978,
          11831,
          11328,
          11039,
          10666,
          10628,
          10385,
          10201,
          9894,
          9490,
          9390,
          9225,
          8908,
          8704,
          8560,
          8333,
          8196,
          8004,
          7799,
          7744,
          7396,
          7145,
          7048,
          6960,
          6701,
          6663,
          6425,
          6375,
          6234,
          5982,
          6034,
          5785,
          5502,
          5567,
          5481,
          5230,
          5283,
          5088,
          4959,
          4920,
          4744,
          4670,
          4502,
          4450,
          4422,
          4181,
          4186,
          4041,
          4006,
          3802,
          3765,
          3747,
          3621,
          3533,
          3464,
          3389,
          3439,
          3268,
          3301,
          3094,
          3043,
          2968,
          2999,
          2793,
          2853,
          2811,
          2711,
          2669,
          2666,
          2559,
          2505,
          2404,
          2415,
          2321,
          2332,
          2274,
          2151,
          2242,
          2102,
          2056,
          1990,
          1965,
          1901,
          1949,
          1892,
          1895,
          1751,
          1754,
          1729,
          1729,
          1639,
          108655
         ]
        },
        {
         "name": "k15",
         "type": "bar",
         "y": [
          128324172,
          136037579,
          97220525,
          61243813,
          37466022,
          23193958,
          14759270,
          9696492,
          6564454,
          4560496,
          3233693,
          2337629,
          1711509,
          1268653,
          949466,
          718061,
          547533,
          421549,
          326927,
          257831,
          206486,
          168390,
          142352,
          124518,
          113439,
          108116,
          107403,
          110409,
          116737,
          125099,
          135041,
          146921,
          159135,
          170297,
          181429,
          190241,
          196777,
          202938,
          207059,
          208598,
          206821,
          204275,
          201051,
          193349,
          185579,
          175494,
          164783,
          153640,
          142021,
          131027,
          118730,
          107545,
          96234,
          86011,
          77286,
          67560,
          59101,
          52017,
          45631,
          39542,
          34846,
          30097,
          26559,
          23086,
          20117,
          17791,
          15762,
          13823,
          12510,
          11308,
          10335,
          9230,
          8655,
          8106,
          7698,
          7078,
          6731,
          6255,
          5957,
          5752,
          5478,
          5252,
          5032,
          4802,
          4583,
          4263,
          4334,
          4024,
          3806,
          3622,
          3477,
          3310,
          2967,
          2933,
          2675,
          2564,
          2463,
          2266,
          2107,
          2028,
          1766,
          1764,
          1643,
          1562,
          1387,
          1283,
          1248,
          1104,
          1102,
          1027,
          897,
          869,
          838,
          788,
          723,
          684,
          635,
          625,
          634,
          556,
          544,
          467,
          471,
          424,
          456,
          408,
          395,
          378,
          411,
          367,
          345,
          316,
          348,
          320,
          272,
          292,
          256,
          261,
          265,
          268,
          242,
          206,
          223,
          246,
          214,
          193,
          197,
          164,
          163,
          207,
          146,
          178,
          163,
          172,
          176,
          159,
          158,
          154,
          173,
          123,
          125,
          127,
          132,
          127,
          124,
          114,
          112,
          128,
          108,
          111,
          106,
          90,
          101,
          96,
          110,
          101,
          97,
          99,
          93,
          100,
          107,
          94,
          82,
          115,
          114,
          103,
          100,
          100,
          89,
          111,
          102,
          95,
          105,
          111,
          77,
          74,
          111,
          108,
          99,
          95,
          95,
          93,
          78,
          82,
          72,
          93,
          72,
          84,
          93,
          79,
          93,
          83,
          97,
          73,
          69,
          102,
          88,
          87,
          82,
          94,
          90,
          101,
          85,
          99,
          111,
          95,
          90,
          82,
          100,
          84,
          77,
          88,
          91,
          109,
          117,
          108,
          97,
          103,
          112,
          117,
          78,
          106,
          100,
          98,
          108,
          109,
          86,
          108,
          104,
          119,
          101,
          98,
          102,
          94,
          105,
          7086
         ]
        },
        {
         "name": "k17",
         "type": "bar",
         "y": [
          7591708866,
          835752024,
          107074661,
          26054604,
          10555155,
          5397539,
          3077238,
          1857065,
          1158934,
          736457,
          475382,
          313643,
          212219,
          149591,
          113300,
          94153,
          86312,
          89386,
          99793,
          115857,
          135516,
          157681,
          180731,
          203314,
          225028,
          243203,
          257955,
          267763,
          271817,
          271600,
          267366,
          259440,
          245999,
          229922,
          210750,
          191748,
          170631,
          151160,
          131926,
          114173,
          97443,
          82257,
          68330,
          56844,
          46922,
          38363,
          31039,
          25298,
          20645,
          16525,
          13792,
          11401,
          9635,
          8071,
          6858,
          6013,
          5353,
          4710,
          4219,
          4034,
          3531,
          3327,
          3111,
          2984,
          2841,
          2595,
          2493,
          2266,
          2075,
          2036,
          1792,
          1714,
          1570,
          1395,
          1307,
          1195,
          1064,
          1014,
          935,
          853,
          807,
          723,
          615,
          627,
          539,
          478,
          460,
          411,
          445,
          375,
          377,
          332,
          349,
          317,
          290,
          267,
          282,
          259,
          240,
          252,
          220,
          234,
          205,
          185,
          181,
          215,
          164,
          179,
          169,
          158,
          164,
          147,
          155,
          152,
          139,
          150,
          136,
          121,
          124,
          127,
          123,
          129,
          147,
          114,
          114,
          106,
          117,
          124,
          116,
          106,
          91,
          96,
          96,
          88,
          108,
          108,
          94,
          94,
          112,
          102,
          89,
          108,
          84,
          102,
          107,
          123,
          106,
          114,
          99,
          92,
          87,
          98,
          105,
          97,
          109,
          104,
          114,
          112,
          91,
          125,
          110,
          124,
          106,
          104,
          98,
          116,
          115,
          107,
          107,
          97,
          98,
          105,
          106,
          93,
          89,
          105,
          120,
          100,
          102,
          118,
          90,
          99,
          116,
          120,
          104,
          112,
          115,
          107,
          130,
          129,
          119,
          117,
          124,
          114,
          119,
          123,
          116,
          103,
          128,
          105,
          106,
          112,
          123,
          117,
          88,
          117,
          114,
          116,
          119,
          111,
          112,
          105,
          87,
          107,
          97,
          96,
          105,
          94,
          70,
          81,
          84,
          88,
          81,
          89,
          76,
          80,
          76,
          62,
          72,
          64,
          88,
          78,
          86,
          54,
          67,
          60,
          60,
          49,
          44,
          57,
          55,
          33,
          38,
          54,
          49,
          50,
          40,
          32,
          39,
          40,
          36,
          29,
          45,
          30,
          33,
          2314
         ]
        }
       ],
       "layout": {
        "template": {
         "data": {
          "bar": [
           {
            "error_x": {
             "color": "#2a3f5f"
            },
            "error_y": {
             "color": "#2a3f5f"
            },
            "marker": {
             "line": {
              "color": "#E5ECF6",
              "width": 0.5
             }
            },
            "type": "bar"
           }
          ],
          "barpolar": [
           {
            "marker": {
             "line": {
              "color": "#E5ECF6",
              "width": 0.5
             }
            },
            "type": "barpolar"
           }
          ],
          "carpet": [
           {
            "aaxis": {
             "endlinecolor": "#2a3f5f",
             "gridcolor": "white",
             "linecolor": "white",
             "minorgridcolor": "white",
             "startlinecolor": "#2a3f5f"
            },
            "baxis": {
             "endlinecolor": "#2a3f5f",
             "gridcolor": "white",
             "linecolor": "white",
             "minorgridcolor": "white",
             "startlinecolor": "#2a3f5f"
            },
            "type": "carpet"
           }
          ],
          "choropleth": [
           {
            "colorbar": {
             "outlinewidth": 0,
             "ticks": ""
            },
            "type": "choropleth"
           }
          ],
          "contour": [
           {
            "colorbar": {
             "outlinewidth": 0,
             "ticks": ""
            },
            "colorscale": [
             [
              0,
              "#0d0887"
             ],
             [
              0.1111111111111111,
              "#46039f"
             ],
             [
              0.2222222222222222,
              "#7201a8"
             ],
             [
              0.3333333333333333,
              "#9c179e"
             ],
             [
              0.4444444444444444,
              "#bd3786"
             ],
             [
              0.5555555555555556,
              "#d8576b"
             ],
             [
              0.6666666666666666,
              "#ed7953"
             ],
             [
              0.7777777777777778,
              "#fb9f3a"
             ],
             [
              0.8888888888888888,
              "#fdca26"
             ],
             [
              1,
              "#f0f921"
             ]
            ],
            "type": "contour"
           }
          ],
          "contourcarpet": [
           {
            "colorbar": {
             "outlinewidth": 0,
             "ticks": ""
            },
            "type": "contourcarpet"
           }
          ],
          "heatmap": [
           {
            "colorbar": {
             "outlinewidth": 0,
             "ticks": ""
            },
            "colorscale": [
             [
              0,
              "#0d0887"
             ],
             [
              0.1111111111111111,
              "#46039f"
             ],
             [
              0.2222222222222222,
              "#7201a8"
             ],
             [
              0.3333333333333333,
              "#9c179e"
             ],
             [
              0.4444444444444444,
              "#bd3786"
             ],
             [
              0.5555555555555556,
              "#d8576b"
             ],
             [
              0.6666666666666666,
              "#ed7953"
             ],
             [
              0.7777777777777778,
              "#fb9f3a"
             ],
             [
              0.8888888888888888,
              "#fdca26"
             ],
             [
              1,
              "#f0f921"
             ]
            ],
            "type": "heatmap"
           }
          ],
          "heatmapgl": [
           {
            "colorbar": {
             "outlinewidth": 0,
             "ticks": ""
            },
            "colorscale": [
             [
              0,
              "#0d0887"
             ],
             [
              0.1111111111111111,
              "#46039f"
             ],
             [
              0.2222222222222222,
              "#7201a8"
             ],
             [
              0.3333333333333333,
              "#9c179e"
             ],
             [
              0.4444444444444444,
              "#bd3786"
             ],
             [
              0.5555555555555556,
              "#d8576b"
             ],
             [
              0.6666666666666666,
              "#ed7953"
             ],
             [
              0.7777777777777778,
              "#fb9f3a"
             ],
             [
              0.8888888888888888,
              "#fdca26"
             ],
             [
              1,
              "#f0f921"
             ]
            ],
            "type": "heatmapgl"
           }
          ],
          "histogram": [
           {
            "marker": {
             "colorbar": {
              "outlinewidth": 0,
              "ticks": ""
             }
            },
            "type": "histogram"
           }
          ],
          "histogram2d": [
           {
            "colorbar": {
             "outlinewidth": 0,
             "ticks": ""
            },
            "colorscale": [
             [
              0,
              "#0d0887"
             ],
             [
              0.1111111111111111,
              "#46039f"
             ],
             [
              0.2222222222222222,
              "#7201a8"
             ],
             [
              0.3333333333333333,
              "#9c179e"
             ],
             [
              0.4444444444444444,
              "#bd3786"
             ],
             [
              0.5555555555555556,
              "#d8576b"
             ],
             [
              0.6666666666666666,
              "#ed7953"
             ],
             [
              0.7777777777777778,
              "#fb9f3a"
             ],
             [
              0.8888888888888888,
              "#fdca26"
             ],
             [
              1,
              "#f0f921"
             ]
            ],
            "type": "histogram2d"
           }
          ],
          "histogram2dcontour": [
           {
            "colorbar": {
             "outlinewidth": 0,
             "ticks": ""
            },
            "colorscale": [
             [
              0,
              "#0d0887"
             ],
             [
              0.1111111111111111,
              "#46039f"
             ],
             [
              0.2222222222222222,
              "#7201a8"
             ],
             [
              0.3333333333333333,
              "#9c179e"
             ],
             [
              0.4444444444444444,
              "#bd3786"
             ],
             [
              0.5555555555555556,
              "#d8576b"
             ],
             [
              0.6666666666666666,
              "#ed7953"
             ],
             [
              0.7777777777777778,
              "#fb9f3a"
             ],
             [
              0.8888888888888888,
              "#fdca26"
             ],
             [
              1,
              "#f0f921"
             ]
            ],
            "type": "histogram2dcontour"
           }
          ],
          "mesh3d": [
           {
            "colorbar": {
             "outlinewidth": 0,
             "ticks": ""
            },
            "type": "mesh3d"
           }
          ],
          "parcoords": [
           {
            "line": {
             "colorbar": {
              "outlinewidth": 0,
              "ticks": ""
             }
            },
            "type": "parcoords"
           }
          ],
          "scatter": [
           {
            "marker": {
             "colorbar": {
              "outlinewidth": 0,
              "ticks": ""
             }
            },
            "type": "scatter"
           }
          ],
          "scatter3d": [
           {
            "line": {
             "colorbar": {
              "outlinewidth": 0,
              "ticks": ""
             }
            },
            "marker": {
             "colorbar": {
              "outlinewidth": 0,
              "ticks": ""
             }
            },
            "type": "scatter3d"
           }
          ],
          "scattercarpet": [
           {
            "marker": {
             "colorbar": {
              "outlinewidth": 0,
              "ticks": ""
             }
            },
            "type": "scattercarpet"
           }
          ],
          "scattergeo": [
           {
            "marker": {
             "colorbar": {
              "outlinewidth": 0,
              "ticks": ""
             }
            },
            "type": "scattergeo"
           }
          ],
          "scattergl": [
           {
            "marker": {
             "colorbar": {
              "outlinewidth": 0,
              "ticks": ""
             }
            },
            "type": "scattergl"
           }
          ],
          "scattermapbox": [
           {
            "marker": {
             "colorbar": {
              "outlinewidth": 0,
              "ticks": ""
             }
            },
            "type": "scattermapbox"
           }
          ],
          "scatterpolar": [
           {
            "marker": {
             "colorbar": {
              "outlinewidth": 0,
              "ticks": ""
             }
            },
            "type": "scatterpolar"
           }
          ],
          "scatterpolargl": [
           {
            "marker": {
             "colorbar": {
              "outlinewidth": 0,
              "ticks": ""
             }
            },
            "type": "scatterpolargl"
           }
          ],
          "scatterternary": [
           {
            "marker": {
             "colorbar": {
              "outlinewidth": 0,
              "ticks": ""
             }
            },
            "type": "scatterternary"
           }
          ],
          "surface": [
           {
            "colorbar": {
             "outlinewidth": 0,
             "ticks": ""
            },
            "colorscale": [
             [
              0,
              "#0d0887"
             ],
             [
              0.1111111111111111,
              "#46039f"
             ],
             [
              0.2222222222222222,
              "#7201a8"
             ],
             [
              0.3333333333333333,
              "#9c179e"
             ],
             [
              0.4444444444444444,
              "#bd3786"
             ],
             [
              0.5555555555555556,
              "#d8576b"
             ],
             [
              0.6666666666666666,
              "#ed7953"
             ],
             [
              0.7777777777777778,
              "#fb9f3a"
             ],
             [
              0.8888888888888888,
              "#fdca26"
             ],
             [
              1,
              "#f0f921"
             ]
            ],
            "type": "surface"
           }
          ],
          "table": [
           {
            "cells": {
             "fill": {
              "color": "#EBF0F8"
             },
             "line": {
              "color": "white"
             }
            },
            "header": {
             "fill": {
              "color": "#C8D4E3"
             },
             "line": {
              "color": "white"
             }
            },
            "type": "table"
           }
          ]
         },
         "layout": {
          "annotationdefaults": {
           "arrowcolor": "#2a3f5f",
           "arrowhead": 0,
           "arrowwidth": 1
          },
          "colorscale": {
           "diverging": [
            [
             0,
             "#8e0152"
            ],
            [
             0.1,
             "#c51b7d"
            ],
            [
             0.2,
             "#de77ae"
            ],
            [
             0.3,
             "#f1b6da"
            ],
            [
             0.4,
             "#fde0ef"
            ],
            [
             0.5,
             "#f7f7f7"
            ],
            [
             0.6,
             "#e6f5d0"
            ],
            [
             0.7,
             "#b8e186"
            ],
            [
             0.8,
             "#7fbc41"
            ],
            [
             0.9,
             "#4d9221"
            ],
            [
             1,
             "#276419"
            ]
           ],
           "sequential": [
            [
             0,
             "#0d0887"
            ],
            [
             0.1111111111111111,
             "#46039f"
            ],
            [
             0.2222222222222222,
             "#7201a8"
            ],
            [
             0.3333333333333333,
             "#9c179e"
            ],
            [
             0.4444444444444444,
             "#bd3786"
            ],
            [
             0.5555555555555556,
             "#d8576b"
            ],
            [
             0.6666666666666666,
             "#ed7953"
            ],
            [
             0.7777777777777778,
             "#fb9f3a"
            ],
            [
             0.8888888888888888,
             "#fdca26"
            ],
            [
             1,
             "#f0f921"
            ]
           ],
           "sequentialminus": [
            [
             0,
             "#0d0887"
            ],
            [
             0.1111111111111111,
             "#46039f"
            ],
            [
             0.2222222222222222,
             "#7201a8"
            ],
            [
             0.3333333333333333,
             "#9c179e"
            ],
            [
             0.4444444444444444,
             "#bd3786"
            ],
            [
             0.5555555555555556,
             "#d8576b"
            ],
            [
             0.6666666666666666,
             "#ed7953"
            ],
            [
             0.7777777777777778,
             "#fb9f3a"
            ],
            [
             0.8888888888888888,
             "#fdca26"
            ],
            [
             1,
             "#f0f921"
            ]
           ]
          },
          "colorway": [
           "#636efa",
           "#EF553B",
           "#00cc96",
           "#ab63fa",
           "#FFA15A",
           "#19d3f3",
           "#FF6692",
           "#B6E880",
           "#FF97FF",
           "#FECB52"
          ],
          "font": {
           "color": "#2a3f5f"
          },
          "geo": {
           "bgcolor": "white",
           "lakecolor": "white",
           "landcolor": "#E5ECF6",
           "showlakes": true,
           "showland": true,
           "subunitcolor": "white"
          },
          "hoverlabel": {
           "align": "left"
          },
          "hovermode": "closest",
          "mapbox": {
           "style": "light"
          },
          "paper_bgcolor": "white",
          "plot_bgcolor": "#E5ECF6",
          "polar": {
           "angularaxis": {
            "gridcolor": "white",
            "linecolor": "white",
            "ticks": ""
           },
           "bgcolor": "#E5ECF6",
           "radialaxis": {
            "gridcolor": "white",
            "linecolor": "white",
            "ticks": ""
           }
          },
          "scene": {
           "xaxis": {
            "backgroundcolor": "#E5ECF6",
            "gridcolor": "white",
            "gridwidth": 2,
            "linecolor": "white",
            "showbackground": true,
            "ticks": "",
            "zerolinecolor": "white"
           },
           "yaxis": {
            "backgroundcolor": "#E5ECF6",
            "gridcolor": "white",
            "gridwidth": 2,
            "linecolor": "white",
            "showbackground": true,
            "ticks": "",
            "zerolinecolor": "white"
           },
           "zaxis": {
            "backgroundcolor": "#E5ECF6",
            "gridcolor": "white",
            "gridwidth": 2,
            "linecolor": "white",
            "showbackground": true,
            "ticks": "",
            "zerolinecolor": "white"
           }
          },
          "shapedefaults": {
           "line": {
            "color": "#2a3f5f"
           }
          },
          "ternary": {
           "aaxis": {
            "gridcolor": "white",
            "linecolor": "white",
            "ticks": ""
           },
           "baxis": {
            "gridcolor": "white",
            "linecolor": "white",
            "ticks": ""
           },
           "bgcolor": "#E5ECF6",
           "caxis": {
            "gridcolor": "white",
            "linecolor": "white",
            "ticks": ""
           }
          },
          "title": {
           "x": 0.05
          },
          "xaxis": {
           "automargin": true,
           "gridcolor": "white",
           "linecolor": "white",
           "ticks": "",
           "zerolinecolor": "white",
           "zerolinewidth": 2
          },
          "yaxis": {
           "automargin": true,
           "gridcolor": "white",
           "linecolor": "white",
           "ticks": "",
           "zerolinecolor": "white",
           "zerolinewidth": 2
          }
         }
        },
        "xaxis": {
         "range": [
          0,
          255
         ]
        },
        "yaxis": {
         "range": [
          0,
          800000
         ]
        }
       }
      },
      "text/html": [
       "<div>\n",
       "        \n",
       "        \n",
       "            <div id=\"05861295-3965-4140-8a54-3486dc29859e\" class=\"plotly-graph-div\" style=\"height:525px; width:100%;\"></div>\n",
       "            <script type=\"text/javascript\">\n",
       "                require([\"plotly\"], function(Plotly) {\n",
       "                    window.PLOTLYENV=window.PLOTLYENV || {};\n",
       "                    \n",
       "                if (document.getElementById(\"05861295-3965-4140-8a54-3486dc29859e\")) {\n",
       "                    Plotly.newPlot(\n",
       "                        '05861295-3965-4140-8a54-3486dc29859e',\n",
       "                        [{\"name\": \"k13\", \"type\": \"bar\", \"y\": [3965, 18127, 46936, 91989, 149662, 217609, 289490, 362735, 434144, 498725, 559281, 609170, 653949, 690976, 718624, 743029, 757631, 770053, 775044, 774869, 772100, 764527, 752469, 740442, 724086, 706935, 687273, 667125, 647010, 623849, 603741, 581164, 559281, 537218, 515317, 493336, 472114, 451467, 431258, 413029, 395223, 376854, 359563, 343162, 327120, 312602, 297960, 284729, 272697, 260530, 249776, 238845, 229902, 220167, 212231, 203723, 196743, 189320, 183513, 177287, 171262, 166253, 161851, 157096, 152448, 148208, 145268, 141040, 138242, 134695, 131853, 129058, 126128, 122899, 120876, 117614, 115131, 112781, 110620, 108187, 105900, 103515, 101506, 98486, 96818, 94082, 91959, 89830, 87650, 85563, 83160, 81319, 78790, 76737, 74424, 72944, 70646, 68592, 66707, 65350, 63187, 61665, 59598, 58299, 56252, 54760, 53184, 51703, 50348, 49040, 47764, 46024, 45068, 43573, 42604, 41256, 39925, 39163, 37929, 36855, 35609, 34823, 34095, 32957, 32125, 31437, 30395, 29926, 29017, 28130, 27437, 26890, 26050, 25577, 25314, 24432, 23416, 23273, 22474, 21749, 21207, 20891, 20172, 19899, 19346, 18872, 18528, 18023, 17746, 17442, 16620, 16409, 15935, 15649, 14963, 15079, 14437, 14087, 13694, 13488, 13310, 12783, 12545, 12371, 11978, 11831, 11328, 11039, 10666, 10628, 10385, 10201, 9894, 9490, 9390, 9225, 8908, 8704, 8560, 8333, 8196, 8004, 7799, 7744, 7396, 7145, 7048, 6960, 6701, 6663, 6425, 6375, 6234, 5982, 6034, 5785, 5502, 5567, 5481, 5230, 5283, 5088, 4959, 4920, 4744, 4670, 4502, 4450, 4422, 4181, 4186, 4041, 4006, 3802, 3765, 3747, 3621, 3533, 3464, 3389, 3439, 3268, 3301, 3094, 3043, 2968, 2999, 2793, 2853, 2811, 2711, 2669, 2666, 2559, 2505, 2404, 2415, 2321, 2332, 2274, 2151, 2242, 2102, 2056, 1990, 1965, 1901, 1949, 1892, 1895, 1751, 1754, 1729, 1729, 1639, 108655]}, {\"name\": \"k15\", \"type\": \"bar\", \"y\": [128324172, 136037579, 97220525, 61243813, 37466022, 23193958, 14759270, 9696492, 6564454, 4560496, 3233693, 2337629, 1711509, 1268653, 949466, 718061, 547533, 421549, 326927, 257831, 206486, 168390, 142352, 124518, 113439, 108116, 107403, 110409, 116737, 125099, 135041, 146921, 159135, 170297, 181429, 190241, 196777, 202938, 207059, 208598, 206821, 204275, 201051, 193349, 185579, 175494, 164783, 153640, 142021, 131027, 118730, 107545, 96234, 86011, 77286, 67560, 59101, 52017, 45631, 39542, 34846, 30097, 26559, 23086, 20117, 17791, 15762, 13823, 12510, 11308, 10335, 9230, 8655, 8106, 7698, 7078, 6731, 6255, 5957, 5752, 5478, 5252, 5032, 4802, 4583, 4263, 4334, 4024, 3806, 3622, 3477, 3310, 2967, 2933, 2675, 2564, 2463, 2266, 2107, 2028, 1766, 1764, 1643, 1562, 1387, 1283, 1248, 1104, 1102, 1027, 897, 869, 838, 788, 723, 684, 635, 625, 634, 556, 544, 467, 471, 424, 456, 408, 395, 378, 411, 367, 345, 316, 348, 320, 272, 292, 256, 261, 265, 268, 242, 206, 223, 246, 214, 193, 197, 164, 163, 207, 146, 178, 163, 172, 176, 159, 158, 154, 173, 123, 125, 127, 132, 127, 124, 114, 112, 128, 108, 111, 106, 90, 101, 96, 110, 101, 97, 99, 93, 100, 107, 94, 82, 115, 114, 103, 100, 100, 89, 111, 102, 95, 105, 111, 77, 74, 111, 108, 99, 95, 95, 93, 78, 82, 72, 93, 72, 84, 93, 79, 93, 83, 97, 73, 69, 102, 88, 87, 82, 94, 90, 101, 85, 99, 111, 95, 90, 82, 100, 84, 77, 88, 91, 109, 117, 108, 97, 103, 112, 117, 78, 106, 100, 98, 108, 109, 86, 108, 104, 119, 101, 98, 102, 94, 105, 7086]}, {\"name\": \"k17\", \"type\": \"bar\", \"y\": [7591708866, 835752024, 107074661, 26054604, 10555155, 5397539, 3077238, 1857065, 1158934, 736457, 475382, 313643, 212219, 149591, 113300, 94153, 86312, 89386, 99793, 115857, 135516, 157681, 180731, 203314, 225028, 243203, 257955, 267763, 271817, 271600, 267366, 259440, 245999, 229922, 210750, 191748, 170631, 151160, 131926, 114173, 97443, 82257, 68330, 56844, 46922, 38363, 31039, 25298, 20645, 16525, 13792, 11401, 9635, 8071, 6858, 6013, 5353, 4710, 4219, 4034, 3531, 3327, 3111, 2984, 2841, 2595, 2493, 2266, 2075, 2036, 1792, 1714, 1570, 1395, 1307, 1195, 1064, 1014, 935, 853, 807, 723, 615, 627, 539, 478, 460, 411, 445, 375, 377, 332, 349, 317, 290, 267, 282, 259, 240, 252, 220, 234, 205, 185, 181, 215, 164, 179, 169, 158, 164, 147, 155, 152, 139, 150, 136, 121, 124, 127, 123, 129, 147, 114, 114, 106, 117, 124, 116, 106, 91, 96, 96, 88, 108, 108, 94, 94, 112, 102, 89, 108, 84, 102, 107, 123, 106, 114, 99, 92, 87, 98, 105, 97, 109, 104, 114, 112, 91, 125, 110, 124, 106, 104, 98, 116, 115, 107, 107, 97, 98, 105, 106, 93, 89, 105, 120, 100, 102, 118, 90, 99, 116, 120, 104, 112, 115, 107, 130, 129, 119, 117, 124, 114, 119, 123, 116, 103, 128, 105, 106, 112, 123, 117, 88, 117, 114, 116, 119, 111, 112, 105, 87, 107, 97, 96, 105, 94, 70, 81, 84, 88, 81, 89, 76, 80, 76, 62, 72, 64, 88, 78, 86, 54, 67, 60, 60, 49, 44, 57, 55, 33, 38, 54, 49, 50, 40, 32, 39, 40, 36, 29, 45, 30, 33, 2314]}],\n",
       "                        {\"template\": {\"data\": {\"bar\": [{\"error_x\": {\"color\": \"#2a3f5f\"}, \"error_y\": {\"color\": \"#2a3f5f\"}, \"marker\": {\"line\": {\"color\": \"#E5ECF6\", \"width\": 0.5}}, \"type\": \"bar\"}], \"barpolar\": [{\"marker\": {\"line\": {\"color\": \"#E5ECF6\", \"width\": 0.5}}, \"type\": \"barpolar\"}], \"carpet\": [{\"aaxis\": {\"endlinecolor\": \"#2a3f5f\", \"gridcolor\": \"white\", \"linecolor\": \"white\", \"minorgridcolor\": \"white\", \"startlinecolor\": \"#2a3f5f\"}, \"baxis\": {\"endlinecolor\": \"#2a3f5f\", \"gridcolor\": \"white\", \"linecolor\": \"white\", \"minorgridcolor\": \"white\", \"startlinecolor\": \"#2a3f5f\"}, \"type\": \"carpet\"}], \"choropleth\": [{\"colorbar\": {\"outlinewidth\": 0, \"ticks\": \"\"}, \"type\": \"choropleth\"}], \"contour\": [{\"colorbar\": {\"outlinewidth\": 0, \"ticks\": \"\"}, \"colorscale\": [[0.0, \"#0d0887\"], [0.1111111111111111, \"#46039f\"], [0.2222222222222222, \"#7201a8\"], [0.3333333333333333, \"#9c179e\"], [0.4444444444444444, \"#bd3786\"], [0.5555555555555556, \"#d8576b\"], [0.6666666666666666, \"#ed7953\"], [0.7777777777777778, \"#fb9f3a\"], [0.8888888888888888, \"#fdca26\"], [1.0, \"#f0f921\"]], \"type\": \"contour\"}], \"contourcarpet\": [{\"colorbar\": {\"outlinewidth\": 0, \"ticks\": \"\"}, \"type\": \"contourcarpet\"}], \"heatmap\": [{\"colorbar\": {\"outlinewidth\": 0, \"ticks\": \"\"}, \"colorscale\": [[0.0, \"#0d0887\"], [0.1111111111111111, \"#46039f\"], [0.2222222222222222, \"#7201a8\"], [0.3333333333333333, \"#9c179e\"], [0.4444444444444444, \"#bd3786\"], [0.5555555555555556, \"#d8576b\"], [0.6666666666666666, \"#ed7953\"], [0.7777777777777778, \"#fb9f3a\"], [0.8888888888888888, \"#fdca26\"], [1.0, \"#f0f921\"]], \"type\": \"heatmap\"}], \"heatmapgl\": [{\"colorbar\": {\"outlinewidth\": 0, \"ticks\": \"\"}, \"colorscale\": [[0.0, \"#0d0887\"], [0.1111111111111111, \"#46039f\"], [0.2222222222222222, \"#7201a8\"], [0.3333333333333333, \"#9c179e\"], [0.4444444444444444, \"#bd3786\"], [0.5555555555555556, \"#d8576b\"], [0.6666666666666666, \"#ed7953\"], [0.7777777777777778, \"#fb9f3a\"], [0.8888888888888888, \"#fdca26\"], [1.0, \"#f0f921\"]], \"type\": \"heatmapgl\"}], \"histogram\": [{\"marker\": {\"colorbar\": {\"outlinewidth\": 0, \"ticks\": \"\"}}, \"type\": \"histogram\"}], \"histogram2d\": [{\"colorbar\": {\"outlinewidth\": 0, \"ticks\": \"\"}, \"colorscale\": [[0.0, \"#0d0887\"], [0.1111111111111111, \"#46039f\"], [0.2222222222222222, \"#7201a8\"], [0.3333333333333333, \"#9c179e\"], [0.4444444444444444, \"#bd3786\"], [0.5555555555555556, \"#d8576b\"], [0.6666666666666666, \"#ed7953\"], [0.7777777777777778, \"#fb9f3a\"], [0.8888888888888888, \"#fdca26\"], [1.0, \"#f0f921\"]], \"type\": \"histogram2d\"}], \"histogram2dcontour\": [{\"colorbar\": {\"outlinewidth\": 0, \"ticks\": \"\"}, \"colorscale\": [[0.0, \"#0d0887\"], [0.1111111111111111, \"#46039f\"], [0.2222222222222222, \"#7201a8\"], [0.3333333333333333, \"#9c179e\"], [0.4444444444444444, \"#bd3786\"], [0.5555555555555556, \"#d8576b\"], [0.6666666666666666, \"#ed7953\"], [0.7777777777777778, \"#fb9f3a\"], [0.8888888888888888, \"#fdca26\"], [1.0, \"#f0f921\"]], \"type\": \"histogram2dcontour\"}], \"mesh3d\": [{\"colorbar\": {\"outlinewidth\": 0, \"ticks\": \"\"}, \"type\": \"mesh3d\"}], \"parcoords\": [{\"line\": {\"colorbar\": {\"outlinewidth\": 0, \"ticks\": \"\"}}, \"type\": \"parcoords\"}], \"scatter\": [{\"marker\": {\"colorbar\": {\"outlinewidth\": 0, \"ticks\": \"\"}}, \"type\": \"scatter\"}], \"scatter3d\": [{\"line\": {\"colorbar\": {\"outlinewidth\": 0, \"ticks\": \"\"}}, \"marker\": {\"colorbar\": {\"outlinewidth\": 0, \"ticks\": \"\"}}, \"type\": \"scatter3d\"}], \"scattercarpet\": [{\"marker\": {\"colorbar\": {\"outlinewidth\": 0, \"ticks\": \"\"}}, \"type\": \"scattercarpet\"}], \"scattergeo\": [{\"marker\": {\"colorbar\": {\"outlinewidth\": 0, \"ticks\": \"\"}}, \"type\": \"scattergeo\"}], \"scattergl\": [{\"marker\": {\"colorbar\": {\"outlinewidth\": 0, \"ticks\": \"\"}}, \"type\": \"scattergl\"}], \"scattermapbox\": [{\"marker\": {\"colorbar\": {\"outlinewidth\": 0, \"ticks\": \"\"}}, \"type\": \"scattermapbox\"}], \"scatterpolar\": [{\"marker\": {\"colorbar\": {\"outlinewidth\": 0, \"ticks\": \"\"}}, \"type\": \"scatterpolar\"}], \"scatterpolargl\": [{\"marker\": {\"colorbar\": {\"outlinewidth\": 0, \"ticks\": \"\"}}, \"type\": \"scatterpolargl\"}], \"scatterternary\": [{\"marker\": {\"colorbar\": {\"outlinewidth\": 0, \"ticks\": \"\"}}, \"type\": \"scatterternary\"}], \"surface\": [{\"colorbar\": {\"outlinewidth\": 0, \"ticks\": \"\"}, \"colorscale\": [[0.0, \"#0d0887\"], [0.1111111111111111, \"#46039f\"], [0.2222222222222222, \"#7201a8\"], [0.3333333333333333, \"#9c179e\"], [0.4444444444444444, \"#bd3786\"], [0.5555555555555556, \"#d8576b\"], [0.6666666666666666, \"#ed7953\"], [0.7777777777777778, \"#fb9f3a\"], [0.8888888888888888, \"#fdca26\"], [1.0, \"#f0f921\"]], \"type\": \"surface\"}], \"table\": [{\"cells\": {\"fill\": {\"color\": \"#EBF0F8\"}, \"line\": {\"color\": \"white\"}}, \"header\": {\"fill\": {\"color\": \"#C8D4E3\"}, \"line\": {\"color\": \"white\"}}, \"type\": \"table\"}]}, \"layout\": {\"annotationdefaults\": {\"arrowcolor\": \"#2a3f5f\", \"arrowhead\": 0, \"arrowwidth\": 1}, \"colorscale\": {\"diverging\": [[0, \"#8e0152\"], [0.1, \"#c51b7d\"], [0.2, \"#de77ae\"], [0.3, \"#f1b6da\"], [0.4, \"#fde0ef\"], [0.5, \"#f7f7f7\"], [0.6, \"#e6f5d0\"], [0.7, \"#b8e186\"], [0.8, \"#7fbc41\"], [0.9, \"#4d9221\"], [1, \"#276419\"]], \"sequential\": [[0.0, \"#0d0887\"], [0.1111111111111111, \"#46039f\"], [0.2222222222222222, \"#7201a8\"], [0.3333333333333333, \"#9c179e\"], [0.4444444444444444, \"#bd3786\"], [0.5555555555555556, \"#d8576b\"], [0.6666666666666666, \"#ed7953\"], [0.7777777777777778, \"#fb9f3a\"], [0.8888888888888888, \"#fdca26\"], [1.0, \"#f0f921\"]], \"sequentialminus\": [[0.0, \"#0d0887\"], [0.1111111111111111, \"#46039f\"], [0.2222222222222222, \"#7201a8\"], [0.3333333333333333, \"#9c179e\"], [0.4444444444444444, \"#bd3786\"], [0.5555555555555556, \"#d8576b\"], [0.6666666666666666, \"#ed7953\"], [0.7777777777777778, \"#fb9f3a\"], [0.8888888888888888, \"#fdca26\"], [1.0, \"#f0f921\"]]}, \"colorway\": [\"#636efa\", \"#EF553B\", \"#00cc96\", \"#ab63fa\", \"#FFA15A\", \"#19d3f3\", \"#FF6692\", \"#B6E880\", \"#FF97FF\", \"#FECB52\"], \"font\": {\"color\": \"#2a3f5f\"}, \"geo\": {\"bgcolor\": \"white\", \"lakecolor\": \"white\", \"landcolor\": \"#E5ECF6\", \"showlakes\": true, \"showland\": true, \"subunitcolor\": \"white\"}, \"hoverlabel\": {\"align\": \"left\"}, \"hovermode\": \"closest\", \"mapbox\": {\"style\": \"light\"}, \"paper_bgcolor\": \"white\", \"plot_bgcolor\": \"#E5ECF6\", \"polar\": {\"angularaxis\": {\"gridcolor\": \"white\", \"linecolor\": \"white\", \"ticks\": \"\"}, \"bgcolor\": \"#E5ECF6\", \"radialaxis\": {\"gridcolor\": \"white\", \"linecolor\": \"white\", \"ticks\": \"\"}}, \"scene\": {\"xaxis\": {\"backgroundcolor\": \"#E5ECF6\", \"gridcolor\": \"white\", \"gridwidth\": 2, \"linecolor\": \"white\", \"showbackground\": true, \"ticks\": \"\", \"zerolinecolor\": \"white\"}, \"yaxis\": {\"backgroundcolor\": \"#E5ECF6\", \"gridcolor\": \"white\", \"gridwidth\": 2, \"linecolor\": \"white\", \"showbackground\": true, \"ticks\": \"\", \"zerolinecolor\": \"white\"}, \"zaxis\": {\"backgroundcolor\": \"#E5ECF6\", \"gridcolor\": \"white\", \"gridwidth\": 2, \"linecolor\": \"white\", \"showbackground\": true, \"ticks\": \"\", \"zerolinecolor\": \"white\"}}, \"shapedefaults\": {\"line\": {\"color\": \"#2a3f5f\"}}, \"ternary\": {\"aaxis\": {\"gridcolor\": \"white\", \"linecolor\": \"white\", \"ticks\": \"\"}, \"baxis\": {\"gridcolor\": \"white\", \"linecolor\": \"white\", \"ticks\": \"\"}, \"bgcolor\": \"#E5ECF6\", \"caxis\": {\"gridcolor\": \"white\", \"linecolor\": \"white\", \"ticks\": \"\"}}, \"title\": {\"x\": 0.05}, \"xaxis\": {\"automargin\": true, \"gridcolor\": \"white\", \"linecolor\": \"white\", \"ticks\": \"\", \"zerolinecolor\": \"white\", \"zerolinewidth\": 2}, \"yaxis\": {\"automargin\": true, \"gridcolor\": \"white\", \"linecolor\": \"white\", \"ticks\": \"\", \"zerolinecolor\": \"white\", \"zerolinewidth\": 2}}}, \"xaxis\": {\"range\": [0, 255]}, \"yaxis\": {\"range\": [0, 800000]}},\n",
       "                        {\"responsive\": true}\n",
       "                    ).then(function(){\n",
       "                            \n",
       "var gd = document.getElementById('05861295-3965-4140-8a54-3486dc29859e');\n",
       "var x = new MutationObserver(function (mutations, observer) {{\n",
       "        var display = window.getComputedStyle(gd).display;\n",
       "        if (!display || display === 'none') {{\n",
       "            console.log([gd, 'removed!']);\n",
       "            Plotly.purge(gd);\n",
       "            observer.disconnect();\n",
       "        }}\n",
       "}});\n",
       "\n",
       "// Listen for the removal of the full notebook cells\n",
       "var notebookContainer = gd.closest('#notebook-container');\n",
       "if (notebookContainer) {{\n",
       "    x.observe(notebookContainer, {childList: true});\n",
       "}}\n",
       "\n",
       "// Listen for the clearing of the current output cell\n",
       "var outputEl = gd.closest('.output');\n",
       "if (outputEl) {{\n",
       "    x.observe(outputEl, {childList: true});\n",
       "}}\n",
       "\n",
       "                        })\n",
       "                };\n",
       "                });\n",
       "            </script>\n",
       "        </div>"
      ]
     },
     "metadata": {},
     "output_type": "display_data"
    }
   ],
   "source": [
    "#!snakemake -s pipeline/generate_stat.snakefile kmer_spectrum_simulated_reads\n",
    "import pandas\n",
    "import plotly.graph_objects as go\n",
    "\n",
    "df = pandas.read_csv(\"stats/kmer_spectrum/e_coli_pb.csv\", index_col=0)\n",
    "\n",
    "fig = go.Figure(data=[go.Bar(name=c, y=df[c]) for c in df.columns])\n",
    "\n",
    "\n",
    "fig = go.Figure(data=[go.Bar(name=c, y=df[c]) for c in df.columns],\n",
    "               layout=go.Layout(yaxis=dict(range=[0, 800_000]),\n",
    "                                xaxis=dict(range=[0, 255])))\n",
    "\n",
    "fig.show()"
   ]
  },
  {
   "cell_type": "markdown",
   "metadata": {},
   "source": [
    "#### Correction with reads kmer"
   ]
  },
  {
   "cell_type": "code",
   "execution_count": 14,
   "metadata": {},
   "outputs": [
    {
     "data": {
      "text/markdown": [
       "| | | s1| s2| s3| s4| s5| s6| s7| s8| s9|\n",
       "|:-|:-|-:|-:|-:|-:|-:|-:|-:|-:|-:|\n",
       "| k13 | a1 | 0.000000 | 0.000000 | 0.000000 | 0.000000 | 0.000000 | 0.000000 | 0.000000 | 0.000000 | 0.000000|\n",
       "| k13 | a2 | 0.000010 | 0.000010 | 0.000010 | 0.000010 | 0.000010 | 0.000010 | 0.000010 | 0.000010 | 0.000010|\n",
       "| k13 | a3 | 0.000070 | 0.000070 | 0.000070 | 0.000070 | 0.000070 | 0.000070 | 0.000060 | 0.000060 | 0.000060|\n",
       "| k13 | a4 | 0.000170 | 0.000140 | 0.000120 | 0.000110 | 0.000190 | 0.000180 | 0.000180 | 0.000180 | 0.000180|\n",
       "| k13 | a5 | 0.001040 | 0.000960 | 0.000950 | 0.000840 | 0.000860 | 0.000850 | 0.000840 | 0.000840 | 0.000760|\n",
       "| k13 | a6 | 0.002410 | 0.002150 | 0.002480 | 0.002310 | 0.002290 | 0.002140 | 0.002140 | 0.002140 | 0.002110|\n",
       "| k13 | a7 | 0.007530 | 0.007510 | 0.007350 | 0.007250 | 0.007160 | 0.007130 | 0.007010 | 0.006960 | 0.006980|\n",
       "| k13 | a8 | 0.012980 | 0.012880 | 0.012180 | 0.012550 | 0.011770 | 0.011620 | 0.011770 | 0.011840 | 0.011690|\n",
       "| k13 | a9 | 0.024840 | 0.023170 | 0.021780 | 0.020860 | 0.020330 | 0.020080 | 0.019940 | 0.019740 | 0.019750|\n",
       "| k13 | a10 | 0.041550 | 0.035890 | 0.033480 | 0.033150 | 0.031230 | 0.030650 | 0.030390 | 0.030180 | 0.030130|\n",
       "| k13 | a11 | 0.060120 | 0.053420 | 0.048360 | 0.046320 | 0.045250 | 0.043780 | 0.043340 | 0.043740 | 0.043140|\n",
       "| k13 | a12 | 0.082800 | 0.073010 | 0.068780 | 0.066030 | 0.063800 | 0.062530 | 0.062150 | 0.061670 | 0.061570|\n",
       "| k13 | a13 | 0.109990 | 0.096620 | 0.089660 | 0.085540 | 0.083970 | 0.083110 | 0.081610 | 0.080550 | 0.080880|\n",
       "| k13 | a14 | 0.149850 | 0.128680 | 0.117110 | 0.109680 | 0.105560 | 0.102870 | 0.102770 | 0.101860 | 0.101790|\n",
       "| k13 | a15 | 0.192410 | 0.160480 | 0.148280 | 0.139020 | 0.132840 | 0.128250 | 0.125290 | 0.124110 | 0.123730|\n",
       "| k15 | a1 | 0.000010 | 0.000030 | 0.000080 | 0.000110 | 0.000240 | 0.000230 | 0.000230 | 0.000210 | 0.000150|\n",
       "| k15 | a2 | 1.285890 | 0.869770 | 0.590310 | 0.429650 | 0.321220 | 0.254330 | 0.207720 | 0.175090 | 0.150000|\n",
       "| k15 | a3 | 2.901260 | 1.729940 | 1.069500 | 0.713960 | 0.490880 | 0.355920 | 0.270980 | 0.216940 | 0.175610|\n",
       "| k15 | a4 | 3.784430 | 2.038960 | 1.159580 | 0.702470 | 0.447910 | 0.296490 | 0.208470 | 0.152260 | 0.114200|\n",
       "| k15 | a5 | 4.052320 | 1.978880 | 1.015100 | 0.553140 | 0.302050 | 0.164370 | 0.093890 | 0.048500 | 0.019780|\n",
       "| k15 | a6 | 3.928510 | 1.715160 | 0.753500 | 0.330360 | 0.121080 | 0.016510 | -0.041450 | -0.065400 | -0.082810|\n",
       "| k15 | a7 | 3.638710 | 1.368680 | 0.468670 | 0.097780 | -0.052390 | -0.125070 | -0.155010 | -0.158630 | -0.160000|\n",
       "| k15 | a8 | 3.250950 | 0.990100 | 0.196960 | -0.107210 | -0.207500 | -0.250590 | -0.244420 | -0.234840 | -0.222430|\n",
       "| k15 | a9 | 2.881530 | 0.652210 | -0.064030 | -0.285910 | -0.355840 | -0.360780 | -0.336790 | -0.310690 | -0.281380|\n",
       "| k15 | a10 | 2.485830 | 0.320240 | -0.297590 | -0.451780 | -0.479800 | -0.447430 | -0.412810 | -0.372580 | -0.334760|\n",
       "| k15 | a11 | 2.124440 | 0.025770 | -0.502180 | -0.600630 | -0.584050 | -0.528160 | -0.475630 | -0.425110 | -0.380300|\n",
       "| k15 | a12 | 1.832980 | -0.222980 | -0.668050 | -0.722780 | -0.674940 | -0.598000 | -0.530580 | -0.467380 | -0.410120|\n",
       "| k15 | a13 | 1.557110 | -0.447000 | -0.817450 | -0.830980 | -0.753230 | -0.657920 | -0.578840 | -0.501900 | -0.439280|\n",
       "| k15 | a14 | 1.306110 | -0.648530 | -0.950880 | -0.921060 | -0.814690 | -0.709840 | -0.616970 | -0.530250 | -0.461580|\n",
       "| k15 | a15 | 1.112060 | -0.812650 | -1.062250 | -0.994630 | -0.865360 | -0.750250 | -0.646000 | -0.553940 | -0.479310|\n",
       "| k17 | a1 | 0.000150 | 0.000140 | -0.000110 | -0.000570 | -0.000380 | -0.000370 | -0.000440 | -0.000530 | -0.000480|\n",
       "| k17 | a2 | 1.512110 | 0.043590 | -0.250870 | -0.305500 | -0.289100 | -0.265680 | -0.238970 | -0.213000 | -0.189830|\n",
       "| k17 | a3 | 0.354780 | -0.479610 | -0.566660 | -0.524200 | -0.461020 | -0.402590 | -0.355180 | -0.314360 | -0.277850|\n",
       "| k17 | a4 | -0.209270 | -0.798840 | -0.791850 | -0.695950 | -0.593130 | -0.508760 | -0.442180 | -0.387150 | -0.338320|\n",
       "| k17 | a5 | -0.627560 | -1.086420 | -0.994980 | -0.844790 | -0.711900 | -0.603050 | -0.516880 | -0.449950 | -0.391720|\n",
       "| k17 | a6 | -0.975170 | -1.323500 | -1.155760 | -0.969450 | -0.808290 | -0.673630 | -0.578370 | -0.494410 | -0.428500|\n",
       "| k17 | a7 | -1.283760 | -1.539740 | -1.312020 | -1.078450 | -0.886370 | -0.733570 | -0.624180 | -0.530700 | -0.455620|\n",
       "| k17 | a8 | -1.535340 | -1.715490 | -1.434420 | -1.164500 | -0.951630 | -0.786110 | -0.663750 | -0.560430 | -0.479450|\n",
       "| k17 | a9 | -1.728220 | -1.850700 | -1.523750 | -1.227920 | -0.996250 | -0.820180 | -0.689610 | -0.579590 | -0.495800|\n",
       "| k17 | a10 | -1.878920 | -1.961250 | -1.597650 | -1.278730 | -1.033720 | -0.850110 | -0.711940 | -0.597750 | -0.509650|\n",
       "| k17 | a11 | -1.986810 | -2.038950 | -1.648630 | -1.313300 | -1.058730 | -0.868020 | -0.725140 | -0.607200 | -0.518300|\n",
       "| k17 | a12 | -2.062580 | -2.087300 | -1.680810 | -1.335940 | -1.075370 | -0.879730 | -0.733920 | -0.614360 | -0.523440|\n",
       "| k17 | a13 | -2.106290 | -2.115610 | -1.698750 | -1.347330 | -1.082550 | -0.884450 | -0.737140 | -0.617460 | -0.526260|\n",
       "| k17 | a14 | -2.128430 | -2.125540 | -1.703920 | -1.350370 | -1.083270 | -0.884450 | -0.737000 | -0.617750 | -0.526000|\n",
       "| k17 | a15 | -2.125230 | -2.120690 | -1.697410 | -1.342970 | -1.076970 | -0.878730 | -0.731790 | -0.613590 | -0.522740|\n"
      ],
      "text/plain": [
       "<IPython.core.display.Markdown object>"
      ]
     },
     "execution_count": 14,
     "metadata": {},
     "output_type": "execute_result"
    }
   ],
   "source": [
    "display.Markdown(pconbr.identity.read_kmer(\"SRR8494911\"))"
   ]
  },
  {
   "cell_type": "markdown",
   "metadata": {},
   "source": [
    "### S. pneumoniae dataset\n",
    "\n",
    "\n",
    "#### Kmer spectrum"
   ]
  },
  {
   "cell_type": "code",
   "execution_count": 33,
   "metadata": {},
   "outputs": [
    {
     "data": {
      "application/vnd.plotly.v1+json": {
       "config": {
        "plotlyServerURL": "https://plot.ly"
       },
       "data": [
        {
         "name": "k13",
         "type": "bar",
         "y": [
          375958,
          649088,
          841143,
          955827,
          1013125,
          1030148,
          1023123,
          1000012,
          969115,
          931333,
          891557,
          851265,
          811265,
          772743,
          734225,
          698518,
          664455,
          634123,
          602562,
          574351,
          545458,
          520445,
          496473,
          473735,
          452393,
          433294,
          412996,
          395765,
          377040,
          361713,
          347380,
          333501,
          319047,
          306417,
          294307,
          282737,
          271788,
          260886,
          250736,
          241001,
          231944,
          223245,
          215632,
          207400,
          200466,
          192057,
          186034,
          179070,
          172459,
          166581,
          161003,
          155572,
          150811,
          146114,
          140269,
          136602,
          132313,
          128127,
          123931,
          120121,
          116488,
          112673,
          109275,
          105950,
          102646,
          99804,
          96765,
          93522,
          90556,
          87919,
          85940,
          83158,
          81505,
          79379,
          76514,
          74222,
          72064,
          70037,
          68679,
          66207,
          64858,
          62675,
          61125,
          60288,
          58730,
          56863,
          55540,
          53862,
          52036,
          51007,
          50207,
          48687,
          47600,
          46351,
          45098,
          44198,
          43293,
          41780,
          41405,
          40301,
          39104,
          38469,
          37484,
          36569,
          35479,
          34872,
          33960,
          33127,
          32596,
          31429,
          31087,
          30512,
          29756,
          28931,
          28248,
          27578,
          27318,
          26583,
          26055,
          25440,
          24841,
          24455,
          23941,
          23563,
          22967,
          22433,
          21892,
          21387,
          21274,
          20594,
          20288,
          19634,
          19600,
          18821,
          18739,
          18472,
          18136,
          17792,
          17131,
          17352,
          16907,
          16489,
          16071,
          15897,
          15081,
          15151,
          15022,
          14574,
          14313,
          14084,
          13935,
          13655,
          13501,
          13246,
          12907,
          12605,
          12450,
          12200,
          11939,
          11774,
          11421,
          11451,
          11100,
          10835,
          11099,
          10635,
          10540,
          10178,
          9916,
          9956,
          9622,
          9763,
          9551,
          9233,
          9247,
          8950,
          8845,
          8694,
          8589,
          8433,
          8393,
          8211,
          7995,
          7948,
          7845,
          7662,
          7619,
          7374,
          7331,
          7278,
          7006,
          6993,
          6856,
          6762,
          6725,
          6704,
          6533,
          6312,
          6370,
          6280,
          6025,
          6254,
          5981,
          5878,
          5815,
          5640,
          5573,
          5625,
          5552,
          5429,
          5380,
          5363,
          5244,
          5169,
          5207,
          5065,
          4908,
          5065,
          4806,
          4776,
          4708,
          4703,
          4750,
          4627,
          4584,
          4529,
          4539,
          4499,
          4417,
          4310,
          4302,
          4280,
          4141,
          4177,
          4014,
          4090,
          3911,
          4079,
          3906,
          3899,
          3797,
          3937,
          3798,
          3852,
          3780,
          3784,
          3614,
          3731,
          3680,
          3700,
          3613,
          3621,
          3426,
          3470,
          3459,
          2061979
         ]
        },
        {
         "name": "k15",
         "type": "bar",
         "y": [
          232542264,
          118813125,
          60265486,
          33827856,
          20874708,
          13883513,
          9776583,
          7185647,
          5468521,
          4281203,
          3423704,
          2788110,
          2312131,
          1941249,
          1645772,
          1413280,
          1222394,
          1065306,
          935825,
          826947,
          733933,
          656419,
          588197,
          529036,
          479997,
          435493,
          397046,
          362154,
          332133,
          305384,
          281165,
          259960,
          240732,
          223589,
          208229,
          193657,
          181203,
          169370,
          158387,
          148752,
          140474,
          131758,
          124785,
          117814,
          111279,
          104835,
          99864,
          94969,
          89796,
          85047,
          80736,
          77370,
          73277,
          70310,
          66852,
          64153,
          61119,
          58569,
          56035,
          52941,
          51307,
          49669,
          47420,
          45847,
          44268,
          41865,
          40499,
          39027,
          37570,
          36659,
          34758,
          33652,
          32190,
          31494,
          30025,
          29142,
          28055,
          27344,
          26306,
          25367,
          24653,
          23738,
          23245,
          22406,
          21926,
          21504,
          20073,
          19622,
          19182,
          18501,
          17941,
          17447,
          16882,
          16602,
          16104,
          15639,
          14883,
          14442,
          14139,
          13994,
          13531,
          13143,
          12895,
          12315,
          12112,
          11771,
          11373,
          11074,
          10720,
          10738,
          10221,
          9950,
          9800,
          9411,
          9248,
          9132,
          9045,
          8914,
          8644,
          8366,
          8131,
          7827,
          7758,
          7771,
          7517,
          7380,
          7249,
          7058,
          6902,
          6655,
          6604,
          6396,
          6301,
          6242,
          5965,
          5947,
          5917,
          5872,
          5610,
          5701,
          5389,
          5411,
          5232,
          5093,
          5067,
          4951,
          4903,
          4865,
          4776,
          4637,
          4585,
          4463,
          4467,
          4497,
          4432,
          4357,
          4359,
          4141,
          4199,
          4141,
          4149,
          4166,
          4023,
          3936,
          3994,
          3857,
          3873,
          3885,
          3731,
          3691,
          3726,
          3786,
          3624,
          3623,
          3594,
          3536,
          3601,
          3519,
          3534,
          3493,
          3376,
          3416,
          3435,
          3391,
          3363,
          3488,
          3414,
          3312,
          3400,
          3471,
          3301,
          3317,
          3387,
          3245,
          3273,
          3373,
          3271,
          3382,
          3258,
          3296,
          3298,
          3258,
          3214,
          3287,
          3302,
          3237,
          3247,
          3304,
          3363,
          3355,
          3302,
          3316,
          3387,
          3392,
          3358,
          3394,
          3381,
          3365,
          3448,
          3398,
          3424,
          3354,
          3537,
          3440,
          3525,
          3501,
          3461,
          3538,
          3519,
          3644,
          3562,
          3534,
          3573,
          3576,
          3648,
          3667,
          3577,
          3826,
          3758,
          3711,
          3708,
          3797,
          3802,
          3601,
          3694,
          3765,
          3844,
          3874,
          3974,
          3896,
          3883,
          3963,
          4034,
          4079,
          3935,
          1845571
         ]
        },
        {
         "name": "k17",
         "type": "bar",
         "y": [
          7881859311,
          523154459,
          90745528,
          31911025,
          15969117,
          9564020,
          6356141,
          4531795,
          3389999,
          2623752,
          2088012,
          1700364,
          1410706,
          1187404,
          1008702,
          868915,
          752302,
          659553,
          582204,
          517014,
          463233,
          415458,
          375255,
          339309,
          309181,
          283039,
          257726,
          238283,
          219445,
          202390,
          186999,
          174298,
          162745,
          152188,
          142037,
          133412,
          125579,
          117495,
          111008,
          104788,
          98317,
          94070,
          88565,
          83968,
          79704,
          75382,
          71560,
          67986,
          64861,
          61791,
          59410,
          56735,
          53879,
          51247,
          48757,
          47193,
          44959,
          43260,
          41138,
          39881,
          38274,
          36509,
          35310,
          33969,
          32369,
          31277,
          30099,
          28986,
          27929,
          27068,
          25633,
          24824,
          24106,
          23114,
          22240,
          21358,
          20512,
          19858,
          19645,
          18573,
          18158,
          17556,
          17258,
          16222,
          15989,
          15359,
          14750,
          14326,
          14116,
          13344,
          13215,
          12723,
          12351,
          11985,
          11528,
          11276,
          10961,
          10903,
          10519,
          10132,
          10065,
          9725,
          9339,
          9054,
          9013,
          8710,
          8610,
          8539,
          8306,
          8129,
          7891,
          7567,
          7524,
          7249,
          7268,
          7070,
          6908,
          6828,
          6674,
          6456,
          6475,
          6320,
          6260,
          6087,
          5921,
          5994,
          5739,
          5600,
          5632,
          5467,
          5410,
          5361,
          5437,
          5265,
          5292,
          5219,
          5189,
          5039,
          4971,
          4829,
          4956,
          4807,
          4655,
          4874,
          4722,
          4640,
          4666,
          4619,
          4588,
          4630,
          4586,
          4514,
          4515,
          4410,
          4528,
          4419,
          4350,
          4325,
          4535,
          4306,
          4226,
          4280,
          4326,
          4265,
          4279,
          4287,
          4251,
          4265,
          4292,
          4251,
          4124,
          4144,
          4269,
          4224,
          4116,
          4190,
          4175,
          4272,
          4234,
          4383,
          4163,
          4218,
          4116,
          4324,
          4261,
          4347,
          4367,
          4382,
          4360,
          4376,
          4324,
          4373,
          4379,
          4508,
          4320,
          4506,
          4546,
          4569,
          4633,
          4426,
          4465,
          4566,
          4714,
          4585,
          4613,
          4705,
          4690,
          4559,
          4763,
          4728,
          4777,
          4759,
          4830,
          4765,
          4827,
          4886,
          4976,
          4941,
          4953,
          4953,
          5074,
          4947,
          4893,
          5000,
          5125,
          5203,
          5136,
          5332,
          5299,
          5240,
          5306,
          5442,
          5279,
          5427,
          5413,
          5530,
          5426,
          5592,
          5571,
          5668,
          5556,
          5641,
          5696,
          5636,
          5674,
          5732,
          5988,
          5949,
          5926,
          5966,
          6165,
          6034,
          6062,
          6104,
          6111,
          1627788
         ]
        }
       ],
       "layout": {
        "template": {
         "data": {
          "bar": [
           {
            "error_x": {
             "color": "#2a3f5f"
            },
            "error_y": {
             "color": "#2a3f5f"
            },
            "marker": {
             "line": {
              "color": "#E5ECF6",
              "width": 0.5
             }
            },
            "type": "bar"
           }
          ],
          "barpolar": [
           {
            "marker": {
             "line": {
              "color": "#E5ECF6",
              "width": 0.5
             }
            },
            "type": "barpolar"
           }
          ],
          "carpet": [
           {
            "aaxis": {
             "endlinecolor": "#2a3f5f",
             "gridcolor": "white",
             "linecolor": "white",
             "minorgridcolor": "white",
             "startlinecolor": "#2a3f5f"
            },
            "baxis": {
             "endlinecolor": "#2a3f5f",
             "gridcolor": "white",
             "linecolor": "white",
             "minorgridcolor": "white",
             "startlinecolor": "#2a3f5f"
            },
            "type": "carpet"
           }
          ],
          "choropleth": [
           {
            "colorbar": {
             "outlinewidth": 0,
             "ticks": ""
            },
            "type": "choropleth"
           }
          ],
          "contour": [
           {
            "colorbar": {
             "outlinewidth": 0,
             "ticks": ""
            },
            "colorscale": [
             [
              0,
              "#0d0887"
             ],
             [
              0.1111111111111111,
              "#46039f"
             ],
             [
              0.2222222222222222,
              "#7201a8"
             ],
             [
              0.3333333333333333,
              "#9c179e"
             ],
             [
              0.4444444444444444,
              "#bd3786"
             ],
             [
              0.5555555555555556,
              "#d8576b"
             ],
             [
              0.6666666666666666,
              "#ed7953"
             ],
             [
              0.7777777777777778,
              "#fb9f3a"
             ],
             [
              0.8888888888888888,
              "#fdca26"
             ],
             [
              1,
              "#f0f921"
             ]
            ],
            "type": "contour"
           }
          ],
          "contourcarpet": [
           {
            "colorbar": {
             "outlinewidth": 0,
             "ticks": ""
            },
            "type": "contourcarpet"
           }
          ],
          "heatmap": [
           {
            "colorbar": {
             "outlinewidth": 0,
             "ticks": ""
            },
            "colorscale": [
             [
              0,
              "#0d0887"
             ],
             [
              0.1111111111111111,
              "#46039f"
             ],
             [
              0.2222222222222222,
              "#7201a8"
             ],
             [
              0.3333333333333333,
              "#9c179e"
             ],
             [
              0.4444444444444444,
              "#bd3786"
             ],
             [
              0.5555555555555556,
              "#d8576b"
             ],
             [
              0.6666666666666666,
              "#ed7953"
             ],
             [
              0.7777777777777778,
              "#fb9f3a"
             ],
             [
              0.8888888888888888,
              "#fdca26"
             ],
             [
              1,
              "#f0f921"
             ]
            ],
            "type": "heatmap"
           }
          ],
          "heatmapgl": [
           {
            "colorbar": {
             "outlinewidth": 0,
             "ticks": ""
            },
            "colorscale": [
             [
              0,
              "#0d0887"
             ],
             [
              0.1111111111111111,
              "#46039f"
             ],
             [
              0.2222222222222222,
              "#7201a8"
             ],
             [
              0.3333333333333333,
              "#9c179e"
             ],
             [
              0.4444444444444444,
              "#bd3786"
             ],
             [
              0.5555555555555556,
              "#d8576b"
             ],
             [
              0.6666666666666666,
              "#ed7953"
             ],
             [
              0.7777777777777778,
              "#fb9f3a"
             ],
             [
              0.8888888888888888,
              "#fdca26"
             ],
             [
              1,
              "#f0f921"
             ]
            ],
            "type": "heatmapgl"
           }
          ],
          "histogram": [
           {
            "marker": {
             "colorbar": {
              "outlinewidth": 0,
              "ticks": ""
             }
            },
            "type": "histogram"
           }
          ],
          "histogram2d": [
           {
            "colorbar": {
             "outlinewidth": 0,
             "ticks": ""
            },
            "colorscale": [
             [
              0,
              "#0d0887"
             ],
             [
              0.1111111111111111,
              "#46039f"
             ],
             [
              0.2222222222222222,
              "#7201a8"
             ],
             [
              0.3333333333333333,
              "#9c179e"
             ],
             [
              0.4444444444444444,
              "#bd3786"
             ],
             [
              0.5555555555555556,
              "#d8576b"
             ],
             [
              0.6666666666666666,
              "#ed7953"
             ],
             [
              0.7777777777777778,
              "#fb9f3a"
             ],
             [
              0.8888888888888888,
              "#fdca26"
             ],
             [
              1,
              "#f0f921"
             ]
            ],
            "type": "histogram2d"
           }
          ],
          "histogram2dcontour": [
           {
            "colorbar": {
             "outlinewidth": 0,
             "ticks": ""
            },
            "colorscale": [
             [
              0,
              "#0d0887"
             ],
             [
              0.1111111111111111,
              "#46039f"
             ],
             [
              0.2222222222222222,
              "#7201a8"
             ],
             [
              0.3333333333333333,
              "#9c179e"
             ],
             [
              0.4444444444444444,
              "#bd3786"
             ],
             [
              0.5555555555555556,
              "#d8576b"
             ],
             [
              0.6666666666666666,
              "#ed7953"
             ],
             [
              0.7777777777777778,
              "#fb9f3a"
             ],
             [
              0.8888888888888888,
              "#fdca26"
             ],
             [
              1,
              "#f0f921"
             ]
            ],
            "type": "histogram2dcontour"
           }
          ],
          "mesh3d": [
           {
            "colorbar": {
             "outlinewidth": 0,
             "ticks": ""
            },
            "type": "mesh3d"
           }
          ],
          "parcoords": [
           {
            "line": {
             "colorbar": {
              "outlinewidth": 0,
              "ticks": ""
             }
            },
            "type": "parcoords"
           }
          ],
          "scatter": [
           {
            "marker": {
             "colorbar": {
              "outlinewidth": 0,
              "ticks": ""
             }
            },
            "type": "scatter"
           }
          ],
          "scatter3d": [
           {
            "line": {
             "colorbar": {
              "outlinewidth": 0,
              "ticks": ""
             }
            },
            "marker": {
             "colorbar": {
              "outlinewidth": 0,
              "ticks": ""
             }
            },
            "type": "scatter3d"
           }
          ],
          "scattercarpet": [
           {
            "marker": {
             "colorbar": {
              "outlinewidth": 0,
              "ticks": ""
             }
            },
            "type": "scattercarpet"
           }
          ],
          "scattergeo": [
           {
            "marker": {
             "colorbar": {
              "outlinewidth": 0,
              "ticks": ""
             }
            },
            "type": "scattergeo"
           }
          ],
          "scattergl": [
           {
            "marker": {
             "colorbar": {
              "outlinewidth": 0,
              "ticks": ""
             }
            },
            "type": "scattergl"
           }
          ],
          "scattermapbox": [
           {
            "marker": {
             "colorbar": {
              "outlinewidth": 0,
              "ticks": ""
             }
            },
            "type": "scattermapbox"
           }
          ],
          "scatterpolar": [
           {
            "marker": {
             "colorbar": {
              "outlinewidth": 0,
              "ticks": ""
             }
            },
            "type": "scatterpolar"
           }
          ],
          "scatterpolargl": [
           {
            "marker": {
             "colorbar": {
              "outlinewidth": 0,
              "ticks": ""
             }
            },
            "type": "scatterpolargl"
           }
          ],
          "scatterternary": [
           {
            "marker": {
             "colorbar": {
              "outlinewidth": 0,
              "ticks": ""
             }
            },
            "type": "scatterternary"
           }
          ],
          "surface": [
           {
            "colorbar": {
             "outlinewidth": 0,
             "ticks": ""
            },
            "colorscale": [
             [
              0,
              "#0d0887"
             ],
             [
              0.1111111111111111,
              "#46039f"
             ],
             [
              0.2222222222222222,
              "#7201a8"
             ],
             [
              0.3333333333333333,
              "#9c179e"
             ],
             [
              0.4444444444444444,
              "#bd3786"
             ],
             [
              0.5555555555555556,
              "#d8576b"
             ],
             [
              0.6666666666666666,
              "#ed7953"
             ],
             [
              0.7777777777777778,
              "#fb9f3a"
             ],
             [
              0.8888888888888888,
              "#fdca26"
             ],
             [
              1,
              "#f0f921"
             ]
            ],
            "type": "surface"
           }
          ],
          "table": [
           {
            "cells": {
             "fill": {
              "color": "#EBF0F8"
             },
             "line": {
              "color": "white"
             }
            },
            "header": {
             "fill": {
              "color": "#C8D4E3"
             },
             "line": {
              "color": "white"
             }
            },
            "type": "table"
           }
          ]
         },
         "layout": {
          "annotationdefaults": {
           "arrowcolor": "#2a3f5f",
           "arrowhead": 0,
           "arrowwidth": 1
          },
          "colorscale": {
           "diverging": [
            [
             0,
             "#8e0152"
            ],
            [
             0.1,
             "#c51b7d"
            ],
            [
             0.2,
             "#de77ae"
            ],
            [
             0.3,
             "#f1b6da"
            ],
            [
             0.4,
             "#fde0ef"
            ],
            [
             0.5,
             "#f7f7f7"
            ],
            [
             0.6,
             "#e6f5d0"
            ],
            [
             0.7,
             "#b8e186"
            ],
            [
             0.8,
             "#7fbc41"
            ],
            [
             0.9,
             "#4d9221"
            ],
            [
             1,
             "#276419"
            ]
           ],
           "sequential": [
            [
             0,
             "#0d0887"
            ],
            [
             0.1111111111111111,
             "#46039f"
            ],
            [
             0.2222222222222222,
             "#7201a8"
            ],
            [
             0.3333333333333333,
             "#9c179e"
            ],
            [
             0.4444444444444444,
             "#bd3786"
            ],
            [
             0.5555555555555556,
             "#d8576b"
            ],
            [
             0.6666666666666666,
             "#ed7953"
            ],
            [
             0.7777777777777778,
             "#fb9f3a"
            ],
            [
             0.8888888888888888,
             "#fdca26"
            ],
            [
             1,
             "#f0f921"
            ]
           ],
           "sequentialminus": [
            [
             0,
             "#0d0887"
            ],
            [
             0.1111111111111111,
             "#46039f"
            ],
            [
             0.2222222222222222,
             "#7201a8"
            ],
            [
             0.3333333333333333,
             "#9c179e"
            ],
            [
             0.4444444444444444,
             "#bd3786"
            ],
            [
             0.5555555555555556,
             "#d8576b"
            ],
            [
             0.6666666666666666,
             "#ed7953"
            ],
            [
             0.7777777777777778,
             "#fb9f3a"
            ],
            [
             0.8888888888888888,
             "#fdca26"
            ],
            [
             1,
             "#f0f921"
            ]
           ]
          },
          "colorway": [
           "#636efa",
           "#EF553B",
           "#00cc96",
           "#ab63fa",
           "#FFA15A",
           "#19d3f3",
           "#FF6692",
           "#B6E880",
           "#FF97FF",
           "#FECB52"
          ],
          "font": {
           "color": "#2a3f5f"
          },
          "geo": {
           "bgcolor": "white",
           "lakecolor": "white",
           "landcolor": "#E5ECF6",
           "showlakes": true,
           "showland": true,
           "subunitcolor": "white"
          },
          "hoverlabel": {
           "align": "left"
          },
          "hovermode": "closest",
          "mapbox": {
           "style": "light"
          },
          "paper_bgcolor": "white",
          "plot_bgcolor": "#E5ECF6",
          "polar": {
           "angularaxis": {
            "gridcolor": "white",
            "linecolor": "white",
            "ticks": ""
           },
           "bgcolor": "#E5ECF6",
           "radialaxis": {
            "gridcolor": "white",
            "linecolor": "white",
            "ticks": ""
           }
          },
          "scene": {
           "xaxis": {
            "backgroundcolor": "#E5ECF6",
            "gridcolor": "white",
            "gridwidth": 2,
            "linecolor": "white",
            "showbackground": true,
            "ticks": "",
            "zerolinecolor": "white"
           },
           "yaxis": {
            "backgroundcolor": "#E5ECF6",
            "gridcolor": "white",
            "gridwidth": 2,
            "linecolor": "white",
            "showbackground": true,
            "ticks": "",
            "zerolinecolor": "white"
           },
           "zaxis": {
            "backgroundcolor": "#E5ECF6",
            "gridcolor": "white",
            "gridwidth": 2,
            "linecolor": "white",
            "showbackground": true,
            "ticks": "",
            "zerolinecolor": "white"
           }
          },
          "shapedefaults": {
           "line": {
            "color": "#2a3f5f"
           }
          },
          "ternary": {
           "aaxis": {
            "gridcolor": "white",
            "linecolor": "white",
            "ticks": ""
           },
           "baxis": {
            "gridcolor": "white",
            "linecolor": "white",
            "ticks": ""
           },
           "bgcolor": "#E5ECF6",
           "caxis": {
            "gridcolor": "white",
            "linecolor": "white",
            "ticks": ""
           }
          },
          "title": {
           "x": 0.05
          },
          "xaxis": {
           "automargin": true,
           "gridcolor": "white",
           "linecolor": "white",
           "ticks": "",
           "zerolinecolor": "white",
           "zerolinewidth": 2
          },
          "yaxis": {
           "automargin": true,
           "gridcolor": "white",
           "linecolor": "white",
           "ticks": "",
           "zerolinecolor": "white",
           "zerolinewidth": 2
          }
         }
        },
        "xaxis": {
         "range": [
          0,
          255
         ]
        },
        "yaxis": {
         "range": [
          0,
          1000000
         ]
        }
       }
      },
      "text/html": [
       "<div>\n",
       "        \n",
       "        \n",
       "            <div id=\"527e96c7-367b-4960-a924-d1b7f02acd34\" class=\"plotly-graph-div\" style=\"height:525px; width:100%;\"></div>\n",
       "            <script type=\"text/javascript\">\n",
       "                require([\"plotly\"], function(Plotly) {\n",
       "                    window.PLOTLYENV=window.PLOTLYENV || {};\n",
       "                    \n",
       "                if (document.getElementById(\"527e96c7-367b-4960-a924-d1b7f02acd34\")) {\n",
       "                    Plotly.newPlot(\n",
       "                        '527e96c7-367b-4960-a924-d1b7f02acd34',\n",
       "                        [{\"name\": \"k13\", \"type\": \"bar\", \"y\": [375958, 649088, 841143, 955827, 1013125, 1030148, 1023123, 1000012, 969115, 931333, 891557, 851265, 811265, 772743, 734225, 698518, 664455, 634123, 602562, 574351, 545458, 520445, 496473, 473735, 452393, 433294, 412996, 395765, 377040, 361713, 347380, 333501, 319047, 306417, 294307, 282737, 271788, 260886, 250736, 241001, 231944, 223245, 215632, 207400, 200466, 192057, 186034, 179070, 172459, 166581, 161003, 155572, 150811, 146114, 140269, 136602, 132313, 128127, 123931, 120121, 116488, 112673, 109275, 105950, 102646, 99804, 96765, 93522, 90556, 87919, 85940, 83158, 81505, 79379, 76514, 74222, 72064, 70037, 68679, 66207, 64858, 62675, 61125, 60288, 58730, 56863, 55540, 53862, 52036, 51007, 50207, 48687, 47600, 46351, 45098, 44198, 43293, 41780, 41405, 40301, 39104, 38469, 37484, 36569, 35479, 34872, 33960, 33127, 32596, 31429, 31087, 30512, 29756, 28931, 28248, 27578, 27318, 26583, 26055, 25440, 24841, 24455, 23941, 23563, 22967, 22433, 21892, 21387, 21274, 20594, 20288, 19634, 19600, 18821, 18739, 18472, 18136, 17792, 17131, 17352, 16907, 16489, 16071, 15897, 15081, 15151, 15022, 14574, 14313, 14084, 13935, 13655, 13501, 13246, 12907, 12605, 12450, 12200, 11939, 11774, 11421, 11451, 11100, 10835, 11099, 10635, 10540, 10178, 9916, 9956, 9622, 9763, 9551, 9233, 9247, 8950, 8845, 8694, 8589, 8433, 8393, 8211, 7995, 7948, 7845, 7662, 7619, 7374, 7331, 7278, 7006, 6993, 6856, 6762, 6725, 6704, 6533, 6312, 6370, 6280, 6025, 6254, 5981, 5878, 5815, 5640, 5573, 5625, 5552, 5429, 5380, 5363, 5244, 5169, 5207, 5065, 4908, 5065, 4806, 4776, 4708, 4703, 4750, 4627, 4584, 4529, 4539, 4499, 4417, 4310, 4302, 4280, 4141, 4177, 4014, 4090, 3911, 4079, 3906, 3899, 3797, 3937, 3798, 3852, 3780, 3784, 3614, 3731, 3680, 3700, 3613, 3621, 3426, 3470, 3459, 2061979]}, {\"name\": \"k15\", \"type\": \"bar\", \"y\": [232542264, 118813125, 60265486, 33827856, 20874708, 13883513, 9776583, 7185647, 5468521, 4281203, 3423704, 2788110, 2312131, 1941249, 1645772, 1413280, 1222394, 1065306, 935825, 826947, 733933, 656419, 588197, 529036, 479997, 435493, 397046, 362154, 332133, 305384, 281165, 259960, 240732, 223589, 208229, 193657, 181203, 169370, 158387, 148752, 140474, 131758, 124785, 117814, 111279, 104835, 99864, 94969, 89796, 85047, 80736, 77370, 73277, 70310, 66852, 64153, 61119, 58569, 56035, 52941, 51307, 49669, 47420, 45847, 44268, 41865, 40499, 39027, 37570, 36659, 34758, 33652, 32190, 31494, 30025, 29142, 28055, 27344, 26306, 25367, 24653, 23738, 23245, 22406, 21926, 21504, 20073, 19622, 19182, 18501, 17941, 17447, 16882, 16602, 16104, 15639, 14883, 14442, 14139, 13994, 13531, 13143, 12895, 12315, 12112, 11771, 11373, 11074, 10720, 10738, 10221, 9950, 9800, 9411, 9248, 9132, 9045, 8914, 8644, 8366, 8131, 7827, 7758, 7771, 7517, 7380, 7249, 7058, 6902, 6655, 6604, 6396, 6301, 6242, 5965, 5947, 5917, 5872, 5610, 5701, 5389, 5411, 5232, 5093, 5067, 4951, 4903, 4865, 4776, 4637, 4585, 4463, 4467, 4497, 4432, 4357, 4359, 4141, 4199, 4141, 4149, 4166, 4023, 3936, 3994, 3857, 3873, 3885, 3731, 3691, 3726, 3786, 3624, 3623, 3594, 3536, 3601, 3519, 3534, 3493, 3376, 3416, 3435, 3391, 3363, 3488, 3414, 3312, 3400, 3471, 3301, 3317, 3387, 3245, 3273, 3373, 3271, 3382, 3258, 3296, 3298, 3258, 3214, 3287, 3302, 3237, 3247, 3304, 3363, 3355, 3302, 3316, 3387, 3392, 3358, 3394, 3381, 3365, 3448, 3398, 3424, 3354, 3537, 3440, 3525, 3501, 3461, 3538, 3519, 3644, 3562, 3534, 3573, 3576, 3648, 3667, 3577, 3826, 3758, 3711, 3708, 3797, 3802, 3601, 3694, 3765, 3844, 3874, 3974, 3896, 3883, 3963, 4034, 4079, 3935, 1845571]}, {\"name\": \"k17\", \"type\": \"bar\", \"y\": [7881859311, 523154459, 90745528, 31911025, 15969117, 9564020, 6356141, 4531795, 3389999, 2623752, 2088012, 1700364, 1410706, 1187404, 1008702, 868915, 752302, 659553, 582204, 517014, 463233, 415458, 375255, 339309, 309181, 283039, 257726, 238283, 219445, 202390, 186999, 174298, 162745, 152188, 142037, 133412, 125579, 117495, 111008, 104788, 98317, 94070, 88565, 83968, 79704, 75382, 71560, 67986, 64861, 61791, 59410, 56735, 53879, 51247, 48757, 47193, 44959, 43260, 41138, 39881, 38274, 36509, 35310, 33969, 32369, 31277, 30099, 28986, 27929, 27068, 25633, 24824, 24106, 23114, 22240, 21358, 20512, 19858, 19645, 18573, 18158, 17556, 17258, 16222, 15989, 15359, 14750, 14326, 14116, 13344, 13215, 12723, 12351, 11985, 11528, 11276, 10961, 10903, 10519, 10132, 10065, 9725, 9339, 9054, 9013, 8710, 8610, 8539, 8306, 8129, 7891, 7567, 7524, 7249, 7268, 7070, 6908, 6828, 6674, 6456, 6475, 6320, 6260, 6087, 5921, 5994, 5739, 5600, 5632, 5467, 5410, 5361, 5437, 5265, 5292, 5219, 5189, 5039, 4971, 4829, 4956, 4807, 4655, 4874, 4722, 4640, 4666, 4619, 4588, 4630, 4586, 4514, 4515, 4410, 4528, 4419, 4350, 4325, 4535, 4306, 4226, 4280, 4326, 4265, 4279, 4287, 4251, 4265, 4292, 4251, 4124, 4144, 4269, 4224, 4116, 4190, 4175, 4272, 4234, 4383, 4163, 4218, 4116, 4324, 4261, 4347, 4367, 4382, 4360, 4376, 4324, 4373, 4379, 4508, 4320, 4506, 4546, 4569, 4633, 4426, 4465, 4566, 4714, 4585, 4613, 4705, 4690, 4559, 4763, 4728, 4777, 4759, 4830, 4765, 4827, 4886, 4976, 4941, 4953, 4953, 5074, 4947, 4893, 5000, 5125, 5203, 5136, 5332, 5299, 5240, 5306, 5442, 5279, 5427, 5413, 5530, 5426, 5592, 5571, 5668, 5556, 5641, 5696, 5636, 5674, 5732, 5988, 5949, 5926, 5966, 6165, 6034, 6062, 6104, 6111, 1627788]}],\n",
       "                        {\"template\": {\"data\": {\"bar\": [{\"error_x\": {\"color\": \"#2a3f5f\"}, \"error_y\": {\"color\": \"#2a3f5f\"}, \"marker\": {\"line\": {\"color\": \"#E5ECF6\", \"width\": 0.5}}, \"type\": \"bar\"}], \"barpolar\": [{\"marker\": {\"line\": {\"color\": \"#E5ECF6\", \"width\": 0.5}}, \"type\": \"barpolar\"}], \"carpet\": [{\"aaxis\": {\"endlinecolor\": \"#2a3f5f\", \"gridcolor\": \"white\", \"linecolor\": \"white\", \"minorgridcolor\": \"white\", \"startlinecolor\": \"#2a3f5f\"}, \"baxis\": {\"endlinecolor\": \"#2a3f5f\", \"gridcolor\": \"white\", \"linecolor\": \"white\", \"minorgridcolor\": \"white\", \"startlinecolor\": \"#2a3f5f\"}, \"type\": \"carpet\"}], \"choropleth\": [{\"colorbar\": {\"outlinewidth\": 0, \"ticks\": \"\"}, \"type\": \"choropleth\"}], \"contour\": [{\"colorbar\": {\"outlinewidth\": 0, \"ticks\": \"\"}, \"colorscale\": [[0.0, \"#0d0887\"], [0.1111111111111111, \"#46039f\"], [0.2222222222222222, \"#7201a8\"], [0.3333333333333333, \"#9c179e\"], [0.4444444444444444, \"#bd3786\"], [0.5555555555555556, \"#d8576b\"], [0.6666666666666666, \"#ed7953\"], [0.7777777777777778, \"#fb9f3a\"], [0.8888888888888888, \"#fdca26\"], [1.0, \"#f0f921\"]], \"type\": \"contour\"}], \"contourcarpet\": [{\"colorbar\": {\"outlinewidth\": 0, \"ticks\": \"\"}, \"type\": \"contourcarpet\"}], \"heatmap\": [{\"colorbar\": {\"outlinewidth\": 0, \"ticks\": \"\"}, \"colorscale\": [[0.0, \"#0d0887\"], [0.1111111111111111, \"#46039f\"], [0.2222222222222222, \"#7201a8\"], [0.3333333333333333, \"#9c179e\"], [0.4444444444444444, \"#bd3786\"], [0.5555555555555556, \"#d8576b\"], [0.6666666666666666, \"#ed7953\"], [0.7777777777777778, \"#fb9f3a\"], [0.8888888888888888, \"#fdca26\"], [1.0, \"#f0f921\"]], \"type\": \"heatmap\"}], \"heatmapgl\": [{\"colorbar\": {\"outlinewidth\": 0, \"ticks\": \"\"}, \"colorscale\": [[0.0, \"#0d0887\"], [0.1111111111111111, \"#46039f\"], [0.2222222222222222, \"#7201a8\"], [0.3333333333333333, \"#9c179e\"], [0.4444444444444444, \"#bd3786\"], [0.5555555555555556, \"#d8576b\"], [0.6666666666666666, \"#ed7953\"], [0.7777777777777778, \"#fb9f3a\"], [0.8888888888888888, \"#fdca26\"], [1.0, \"#f0f921\"]], \"type\": \"heatmapgl\"}], \"histogram\": [{\"marker\": {\"colorbar\": {\"outlinewidth\": 0, \"ticks\": \"\"}}, \"type\": \"histogram\"}], \"histogram2d\": [{\"colorbar\": {\"outlinewidth\": 0, \"ticks\": \"\"}, \"colorscale\": [[0.0, \"#0d0887\"], [0.1111111111111111, \"#46039f\"], [0.2222222222222222, \"#7201a8\"], [0.3333333333333333, \"#9c179e\"], [0.4444444444444444, \"#bd3786\"], [0.5555555555555556, \"#d8576b\"], [0.6666666666666666, \"#ed7953\"], [0.7777777777777778, \"#fb9f3a\"], [0.8888888888888888, \"#fdca26\"], [1.0, \"#f0f921\"]], \"type\": \"histogram2d\"}], \"histogram2dcontour\": [{\"colorbar\": {\"outlinewidth\": 0, \"ticks\": \"\"}, \"colorscale\": [[0.0, \"#0d0887\"], [0.1111111111111111, \"#46039f\"], [0.2222222222222222, \"#7201a8\"], [0.3333333333333333, \"#9c179e\"], [0.4444444444444444, \"#bd3786\"], [0.5555555555555556, \"#d8576b\"], [0.6666666666666666, \"#ed7953\"], [0.7777777777777778, \"#fb9f3a\"], [0.8888888888888888, \"#fdca26\"], [1.0, \"#f0f921\"]], \"type\": \"histogram2dcontour\"}], \"mesh3d\": [{\"colorbar\": {\"outlinewidth\": 0, \"ticks\": \"\"}, \"type\": \"mesh3d\"}], \"parcoords\": [{\"line\": {\"colorbar\": {\"outlinewidth\": 0, \"ticks\": \"\"}}, \"type\": \"parcoords\"}], \"scatter\": [{\"marker\": {\"colorbar\": {\"outlinewidth\": 0, \"ticks\": \"\"}}, \"type\": \"scatter\"}], \"scatter3d\": [{\"line\": {\"colorbar\": {\"outlinewidth\": 0, \"ticks\": \"\"}}, \"marker\": {\"colorbar\": {\"outlinewidth\": 0, \"ticks\": \"\"}}, \"type\": \"scatter3d\"}], \"scattercarpet\": [{\"marker\": {\"colorbar\": {\"outlinewidth\": 0, \"ticks\": \"\"}}, \"type\": \"scattercarpet\"}], \"scattergeo\": [{\"marker\": {\"colorbar\": {\"outlinewidth\": 0, \"ticks\": \"\"}}, \"type\": \"scattergeo\"}], \"scattergl\": [{\"marker\": {\"colorbar\": {\"outlinewidth\": 0, \"ticks\": \"\"}}, \"type\": \"scattergl\"}], \"scattermapbox\": [{\"marker\": {\"colorbar\": {\"outlinewidth\": 0, \"ticks\": \"\"}}, \"type\": \"scattermapbox\"}], \"scatterpolar\": [{\"marker\": {\"colorbar\": {\"outlinewidth\": 0, \"ticks\": \"\"}}, \"type\": \"scatterpolar\"}], \"scatterpolargl\": [{\"marker\": {\"colorbar\": {\"outlinewidth\": 0, \"ticks\": \"\"}}, \"type\": \"scatterpolargl\"}], \"scatterternary\": [{\"marker\": {\"colorbar\": {\"outlinewidth\": 0, \"ticks\": \"\"}}, \"type\": \"scatterternary\"}], \"surface\": [{\"colorbar\": {\"outlinewidth\": 0, \"ticks\": \"\"}, \"colorscale\": [[0.0, \"#0d0887\"], [0.1111111111111111, \"#46039f\"], [0.2222222222222222, \"#7201a8\"], [0.3333333333333333, \"#9c179e\"], [0.4444444444444444, \"#bd3786\"], [0.5555555555555556, \"#d8576b\"], [0.6666666666666666, \"#ed7953\"], [0.7777777777777778, \"#fb9f3a\"], [0.8888888888888888, \"#fdca26\"], [1.0, \"#f0f921\"]], \"type\": \"surface\"}], \"table\": [{\"cells\": {\"fill\": {\"color\": \"#EBF0F8\"}, \"line\": {\"color\": \"white\"}}, \"header\": {\"fill\": {\"color\": \"#C8D4E3\"}, \"line\": {\"color\": \"white\"}}, \"type\": \"table\"}]}, \"layout\": {\"annotationdefaults\": {\"arrowcolor\": \"#2a3f5f\", \"arrowhead\": 0, \"arrowwidth\": 1}, \"colorscale\": {\"diverging\": [[0, \"#8e0152\"], [0.1, \"#c51b7d\"], [0.2, \"#de77ae\"], [0.3, \"#f1b6da\"], [0.4, \"#fde0ef\"], [0.5, \"#f7f7f7\"], [0.6, \"#e6f5d0\"], [0.7, \"#b8e186\"], [0.8, \"#7fbc41\"], [0.9, \"#4d9221\"], [1, \"#276419\"]], \"sequential\": [[0.0, \"#0d0887\"], [0.1111111111111111, \"#46039f\"], [0.2222222222222222, \"#7201a8\"], [0.3333333333333333, \"#9c179e\"], [0.4444444444444444, \"#bd3786\"], [0.5555555555555556, \"#d8576b\"], [0.6666666666666666, \"#ed7953\"], [0.7777777777777778, \"#fb9f3a\"], [0.8888888888888888, \"#fdca26\"], [1.0, \"#f0f921\"]], \"sequentialminus\": [[0.0, \"#0d0887\"], [0.1111111111111111, \"#46039f\"], [0.2222222222222222, \"#7201a8\"], [0.3333333333333333, \"#9c179e\"], [0.4444444444444444, \"#bd3786\"], [0.5555555555555556, \"#d8576b\"], [0.6666666666666666, \"#ed7953\"], [0.7777777777777778, \"#fb9f3a\"], [0.8888888888888888, \"#fdca26\"], [1.0, \"#f0f921\"]]}, \"colorway\": [\"#636efa\", \"#EF553B\", \"#00cc96\", \"#ab63fa\", \"#FFA15A\", \"#19d3f3\", \"#FF6692\", \"#B6E880\", \"#FF97FF\", \"#FECB52\"], \"font\": {\"color\": \"#2a3f5f\"}, \"geo\": {\"bgcolor\": \"white\", \"lakecolor\": \"white\", \"landcolor\": \"#E5ECF6\", \"showlakes\": true, \"showland\": true, \"subunitcolor\": \"white\"}, \"hoverlabel\": {\"align\": \"left\"}, \"hovermode\": \"closest\", \"mapbox\": {\"style\": \"light\"}, \"paper_bgcolor\": \"white\", \"plot_bgcolor\": \"#E5ECF6\", \"polar\": {\"angularaxis\": {\"gridcolor\": \"white\", \"linecolor\": \"white\", \"ticks\": \"\"}, \"bgcolor\": \"#E5ECF6\", \"radialaxis\": {\"gridcolor\": \"white\", \"linecolor\": \"white\", \"ticks\": \"\"}}, \"scene\": {\"xaxis\": {\"backgroundcolor\": \"#E5ECF6\", \"gridcolor\": \"white\", \"gridwidth\": 2, \"linecolor\": \"white\", \"showbackground\": true, \"ticks\": \"\", \"zerolinecolor\": \"white\"}, \"yaxis\": {\"backgroundcolor\": \"#E5ECF6\", \"gridcolor\": \"white\", \"gridwidth\": 2, \"linecolor\": \"white\", \"showbackground\": true, \"ticks\": \"\", \"zerolinecolor\": \"white\"}, \"zaxis\": {\"backgroundcolor\": \"#E5ECF6\", \"gridcolor\": \"white\", \"gridwidth\": 2, \"linecolor\": \"white\", \"showbackground\": true, \"ticks\": \"\", \"zerolinecolor\": \"white\"}}, \"shapedefaults\": {\"line\": {\"color\": \"#2a3f5f\"}}, \"ternary\": {\"aaxis\": {\"gridcolor\": \"white\", \"linecolor\": \"white\", \"ticks\": \"\"}, \"baxis\": {\"gridcolor\": \"white\", \"linecolor\": \"white\", \"ticks\": \"\"}, \"bgcolor\": \"#E5ECF6\", \"caxis\": {\"gridcolor\": \"white\", \"linecolor\": \"white\", \"ticks\": \"\"}}, \"title\": {\"x\": 0.05}, \"xaxis\": {\"automargin\": true, \"gridcolor\": \"white\", \"linecolor\": \"white\", \"ticks\": \"\", \"zerolinecolor\": \"white\", \"zerolinewidth\": 2}, \"yaxis\": {\"automargin\": true, \"gridcolor\": \"white\", \"linecolor\": \"white\", \"ticks\": \"\", \"zerolinecolor\": \"white\", \"zerolinewidth\": 2}}}, \"xaxis\": {\"range\": [0, 255]}, \"yaxis\": {\"range\": [0, 1000000]}},\n",
       "                        {\"responsive\": true}\n",
       "                    ).then(function(){\n",
       "                            \n",
       "var gd = document.getElementById('527e96c7-367b-4960-a924-d1b7f02acd34');\n",
       "var x = new MutationObserver(function (mutations, observer) {{\n",
       "        var display = window.getComputedStyle(gd).display;\n",
       "        if (!display || display === 'none') {{\n",
       "            console.log([gd, 'removed!']);\n",
       "            Plotly.purge(gd);\n",
       "            observer.disconnect();\n",
       "        }}\n",
       "}});\n",
       "\n",
       "// Listen for the removal of the full notebook cells\n",
       "var notebookContainer = gd.closest('#notebook-container');\n",
       "if (notebookContainer) {{\n",
       "    x.observe(notebookContainer, {childList: true});\n",
       "}}\n",
       "\n",
       "// Listen for the clearing of the current output cell\n",
       "var outputEl = gd.closest('.output');\n",
       "if (outputEl) {{\n",
       "    x.observe(outputEl, {childList: true});\n",
       "}}\n",
       "\n",
       "                        })\n",
       "                };\n",
       "                });\n",
       "            </script>\n",
       "        </div>"
      ]
     },
     "metadata": {},
     "output_type": "display_data"
    }
   ],
   "source": [
    "#!snakemake -s pipeline/generate_stat.snakefile kmer_spectrum_simulated_reads\n",
    "import pandas\n",
    "import plotly.graph_objects as go\n",
    "\n",
    "df = pandas.read_csv(\"stats/kmer_spectrum/s_pneumoniae.csv\", index_col=0)\n",
    "\n",
    "fig = go.Figure(data=[go.Bar(name=c, y=df[c]) for c in df.columns])\n",
    "\n",
    "fig = go.Figure(data=[go.Bar(name=c, y=df[c]) for c in df.columns],\n",
    "               layout=go.Layout(yaxis=dict(range=[0, 1_000_000]),\n",
    "                                xaxis=dict(range=[0, 255])))\n",
    "\n",
    "#fig.update_layout(yaxis_type=\"log\")\n",
    "fig.show()"
   ]
  },
  {
   "cell_type": "markdown",
   "metadata": {},
   "source": [
    "#### Correction with reads kmer"
   ]
  },
  {
   "cell_type": "code",
   "execution_count": 16,
   "metadata": {},
   "outputs": [
    {
     "data": {
      "text/markdown": [
       "| | | s1| s2| s3| s4| s5| s6| s7| s8| s9|\n",
       "|:-|:-|-:|-:|-:|-:|-:|-:|-:|-:|-:|\n",
       "| k13 | a1 | 0.000000 | 0.000000 | 0.000000 | 0.000000 | 0.000000 | 0.000000 | 0.000000 | 0.000000 | 0.000000|\n",
       "| k13 | a2 | 0.002070 | 0.001890 | 0.001860 | 0.001810 | 0.001770 | 0.001750 | 0.001740 | 0.001740 | 0.001740|\n",
       "| k13 | a3 | 0.009270 | 0.007980 | 0.007380 | 0.007140 | 0.007020 | 0.006850 | 0.006740 | 0.006710 | 0.006690|\n",
       "| k13 | a4 | 0.022270 | 0.019900 | 0.018810 | 0.018170 | 0.017600 | 0.017660 | 0.017460 | 0.017350 | 0.017220|\n",
       "| k13 | a5 | 0.046300 | 0.040430 | 0.037060 | 0.035450 | 0.033960 | 0.033080 | 0.032660 | 0.032880 | 0.032740|\n",
       "| k13 | a6 | 0.076610 | 0.064340 | 0.058650 | 0.055470 | 0.052160 | 0.050700 | 0.049590 | 0.048940 | 0.049240|\n",
       "| k13 | a7 | 0.113030 | 0.095510 | 0.085890 | 0.079370 | 0.075040 | 0.073520 | 0.072130 | 0.071150 | 0.070820|\n",
       "| k13 | a8 | 0.157360 | 0.133590 | 0.117870 | 0.109680 | 0.103580 | 0.100180 | 0.098560 | 0.096860 | 0.095730|\n",
       "| k13 | a9 | 0.199860 | 0.169870 | 0.151280 | 0.139390 | 0.129500 | 0.124400 | 0.121550 | 0.118480 | 0.116970|\n",
       "| k13 | a10 | 0.259520 | 0.215860 | 0.187490 | 0.169780 | 0.158320 | 0.151270 | 0.146860 | 0.142510 | 0.140070|\n",
       "| k13 | a11 | 0.315560 | 0.260000 | 0.225610 | 0.205450 | 0.191250 | 0.181830 | 0.175510 | 0.170580 | 0.167400|\n",
       "| k13 | a12 | 0.375640 | 0.303700 | 0.263690 | 0.235870 | 0.215620 | 0.203110 | 0.196170 | 0.191510 | 0.187340|\n",
       "| k13 | a13 | 0.440810 | 0.354220 | 0.300960 | 0.266100 | 0.245030 | 0.231560 | 0.223190 | 0.218080 | 0.213320|\n",
       "| k13 | a14 | 0.506040 | 0.399030 | 0.338860 | 0.297830 | 0.273120 | 0.257570 | 0.247500 | 0.240210 | 0.234740|\n",
       "| k13 | a15 | 0.569800 | 0.443910 | 0.372380 | 0.328610 | 0.299730 | 0.281520 | 0.269060 | 0.259670 | 0.252360|\n",
       "| k15 | a1 | -0.000470 | -0.000390 | -0.000230 | -0.000180 | -0.000120 | -0.000100 | -0.000080 | -0.000050 | -0.000040|\n",
       "| k15 | a2 | 1.449380 | 0.834280 | 0.520350 | 0.359010 | 0.264000 | 0.204650 | 0.167160 | 0.142340 | 0.123110|\n",
       "| k15 | a3 | 2.413330 | 1.284030 | 0.765470 | 0.497990 | 0.349640 | 0.260290 | 0.204440 | 0.162180 | 0.133800|\n",
       "| k15 | a4 | 2.987640 | 1.501120 | 0.853420 | 0.529670 | 0.358110 | 0.251560 | 0.186210 | 0.141800 | 0.110830|\n",
       "| k15 | a5 | 3.313210 | 1.577480 | 0.850590 | 0.506360 | 0.324110 | 0.216690 | 0.150100 | 0.105140 | 0.075490|\n",
       "| k15 | a6 | 3.490740 | 1.577920 | 0.819850 | 0.463470 | 0.279590 | 0.173200 | 0.104040 | 0.064900 | 0.036810|\n",
       "| k15 | a7 | 3.547690 | 1.542040 | 0.761230 | 0.408480 | 0.226890 | 0.125470 | 0.063490 | 0.024180 | -0.003500|\n",
       "| k15 | a8 | 3.545130 | 1.475180 | 0.698600 | 0.354320 | 0.178570 | 0.080220 | 0.024130 | -0.011520 | -0.034020|\n",
       "| k15 | a9 | 3.501880 | 1.404740 | 0.633270 | 0.298200 | 0.129770 | 0.034900 | -0.015800 | -0.044910 | -0.064630|\n",
       "| k15 | a10 | 3.414240 | 1.322940 | 0.565620 | 0.239380 | 0.076670 | -0.004330 | -0.047490 | -0.070650 | -0.089160|\n",
       "| k15 | a11 | 3.329020 | 1.236130 | 0.493860 | 0.183240 | 0.034190 | -0.040220 | -0.080210 | -0.101420 | -0.116490|\n",
       "| k15 | a12 | 3.230490 | 1.156750 | 0.433440 | 0.137360 | -0.001180 | -0.071110 | -0.106160 | -0.125800 | -0.138510|\n",
       "| k15 | a13 | 3.117170 | 1.074210 | 0.375290 | 0.088840 | -0.039950 | -0.102830 | -0.134970 | -0.150910 | -0.160240|\n",
       "| k15 | a14 | 3.001770 | 0.992860 | 0.315750 | 0.044940 | -0.076820 | -0.133640 | -0.162300 | -0.173670 | -0.179900|\n",
       "| k15 | a15 | 2.894750 | 0.925340 | 0.263780 | 0.007950 | -0.108210 | -0.158590 | -0.183230 | -0.193840 | -0.197400|\n",
       "| k17 | a1 | -0.001160 | -0.000680 | -0.000400 | -0.000290 | -0.000250 | -0.000240 | -0.000220 | -0.000220 | -0.000220|\n",
       "| k17 | a2 | 1.758330 | 0.375990 | 0.026820 | -0.085900 | -0.126430 | -0.140500 | -0.144070 | -0.142170 | -0.137820|\n",
       "| k17 | a3 | 1.038080 | 0.096470 | -0.137790 | -0.207670 | -0.226220 | -0.226200 | -0.220180 | -0.211990 | -0.203590|\n",
       "| k17 | a4 | 0.652130 | -0.063690 | -0.234670 | -0.278990 | -0.285080 | -0.278730 | -0.266370 | -0.252860 | -0.240710|\n",
       "| k17 | a5 | 0.414220 | -0.171800 | -0.293540 | -0.319960 | -0.318790 | -0.305470 | -0.291770 | -0.276860 | -0.262390|\n",
       "| k17 | a6 | 0.237380 | -0.252590 | -0.340480 | -0.353300 | -0.344810 | -0.327990 | -0.310770 | -0.293930 | -0.277800|\n",
       "| k17 | a7 | 0.099840 | -0.310490 | -0.373170 | -0.377980 | -0.363750 | -0.343970 | -0.325320 | -0.307290 | -0.290540|\n",
       "| k17 | a8 | -0.012880 | -0.362820 | -0.405900 | -0.403760 | -0.384220 | -0.362150 | -0.341670 | -0.322220 | -0.304780|\n",
       "| k17 | a9 | -0.106140 | -0.409070 | -0.436570 | -0.426320 | -0.402220 | -0.377790 | -0.356050 | -0.334170 | -0.315230|\n",
       "| k17 | a10 | -0.190270 | -0.447950 | -0.460090 | -0.444850 | -0.419440 | -0.394080 | -0.368660 | -0.345320 | -0.326410|\n",
       "| k17 | a11 | -0.269260 | -0.485810 | -0.484460 | -0.463180 | -0.435120 | -0.407350 | -0.381390 | -0.358100 | -0.337330|\n",
       "| k17 | a12 | -0.341380 | -0.521760 | -0.508740 | -0.482100 | -0.452330 | -0.422440 | -0.395970 | -0.371490 | -0.349300|\n",
       "| k17 | a13 | -0.411050 | -0.556530 | -0.530050 | -0.501450 | -0.468640 | -0.437470 | -0.409020 | -0.383390 | -0.360550|\n",
       "| k17 | a14 | -0.477310 | -0.588360 | -0.551150 | -0.517370 | -0.483500 | -0.449420 | -0.420320 | -0.394190 | -0.370290|\n",
       "| k17 | a15 | -0.534200 | -0.618490 | -0.569040 | -0.532760 | -0.496270 | -0.462130 | -0.432030 | -0.405250 | -0.380700|\n"
      ],
      "text/plain": [
       "<IPython.core.display.Markdown object>"
      ]
     },
     "execution_count": 16,
     "metadata": {},
     "output_type": "execute_result"
    }
   ],
   "source": [
    "display.Markdown(pconbr.identity.read_kmer(\"SRR8556426\"))"
   ]
  },
  {
   "cell_type": "markdown",
   "metadata": {},
   "source": [
    "###  S. cerevisiae dataset"
   ]
  },
  {
   "cell_type": "markdown",
   "metadata": {},
   "source": [
    "## Long read correction\n",
    "\n",
    "To evaluate our correction against other tools we : \n",
    "- result against reference genome we use [ELECTOR](//doi.org/10.1101/512889) \n",
    "- assembly result (redbean, rala, flye) we use [QUAST](//doi.org/10.1093/bioinformatics/bty266)\n",
    "\n",
    "### Self correction\n",
    "\n",
    "We compare pconbr against other self correction tools.\n",
    "\n",
    "| Tools name | Reference                                                                |\n",
    "|:-----------|:-------------------------------------------------------------------------|\n",
    "| CONSENT    | [10.1101/546630](//doi.org/10.1101/546630)                               |\n",
    "| daccord    | [10.1101/106252](//doi.org/10.1101/106252)                               |\n",
    "| FLAS       | [10.1093/bioinformatics/btz206](//doi.org/10.1093/bioinformatics/btz206) |\n",
    "| MECAT      | [10.1038/nmeth.4432](//doi.org/10.1038/nmeth.4432)                       |"
   ]
  },
  {
   "cell_type": "markdown",
   "metadata": {},
   "source": [
    "#### Mapping result"
   ]
  },
  {
   "cell_type": "code",
   "execution_count": 17,
   "metadata": {},
   "outputs": [
    {
     "data": {
      "text/markdown": [
       "TODO"
      ],
      "text/plain": [
       "<IPython.core.display.Markdown object>"
      ]
     },
     "execution_count": 17,
     "metadata": {},
     "output_type": "execute_result"
    }
   ],
   "source": [
    "display.Markdown(\"TODO\")"
   ]
  },
  {
   "cell_type": "markdown",
   "metadata": {},
   "source": [
    "#### Assembly result"
   ]
  },
  {
   "cell_type": "code",
   "execution_count": 18,
   "metadata": {},
   "outputs": [
    {
     "data": {
      "text/markdown": [
       "TODO"
      ],
      "text/plain": [
       "<IPython.core.display.Markdown object>"
      ]
     },
     "execution_count": 18,
     "metadata": {},
     "output_type": "execute_result"
    }
   ],
   "source": [
    "display.Markdown(\"TODO\")"
   ]
  },
  {
   "cell_type": "markdown",
   "metadata": {},
   "source": [
    "### Hybrid correction\n",
    "\n",
    "We compare pconbr against other self correction tools.\n",
    "\n",
    "| Tools name | Reference                                                                |\n",
    "|:-----------|:-------------------------------------------------------------------------|\n"
   ]
  },
  {
   "cell_type": "markdown",
   "metadata": {},
   "source": [
    "#### Mapping result"
   ]
  },
  {
   "cell_type": "code",
   "execution_count": 19,
   "metadata": {},
   "outputs": [
    {
     "data": {
      "text/markdown": [
       "TODO"
      ],
      "text/plain": [
       "<IPython.core.display.Markdown object>"
      ]
     },
     "execution_count": 19,
     "metadata": {},
     "output_type": "execute_result"
    }
   ],
   "source": [
    "display.Markdown(\"TODO\")"
   ]
  },
  {
   "cell_type": "markdown",
   "metadata": {},
   "source": [
    "##### Assembly result"
   ]
  },
  {
   "cell_type": "code",
   "execution_count": 20,
   "metadata": {},
   "outputs": [
    {
     "data": {
      "text/markdown": [
       "TODO"
      ],
      "text/plain": [
       "<IPython.core.display.Markdown object>"
      ]
     },
     "execution_count": 20,
     "metadata": {},
     "output_type": "execute_result"
    }
   ],
   "source": [
    "display.Markdown(\"TODO\")"
   ]
  },
  {
   "cell_type": "markdown",
   "metadata": {},
   "source": [
    "## Polishing\n",
    "\n"
   ]
  }
 ],
 "metadata": {
  "kernelspec": {
   "display_name": "Python [conda env:pconbr] *",
   "language": "python",
   "name": "conda-env-pconbr-py"
  },
  "language_info": {
   "codemirror_mode": {
    "name": "ipython",
    "version": 3
   },
   "file_extension": ".py",
   "mimetype": "text/x-python",
   "name": "python",
   "nbconvert_exporter": "python",
   "pygments_lexer": "ipython3",
   "version": "3.7.3"
  }
 },
 "nbformat": 4,
 "nbformat_minor": 2
}
