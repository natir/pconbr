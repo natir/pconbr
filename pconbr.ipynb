{
 "cells": [
  {
   "cell_type": "code",
   "execution_count": 14,
   "metadata": {},
   "outputs": [],
   "source": [
    "from IPython import display\n",
    "import pconbr.bench.count"
   ]
  },
  {
   "cell_type": "markdown",
   "metadata": {},
   "source": [
    "# Code name: pconbr\n",
    "\n",
    "Project target: Use a kmer counter to perform a pre-correction step on long-read data"
   ]
  },
  {
   "cell_type": "markdown",
   "metadata": {},
   "source": [
    "## Dataset\n",
    "\n",
    "### References\n",
    "\n",
    "| code name       | species         | path                          | genome size | \n",
    "|:----------------|:----------------|:------------------------------|------------:|\n",
    "| s_pneumoniae    | S. pneumoniae   | reference/CP026549.fasta      |      2.2 Mb |\n",
    "| c_vartiovaarae  | C. vartiovaarae |                               |     ~11.2Mb |\n",
    "| e_coli_ont      | E. coli         | reference/CP028309.fasta      |       4.7Mb |\n",
    "| e_coli_pb       | E. coli         | reference/CP028309.fasta      |       4.7Mb |\n",
    "| s_cerevisiae    | S. cerevisiae   | reference/GCA_002163515.fasta |      12.4Mb |\n",
    "\n",
    "\n",
    "### Reads\n",
    "| code name       | species         | path                        | # bases (Gb)| coverage |\n",
    "|:----------------|:----------------|:----------------------------|------------:|---------:|\n",
    "| s_pneumoniae    | S. pneumoniae   | reads/SRR8556426.fasta      |         2.2 |   ~1000x |\n",
    "| c_vartiovaarae  | C. vartiovaarae | reads/ERR18779[66-70].fasta |         1.7 |    ~150x |\n",
    "| e_coli_ont      | E. coli         | reads/SRR8494940.fasta      |         1.6 |    ~340x |\n",
    "| e_coli_pb       | E. coli         | reads/SRR8494911.fasta      |         1.4 |    ~297x |\n",
    "| s_cerevisiae    | S. cerevisiae   | reads/SRR2157264_[1-2]      |       0.187 |     ~15x |\n",
    "\n"
   ]
  },
  {
   "cell_type": "code",
   "execution_count": 2,
   "metadata": {},
   "outputs": [],
   "source": [
    "# To download reference genome uncomment next line and execute this cell can take many time\n",
    "#!./script/dl_ref.sh"
   ]
  },
  {
   "cell_type": "code",
   "execution_count": 3,
   "metadata": {
    "scrolled": true
   },
   "outputs": [],
   "source": [
    "# To download data uncomment next line and execute this cell can take many time\n",
    "#!./script/dl_reads.sh"
   ]
  },
  {
   "cell_type": "markdown",
   "metadata": {},
   "source": [
    "## Kmer counting"
   ]
  },
  {
   "cell_type": "code",
   "execution_count": 4,
   "metadata": {},
   "outputs": [],
   "source": [
    "# To perform pcon kmc and jellyfish count on dataset uncomment next line and execute this cell\n",
    "#!snakemake -s pipeline/count.snakemake all"
   ]
  },
  {
   "cell_type": "markdown",
   "metadata": {},
   "source": [
    "File benchmark/{counter name}/{dataset codename}.tsv contains time (in second) and memory (in Mb) usage of each run this information was resume in this table."
   ]
  },
  {
   "cell_type": "code",
   "execution_count": 18,
   "metadata": {},
   "outputs": [
    {
     "data": {
      "text/markdown": [
       "| dataset | k | Jellyfish | Kmc | Pconbr |\n",
       "|:-|:-|-:|-:|-:|\n",
       "| c_vartiovaarae | k13 | 0 | 169.5719 | 49.9236 |\n",
       "| c_vartiovaarae | k15 | 578.6363 | 0 | 63.3266 |\n",
       "| c_vartiovaarae | k17 | 0 | 680.0812 | 100.9235 |\n",
       "| s_pneumoniae | k13 | 0 | 0 | 62.7292 |\n",
       "| s_pneumoniae | k17 | 888.0235 | 0 | 0 |\n"
      ],
      "text/plain": [
       "<IPython.core.display.Markdown object>"
      ]
     },
     "execution_count": 18,
     "metadata": {},
     "output_type": "execute_result"
    }
   ],
   "source": [
    "display.Markdown(pconbr.bench.count.get(\"time\"))"
   ]
  },
  {
   "cell_type": "code",
   "execution_count": 19,
   "metadata": {},
   "outputs": [
    {
     "data": {
      "text/markdown": [
       "| dataset | k | Jellyfish | Kmc | Pconbr |\n",
       "|:-|:-|-:|-:|-:|\n",
       "| c_vartiovaarae | k13 | 0 | 2339.24 | 21.78 |\n",
       "| c_vartiovaarae | k15 | 6203.79 | 0 | 262.18 |\n",
       "| c_vartiovaarae | k17 | 0 | 11366.94 | 4102.84 |\n",
       "| s_pneumoniae | k13 | 0 | 0 | 21.72 |\n",
       "| s_pneumoniae | k17 | 16391.12 | 0 | 0 |\n"
      ],
      "text/plain": [
       "<IPython.core.display.Markdown object>"
      ]
     },
     "execution_count": 19,
     "metadata": {},
     "output_type": "execute_result"
    }
   ],
   "source": [
    "display.Markdown(pconbr.bench.count.get(\"memory\"))"
   ]
  },
  {
   "cell_type": "markdown",
   "metadata": {},
   "source": [
    "## PconBr parameter exploration\n",
    "\n",
    "### Simulated dataset\n",
    "\n",
    "Read simulate by [Badread](https://github.com/rrwick/Badread) on E. coli CFT073 genome ([ENA id CP028309](https://www.ebi.ac.uk/ena/data/view/CP028309)).\n",
    "\n",
    "We evaluate identity before pconbr pipeline with diffrente value of k and s."
   ]
  },
  {
   "cell_type": "code",
   "execution_count": 17,
   "metadata": {},
   "outputs": [],
   "source": [
    "# Run some snakemake pipeline to test parameter on some dataset\n",
    "#!snakemake -s pipeline/parameter_exploration.snakemake genomic_kmer\n",
    "#!snakemake -s pipeline/parameter_exploration.snakemake read_kmer\n",
    "#!snakemake -s pipeline/parameter_exploration.snakemake bacteria\n",
    "#!snakemake -s pipeline/parameter_exploration.snakemake yeast"
   ]
  },
  {
   "cell_type": "markdown",
   "metadata": {},
   "source": [
    "### Effect of k and s on synthetic dataset\n",
    "\n",
    "#### With genomic kmer\n",
    "\n",
    "#### With noisy read kmer\n",
    "\n",
    "#### On real bacteria dataset\n",
    "\n",
    "#### On real yeast dataset\n"
   ]
  },
  {
   "cell_type": "markdown",
   "metadata": {},
   "source": [
    "## Long read correction\n",
    "\n",
    "To evaluate our correction against other tools we : \n",
    "- result against reference genome we use [ELECTOR](//doi.org/10.1101/512889) \n",
    "- assembly result (redbean, rala, flye) we use [QUAST](//doi.org/10.1093/bioinformatics/bty266)\n",
    "\n",
    "### Self correction\n",
    "\n",
    "We compare pconbr against other self correction tools.\n",
    "\n",
    "| Tools name | Reference                                                                |\n",
    "|:-----------|:-------------------------------------------------------------------------|\n",
    "| CONSENT    | [10.1101/546630](//doi.org/10.1101/546630)                               |\n",
    "| daccord    | [10.1101/106252](//doi.org/10.1101/106252)                               |\n",
    "| FLAS       | [10.1093/bioinformatics/btz206](//doi.org/10.1093/bioinformatics/btz206) |\n",
    "| MECAT      | [10.1038/nmeth.4432](//doi.org/10.1038/nmeth.4432)                       |"
   ]
  },
  {
   "cell_type": "markdown",
   "metadata": {},
   "source": [
    "#### Mapping result"
   ]
  },
  {
   "cell_type": "code",
   "execution_count": 7,
   "metadata": {},
   "outputs": [
    {
     "data": {
      "text/markdown": [
       "empty"
      ],
      "text/plain": [
       "<IPython.core.display.Markdown object>"
      ]
     },
     "execution_count": 7,
     "metadata": {},
     "output_type": "execute_result"
    }
   ],
   "source": [
    "display.Markdown(\"TODO\")"
   ]
  },
  {
   "cell_type": "markdown",
   "metadata": {},
   "source": [
    "#### Assembly result"
   ]
  },
  {
   "cell_type": "code",
   "execution_count": 8,
   "metadata": {},
   "outputs": [
    {
     "data": {
      "text/markdown": [
       "empty"
      ],
      "text/plain": [
       "<IPython.core.display.Markdown object>"
      ]
     },
     "execution_count": 8,
     "metadata": {},
     "output_type": "execute_result"
    }
   ],
   "source": [
    "display.Markdown(\"TODO\")"
   ]
  },
  {
   "cell_type": "markdown",
   "metadata": {},
   "source": [
    "### Hybrid correction\n",
    "\n",
    "We compare pconbr against other self correction tools.\n",
    "\n",
    "| Tools name | Reference                                                                |\n",
    "|:-----------|:-------------------------------------------------------------------------|\n"
   ]
  },
  {
   "cell_type": "markdown",
   "metadata": {},
   "source": [
    "#### Mapping result"
   ]
  },
  {
   "cell_type": "code",
   "execution_count": 9,
   "metadata": {},
   "outputs": [
    {
     "data": {
      "text/markdown": [
       "empty"
      ],
      "text/plain": [
       "<IPython.core.display.Markdown object>"
      ]
     },
     "execution_count": 9,
     "metadata": {},
     "output_type": "execute_result"
    }
   ],
   "source": [
    "display.Markdown(\"TODO\")"
   ]
  },
  {
   "cell_type": "markdown",
   "metadata": {},
   "source": [
    "##### Assembly result"
   ]
  },
  {
   "cell_type": "code",
   "execution_count": 10,
   "metadata": {},
   "outputs": [
    {
     "data": {
      "text/markdown": [
       "empty"
      ],
      "text/plain": [
       "<IPython.core.display.Markdown object>"
      ]
     },
     "execution_count": 10,
     "metadata": {},
     "output_type": "execute_result"
    }
   ],
   "source": [
    "display.Markdown(\"TODO\")"
   ]
  },
  {
   "cell_type": "markdown",
   "metadata": {},
   "source": [
    "## Polishing\n",
    "\n"
   ]
  }
 ],
 "metadata": {
  "kernelspec": {
   "display_name": "Python [conda env:pconbr] *",
   "language": "python",
   "name": "conda-env-pconbr-py"
  },
  "language_info": {
   "codemirror_mode": {
    "name": "ipython",
    "version": 3
   },
   "file_extension": ".py",
   "mimetype": "text/x-python",
   "name": "python",
   "nbconvert_exporter": "python",
   "pygments_lexer": "ipython3",
   "version": "3.7.3"
  }
 },
 "nbformat": 4,
 "nbformat_minor": 2
}
