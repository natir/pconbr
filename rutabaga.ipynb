{
 "cells": [
  {
   "cell_type": "markdown",
   "metadata": {},
   "source": [
    "# Code name: Rutabaga\n",
    "\n",
    "Project target: Use a kmer counter to perform a pre-correction step on long-read data"
   ]
  },
  {
   "cell_type": "markdown",
   "metadata": {},
   "source": [
    "## Dataset\n",
    "\n",
    "| code name      | species         | path                       | genome size | coverage |\n",
    "|:---------------|:----------------|:---------------------------|------------:|---------:|\n",
    "| s_pneumoniae   | S. pneumoniae   | data/SRR8556426.fasta      |      2.1 Mb |  1061x   |\n",
    "| c_vartiovaarae | C. vartiovaarae | data/ERR18779[66-70].fasta |      11.2Mb |   153x   |\n"
   ]
  },
  {
   "cell_type": "code",
   "execution_count": 2,
   "metadata": {
    "scrolled": true
   },
   "outputs": [],
   "source": [
    "# To download data execute this cell can take many time\n",
    "!./script/dl_data.sh"
   ]
  },
  {
   "cell_type": "markdown",
   "metadata": {},
   "source": [
    "## Compare counting"
   ]
  },
  {
   "cell_type": "code",
   "execution_count": null,
   "metadata": {},
   "outputs": [],
   "source": [
    "# Run this snakemake command to perform ssik kmc and jellyfish count on dataset\n",
    "!snakemake -s pipeline/count.snakemake all"
   ]
  },
  {
   "cell_type": "markdown",
   "metadata": {},
   "source": [
    "File benchmark/{dataset codename}_{counter name} contains time and memory usage of each run this information was resume in this table"
   ]
  },
  {
   "cell_type": "code",
   "execution_count": 7,
   "metadata": {},
   "outputs": [
    {
     "ename": "SyntaxError",
     "evalue": "invalid syntax (<ipython-input-7-c35a11dc1c2b>, line 11)",
     "output_type": "error",
     "traceback": [
      "\u001b[0;36m  File \u001b[0;32m\"<ipython-input-7-c35a11dc1c2b>\"\u001b[0;36m, line \u001b[0;32m11\u001b[0m\n\u001b[0;31m    fn generate_output(dataset, suffix) {\u001b[0m\n\u001b[0m                     ^\u001b[0m\n\u001b[0;31mSyntaxError\u001b[0m\u001b[0;31m:\u001b[0m invalid syntax\n"
     ]
    }
   ],
   "source": [
    "inputs = {\n",
    "    \"SRR8556426\": [\"data/SRR8556426.fasta\"],\n",
    "    \"ERR18779\": [\"data/ERR1877966.fasta\", \"data/ERR1877967.fasta\", \"data/ERR1877968.fasta\", \"data/ERR1877969.fasta\", \"data/ERR1877970.fasta\"],\n",
    "}\n",
    "\n",
    "outputs = {\n",
    "    \"SRR8556426\": \"count/SRR8556426\",\n",
    "    \"ERR18779\": \"count/ERR18779\",\n",
    "}\n",
    "\n",
    "fn generate_output(dataset, suffix) {\n",
    "    return [i + \".\" + suffix for i in outputs[dataset]]\n",
    "}\n"
   ]
  }
 ],
 "metadata": {
  "kernelspec": {
   "display_name": "Python [conda env:root] *",
   "language": "python",
   "name": "conda-root-py"
  },
  "language_info": {
   "codemirror_mode": {
    "name": "ipython",
    "version": 3
   },
   "file_extension": ".py",
   "mimetype": "text/x-python",
   "name": "python",
   "nbconvert_exporter": "python",
   "pygments_lexer": "ipython3",
   "version": "3.7.3"
  }
 },
 "nbformat": 4,
 "nbformat_minor": 2
}
