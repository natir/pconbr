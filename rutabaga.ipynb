{
 "cells": [
  {
   "cell_type": "markdown",
   "metadata": {},
   "source": [
    "# Code name: Rutabaga\n",
    "\n",
    "Project target: Use a kmer counter to perform a pre-correction step on long-read data"
   ]
  },
  {
   "cell_type": "markdown",
   "metadata": {},
   "source": [
    "## Dataset\n",
    "\n",
    "| species         | path                       | coverage |\n",
    "|:----------------|:---------------------------|---------:|\n",
    "| S. pneumoniae   | data/SRR8556426.fasta      |          |\n",
    "| C. vartiovaarae | data/ERR18779[66-70].fasta |          |\n"
   ]
  },
  {
   "cell_type": "code",
   "execution_count": 2,
   "metadata": {},
   "outputs": [
    {
     "name": "stdout",
     "output_type": "stream",
     "text": [
      "./script/dl_data.sh: ligne 4: seqtk : commande introuvable\n",
      "  % Total    % Received % Xferd  Average Speed   Time    Time     Time  Current\n",
      "                                 Dload  Upload   Total   Spent    Left  Speed\n",
      "  0 2097M    0  4344    0     0   2067      0  12d 07h  0:00:02  12d 07h  2067\n",
      "curl: (23) Failed writing body (2648 != 2896)\n",
      "./script/dl_data.sh: ligne 7: seqtk : commande introuvable\n",
      "  % Total    % Received % Xferd  Average Speed   Time    Time     Time  Current\n",
      "                                 Dload  Upload   Total   Spent    Left  Speed\n",
      "  0 81.1M    0  7240    0     0   2261      0 10:26:55  0:00:03 10:26:52  2261\n",
      "curl: (23) Failed writing body (1200 != 4344)\n",
      "./script/dl_data.sh: ligne 8: seqtk : commande introuvable\n",
      "  % Total    % Received % Xferd  Average Speed   Time    Time     Time  Current\n",
      "                                 Dload  Upload   Total   Spent    Left  Speed\n",
      "  0 10.1M    0  4344    0     0   2401      0  1:14:10  0:00:01  1:14:09  2401\n",
      "curl: (23) Failed writing body (1200 != 1448)\n",
      "./script/dl_data.sh: ligne 9: seqtk : commande introuvable\n",
      "  % Total    % Received % Xferd  Average Speed   Time    Time     Time  Current\n",
      "                                 Dload  Upload   Total   Spent    Left  Speed\n",
      "  0     0    0     0    0     0      0      0 --:--:-- --:--:-- --:--:--     0^C\n"
     ]
    }
   ],
   "source": [
    "# To download data execute this cell can take many time\n",
    "!./script/dl_data.sh"
   ]
  },
  {
   "cell_type": "code",
   "execution_count": null,
   "metadata": {},
   "outputs": [],
   "source": []
  },
  {
   "cell_type": "code",
   "execution_count": null,
   "metadata": {},
   "outputs": [],
   "source": []
  }
 ],
 "metadata": {
  "kernelspec": {
   "display_name": "Python 3",
   "language": "python",
   "name": "python3"
  },
  "language_info": {
   "codemirror_mode": {
    "name": "ipython",
    "version": 3
   },
   "file_extension": ".py",
   "mimetype": "text/x-python",
   "name": "python",
   "nbconvert_exporter": "python",
   "pygments_lexer": "ipython3",
   "version": "3.7.3"
  }
 },
 "nbformat": 4,
 "nbformat_minor": 2
}
