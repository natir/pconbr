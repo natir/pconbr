{
 "cells": [
  {
   "cell_type": "code",
   "execution_count": 1,
   "metadata": {},
   "outputs": [],
   "source": [
    "import imp\n",
    "from IPython import display\n",
    "import rutabaga.summarize_bench"
   ]
  },
  {
   "cell_type": "markdown",
   "metadata": {},
   "source": [
    "# Code name: Rutabaga\n",
    "\n",
    "Project target: Use a kmer counter to perform a pre-correction step on long-read data"
   ]
  },
  {
   "cell_type": "markdown",
   "metadata": {},
   "source": [
    "## Dataset\n",
    "\n",
    "| code name      | species         | path                       | genome size | coverage |\n",
    "|:---------------|:----------------|:---------------------------|------------:|---------:|\n",
    "| s_pneumoniae   | S. pneumoniae   | data/SRR8556426.fasta      |      2.1 Mb |    1061x |\n",
    "| c_vartiovaarae | C. vartiovaarae | data/ERR18779[66-70].fasta |      11.2Mb |     153x |\n",
    "| e_coli_ont     | E. coli         | data/SRR8494940.fasta      |       5.2Mb |     309x |\n",
    "| e_coli_pb      | E. coli         | data/SRR8494911.fasta      |       5.2Mb |     309x |"
   ]
  },
  {
   "cell_type": "code",
   "execution_count": 2,
   "metadata": {
    "scrolled": true
   },
   "outputs": [],
   "source": [
    "# To download data uncomment next line and execute this cell can take many time\n",
    "#!./script/dl_data.sh"
   ]
  },
  {
   "cell_type": "markdown",
   "metadata": {},
   "source": [
    "## Compare counting"
   ]
  },
  {
   "cell_type": "code",
   "execution_count": 3,
   "metadata": {},
   "outputs": [],
   "source": [
    "# To perform ssik kmc and jellyfish count on dataset uncomment next line and execute this cell\n",
    "# !snakemake -s pipeline/count.snakemake all"
   ]
  },
  {
   "cell_type": "markdown",
   "metadata": {},
   "source": [
    "File benchmark/{counter name}/{dataset codename}.tsv contains time and memory usage of each run this information was resume in this table"
   ]
  },
  {
   "cell_type": "code",
   "execution_count": 29,
   "metadata": {},
   "outputs": [
    {
     "data": {
      "text/markdown": [
       "| | Jellyfish | Kmc | Ssik |\n",
       "|:-|-:|-:|-:|\n",
       "| s_pneumoniae | 1532.0288 | 954.4859 | 307.9681 |\n",
       "| c_vartiovaarae | 1389.6314 | 788.6626 | 92.1390 |\n",
       "| e_coli | 1311.5310 | 732.1022 | 86.6548 |\n"
      ],
      "text/plain": [
       "<IPython.core.display.Markdown object>"
      ]
     },
     "execution_count": 29,
     "metadata": {},
     "output_type": "execute_result"
    }
   ],
   "source": [
    "display.Markdown(rutabaga.summarize_bench.get(\"time\"))"
   ]
  },
  {
   "cell_type": "code",
   "execution_count": 30,
   "metadata": {},
   "outputs": [
    {
     "data": {
      "text/markdown": [
       "| | Jellyfish | Kmc | Ssik |\n",
       "|:-|-:|-:|-:|\n",
       "| s_pneumoniae | 31214.47 | 11483.00 | 2568.54 |\n",
       "| c_vartiovaarae | 31214.64 | 11482.29 | 4102.86 |\n",
       "| e_coli | 31214.68 | 11481.95 | 4103.59 |\n"
      ],
      "text/plain": [
       "<IPython.core.display.Markdown object>"
      ]
     },
     "execution_count": 30,
     "metadata": {},
     "output_type": "execute_result"
    }
   ],
   "source": [
    "display.Markdown(rutabaga.summarize_bench.get(\"memory\"))"
   ]
  }
 ],
 "metadata": {
  "kernelspec": {
   "display_name": "Python [conda env:rutabaga] *",
   "language": "python",
   "name": "conda-env-rutabaga-py"
  },
  "language_info": {
   "codemirror_mode": {
    "name": "ipython",
    "version": 3
   },
   "file_extension": ".py",
   "mimetype": "text/x-python",
   "name": "python",
   "nbconvert_exporter": "python",
   "pygments_lexer": "ipython3",
   "version": "3.7.3"
  }
 },
 "nbformat": 4,
 "nbformat_minor": 2
}
